{
 "cells": [
  {
   "cell_type": "code",
   "execution_count": 1,
   "id": "560917b5",
   "metadata": {},
   "outputs": [],
   "source": [
    "import pandas as pd\n",
    "\n",
    "import plotly.express as px\n",
    "import plotly.offline as offline_py\n",
    "import chart_studio.plotly as py\n",
    "import chart_studio\n",
    "\n",
    "import json"
   ]
  },
  {
   "cell_type": "code",
   "execution_count": 2,
   "id": "5a385185",
   "metadata": {},
   "outputs": [
    {
     "ename": "NameError",
     "evalue": "name 'encoding' is not defined",
     "output_type": "error",
     "traceback": [
      "\u001b[1;31m---------------------------------------------------------------------------\u001b[0m",
      "\u001b[1;31mNameError\u001b[0m                                 Traceback (most recent call last)",
      "\u001b[1;32m<ipython-input-2-5ab6016036d0>\u001b[0m in \u001b[0;36m<module>\u001b[1;34m\u001b[0m\n\u001b[1;32m----> 1\u001b[1;33m \u001b[0mdata\u001b[0m \u001b[1;33m=\u001b[0m \u001b[0mpd\u001b[0m\u001b[1;33m.\u001b[0m\u001b[0mread_csv\u001b[0m\u001b[1;33m(\u001b[0m\u001b[1;34m'data.csv'\u001b[0m\u001b[1;33m,\u001b[0m \u001b[0mencoding\u001b[0m \u001b[1;33m=\u001b[0m \u001b[0mencoding\u001b[0m\u001b[1;33m)\u001b[0m\u001b[1;33m\u001b[0m\u001b[1;33m\u001b[0m\u001b[0m\n\u001b[0m\u001b[0;32m      2\u001b[0m \u001b[0mgroupped\u001b[0m \u001b[1;33m=\u001b[0m \u001b[0mpd\u001b[0m\u001b[1;33m.\u001b[0m\u001b[0mread_csv\u001b[0m\u001b[1;33m(\u001b[0m\u001b[1;34m'groupped.csv'\u001b[0m\u001b[1;33m,\u001b[0m \u001b[0mencoding\u001b[0m \u001b[1;33m=\u001b[0m \u001b[0mencoding\u001b[0m\u001b[1;33m)\u001b[0m\u001b[1;33m\u001b[0m\u001b[1;33m\u001b[0m\u001b[0m\n\u001b[0;32m      3\u001b[0m \u001b[1;33m\u001b[0m\u001b[0m\n\u001b[0;32m      4\u001b[0m \u001b[1;32mwith\u001b[0m \u001b[0mopen\u001b[0m\u001b[1;33m(\u001b[0m\u001b[1;34m'map.geojson'\u001b[0m\u001b[1;33m,\u001b[0m \u001b[0mencoding\u001b[0m \u001b[1;33m=\u001b[0m \u001b[1;34m'utf-8'\u001b[0m\u001b[1;33m)\u001b[0m \u001b[1;32mas\u001b[0m \u001b[0mf\u001b[0m\u001b[1;33m:\u001b[0m\u001b[1;33m\u001b[0m\u001b[1;33m\u001b[0m\u001b[0m\n\u001b[0;32m      5\u001b[0m         \u001b[0mmap_gj\u001b[0m \u001b[1;33m=\u001b[0m \u001b[0mjson\u001b[0m\u001b[1;33m.\u001b[0m\u001b[0mload\u001b[0m\u001b[1;33m(\u001b[0m\u001b[0mf\u001b[0m\u001b[1;33m)\u001b[0m\u001b[1;33m\u001b[0m\u001b[1;33m\u001b[0m\u001b[0m\n",
      "\u001b[1;31mNameError\u001b[0m: name 'encoding' is not defined"
     ]
    }
   ],
   "source": [
    "data = pd.read_csv('data.csv', encoding = 'utf-8')\n",
    "groupped = pd.read_csv('groupped.csv', encoding = 'utf-8')\n",
    "\n",
    "with open('map.geojson', encoding = 'utf-8') as f:\n",
    "        map_gj = json.load(f)\n",
    "\n",
    "with open('arrondissements.geojson', encoding = 'utf-8') as f:\n",
    "        gj = json.load(f)\n",
    "        \n",
    "with open('neighbourhoods_paris.geojson', encoding = 'utf-8') as f:\n",
    "         air_map = json.load(f)"
   ]
  },
  {
   "cell_type": "code",
   "execution_count": null,
   "id": "584e448e",
   "metadata": {},
   "outputs": [],
   "source": [
    "for f in map_gj['features']:\n",
    "    print(f['properties']['l_aroff'])"
   ]
  },
  {
   "cell_type": "code",
   "execution_count": null,
   "id": "f0494afd",
   "metadata": {},
   "outputs": [],
   "source": [
    "for f in gj['features']:\n",
    "    print(f['properties']['l_aroff'])"
   ]
  },
  {
   "cell_type": "code",
   "execution_count": null,
   "id": "d4f0ed30",
   "metadata": {},
   "outputs": [],
   "source": [
    "for f in air_map['features']:\n",
    "    print(f['properties']['neighbourhood'])"
   ]
  },
  {
   "cell_type": "code",
   "execution_count": null,
   "id": "b2950ed3",
   "metadata": {},
   "outputs": [],
   "source": [
    "gj['features'][18]"
   ]
  },
  {
   "cell_type": "code",
   "execution_count": null,
   "id": "8eef8a1a",
   "metadata": {},
   "outputs": [],
   "source": [
    "gj['features'][19]"
   ]
  },
  {
   "cell_type": "code",
   "execution_count": null,
   "id": "8575c106",
   "metadata": {},
   "outputs": [],
   "source": [
    "def create_map(groupped, col_to_viz, save_as):\n",
    "    \n",
    "    with open('map.geojson', encoding = 'utf-8') as f:\n",
    "        gj = json.load(f)\n",
    "\n",
    "\n",
    "    fig = px.choropleth_mapbox(groupped, geojson = gj, color = col_to_viz,\n",
    "                        locations = \"neighbourhood\", featureidkey = \"properties.l_aroff\",\n",
    "                        center={\"lat\": 48.8647, \"lon\": 2.3490},\n",
    "                        mapbox_style = \"carto-positron\", zoom = 12,\n",
    "                        hover_data=[\"Sum of entire private rooms\", \"Sum of shared rooms\",\\\n",
    "                                    \"Sum of entire home apartments\", \"Sum of entire hotel rooms\"])\n",
    "\n",
    "    fig.update_geos(fitbounds = \"locations\", visible=True)\n",
    "    fig.update_layout(margin = {\"r\":0,\"t\":0,\"l\":0,\"b\":0})\n",
    "    \n",
    "    offline_py.plot(fig, show_link = True, filename = save_as)\n",
    "    \n",
    "    fig.show()\n",
    "    \n",
    "    return fig"
   ]
  }
 ],
 "metadata": {
  "kernelspec": {
   "display_name": "Python 3",
   "language": "python",
   "name": "python3"
  },
  "language_info": {
   "codemirror_mode": {
    "name": "ipython",
    "version": 3
   },
   "file_extension": ".py",
   "mimetype": "text/x-python",
   "name": "python",
   "nbconvert_exporter": "python",
   "pygments_lexer": "ipython3",
   "version": "3.8.8"
  }
 },
 "nbformat": 4,
 "nbformat_minor": 5
}
