{
 "cells": [
  {
   "cell_type": "code",
   "execution_count": 6,
   "id": "2985749b",
   "metadata": {},
   "outputs": [],
   "source": [
    "import array\n",
    "import time"
   ]
  },
  {
   "cell_type": "code",
   "execution_count": 1,
   "id": "1430a860",
   "metadata": {},
   "outputs": [],
   "source": [
    "def anonymousFunction(alist):\n",
    "    for passnum in range(len(alist)-1, 0, -1):\n",
    "        for i in range(passnum):\n",
    "            if alist[i]>alist[i+1]:\n",
    "                temp = alist[i]\n",
    "                alist[i] = alist[i+1]\n",
    "                alist[i+1] = temp"
   ]
  },
  {
   "cell_type": "code",
   "execution_count": null,
   "id": "c13cdc2a",
   "metadata": {},
   "outputs": [],
   "source": [
    "first_option = array.array('i', [56, 12, 12, 32, 34])"
   ]
  },
  {
   "cell_type": "code",
   "execution_count": 12,
   "id": "3ba3bbe2",
   "metadata": {},
   "outputs": [],
   "source": [
    "second_option = [32, 12, 12, 34, 56]"
   ]
  },
  {
   "cell_type": "code",
   "execution_count": 7,
   "id": "864c2712",
   "metadata": {},
   "outputs": [],
   "source": [
    "third_option = [56, 12, 12, 32, 34]"
   ]
  }
 ],
 "metadata": {
  "kernelspec": {
   "display_name": "Python 3",
   "language": "python",
   "name": "python3"
  },
  "language_info": {
   "codemirror_mode": {
    "name": "ipython",
    "version": 3
   },
   "file_extension": ".py",
   "mimetype": "text/x-python",
   "name": "python",
   "nbconvert_exporter": "python",
   "pygments_lexer": "ipython3",
   "version": "3.8.8"
  }
 },
 "nbformat": 4,
 "nbformat_minor": 5
}
