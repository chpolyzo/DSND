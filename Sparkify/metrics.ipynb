{
 "cells": [
  {
   "cell_type": "code",
   "execution_count": 1,
   "metadata": {},
   "outputs": [],
   "source": [
    "# import libraries\n",
    "from pyspark.sql import SparkSession, Window\n",
    "import pyspark.sql.functions as F\n",
    "from pyspark.sql.types import FloatType\n",
    "from pyspark.sql.types import IntegerType\n",
    "#from pyspark import SparkFiles\n",
    "#from pyspark.sql.functions import avg, col, concat, count, desc, \\\n",
    "#asc, explode, lit, min, max, split, stddev, udf, isnan, when, rank, \\\n",
    "#log, sqrt, cbrt, exp, sum\n",
    "\n",
    "from pyspark.ml import Pipeline, PipelineModel\n",
    "from pyspark.ml.classification import LogisticRegression, \\\n",
    "LogisticRegressionModel, RandomForestClassifier, \\\n",
    "RandomForestClassificationModel, GBTClassifier, \\\n",
    "GBTClassificationModel\n",
    "from pyspark.ml.evaluation import MulticlassClassificationEvaluator\n",
    "from pyspark.mllib.evaluation import MulticlassMetrics\n",
    "\n",
    "from pyspark.ml.feature import CountVectorizer, IDF, Normalizer, \\\n",
    "PCA, RegexTokenizer, Tokenizer, StandardScaler, StopWordsRemover, \\\n",
    "StringIndexer, VectorAssembler, MaxAbsScaler\n",
    "from pyspark.ml.regression import LinearRegression\n",
    "from pyspark.ml.clustering import KMeans\n",
    "from pyspark.ml.tuning import CrossValidator, ParamGridBuilder\n",
    "\n",
    "import time\n",
    "import tqdm\n",
    "import re\n",
    "import numpy as np\n",
    "import scipy\n",
    "import pandas as pd\n",
    "import datetime\n",
    "import matplotlib.pyplot as plt\n",
    "from pandas.plotting import scatter_matrix\n",
    "import seaborn as sns\n",
    "import random\n",
    "%matplotlib inline\n",
    "random.seed(42)"
   ]
  },
  {
   "cell_type": "code",
   "execution_count": 2,
   "metadata": {},
   "outputs": [],
   "source": [
    "def create_spark_session():\n",
    "    '''\n",
    "    Create a spark session\n",
    "    INPUT\n",
    "    spark session builder\n",
    "    OUTPUT\n",
    "    spark object\n",
    "    '''\n",
    "    spark = SparkSession\\\n",
    "    .builder \\\n",
    "    .master(\"local\") \\\n",
    "    .appName(\"sparkify\") \\\n",
    "    .config(\"config option\", \"config value\")\\\n",
    "    .getOrCreate()\n",
    "    print('Spark parameters:')\n",
    "    for parameter in spark.sparkContext.getConf().getAll():\n",
    "        print(parameter)\n",
    "\n",
    "    return spark"
   ]
  },
  {
   "cell_type": "code",
   "execution_count": 3,
   "metadata": {},
   "outputs": [],
   "source": [
    "def load_models():\n",
    "    lr = PipelineModel.load(\"logistic\")\n",
    "    rf = PipelineModel.load(\"random_forest\")\n",
    "    gbt = PipelineModel.load(\"gradient_boosted_tree\")\n",
    "    grid = PipelineModel.load(\"grid\")\n",
    "\n",
    "    return lr, rf, gbt, grid"
   ]
  },
  {
   "cell_type": "code",
   "execution_count": 4,
   "metadata": {},
   "outputs": [],
   "source": [
    "def load_predictions():\n",
    "    rf_yhat = spark.read.load(\"rf_preds.parquet\")\n",
    "    lr_yhat = spark.read.load(\"lr_preds.parquet\")\n",
    "    gbt_yhat = spark.read.load(\"gbt_preds.parquet\")\n",
    "    grid_yhat = spark.read.load(\"rf_grid_preds.parquet\")\n",
    "    \n",
    "    return rf_yhat, lr_yhat, gbt_yhat, grid_yhat"
   ]
  },
  {
   "cell_type": "code",
   "execution_count": 5,
   "metadata": {},
   "outputs": [],
   "source": [
    "def load_metrics():\n",
    "    rf_metrics = pd.read_csv('rf_metrics.csv')\n",
    "    lr_metrics = pd.read_csv('lr_metrics.csv')\n",
    "    gbt_metrics = pd.read_csv('gbt_metrics.csv')\n",
    "    grid_metrics = pd.read_csv('rf_grid_metrics.csv')\n",
    "    \n",
    "    return rf_metrics, lr_metrics, gbt_metrics, grid_metrics "
   ]
  },
  {
   "cell_type": "code",
   "execution_count": 6,
   "metadata": {},
   "outputs": [],
   "source": [
    "def calc_logloss(df):\n",
    "\n",
    "    # extract predicted probability\n",
    "    get_first_element = F.udf(lambda v:float(v[1]), FloatType())\n",
    "    df = df.withColumn(\"preds\", get_first_element(F.col(\"probability\")))\n",
    "\n",
    "    # calculate negative log-likelihood\n",
    "    y1, y0 = F.col(\"label\"), 1 - F.col(\"label\")\n",
    "    p1, p0 = F.col(\"preds\"), 1 - F.col(\"preds\")\n",
    "    nll = -(y1*F.log(p1) + y0*F.log(p0))\n",
    "\n",
    "    # aggregate\n",
    "    return df.agg(F.mean(nll)).collect()[0][0]\n",
    "\n",
    "def save_logloss_vals(rf_yhat_test, lr_yhat_test, gbt_yhat_test, grid_yhat_test):\n",
    "    logloss = {}\n",
    "    logloss['rf'] = calc_logloss(rf_yhat_test)\n",
    "    logloss['lr'] = calc_logloss(lr_yhat_test)\n",
    "    logloss['gbt'] = calc_logloss(gbt_yhat_test)\n",
    "    logloss['grid'] = calc_logloss(grid_yhat_test)\n",
    "    #logloss_df = pd.DataFrame.from_dict(logloss, orient = 'index', columns = ['logloss'])\n",
    "    #logloss_df.to_csv('logloss.csv', index = True)\n",
    "    \n",
    "    return logloss"
   ]
  },
  {
   "cell_type": "code",
   "execution_count": 40,
   "metadata": {},
   "outputs": [],
   "source": [
    "def extract_probs(df):\n",
    "\n",
    "    # extract predicted probability\n",
    "    get_prob_zero = F.udf(lambda v:float(v[0]), FloatType())\n",
    "    get_prob_one = F.udf(lambda v:float(v[1]), FloatType())\n",
    "    df = df.withColumn(\"prob_zero\", get_prob_zero(F.col(\"probability\")))\n",
    "    df = df.withColumn(\"prob_one\", get_prob_one(F.col(\"probability\")))\n",
    "    #df = df.withColumn(\"log_zero\", F.log(F.col(\"prob_zero\")))\n",
    "    #df = df.withColumn(\"log_one\", F.log(F.col(\"prob_one\")))\n",
    "    \n",
    "\n",
    "    #df = df.withColumn(\"logloss\", -(F.col(\"label\")*F.log(F.col(\"prob_one\"))+ (1 - F.col(\"label\"))*F.log(1-F.col(\"prob_one\"))))\n",
    "    \n",
    "    #nll = -(y1*F.log(p1) + y0*F.log(p0))\n",
    "    # aggregate\n",
    "    return df.select(\"label\", \"probability\", \"prediction\", \"prob_zero\", \"prob_one\")\n",
    "\n",
    "    \n",
    "    \n",
    "def gen_logloss_metric(rf_yhat_test, lr_yhat_test, gbt_yhat_test):\n",
    "    logloss = {}\n",
    "    logloss['rf'] = log_loss(rf_yhat_test)\n",
    "    logloss['lr'] = log_loss(lr_yhat_test)\n",
    "    logloss['gbt'] = log_loss(gbt_yhat_test)\n",
    "    logloss_df = pd.DataFrame.from_dict(logloss, orient = 'index', columns = ['logloss'])\n",
    "    logloss_df.to_csv('logloss.csv', index = True)\n",
    "    \n",
    "    return logloss\n",
    "\n",
    "def calc_logloss_pd(df):\n",
    "\n",
    "    df['logloss'] = -(df.label*np.log10(df.prob_one) + (1 - df.label)*np.log10(df.prob_zero))\n",
    "    \n",
    "    return df\n",
    "\n",
    "def get_plot_cols(df):\n",
    "    idx = df.prob_zero.sort_values().index\n",
    "    x = df.prob_zero.sort_values().values\n",
    "    df['logloss'].index = idx\n",
    "    y = df.logloss.cumsum()\n",
    "    \n",
    "    return x, y"
   ]
  },
  {
   "cell_type": "code",
   "execution_count": 8,
   "metadata": {},
   "outputs": [
    {
     "name": "stdout",
     "output_type": "stream",
     "text": [
      "Spark parameters:\n",
      "('spark.master', 'local')\n",
      "('spark.app.name', 'sparkify')\n",
      "('spark.driver.port', '39827')\n",
      "('spark.rdd.compress', 'True')\n",
      "('spark.serializer.objectStreamReset', '100')\n",
      "('config option', 'config value')\n",
      "('spark.executor.id', 'driver')\n",
      "('spark.submit.deployMode', 'client')\n",
      "('spark.app.id', 'local-1633365873016')\n",
      "('spark.ui.showConsoleProgress', 'true')\n",
      "('spark.driver.host', '633ae16c1532')\n"
     ]
    }
   ],
   "source": [
    "spark = create_spark_session()"
   ]
  },
  {
   "cell_type": "markdown",
   "metadata": {},
   "source": [
    "#### Load models and predictions"
   ]
  },
  {
   "cell_type": "code",
   "execution_count": 9,
   "metadata": {},
   "outputs": [],
   "source": [
    "rf_yhat, lr_yhat, gbt_yhat, grid_yhat = load_predictions()\n",
    "lr, rf, gbt, grid = load_models()\n",
    "rf_metrics, lr_metrics, gbt_metrics, grid_metrics = load_metrics()"
   ]
  },
  {
   "cell_type": "code",
   "execution_count": 10,
   "metadata": {},
   "outputs": [],
   "source": [
    "logloss_dict = save_logloss_vals(rf_yhat, lr_yhat, gbt_yhat, grid_yhat)"
   ]
  },
  {
   "cell_type": "code",
   "execution_count": 11,
   "metadata": {},
   "outputs": [
    {
     "data": {
      "text/plain": [
       "{'rf': 0.424599314328071,\n",
       " 'lr': 10.990544194361663,\n",
       " 'gbt': 0.3260454592217635,\n",
       " 'grid': 0.2552869958645805}"
      ]
     },
     "execution_count": 11,
     "metadata": {},
     "output_type": "execute_result"
    }
   ],
   "source": [
    "logloss_dict"
   ]
  },
  {
   "cell_type": "code",
   "execution_count": 21,
   "metadata": {},
   "outputs": [],
   "source": [
    "lr_params = {param[0].name: [param[1], param[0].doc] for param in lr.stages[2].extractParamMap().items()}\n",
    "lr_params_pd = pd.DataFrame.from_dict(lr_params, orient = 'index', columns = ['Parameter', 'Explanation'])\n",
    "lr_params_pd.to_csv('lr_params.csv')"
   ]
  },
  {
   "cell_type": "code",
   "execution_count": 22,
   "metadata": {},
   "outputs": [],
   "source": [
    "rf_params = {param[0].name: [param[1], param[0].doc] for param in rf.stages[2].extractParamMap().items()}\n",
    "rf_params_pd = pd.DataFrame.from_dict(rf_params, orient = 'index', columns = ['Parameter', 'Explanation'])\n",
    "rf_params_pd.to_csv('rf_params.csv')"
   ]
  },
  {
   "cell_type": "code",
   "execution_count": 23,
   "metadata": {},
   "outputs": [],
   "source": [
    "gbt_params = {param[0].name: [param[1], param[0].doc] for param in gbt.stages[2].extractParamMap().items()}\n",
    "gbt_params_pd = pd.DataFrame.from_dict(gbt_params, orient = 'index', columns = ['Parameter', 'Explanation'])\n",
    "gbt_params_pd.to_csv('gbt_params.csv')"
   ]
  },
  {
   "cell_type": "code",
   "execution_count": 24,
   "metadata": {},
   "outputs": [],
   "source": [
    "grid_params = {param[0].name: [param[1], param[0].doc] for param in grid.stages[2].extractParamMap().items()}\n",
    "grid_params_pd = pd.DataFrame.from_dict(grid_params, orient = 'index', columns = ['Parameter', 'Explanation'])\n",
    "grid_params_pd.to_csv('grid_params.csv')"
   ]
  },
  {
   "cell_type": "code",
   "execution_count": 25,
   "metadata": {},
   "outputs": [
    {
     "data": {
      "text/html": [
       "<div>\n",
       "<style scoped>\n",
       "    .dataframe tbody tr th:only-of-type {\n",
       "        vertical-align: middle;\n",
       "    }\n",
       "\n",
       "    .dataframe tbody tr th {\n",
       "        vertical-align: top;\n",
       "    }\n",
       "\n",
       "    .dataframe thead th {\n",
       "        text-align: right;\n",
       "    }\n",
       "</style>\n",
       "<table border=\"1\" class=\"dataframe\">\n",
       "  <thead>\n",
       "    <tr style=\"text-align: right;\">\n",
       "      <th></th>\n",
       "      <th>Parameter</th>\n",
       "      <th>Explanation</th>\n",
       "    </tr>\n",
       "  </thead>\n",
       "  <tbody>\n",
       "    <tr>\n",
       "      <th>aggregationDepth</th>\n",
       "      <td>2</td>\n",
       "      <td>suggested depth for treeAggregate (&gt;= 2)</td>\n",
       "    </tr>\n",
       "    <tr>\n",
       "      <th>elasticNetParam</th>\n",
       "      <td>0</td>\n",
       "      <td>the ElasticNet mixing parameter, in range [0, ...</td>\n",
       "    </tr>\n",
       "    <tr>\n",
       "      <th>family</th>\n",
       "      <td>auto</td>\n",
       "      <td>The name of family which is a description of t...</td>\n",
       "    </tr>\n",
       "    <tr>\n",
       "      <th>fitIntercept</th>\n",
       "      <td>True</td>\n",
       "      <td>whether to fit an intercept term</td>\n",
       "    </tr>\n",
       "    <tr>\n",
       "      <th>maxIter</th>\n",
       "      <td>100</td>\n",
       "      <td>maximum number of iterations (&gt;= 0)</td>\n",
       "    </tr>\n",
       "    <tr>\n",
       "      <th>predictionCol</th>\n",
       "      <td>prediction</td>\n",
       "      <td>prediction column name</td>\n",
       "    </tr>\n",
       "    <tr>\n",
       "      <th>probabilityCol</th>\n",
       "      <td>probability</td>\n",
       "      <td>Column name for predicted class conditional pr...</td>\n",
       "    </tr>\n",
       "    <tr>\n",
       "      <th>rawPredictionCol</th>\n",
       "      <td>rawPrediction</td>\n",
       "      <td>raw prediction (a.k.a. confidence) column name</td>\n",
       "    </tr>\n",
       "    <tr>\n",
       "      <th>regParam</th>\n",
       "      <td>0</td>\n",
       "      <td>regularization parameter (&gt;= 0)</td>\n",
       "    </tr>\n",
       "    <tr>\n",
       "      <th>standardization</th>\n",
       "      <td>True</td>\n",
       "      <td>whether to standardize the training features b...</td>\n",
       "    </tr>\n",
       "    <tr>\n",
       "      <th>threshold</th>\n",
       "      <td>0.5</td>\n",
       "      <td>threshold in binary classification prediction,...</td>\n",
       "    </tr>\n",
       "    <tr>\n",
       "      <th>tol</th>\n",
       "      <td>1e-06</td>\n",
       "      <td>the convergence tolerance for iterative algori...</td>\n",
       "    </tr>\n",
       "    <tr>\n",
       "      <th>featuresCol</th>\n",
       "      <td>scaled</td>\n",
       "      <td>features column name</td>\n",
       "    </tr>\n",
       "    <tr>\n",
       "      <th>labelCol</th>\n",
       "      <td>label</td>\n",
       "      <td>label column name</td>\n",
       "    </tr>\n",
       "  </tbody>\n",
       "</table>\n",
       "</div>"
      ],
      "text/plain": [
       "                      Parameter  \\\n",
       "aggregationDepth              2   \n",
       "elasticNetParam               0   \n",
       "family                     auto   \n",
       "fitIntercept               True   \n",
       "maxIter                     100   \n",
       "predictionCol        prediction   \n",
       "probabilityCol      probability   \n",
       "rawPredictionCol  rawPrediction   \n",
       "regParam                      0   \n",
       "standardization            True   \n",
       "threshold                   0.5   \n",
       "tol                       1e-06   \n",
       "featuresCol              scaled   \n",
       "labelCol                  label   \n",
       "\n",
       "                                                        Explanation  \n",
       "aggregationDepth           suggested depth for treeAggregate (>= 2)  \n",
       "elasticNetParam   the ElasticNet mixing parameter, in range [0, ...  \n",
       "family            The name of family which is a description of t...  \n",
       "fitIntercept                       whether to fit an intercept term  \n",
       "maxIter                         maximum number of iterations (>= 0)  \n",
       "predictionCol                                prediction column name  \n",
       "probabilityCol    Column name for predicted class conditional pr...  \n",
       "rawPredictionCol     raw prediction (a.k.a. confidence) column name  \n",
       "regParam                            regularization parameter (>= 0)  \n",
       "standardization   whether to standardize the training features b...  \n",
       "threshold         threshold in binary classification prediction,...  \n",
       "tol               the convergence tolerance for iterative algori...  \n",
       "featuresCol                                    features column name  \n",
       "labelCol                                          label column name  "
      ]
     },
     "execution_count": 25,
     "metadata": {},
     "output_type": "execute_result"
    }
   ],
   "source": [
    "lr_params_pd"
   ]
  },
  {
   "cell_type": "code",
   "execution_count": 26,
   "metadata": {},
   "outputs": [
    {
     "data": {
      "text/html": [
       "<div>\n",
       "<style scoped>\n",
       "    .dataframe tbody tr th:only-of-type {\n",
       "        vertical-align: middle;\n",
       "    }\n",
       "\n",
       "    .dataframe tbody tr th {\n",
       "        vertical-align: top;\n",
       "    }\n",
       "\n",
       "    .dataframe thead th {\n",
       "        text-align: right;\n",
       "    }\n",
       "</style>\n",
       "<table border=\"1\" class=\"dataframe\">\n",
       "  <thead>\n",
       "    <tr style=\"text-align: right;\">\n",
       "      <th></th>\n",
       "      <th>Parameter</th>\n",
       "      <th>Explanation</th>\n",
       "    </tr>\n",
       "  </thead>\n",
       "  <tbody>\n",
       "    <tr>\n",
       "      <th>cacheNodeIds</th>\n",
       "      <td>False</td>\n",
       "      <td>If false, the algorithm will pass trees to exe...</td>\n",
       "    </tr>\n",
       "    <tr>\n",
       "      <th>checkpointInterval</th>\n",
       "      <td>10</td>\n",
       "      <td>set checkpoint interval (&gt;= 1) or disable chec...</td>\n",
       "    </tr>\n",
       "    <tr>\n",
       "      <th>featureSubsetStrategy</th>\n",
       "      <td>auto</td>\n",
       "      <td>The number of features to consider for splits ...</td>\n",
       "    </tr>\n",
       "    <tr>\n",
       "      <th>impurity</th>\n",
       "      <td>gini</td>\n",
       "      <td>Criterion used for information gain calculatio...</td>\n",
       "    </tr>\n",
       "    <tr>\n",
       "      <th>maxBins</th>\n",
       "      <td>32</td>\n",
       "      <td>Max number of bins for discretizing continuous...</td>\n",
       "    </tr>\n",
       "    <tr>\n",
       "      <th>maxDepth</th>\n",
       "      <td>5</td>\n",
       "      <td>Maximum depth of the tree. (&gt;= 0) E.g., depth ...</td>\n",
       "    </tr>\n",
       "    <tr>\n",
       "      <th>maxMemoryInMB</th>\n",
       "      <td>256</td>\n",
       "      <td>Maximum memory in MB allocated to histogram ag...</td>\n",
       "    </tr>\n",
       "    <tr>\n",
       "      <th>minInfoGain</th>\n",
       "      <td>0</td>\n",
       "      <td>Minimum information gain for a split to be con...</td>\n",
       "    </tr>\n",
       "    <tr>\n",
       "      <th>minInstancesPerNode</th>\n",
       "      <td>1</td>\n",
       "      <td>Minimum number of instances each child must ha...</td>\n",
       "    </tr>\n",
       "    <tr>\n",
       "      <th>numTrees</th>\n",
       "      <td>20</td>\n",
       "      <td>Number of trees to train (&gt;= 1)</td>\n",
       "    </tr>\n",
       "    <tr>\n",
       "      <th>predictionCol</th>\n",
       "      <td>prediction</td>\n",
       "      <td>prediction column name</td>\n",
       "    </tr>\n",
       "    <tr>\n",
       "      <th>probabilityCol</th>\n",
       "      <td>probability</td>\n",
       "      <td>Column name for predicted class conditional pr...</td>\n",
       "    </tr>\n",
       "    <tr>\n",
       "      <th>rawPredictionCol</th>\n",
       "      <td>rawPrediction</td>\n",
       "      <td>raw prediction (a.k.a. confidence) column name</td>\n",
       "    </tr>\n",
       "    <tr>\n",
       "      <th>seed</th>\n",
       "      <td>-8920734029542594319</td>\n",
       "      <td>random seed</td>\n",
       "    </tr>\n",
       "    <tr>\n",
       "      <th>subsamplingRate</th>\n",
       "      <td>1</td>\n",
       "      <td>Fraction of the training data used for learnin...</td>\n",
       "    </tr>\n",
       "    <tr>\n",
       "      <th>featuresCol</th>\n",
       "      <td>scaled</td>\n",
       "      <td>features column name</td>\n",
       "    </tr>\n",
       "    <tr>\n",
       "      <th>labelCol</th>\n",
       "      <td>label</td>\n",
       "      <td>label column name</td>\n",
       "    </tr>\n",
       "  </tbody>\n",
       "</table>\n",
       "</div>"
      ],
      "text/plain": [
       "                                  Parameter  \\\n",
       "cacheNodeIds                          False   \n",
       "checkpointInterval                       10   \n",
       "featureSubsetStrategy                  auto   \n",
       "impurity                               gini   \n",
       "maxBins                                  32   \n",
       "maxDepth                                  5   \n",
       "maxMemoryInMB                           256   \n",
       "minInfoGain                               0   \n",
       "minInstancesPerNode                       1   \n",
       "numTrees                                 20   \n",
       "predictionCol                    prediction   \n",
       "probabilityCol                  probability   \n",
       "rawPredictionCol              rawPrediction   \n",
       "seed                   -8920734029542594319   \n",
       "subsamplingRate                           1   \n",
       "featuresCol                          scaled   \n",
       "labelCol                              label   \n",
       "\n",
       "                                                             Explanation  \n",
       "cacheNodeIds           If false, the algorithm will pass trees to exe...  \n",
       "checkpointInterval     set checkpoint interval (>= 1) or disable chec...  \n",
       "featureSubsetStrategy  The number of features to consider for splits ...  \n",
       "impurity               Criterion used for information gain calculatio...  \n",
       "maxBins                Max number of bins for discretizing continuous...  \n",
       "maxDepth               Maximum depth of the tree. (>= 0) E.g., depth ...  \n",
       "maxMemoryInMB          Maximum memory in MB allocated to histogram ag...  \n",
       "minInfoGain            Minimum information gain for a split to be con...  \n",
       "minInstancesPerNode    Minimum number of instances each child must ha...  \n",
       "numTrees                                 Number of trees to train (>= 1)  \n",
       "predictionCol                                     prediction column name  \n",
       "probabilityCol         Column name for predicted class conditional pr...  \n",
       "rawPredictionCol          raw prediction (a.k.a. confidence) column name  \n",
       "seed                                                         random seed  \n",
       "subsamplingRate        Fraction of the training data used for learnin...  \n",
       "featuresCol                                         features column name  \n",
       "labelCol                                               label column name  "
      ]
     },
     "execution_count": 26,
     "metadata": {},
     "output_type": "execute_result"
    }
   ],
   "source": [
    "rf_params_pd"
   ]
  },
  {
   "cell_type": "code",
   "execution_count": 27,
   "metadata": {},
   "outputs": [
    {
     "data": {
      "text/html": [
       "<div>\n",
       "<style scoped>\n",
       "    .dataframe tbody tr th:only-of-type {\n",
       "        vertical-align: middle;\n",
       "    }\n",
       "\n",
       "    .dataframe tbody tr th {\n",
       "        vertical-align: top;\n",
       "    }\n",
       "\n",
       "    .dataframe thead th {\n",
       "        text-align: right;\n",
       "    }\n",
       "</style>\n",
       "<table border=\"1\" class=\"dataframe\">\n",
       "  <thead>\n",
       "    <tr style=\"text-align: right;\">\n",
       "      <th></th>\n",
       "      <th>Parameter</th>\n",
       "      <th>Explanation</th>\n",
       "    </tr>\n",
       "  </thead>\n",
       "  <tbody>\n",
       "    <tr>\n",
       "      <th>cacheNodeIds</th>\n",
       "      <td>False</td>\n",
       "      <td>If false, the algorithm will pass trees to exe...</td>\n",
       "    </tr>\n",
       "    <tr>\n",
       "      <th>checkpointInterval</th>\n",
       "      <td>10</td>\n",
       "      <td>set checkpoint interval (&gt;= 1) or disable chec...</td>\n",
       "    </tr>\n",
       "    <tr>\n",
       "      <th>featureSubsetStrategy</th>\n",
       "      <td>all</td>\n",
       "      <td>The number of features to consider for splits ...</td>\n",
       "    </tr>\n",
       "    <tr>\n",
       "      <th>impurity</th>\n",
       "      <td>gini</td>\n",
       "      <td>Criterion used for information gain calculatio...</td>\n",
       "    </tr>\n",
       "    <tr>\n",
       "      <th>lossType</th>\n",
       "      <td>logistic</td>\n",
       "      <td>Loss function which GBT tries to minimize (cas...</td>\n",
       "    </tr>\n",
       "    <tr>\n",
       "      <th>maxBins</th>\n",
       "      <td>32</td>\n",
       "      <td>Max number of bins for discretizing continuous...</td>\n",
       "    </tr>\n",
       "    <tr>\n",
       "      <th>maxDepth</th>\n",
       "      <td>5</td>\n",
       "      <td>Maximum depth of the tree. (&gt;= 0) E.g., depth ...</td>\n",
       "    </tr>\n",
       "    <tr>\n",
       "      <th>maxIter</th>\n",
       "      <td>20</td>\n",
       "      <td>maximum number of iterations (&gt;= 0)</td>\n",
       "    </tr>\n",
       "    <tr>\n",
       "      <th>maxMemoryInMB</th>\n",
       "      <td>256</td>\n",
       "      <td>Maximum memory in MB allocated to histogram ag...</td>\n",
       "    </tr>\n",
       "    <tr>\n",
       "      <th>minInfoGain</th>\n",
       "      <td>0</td>\n",
       "      <td>Minimum information gain for a split to be con...</td>\n",
       "    </tr>\n",
       "    <tr>\n",
       "      <th>minInstancesPerNode</th>\n",
       "      <td>1</td>\n",
       "      <td>Minimum number of instances each child must ha...</td>\n",
       "    </tr>\n",
       "    <tr>\n",
       "      <th>predictionCol</th>\n",
       "      <td>prediction</td>\n",
       "      <td>prediction column name</td>\n",
       "    </tr>\n",
       "    <tr>\n",
       "      <th>probabilityCol</th>\n",
       "      <td>probability</td>\n",
       "      <td>Column name for predicted class conditional pr...</td>\n",
       "    </tr>\n",
       "    <tr>\n",
       "      <th>rawPredictionCol</th>\n",
       "      <td>rawPrediction</td>\n",
       "      <td>raw prediction (a.k.a. confidence) column name</td>\n",
       "    </tr>\n",
       "    <tr>\n",
       "      <th>seed</th>\n",
       "      <td>-6563552406600771493</td>\n",
       "      <td>random seed</td>\n",
       "    </tr>\n",
       "    <tr>\n",
       "      <th>stepSize</th>\n",
       "      <td>0.1</td>\n",
       "      <td>Step size (a.k.a. learning rate) in interval (...</td>\n",
       "    </tr>\n",
       "    <tr>\n",
       "      <th>subsamplingRate</th>\n",
       "      <td>1</td>\n",
       "      <td>Fraction of the training data used for learnin...</td>\n",
       "    </tr>\n",
       "    <tr>\n",
       "      <th>validationTol</th>\n",
       "      <td>0.01</td>\n",
       "      <td>Threshold for stopping early when fit with val...</td>\n",
       "    </tr>\n",
       "    <tr>\n",
       "      <th>featuresCol</th>\n",
       "      <td>scaled</td>\n",
       "      <td>features column name</td>\n",
       "    </tr>\n",
       "    <tr>\n",
       "      <th>labelCol</th>\n",
       "      <td>label</td>\n",
       "      <td>label column name</td>\n",
       "    </tr>\n",
       "  </tbody>\n",
       "</table>\n",
       "</div>"
      ],
      "text/plain": [
       "                                  Parameter  \\\n",
       "cacheNodeIds                          False   \n",
       "checkpointInterval                       10   \n",
       "featureSubsetStrategy                   all   \n",
       "impurity                               gini   \n",
       "lossType                           logistic   \n",
       "maxBins                                  32   \n",
       "maxDepth                                  5   \n",
       "maxIter                                  20   \n",
       "maxMemoryInMB                           256   \n",
       "minInfoGain                               0   \n",
       "minInstancesPerNode                       1   \n",
       "predictionCol                    prediction   \n",
       "probabilityCol                  probability   \n",
       "rawPredictionCol              rawPrediction   \n",
       "seed                   -6563552406600771493   \n",
       "stepSize                                0.1   \n",
       "subsamplingRate                           1   \n",
       "validationTol                          0.01   \n",
       "featuresCol                          scaled   \n",
       "labelCol                              label   \n",
       "\n",
       "                                                             Explanation  \n",
       "cacheNodeIds           If false, the algorithm will pass trees to exe...  \n",
       "checkpointInterval     set checkpoint interval (>= 1) or disable chec...  \n",
       "featureSubsetStrategy  The number of features to consider for splits ...  \n",
       "impurity               Criterion used for information gain calculatio...  \n",
       "lossType               Loss function which GBT tries to minimize (cas...  \n",
       "maxBins                Max number of bins for discretizing continuous...  \n",
       "maxDepth               Maximum depth of the tree. (>= 0) E.g., depth ...  \n",
       "maxIter                              maximum number of iterations (>= 0)  \n",
       "maxMemoryInMB          Maximum memory in MB allocated to histogram ag...  \n",
       "minInfoGain            Minimum information gain for a split to be con...  \n",
       "minInstancesPerNode    Minimum number of instances each child must ha...  \n",
       "predictionCol                                     prediction column name  \n",
       "probabilityCol         Column name for predicted class conditional pr...  \n",
       "rawPredictionCol          raw prediction (a.k.a. confidence) column name  \n",
       "seed                                                         random seed  \n",
       "stepSize               Step size (a.k.a. learning rate) in interval (...  \n",
       "subsamplingRate        Fraction of the training data used for learnin...  \n",
       "validationTol          Threshold for stopping early when fit with val...  \n",
       "featuresCol                                         features column name  \n",
       "labelCol                                               label column name  "
      ]
     },
     "execution_count": 27,
     "metadata": {},
     "output_type": "execute_result"
    }
   ],
   "source": [
    "gbt_params_pd"
   ]
  },
  {
   "cell_type": "code",
   "execution_count": 28,
   "metadata": {},
   "outputs": [
    {
     "data": {
      "text/html": [
       "<div>\n",
       "<style scoped>\n",
       "    .dataframe tbody tr th:only-of-type {\n",
       "        vertical-align: middle;\n",
       "    }\n",
       "\n",
       "    .dataframe tbody tr th {\n",
       "        vertical-align: top;\n",
       "    }\n",
       "\n",
       "    .dataframe thead th {\n",
       "        text-align: right;\n",
       "    }\n",
       "</style>\n",
       "<table border=\"1\" class=\"dataframe\">\n",
       "  <thead>\n",
       "    <tr style=\"text-align: right;\">\n",
       "      <th></th>\n",
       "      <th>Parameter</th>\n",
       "      <th>Explanation</th>\n",
       "    </tr>\n",
       "  </thead>\n",
       "  <tbody>\n",
       "    <tr>\n",
       "      <th>cacheNodeIds</th>\n",
       "      <td>False</td>\n",
       "      <td>If false, the algorithm will pass trees to exe...</td>\n",
       "    </tr>\n",
       "    <tr>\n",
       "      <th>checkpointInterval</th>\n",
       "      <td>10</td>\n",
       "      <td>set checkpoint interval (&gt;= 1) or disable chec...</td>\n",
       "    </tr>\n",
       "    <tr>\n",
       "      <th>featureSubsetStrategy</th>\n",
       "      <td>auto</td>\n",
       "      <td>The number of features to consider for splits ...</td>\n",
       "    </tr>\n",
       "    <tr>\n",
       "      <th>impurity</th>\n",
       "      <td>gini</td>\n",
       "      <td>Criterion used for information gain calculatio...</td>\n",
       "    </tr>\n",
       "    <tr>\n",
       "      <th>maxBins</th>\n",
       "      <td>32</td>\n",
       "      <td>Max number of bins for discretizing continuous...</td>\n",
       "    </tr>\n",
       "    <tr>\n",
       "      <th>maxDepth</th>\n",
       "      <td>5</td>\n",
       "      <td>Maximum depth of the tree. (&gt;= 0) E.g., depth ...</td>\n",
       "    </tr>\n",
       "    <tr>\n",
       "      <th>maxMemoryInMB</th>\n",
       "      <td>256</td>\n",
       "      <td>Maximum memory in MB allocated to histogram ag...</td>\n",
       "    </tr>\n",
       "    <tr>\n",
       "      <th>minInfoGain</th>\n",
       "      <td>0</td>\n",
       "      <td>Minimum information gain for a split to be con...</td>\n",
       "    </tr>\n",
       "    <tr>\n",
       "      <th>minInstancesPerNode</th>\n",
       "      <td>1</td>\n",
       "      <td>Minimum number of instances each child must ha...</td>\n",
       "    </tr>\n",
       "    <tr>\n",
       "      <th>predictionCol</th>\n",
       "      <td>prediction</td>\n",
       "      <td>prediction column name</td>\n",
       "    </tr>\n",
       "    <tr>\n",
       "      <th>probabilityCol</th>\n",
       "      <td>probability</td>\n",
       "      <td>Column name for predicted class conditional pr...</td>\n",
       "    </tr>\n",
       "    <tr>\n",
       "      <th>rawPredictionCol</th>\n",
       "      <td>rawPrediction</td>\n",
       "      <td>raw prediction (a.k.a. confidence) column name</td>\n",
       "    </tr>\n",
       "    <tr>\n",
       "      <th>seed</th>\n",
       "      <td>-8920734029542594319</td>\n",
       "      <td>random seed</td>\n",
       "    </tr>\n",
       "    <tr>\n",
       "      <th>subsamplingRate</th>\n",
       "      <td>1</td>\n",
       "      <td>Fraction of the training data used for learnin...</td>\n",
       "    </tr>\n",
       "    <tr>\n",
       "      <th>featuresCol</th>\n",
       "      <td>scaled</td>\n",
       "      <td>features column name</td>\n",
       "    </tr>\n",
       "    <tr>\n",
       "      <th>labelCol</th>\n",
       "      <td>label</td>\n",
       "      <td>label column name</td>\n",
       "    </tr>\n",
       "    <tr>\n",
       "      <th>numTrees</th>\n",
       "      <td>100</td>\n",
       "      <td>Number of trees to train (&gt;= 1)</td>\n",
       "    </tr>\n",
       "  </tbody>\n",
       "</table>\n",
       "</div>"
      ],
      "text/plain": [
       "                                  Parameter  \\\n",
       "cacheNodeIds                          False   \n",
       "checkpointInterval                       10   \n",
       "featureSubsetStrategy                  auto   \n",
       "impurity                               gini   \n",
       "maxBins                                  32   \n",
       "maxDepth                                  5   \n",
       "maxMemoryInMB                           256   \n",
       "minInfoGain                               0   \n",
       "minInstancesPerNode                       1   \n",
       "predictionCol                    prediction   \n",
       "probabilityCol                  probability   \n",
       "rawPredictionCol              rawPrediction   \n",
       "seed                   -8920734029542594319   \n",
       "subsamplingRate                           1   \n",
       "featuresCol                          scaled   \n",
       "labelCol                              label   \n",
       "numTrees                                100   \n",
       "\n",
       "                                                             Explanation  \n",
       "cacheNodeIds           If false, the algorithm will pass trees to exe...  \n",
       "checkpointInterval     set checkpoint interval (>= 1) or disable chec...  \n",
       "featureSubsetStrategy  The number of features to consider for splits ...  \n",
       "impurity               Criterion used for information gain calculatio...  \n",
       "maxBins                Max number of bins for discretizing continuous...  \n",
       "maxDepth               Maximum depth of the tree. (>= 0) E.g., depth ...  \n",
       "maxMemoryInMB          Maximum memory in MB allocated to histogram ag...  \n",
       "minInfoGain            Minimum information gain for a split to be con...  \n",
       "minInstancesPerNode    Minimum number of instances each child must ha...  \n",
       "predictionCol                                     prediction column name  \n",
       "probabilityCol         Column name for predicted class conditional pr...  \n",
       "rawPredictionCol          raw prediction (a.k.a. confidence) column name  \n",
       "seed                                                         random seed  \n",
       "subsamplingRate        Fraction of the training data used for learnin...  \n",
       "featuresCol                                         features column name  \n",
       "labelCol                                               label column name  \n",
       "numTrees                                 Number of trees to train (>= 1)  "
      ]
     },
     "execution_count": 28,
     "metadata": {},
     "output_type": "execute_result"
    }
   ],
   "source": [
    "grid_params_pd"
   ]
  },
  {
   "cell_type": "code",
   "execution_count": 37,
   "metadata": {},
   "outputs": [],
   "source": [
    "rf_probs = extract_probs(rf_yhat)\n",
    "lr_probs = extract_probs(lr_yhat)\n",
    "gbt_probs = extract_probs(gbt_yhat)\n",
    "grid_probs = extract_probs(grid_yhat)"
   ]
  },
  {
   "cell_type": "code",
   "execution_count": 34,
   "metadata": {},
   "outputs": [
    {
     "name": "stdout",
     "output_type": "stream",
     "text": [
      "+-----+--------------------+----------+----------+----------+\n",
      "|label|         probability|prediction| prob_zero|  prob_one|\n",
      "+-----+--------------------+----------+----------+----------+\n",
      "|    0|[0.87586502083176...|       0.0|0.87586504|0.12413498|\n",
      "|    1|[0.24307379174770...|       1.0|0.24307379| 0.7569262|\n",
      "|    1|[0.19561880711880...|       1.0|0.19561881| 0.8043812|\n",
      "|    0|[0.60384232249232...|       0.0| 0.6038423|0.39615768|\n",
      "|    1|[0.17763615748600...|       1.0|0.17763616|0.82236385|\n",
      "+-----+--------------------+----------+----------+----------+\n",
      "only showing top 5 rows\n",
      "\n"
     ]
    }
   ],
   "source": [
    "rf_grid_loss.show(5)"
   ]
  },
  {
   "cell_type": "markdown",
   "metadata": {},
   "source": [
    "https://stackoverflow.com/questions/50061577/how-to-create-a-new-column-based-on-calculations-made-in-other-columns-in-pyspar"
   ]
  },
  {
   "cell_type": "code",
   "execution_count": 38,
   "metadata": {},
   "outputs": [],
   "source": [
    "rf_pd = rf_probs.toPandas()\n",
    "lr_pd = lr_probs.toPandas()\n",
    "gbt_pd = gbt_probs.toPandas()\n",
    "grid_pd = grid_probs.toPandas()"
   ]
  },
  {
   "cell_type": "code",
   "execution_count": 41,
   "metadata": {},
   "outputs": [
    {
     "name": "stderr",
     "output_type": "stream",
     "text": [
      "/opt/conda/lib/python3.6/site-packages/ipykernel_launcher.py:32: RuntimeWarning: divide by zero encountered in log10\n"
     ]
    }
   ],
   "source": [
    "rf_pd = calc_logloss_pd(rf_pd)\n",
    "lr_pd = calc_logloss_pd(lr_pd)\n",
    "gbt_pd = calc_logloss_pd(gbt_pd)\n",
    "grid_pd = calc_logloss_pd(grid_pd)"
   ]
  },
  {
   "cell_type": "code",
   "execution_count": 42,
   "metadata": {},
   "outputs": [],
   "source": [
    "lr_pd['logloss'].replace(np.inf, np.nan, inplace = True)\n",
    "lr_pd.logloss.fillna(0, inplace = True)"
   ]
  },
  {
   "cell_type": "code",
   "execution_count": 43,
   "metadata": {},
   "outputs": [
    {
     "data": {
      "text/plain": [
       "9.2200572658330202"
      ]
     },
     "execution_count": 43,
     "metadata": {},
     "output_type": "execute_result"
    }
   ],
   "source": [
    "rf_pd['logloss'].sum()"
   ]
  },
  {
   "cell_type": "code",
   "execution_count": 44,
   "metadata": {},
   "outputs": [
    {
     "data": {
      "text/plain": [
       "74.98453191936207"
      ]
     },
     "execution_count": 44,
     "metadata": {},
     "output_type": "execute_result"
    }
   ],
   "source": [
    "lr_pd['logloss'].sum()"
   ]
  },
  {
   "cell_type": "code",
   "execution_count": 45,
   "metadata": {},
   "outputs": [
    {
     "data": {
      "text/plain": [
       "11.752778589725494"
      ]
     },
     "execution_count": 45,
     "metadata": {},
     "output_type": "execute_result"
    }
   ],
   "source": [
    "gbt_pd['logloss'].sum()"
   ]
  },
  {
   "cell_type": "code",
   "execution_count": 47,
   "metadata": {},
   "outputs": [
    {
     "data": {
      "text/plain": [
       "9.202188335621031"
      ]
     },
     "execution_count": 47,
     "metadata": {},
     "output_type": "execute_result"
    }
   ],
   "source": [
    "grid_pd['logloss'].sum()"
   ]
  },
  {
   "cell_type": "code",
   "execution_count": 50,
   "metadata": {},
   "outputs": [],
   "source": [
    "rf_x, rf_y = get_plot_cols(rf_pd)\n",
    "lr_x, lr_y = get_plot_cols(lr_pd) \n",
    "gbt_x, gbt_y = get_plot_cols(gbt_pd)\n",
    "grid_x, grid_y = get_plot_cols(grid_pd)"
   ]
  },
  {
   "cell_type": "code",
   "execution_count": 52,
   "metadata": {},
   "outputs": [
    {
     "data": {
      "image/png": "[encoded data removed]",
      "text/plain": [
       "<matplotlib.figure.Figure at 0x7f5d29f019e8>"
      ]
     },
     "metadata": {
      "needs_background": "light"
     },
     "output_type": "display_data"
    }
   ],
   "source": [
    "plt.figure(figsize = [20,5])\n",
    "plt.scatter(rf_x, rf_y, label = \"Random Forest\")\n",
    "plt.scatter(lr_x, lr_y, label =\"Logistic Regression\")\n",
    "plt.scatter(gbt_x, gbt_y, label = \"Gradient Boosted Tree\")\n",
    "plt.scatter(grid_x, grid_y, label = \"Grid Random Forest\")\n",
    "plt.legend()\n",
    "plt.title('LogLoss')\n",
    "plt.ylabel('LogLoss')\n",
    "plt.xlabel('Probabilities');"
   ]
  },
  {
   "cell_type": "code",
   "execution_count": 53,
   "metadata": {},
   "outputs": [
    {
     "data": {
      "text/plain": [
       "(5.5, 10)"
      ]
     },
     "execution_count": 53,
     "metadata": {},
     "output_type": "execute_result"
    },
    {
     "data": {
      "image/png": "[encoded data removed]",
      "text/plain": [
       "<matplotlib.figure.Figure at 0x7f5d294994e0>"
      ]
     },
     "metadata": {
      "needs_background": "light"
     },
     "output_type": "display_data"
    }
   ],
   "source": [
    "plt.scatter(rf_x, rf_y)\n",
    "plt.xlim(0.12, 0.7)\n",
    "plt.ylim(5.5,10)"
   ]
  }
 ],
 "metadata": {
  "kernelspec": {
   "display_name": "Python 3",
   "language": "python",
   "name": "python3"
  },
  "language_info": {
   "codemirror_mode": {
    "name": "ipython",
    "version": 3
   },
   "file_extension": ".py",
   "mimetype": "text/x-python",
   "name": "python",
   "nbconvert_exporter": "python",
   "pygments_lexer": "ipython3",
   "version": "3.6.3"
  }
 },
 "nbformat": 4,
 "nbformat_minor": 2
}
