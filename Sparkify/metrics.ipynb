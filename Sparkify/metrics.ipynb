{
 "cells": [
  {
   "cell_type": "code",
   "execution_count": 1,
   "metadata": {},
   "outputs": [],
   "source": [
    "# import libraries\n",
    "from pyspark.sql import SparkSession, Window\n",
    "import pyspark.sql.functions as F\n",
    "from pyspark.sql.types import FloatType\n",
    "from pyspark.sql.types import IntegerType\n",
    "#from pyspark import SparkFiles\n",
    "#from pyspark.sql.functions import avg, col, concat, count, desc, \\\n",
    "#asc, explode, lit, min, max, split, stddev, udf, isnan, when, rank, \\\n",
    "#log, sqrt, cbrt, exp, sum\n",
    "\n",
    "from pyspark.ml import Pipeline\n",
    "from pyspark.ml.classification import LogisticRegression, \\\n",
    "LogisticRegressionModel, RandomForestClassifier, \\\n",
    "RandomForestClassificationModel, GBTClassifier, \\\n",
    "GBTClassificationModel\n",
    "from pyspark.ml.evaluation import MulticlassClassificationEvaluator\n",
    "from pyspark.mllib.evaluation import MulticlassMetrics\n",
    "\n",
    "from pyspark.ml.feature import CountVectorizer, IDF, Normalizer, \\\n",
    "PCA, RegexTokenizer, Tokenizer, StandardScaler, StopWordsRemover, \\\n",
    "StringIndexer, VectorAssembler, MaxAbsScaler\n",
    "from pyspark.ml.regression import LinearRegression\n",
    "from pyspark.ml.clustering import KMeans\n",
    "from pyspark.ml.tuning import CrossValidator, ParamGridBuilder\n",
    "\n",
    "import time\n",
    "import tqdm\n",
    "import re\n",
    "import numpy as np\n",
    "import scipy\n",
    "import pandas as pd\n",
    "import datetime\n",
    "import matplotlib.pyplot as plt\n",
    "from pandas.plotting import scatter_matrix\n",
    "import seaborn as sns\n",
    "import random\n",
    "%matplotlib inline\n",
    "random.seed(42)"
   ]
  },
  {
   "cell_type": "code",
   "execution_count": 2,
   "metadata": {},
   "outputs": [],
   "source": [
    "def create_spark_session():\n",
    "    '''\n",
    "    Create a spark session\n",
    "    INPUT\n",
    "    spark session builder\n",
    "    OUTPUT\n",
    "    spark object\n",
    "    '''\n",
    "    spark = SparkSession\\\n",
    "    .builder \\\n",
    "    .master(\"local\") \\\n",
    "    .appName(\"sparkify\") \\\n",
    "    .config(\"config option\", \"config value\")\\\n",
    "    .getOrCreate()\n",
    "    print('Spark parameters:')\n",
    "    for parameter in spark.sparkContext.getConf().getAll():\n",
    "        print(parameter)\n",
    "\n",
    "    return spark"
   ]
  },
  {
   "cell_type": "code",
   "execution_count": 3,
   "metadata": {},
   "outputs": [],
   "source": [
    "def load_models():\n",
    "    lr_best_model = LogisticRegressionModel.load(\"logistic_stages\")\n",
    "    rf_best_model = RandomForestClassificationModel.load(\"random_forest_stages\")\n",
    "    gbt_best_model = GBTClassificationModel.load(\"gradient_boosted_tree_stages\")\n",
    "\n",
    "    return lr_best_model, rf_best_model, gbt_best_model"
   ]
  },
  {
   "cell_type": "code",
   "execution_count": 4,
   "metadata": {},
   "outputs": [],
   "source": [
    "def log_loss(df):\n",
    "\n",
    "    # extract predicted probability\n",
    "    get_prob_zero = F.udf(lambda v:float(v[0]), FloatType())\n",
    "    get_prob_one = F.udf(lambda v:float(v[1]), FloatType())\n",
    "    df = df.withColumn(\"prob_zero\", get_prob_zero(F.col(\"probability\")))\n",
    "    df = df.withColumn(\"prob_one\", get_prob_one(F.col(\"probability\")))\n",
    "    #df = df.withColumn(\"log_zero\", F.log(F.col(\"prob_zero\")))\n",
    "    #df = df.withColumn(\"log_one\", F.log(F.col(\"prob_one\")))\n",
    "    \n",
    "\n",
    "    #df = df.withColumn(\"logloss\", -(F.col(\"label\")*F.log(F.col(\"prob_one\"))+ (1 - F.col(\"label\"))*F.log(1-F.col(\"prob_one\"))))\n",
    "    \n",
    "    #nll = -(y1*F.log(p1) + y0*F.log(p0))\n",
    "    # aggregate\n",
    "    return df.select(\"label\", \"probability\", \"prediction\", \"prob_zero\", \"prob_one\")\n",
    "\n",
    "    \n",
    "    \n",
    "def gen_logloss_metric(rf_yhat_test, lr_yhat_test, gbt_yhat_test):\n",
    "    logloss = {}\n",
    "    logloss['rf'] = log_loss(rf_yhat_test)\n",
    "    logloss['lr'] = log_loss(lr_yhat_test)\n",
    "    logloss['gbt'] = log_loss(gbt_yhat_test)\n",
    "    logloss_df = pd.DataFrame.from_dict(logloss, orient = 'index', columns = ['logloss'])\n",
    "    logloss_df.to_csv('logloss.csv', index = True)\n",
    "    \n",
    "    return logloss\n",
    "\n",
    "def calculate_logloss(df):\n",
    "\n",
    "    df['logloss'] = -(df.label*np.log10(df.prob_one) + (1 - df.label)*np.log10(df.prob_zero))\n",
    "    \n",
    "    return df\n",
    "\n",
    "def get_plot_cols(df):\n",
    "    idx = df.prob_zero.sort_values().index\n",
    "    x = df.prob_zero.sort_values().values\n",
    "    df['logloss'].index = idx\n",
    "    y = df.logloss.cumsum()\n",
    "    \n",
    "    return x, y"
   ]
  },
  {
   "cell_type": "code",
   "execution_count": 5,
   "metadata": {},
   "outputs": [
    {
     "name": "stdout",
     "output_type": "stream",
     "text": [
      "Spark parameters:\n",
      "('spark.master', 'local')\n",
      "('spark.app.id', 'local-1633012391527')\n",
      "('spark.driver.port', '42437')\n",
      "('spark.app.name', 'sparkify')\n",
      "('spark.driver.host', 'fb329ea7c6af')\n",
      "('spark.rdd.compress', 'True')\n",
      "('spark.serializer.objectStreamReset', '100')\n",
      "('config option', 'config value')\n",
      "('spark.executor.id', 'driver')\n",
      "('spark.submit.deployMode', 'client')\n",
      "('spark.ui.showConsoleProgress', 'true')\n"
     ]
    }
   ],
   "source": [
    "spark = create_spark_session()"
   ]
  },
  {
   "cell_type": "code",
   "execution_count": 6,
   "metadata": {},
   "outputs": [],
   "source": [
    "rf_yhat_test = spark.read.load(\"rf_preds.parquet\")\n",
    "lr_yhat_test = spark.read.load(\"lr_preds.parquet\")\n",
    "gbt_yhat_test = spark.read.load(\"gbt_preds.parquet\")\n",
    "lr, rf, gbt = load_models()"
   ]
  },
  {
   "cell_type": "code",
   "execution_count": 7,
   "metadata": {},
   "outputs": [],
   "source": [
    "rf_loss = log_loss(rf_yhat_test)\n",
    "lr_loss = log_loss(lr_yhat_test)\n",
    "gbt_loss = log_loss(gbt_yhat_test)"
   ]
  },
  {
   "cell_type": "code",
   "execution_count": 8,
   "metadata": {},
   "outputs": [
    {
     "name": "stdout",
     "output_type": "stream",
     "text": [
      "+-----+--------------------+----------+-----------+---------+\n",
      "|label|         probability|prediction|  prob_zero| prob_one|\n",
      "+-----+--------------------+----------+-----------+---------+\n",
      "|    0|[0.63210858585858...|       0.0| 0.63210857|0.3678914|\n",
      "|    1|[0.10124999999999...|       1.0|    0.10125|  0.89875|\n",
      "|    1|[0.05325311942959...|       1.0|0.053253118|0.9467469|\n",
      "|    1|[0.00287141779788...|       1.0|0.002871418|0.9971286|\n",
      "|    1|[0.00287141779788...|       1.0|0.002871418|0.9971286|\n",
      "+-----+--------------------+----------+-----------+---------+\n",
      "only showing top 5 rows\n",
      "\n"
     ]
    }
   ],
   "source": [
    "rf_loss.show(5)"
   ]
  },
  {
   "cell_type": "markdown",
   "metadata": {},
   "source": [
    "https://stackoverflow.com/questions/50061577/how-to-create-a-new-column-based-on-calculations-made-in-other-columns-in-pyspar"
   ]
  },
  {
   "cell_type": "code",
   "execution_count": 9,
   "metadata": {},
   "outputs": [],
   "source": [
    "rf_pd = rf_loss.toPandas()\n",
    "lr_pd = lr_loss.toPandas()\n",
    "gbt_pd = gbt_loss.toPandas()"
   ]
  },
  {
   "cell_type": "code",
   "execution_count": 10,
   "metadata": {},
   "outputs": [
    {
     "name": "stderr",
     "output_type": "stream",
     "text": [
      "/opt/conda/lib/python3.6/site-packages/ipykernel_launcher.py:32: RuntimeWarning: divide by zero encountered in log10\n"
     ]
    }
   ],
   "source": [
    "rf_pd = calculate_logloss(rf_pd)\n",
    "lr_pd = calculate_logloss(lr_pd)\n",
    "gbt_pd = calculate_logloss(gbt_pd)"
   ]
  },
  {
   "cell_type": "code",
   "execution_count": 11,
   "metadata": {},
   "outputs": [],
   "source": [
    "lr_pd['logloss'].replace(np.inf, np.nan, inplace = True)\n",
    "lr_pd.logloss.fillna(0, inplace = True)"
   ]
  },
  {
   "cell_type": "code",
   "execution_count": 12,
   "metadata": {},
   "outputs": [
    {
     "data": {
      "text/plain": [
       "11.433021439705044"
      ]
     },
     "execution_count": 12,
     "metadata": {},
     "output_type": "execute_result"
    }
   ],
   "source": [
    "rf_pd['logloss'].sum()"
   ]
  },
  {
   "cell_type": "code",
   "execution_count": 13,
   "metadata": {},
   "outputs": [
    {
     "data": {
      "text/plain": [
       "74.98453191936207"
      ]
     },
     "execution_count": 13,
     "metadata": {},
     "output_type": "execute_result"
    }
   ],
   "source": [
    "lr_pd['logloss'].sum()"
   ]
  },
  {
   "cell_type": "code",
   "execution_count": 14,
   "metadata": {},
   "outputs": [
    {
     "data": {
      "text/plain": [
       "11.77735310792923"
      ]
     },
     "execution_count": 14,
     "metadata": {},
     "output_type": "execute_result"
    }
   ],
   "source": [
    "gbt_pd['logloss'].sum()"
   ]
  },
  {
   "cell_type": "code",
   "execution_count": 15,
   "metadata": {},
   "outputs": [],
   "source": [
    "rf_x, rf_y = get_plot_cols(rf_pd)\n",
    "lr_x, lr_y = get_plot_cols(lr_pd) \n",
    "gbt_x, gbt_y = get_plot_cols(gbt_pd) "
   ]
  },
  {
   "cell_type": "code",
   "execution_count": 20,
   "metadata": {},
   "outputs": [
    {
     "data": {
      "image/png": "[encoded data removed]",
      "text/plain": [
       "<matplotlib.figure.Figure at 0x7f42f5429710>"
      ]
     },
     "metadata": {
      "needs_background": "light"
     },
     "output_type": "display_data"
    }
   ],
   "source": [
    "plt.figure(figsize = [20,5])\n",
    "plt.scatter(rf_x, rf_y, label = \"Random Forest\")\n",
    "plt.scatter(lr_x, lr_y, label =\"Logistic Regression\")\n",
    "plt.scatter(gbt_x, gbt_y, label = \"Gradient Boosted Tree\")\n",
    "plt.legend()\n",
    "plt.title('LogLoss')\n",
    "plt.ylabel('LogLoss')\n",
    "plt.xlabel('Probabilities');"
   ]
  },
  {
   "cell_type": "code",
   "execution_count": 17,
   "metadata": {},
   "outputs": [
    {
     "data": {
      "text/plain": [
       "(5.5, 10)"
      ]
     },
     "execution_count": 17,
     "metadata": {},
     "output_type": "execute_result"
    },
    {
     "data": {
      "image/png": "[encoded data removed]",
      "text/plain": [
       "<matplotlib.figure.Figure at 0x7f274c8ed5c0>"
      ]
     },
     "metadata": {
      "needs_background": "light"
     },
     "output_type": "display_data"
    }
   ],
   "source": [
    "plt.scatter(rf_x, rf_y)\n",
    "plt.xlim(0.12, 0.7)\n",
    "plt.ylim(5.5,10)"
   ]
  },
  {
   "cell_type": "code",
   "execution_count": 30,
   "metadata": {},
   "outputs": [
    {
     "data": {
      "text/plain": [
       "\"aggregationDepth: suggested depth for treeAggregate (>= 2) (default: 2)\\nelasticNetParam: the ElasticNet mixing parameter, in range [0, 1]. For alpha = 0, the penalty is an L2 penalty. For alpha = 1, it is an L1 penalty (default: 0.0)\\nfamily: The name of family which is a description of the label distribution to be used in the model. Supported options: auto, binomial, multinomial. (default: auto)\\nfeaturesCol: features column name (current: scaled)\\nfitIntercept: whether to fit an intercept term (default: True)\\nlabelCol: label column name (current: label)\\nlowerBoundsOnCoefficients: The lower bounds on coefficients if fitting under bound constrained optimization. (undefined)\\nlowerBoundsOnIntercepts: The lower bounds on intercepts if fitting under bound constrained optimization. (undefined)\\nmaxIter: maximum number of iterations (>= 0) (default: 100)\\npredictionCol: prediction column name (default: prediction)\\nprobabilityCol: Column name for predicted class conditional probabilities. Note: Not all models output well-calibrated probability estimates! These probabilities should be treated as confidences, not precise probabilities (default: probability)\\nrawPredictionCol: raw prediction (a.k.a. confidence) column name (default: rawPrediction)\\nregParam: regularization parameter (>= 0) (default: 0.0)\\nstandardization: whether to standardize the training features before fitting the model (default: True)\\nthreshold: threshold in binary classification prediction, in range [0, 1] (default: 0.5)\\nthresholds: Thresholds in multi-class classification to adjust the probability of predicting each class. Array must have length equal to the number of classes, with values > 0 excepting that at most one value may be 0. The class with largest value p/t is predicted, where p is the original probability of that class and t is the class's threshold (undefined)\\ntol: the convergence tolerance for iterative algorithms (>= 0) (default: 1e-06)\\nupperBoundsOnCoefficients: The upper bounds on coefficients if fitting under bound constrained optimization. (undefined)\\nupperBoundsOnIntercepts: The upper bounds on intercepts if fitting under bound constrained optimization. (undefined)\\nweightCol: weight column name. If this is not set or empty, we treat all instance weights as 1.0 (undefined)\""
      ]
     },
     "execution_count": 30,
     "metadata": {},
     "output_type": "execute_result"
    }
   ],
   "source": [
    "lr.explainParams()"
   ]
  },
  {
   "cell_type": "code",
   "execution_count": 12,
   "metadata": {},
   "outputs": [
    {
     "data": {
      "text/plain": [
       "\"aggregationDepth: suggested depth for treeAggregate (>= 2) (default: 2)\\nelasticNetParam: the ElasticNet mixing parameter, in range [0, 1]. For alpha = 0, the penalty is an L2 penalty. For alpha = 1, it is an L1 penalty (default: 0.0)\\nfamily: The name of family which is a description of the label distribution to be used in the model. Supported options: auto, binomial, multinomial. (default: auto)\\nfeaturesCol: features column name (current: scaled)\\nfitIntercept: whether to fit an intercept term (default: True)\\nlabelCol: label column name (current: label)\\nlowerBoundsOnCoefficients: The lower bounds on coefficients if fitting under bound constrained optimization. (undefined)\\nlowerBoundsOnIntercepts: The lower bounds on intercepts if fitting under bound constrained optimization. (undefined)\\nmaxIter: maximum number of iterations (>= 0) (default: 100)\\npredictionCol: prediction column name (default: prediction)\\nprobabilityCol: Column name for predicted class conditional probabilities. Note: Not all models output well-calibrated probability estimates! These probabilities should be treated as confidences, not precise probabilities (default: probability)\\nrawPredictionCol: raw prediction (a.k.a. confidence) column name (default: rawPrediction)\\nregParam: regularization parameter (>= 0) (default: 0.0)\\nstandardization: whether to standardize the training features before fitting the model (default: True)\\nthreshold: threshold in binary classification prediction, in range [0, 1] (default: 0.5)\\nthresholds: Thresholds in multi-class classification to adjust the probability of predicting each class. Array must have length equal to the number of classes, with values > 0 excepting that at most one value may be 0. The class with largest value p/t is predicted, where p is the original probability of that class and t is the class's threshold (undefined)\\ntol: the convergence tolerance for iterative algorithms (>= 0) (default: 1e-06)\\nupperBoundsOnCoefficients: The upper bounds on coefficients if fitting under bound constrained optimization. (undefined)\\nupperBoundsOnIntercepts: The upper bounds on intercepts if fitting under bound constrained optimization. (undefined)\\nweightCol: weight column name. If this is not set or empty, we treat all instance weights as 1.0 (undefined)\""
      ]
     },
     "execution_count": 12,
     "metadata": {},
     "output_type": "execute_result"
    }
   ],
   "source": [
    "lr_best_model.explainParams()"
   ]
  },
  {
   "cell_type": "code",
   "execution_count": 31,
   "metadata": {},
   "outputs": [
    {
     "data": {
      "text/plain": [
       "Param(parent='LogisticRegression_931519c8772f', name='aggregationDepth', doc='suggested depth for treeAggregate (>= 2)')"
      ]
     },
     "execution_count": 31,
     "metadata": {},
     "output_type": "execute_result"
    }
   ],
   "source": [
    "[k for k in lr.extractParamMap(extra=None).keys()][0]"
   ]
  },
  {
   "cell_type": "code",
   "execution_count": 32,
   "metadata": {},
   "outputs": [
    {
     "data": {
      "text/plain": [
       "pyspark.ml.param.Param"
      ]
     },
     "execution_count": 32,
     "metadata": {},
     "output_type": "execute_result"
    }
   ],
   "source": [
    "type([k for k in lr.extractParamMap(extra=None).keys()][0])"
   ]
  },
  {
   "cell_type": "code",
   "execution_count": 33,
   "metadata": {},
   "outputs": [
    {
     "data": {
      "text/plain": [
       "'aggregationDepth: suggested depth for treeAggregate (>= 2) (default: 2)'"
      ]
     },
     "execution_count": 33,
     "metadata": {},
     "output_type": "execute_result"
    }
   ],
   "source": [
    "lr.explainParam('aggregationDepth')"
   ]
  },
  {
   "cell_type": "code",
   "execution_count": 34,
   "metadata": {},
   "outputs": [],
   "source": [
    "lr_params = {param[0].name: [param[1], param[0].doc] for param in lr.extractParamMap().items()}\n",
    "lr_params_pd = pd.DataFrame.from_dict(lr_params, orient = 'index')\n",
    "lr_params_pd.to_csv('lr_params.csv')"
   ]
  },
  {
   "cell_type": "code",
   "execution_count": 35,
   "metadata": {},
   "outputs": [],
   "source": [
    "rf_params = {param[0].name: [param[1], param[0].doc] for param in rf.extractParamMap().items()}\n",
    "rf_params_pd = pd.DataFrame.from_dict(rf_params, orient = 'index')\n",
    "rf_params_pd.to_csv('rf_params.csv')"
   ]
  },
  {
   "cell_type": "code",
   "execution_count": 36,
   "metadata": {},
   "outputs": [],
   "source": [
    "gbt_params = {param[0].name: [param[1], param[0].doc] for param in gbt.extractParamMap().items()}\n",
    "gbt_params_pd = pd.DataFrame.from_dict(gbt_params, orient = 'index')\n",
    "gbt_params_pd.to_csv('gbt_params.csv')"
   ]
  },
  {
   "cell_type": "code",
   "execution_count": 29,
   "metadata": {},
   "outputs": [
    {
     "data": {
      "text/plain": [
       "\"aggregationDepth: suggested depth for treeAggregate (>= 2) (default: 2)\\nelasticNetParam: the ElasticNet mixing parameter, in range [0, 1]. For alpha = 0, the penalty is an L2 penalty. For alpha = 1, it is an L1 penalty (default: 0.0)\\nfamily: The name of family which is a description of the label distribution to be used in the model. Supported options: auto, binomial, multinomial. (default: auto)\\nfeaturesCol: features column name (current: scaled)\\nfitIntercept: whether to fit an intercept term (default: True)\\nlabelCol: label column name (current: label)\\nlowerBoundsOnCoefficients: The lower bounds on coefficients if fitting under bound constrained optimization. (undefined)\\nlowerBoundsOnIntercepts: The lower bounds on intercepts if fitting under bound constrained optimization. (undefined)\\nmaxIter: maximum number of iterations (>= 0) (default: 100)\\npredictionCol: prediction column name (default: prediction)\\nprobabilityCol: Column name for predicted class conditional probabilities. Note: Not all models output well-calibrated probability estimates! These probabilities should be treated as confidences, not precise probabilities (default: probability)\\nrawPredictionCol: raw prediction (a.k.a. confidence) column name (default: rawPrediction)\\nregParam: regularization parameter (>= 0) (default: 0.0)\\nstandardization: whether to standardize the training features before fitting the model (default: True)\\nthreshold: threshold in binary classification prediction, in range [0, 1] (default: 0.5)\\nthresholds: Thresholds in multi-class classification to adjust the probability of predicting each class. Array must have length equal to the number of classes, with values > 0 excepting that at most one value may be 0. The class with largest value p/t is predicted, where p is the original probability of that class and t is the class's threshold (undefined)\\ntol: the convergence tolerance for iterative algorithms (>= 0) (default: 1e-06)\\nupperBoundsOnCoefficients: The upper bounds on coefficients if fitting under bound constrained optimization. (undefined)\\nupperBoundsOnIntercepts: The upper bounds on intercepts if fitting under bound constrained optimization. (undefined)\\nweightCol: weight column name. If this is not set or empty, we treat all instance weights as 1.0 (undefined)\""
      ]
     },
     "execution_count": 29,
     "metadata": {},
     "output_type": "execute_result"
    }
   ],
   "source": [
    "lr.explainParams()"
   ]
  },
  {
   "cell_type": "code",
   "execution_count": 34,
   "metadata": {},
   "outputs": [
    {
     "data": {
      "text/plain": [
       "[Param(parent='LogisticRegression_931519c8772f', name='aggregationDepth', doc='suggested depth for treeAggregate (>= 2)'),\n",
       " Param(parent='LogisticRegression_931519c8772f', name='elasticNetParam', doc='the ElasticNet mixing parameter, in range [0, 1]. For alpha = 0, the penalty is an L2 penalty. For alpha = 1, it is an L1 penalty'),\n",
       " Param(parent='LogisticRegression_931519c8772f', name='family', doc='The name of family which is a description of the label distribution to be used in the model. Supported options: auto, binomial, multinomial.'),\n",
       " Param(parent='LogisticRegression_931519c8772f', name='featuresCol', doc='features column name'),\n",
       " Param(parent='LogisticRegression_931519c8772f', name='fitIntercept', doc='whether to fit an intercept term'),\n",
       " Param(parent='LogisticRegression_931519c8772f', name='labelCol', doc='label column name'),\n",
       " Param(parent='LogisticRegression_931519c8772f', name='lowerBoundsOnCoefficients', doc='The lower bounds on coefficients if fitting under bound constrained optimization.'),\n",
       " Param(parent='LogisticRegression_931519c8772f', name='lowerBoundsOnIntercepts', doc='The lower bounds on intercepts if fitting under bound constrained optimization.'),\n",
       " Param(parent='LogisticRegression_931519c8772f', name='maxIter', doc='maximum number of iterations (>= 0)'),\n",
       " Param(parent='LogisticRegression_931519c8772f', name='predictionCol', doc='prediction column name'),\n",
       " Param(parent='LogisticRegression_931519c8772f', name='probabilityCol', doc='Column name for predicted class conditional probabilities. Note: Not all models output well-calibrated probability estimates! These probabilities should be treated as confidences, not precise probabilities'),\n",
       " Param(parent='LogisticRegression_931519c8772f', name='rawPredictionCol', doc='raw prediction (a.k.a. confidence) column name'),\n",
       " Param(parent='LogisticRegression_931519c8772f', name='regParam', doc='regularization parameter (>= 0)'),\n",
       " Param(parent='LogisticRegression_931519c8772f', name='standardization', doc='whether to standardize the training features before fitting the model'),\n",
       " Param(parent='LogisticRegression_931519c8772f', name='threshold', doc='threshold in binary classification prediction, in range [0, 1]'),\n",
       " Param(parent='LogisticRegression_931519c8772f', name='thresholds', doc=\"Thresholds in multi-class classification to adjust the probability of predicting each class. Array must have length equal to the number of classes, with values > 0 excepting that at most one value may be 0. The class with largest value p/t is predicted, where p is the original probability of that class and t is the class's threshold\"),\n",
       " Param(parent='LogisticRegression_931519c8772f', name='tol', doc='the convergence tolerance for iterative algorithms (>= 0)'),\n",
       " Param(parent='LogisticRegression_931519c8772f', name='upperBoundsOnCoefficients', doc='The upper bounds on coefficients if fitting under bound constrained optimization.'),\n",
       " Param(parent='LogisticRegression_931519c8772f', name='upperBoundsOnIntercepts', doc='The upper bounds on intercepts if fitting under bound constrained optimization.'),\n",
       " Param(parent='LogisticRegression_931519c8772f', name='weightCol', doc='weight column name. If this is not set or empty, we treat all instance weights as 1.0')]"
      ]
     },
     "execution_count": 34,
     "metadata": {},
     "output_type": "execute_result"
    }
   ],
   "source": [
    "lr.params"
   ]
  },
  {
   "cell_type": "code",
   "execution_count": 35,
   "metadata": {},
   "outputs": [
    {
     "data": {
      "text/plain": [
       "[Param(parent='RandomForestClassifier_1b92aabd3ec3', name='cacheNodeIds', doc='If false, the algorithm will pass trees to executors to match instances with nodes. If true, the algorithm will cache node IDs for each instance. Caching can speed up training of deeper trees.'),\n",
       " Param(parent='RandomForestClassifier_1b92aabd3ec3', name='checkpointInterval', doc='set checkpoint interval (>= 1) or disable checkpoint (-1). E.g. 10 means that the cache will get checkpointed every 10 iterations. Note: this setting will be ignored if the checkpoint directory is not set in the SparkContext'),\n",
       " Param(parent='RandomForestClassifier_1b92aabd3ec3', name='featureSubsetStrategy', doc='The number of features to consider for splits at each tree node. Supported options: auto, all, onethird, sqrt, log2, (0.0-1.0], [1-n].'),\n",
       " Param(parent='RandomForestClassifier_1b92aabd3ec3', name='featuresCol', doc='features column name'),\n",
       " Param(parent='RandomForestClassifier_1b92aabd3ec3', name='impurity', doc='Criterion used for information gain calculation (case-insensitive). Supported options: entropy, gini'),\n",
       " Param(parent='RandomForestClassifier_1b92aabd3ec3', name='labelCol', doc='label column name'),\n",
       " Param(parent='RandomForestClassifier_1b92aabd3ec3', name='maxBins', doc='Max number of bins for discretizing continuous features.  Must be >=2 and >= number of categories for any categorical feature.'),\n",
       " Param(parent='RandomForestClassifier_1b92aabd3ec3', name='maxDepth', doc='Maximum depth of the tree. (>= 0) E.g., depth 0 means 1 leaf node; depth 1 means 1 internal node + 2 leaf nodes.'),\n",
       " Param(parent='RandomForestClassifier_1b92aabd3ec3', name='maxMemoryInMB', doc='Maximum memory in MB allocated to histogram aggregation.'),\n",
       " Param(parent='RandomForestClassifier_1b92aabd3ec3', name='minInfoGain', doc='Minimum information gain for a split to be considered at a tree node.'),\n",
       " Param(parent='RandomForestClassifier_1b92aabd3ec3', name='minInstancesPerNode', doc='Minimum number of instances each child must have after split.  If a split causes the left or right child to have fewer than minInstancesPerNode, the split will be discarded as invalid. Should be >= 1.'),\n",
       " Param(parent='RandomForestClassifier_1b92aabd3ec3', name='numTrees', doc='Number of trees to train (>= 1)'),\n",
       " Param(parent='RandomForestClassifier_1b92aabd3ec3', name='predictionCol', doc='prediction column name'),\n",
       " Param(parent='RandomForestClassifier_1b92aabd3ec3', name='probabilityCol', doc='Column name for predicted class conditional probabilities. Note: Not all models output well-calibrated probability estimates! These probabilities should be treated as confidences, not precise probabilities'),\n",
       " Param(parent='RandomForestClassifier_1b92aabd3ec3', name='rawPredictionCol', doc='raw prediction (a.k.a. confidence) column name'),\n",
       " Param(parent='RandomForestClassifier_1b92aabd3ec3', name='seed', doc='random seed'),\n",
       " Param(parent='RandomForestClassifier_1b92aabd3ec3', name='subsamplingRate', doc='Fraction of the training data used for learning each decision tree, in range (0, 1].'),\n",
       " Param(parent='RandomForestClassifier_1b92aabd3ec3', name='thresholds', doc=\"Thresholds in multi-class classification to adjust the probability of predicting each class. Array must have length equal to the number of classes, with values > 0 excepting that at most one value may be 0. The class with largest value p/t is predicted, where p is the original probability of that class and t is the class's threshold\")]"
      ]
     },
     "execution_count": 35,
     "metadata": {},
     "output_type": "execute_result"
    }
   ],
   "source": [
    "rf.params"
   ]
  },
  {
   "cell_type": "code",
   "execution_count": 36,
   "metadata": {},
   "outputs": [
    {
     "data": {
      "text/plain": [
       "\"cacheNodeIds: If false, the algorithm will pass trees to executors to match instances with nodes. If true, the algorithm will cache node IDs for each instance. Caching can speed up training of deeper trees. (default: False)\\ncheckpointInterval: set checkpoint interval (>= 1) or disable checkpoint (-1). E.g. 10 means that the cache will get checkpointed every 10 iterations. Note: this setting will be ignored if the checkpoint directory is not set in the SparkContext (default: 10)\\nfeatureSubsetStrategy: The number of features to consider for splits at each tree node. Supported options: auto, all, onethird, sqrt, log2, (0.0-1.0], [1-n]. (default: auto)\\nfeaturesCol: features column name (current: scaled)\\nimpurity: Criterion used for information gain calculation (case-insensitive). Supported options: entropy, gini (default: gini)\\nlabelCol: label column name (current: label)\\nmaxBins: Max number of bins for discretizing continuous features.  Must be >=2 and >= number of categories for any categorical feature. (default: 32)\\nmaxDepth: Maximum depth of the tree. (>= 0) E.g., depth 0 means 1 leaf node; depth 1 means 1 internal node + 2 leaf nodes. (default: 5)\\nmaxMemoryInMB: Maximum memory in MB allocated to histogram aggregation. (default: 256)\\nminInfoGain: Minimum information gain for a split to be considered at a tree node. (default: 0.0)\\nminInstancesPerNode: Minimum number of instances each child must have after split.  If a split causes the left or right child to have fewer than minInstancesPerNode, the split will be discarded as invalid. Should be >= 1. (default: 1)\\nnumTrees: Number of trees to train (>= 1) (default: 20)\\npredictionCol: prediction column name (default: prediction)\\nprobabilityCol: Column name for predicted class conditional probabilities. Note: Not all models output well-calibrated probability estimates! These probabilities should be treated as confidences, not precise probabilities (default: probability)\\nrawPredictionCol: raw prediction (a.k.a. confidence) column name (default: rawPrediction)\\nseed: random seed (default: 7039036465647749784)\\nsubsamplingRate: Fraction of the training data used for learning each decision tree, in range (0, 1]. (default: 1.0)\\nthresholds: Thresholds in multi-class classification to adjust the probability of predicting each class. Array must have length equal to the number of classes, with values > 0 excepting that at most one value may be 0. The class with largest value p/t is predicted, where p is the original probability of that class and t is the class's threshold (undefined)\""
      ]
     },
     "execution_count": 36,
     "metadata": {},
     "output_type": "execute_result"
    }
   ],
   "source": [
    "rf.explainParams()"
   ]
  },
  {
   "cell_type": "code",
   "execution_count": 42,
   "metadata": {},
   "outputs": [
    {
     "data": {
      "text/plain": [
       "{Param(parent='RandomForestClassifier_1b92aabd3ec3', name='cacheNodeIds', doc='If false, the algorithm will pass trees to executors to match instances with nodes. If true, the algorithm will cache node IDs for each instance. Caching can speed up training of deeper trees.'): False,\n",
       " Param(parent='RandomForestClassifier_1b92aabd3ec3', name='checkpointInterval', doc='set checkpoint interval (>= 1) or disable checkpoint (-1). E.g. 10 means that the cache will get checkpointed every 10 iterations. Note: this setting will be ignored if the checkpoint directory is not set in the SparkContext'): 10,\n",
       " Param(parent='RandomForestClassifier_1b92aabd3ec3', name='featureSubsetStrategy', doc='The number of features to consider for splits at each tree node. Supported options: auto, all, onethird, sqrt, log2, (0.0-1.0], [1-n].'): 'auto',\n",
       " Param(parent='RandomForestClassifier_1b92aabd3ec3', name='impurity', doc='Criterion used for information gain calculation (case-insensitive). Supported options: entropy, gini'): 'gini',\n",
       " Param(parent='RandomForestClassifier_1b92aabd3ec3', name='maxBins', doc='Max number of bins for discretizing continuous features.  Must be >=2 and >= number of categories for any categorical feature.'): 32,\n",
       " Param(parent='RandomForestClassifier_1b92aabd3ec3', name='maxDepth', doc='Maximum depth of the tree. (>= 0) E.g., depth 0 means 1 leaf node; depth 1 means 1 internal node + 2 leaf nodes.'): 5,\n",
       " Param(parent='RandomForestClassifier_1b92aabd3ec3', name='maxMemoryInMB', doc='Maximum memory in MB allocated to histogram aggregation.'): 256,\n",
       " Param(parent='RandomForestClassifier_1b92aabd3ec3', name='minInfoGain', doc='Minimum information gain for a split to be considered at a tree node.'): 0.0,\n",
       " Param(parent='RandomForestClassifier_1b92aabd3ec3', name='minInstancesPerNode', doc='Minimum number of instances each child must have after split.  If a split causes the left or right child to have fewer than minInstancesPerNode, the split will be discarded as invalid. Should be >= 1.'): 1,\n",
       " Param(parent='RandomForestClassifier_1b92aabd3ec3', name='numTrees', doc='Number of trees to train (>= 1)'): 20,\n",
       " Param(parent='RandomForestClassifier_1b92aabd3ec3', name='predictionCol', doc='prediction column name'): 'prediction',\n",
       " Param(parent='RandomForestClassifier_1b92aabd3ec3', name='probabilityCol', doc='Column name for predicted class conditional probabilities. Note: Not all models output well-calibrated probability estimates! These probabilities should be treated as confidences, not precise probabilities'): 'probability',\n",
       " Param(parent='RandomForestClassifier_1b92aabd3ec3', name='rawPredictionCol', doc='raw prediction (a.k.a. confidence) column name'): 'rawPrediction',\n",
       " Param(parent='RandomForestClassifier_1b92aabd3ec3', name='seed', doc='random seed'): 7039036465647749784,\n",
       " Param(parent='RandomForestClassifier_1b92aabd3ec3', name='subsamplingRate', doc='Fraction of the training data used for learning each decision tree, in range (0, 1].'): 1.0,\n",
       " Param(parent='RandomForestClassifier_1b92aabd3ec3', name='featuresCol', doc='features column name'): 'scaled',\n",
       " Param(parent='RandomForestClassifier_1b92aabd3ec3', name='labelCol', doc='label column name'): 'label'}"
      ]
     },
     "execution_count": 42,
     "metadata": {},
     "output_type": "execute_result"
    }
   ],
   "source": [
    "rf.extractParamMap(extra=None)"
   ]
  },
  {
   "cell_type": "code",
   "execution_count": 48,
   "metadata": {},
   "outputs": [
    {
     "data": {
      "text/plain": [
       "{Param(parent='GBTClassifier_3fb615c02901', name='cacheNodeIds', doc='If false, the algorithm will pass trees to executors to match instances with nodes. If true, the algorithm will cache node IDs for each instance. Caching can speed up training of deeper trees.'): False,\n",
       " Param(parent='GBTClassifier_3fb615c02901', name='checkpointInterval', doc='set checkpoint interval (>= 1) or disable checkpoint (-1). E.g. 10 means that the cache will get checkpointed every 10 iterations. Note: this setting will be ignored if the checkpoint directory is not set in the SparkContext'): 10,\n",
       " Param(parent='GBTClassifier_3fb615c02901', name='featureSubsetStrategy', doc='The number of features to consider for splits at each tree node. Supported options: auto, all, onethird, sqrt, log2, (0.0-1.0], [1-n].'): 'all',\n",
       " Param(parent='GBTClassifier_3fb615c02901', name='impurity', doc='Criterion used for information gain calculation (case-insensitive). Supported options: entropy, gini'): 'gini',\n",
       " Param(parent='GBTClassifier_3fb615c02901', name='lossType', doc='Loss function which GBT tries to minimize (case-insensitive). Supported options: logistic'): 'logistic',\n",
       " Param(parent='GBTClassifier_3fb615c02901', name='maxBins', doc='Max number of bins for discretizing continuous features.  Must be >=2 and >= number of categories for any categorical feature.'): 32,\n",
       " Param(parent='GBTClassifier_3fb615c02901', name='maxDepth', doc='Maximum depth of the tree. (>= 0) E.g., depth 0 means 1 leaf node; depth 1 means 1 internal node + 2 leaf nodes.'): 5,\n",
       " Param(parent='GBTClassifier_3fb615c02901', name='maxIter', doc='maximum number of iterations (>= 0)'): 20,\n",
       " Param(parent='GBTClassifier_3fb615c02901', name='maxMemoryInMB', doc='Maximum memory in MB allocated to histogram aggregation.'): 256,\n",
       " Param(parent='GBTClassifier_3fb615c02901', name='minInfoGain', doc='Minimum information gain for a split to be considered at a tree node.'): 0.0,\n",
       " Param(parent='GBTClassifier_3fb615c02901', name='minInstancesPerNode', doc='Minimum number of instances each child must have after split.  If a split causes the left or right child to have fewer than minInstancesPerNode, the split will be discarded as invalid. Should be >= 1.'): 1,\n",
       " Param(parent='GBTClassifier_3fb615c02901', name='predictionCol', doc='prediction column name'): 'prediction',\n",
       " Param(parent='GBTClassifier_3fb615c02901', name='probabilityCol', doc='Column name for predicted class conditional probabilities. Note: Not all models output well-calibrated probability estimates! These probabilities should be treated as confidences, not precise probabilities'): 'probability',\n",
       " Param(parent='GBTClassifier_3fb615c02901', name='rawPredictionCol', doc='raw prediction (a.k.a. confidence) column name'): 'rawPrediction',\n",
       " Param(parent='GBTClassifier_3fb615c02901', name='seed', doc='random seed'): 8825854163258368505,\n",
       " Param(parent='GBTClassifier_3fb615c02901', name='stepSize', doc='Step size (a.k.a. learning rate) in interval (0, 1] for shrinking the contribution of each estimator.'): 0.1,\n",
       " Param(parent='GBTClassifier_3fb615c02901', name='subsamplingRate', doc='Fraction of the training data used for learning each decision tree, in range (0, 1].'): 1.0,\n",
       " Param(parent='GBTClassifier_3fb615c02901', name='validationTol', doc='Threshold for stopping early when fit with validation is used.If the error rate on the validation input changes by less than the validationTol,then learning will stop early (before `maxIter`).This parameter is ignored when fit without validation is used.'): 0.01,\n",
       " Param(parent='GBTClassifier_3fb615c02901', name='featuresCol', doc='features column name'): 'scaled',\n",
       " Param(parent='GBTClassifier_3fb615c02901', name='labelCol', doc='label column name'): 'label'}"
      ]
     },
     "execution_count": 48,
     "metadata": {},
     "output_type": "execute_result"
    }
   ],
   "source": [
    "gbt_best_model.extractParamMap(extra=None)"
   ]
  }
 ],
 "metadata": {
  "kernelspec": {
   "display_name": "Python 3",
   "language": "python",
   "name": "python3"
  },
  "language_info": {
   "codemirror_mode": {
    "name": "ipython",
    "version": 3
   },
   "file_extension": ".py",
   "mimetype": "text/x-python",
   "name": "python",
   "nbconvert_exporter": "python",
   "pygments_lexer": "ipython3",
   "version": "3.6.3"
  }
 },
 "nbformat": 4,
 "nbformat_minor": 2
}
