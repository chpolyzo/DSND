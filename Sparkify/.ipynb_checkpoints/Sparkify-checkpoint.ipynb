{
 "cells": [
  {
   "cell_type": "markdown",
   "metadata": {},
   "source": [
    "# Sparkify Project Workspace\n",
    "This workspace contains a tiny subset (128MB) of the full dataset available (12GB). Feel free to use this workspace to build your project, or to explore a smaller subset with Spark before deploying your cluster on the cloud. Instructions for setting up your Spark cluster is included in the last lesson of the Extracurricular Spark Course content.\n",
    "\n",
    "You can follow the steps below to guide your data analysis and model building portion of this project."
   ]
  },
  {
   "cell_type": "markdown",
   "metadata": {},
   "source": [
    "# Load and Clean Dataset\n",
    "In this workspace, the mini-dataset file is `mini_sparkify_event_data.json`. Load and clean the dataset, checking for invalid or missing data - for example, records without userids or sessionids. "
   ]
  },
  {
   "cell_type": "code",
   "execution_count": 1,
   "metadata": {},
   "outputs": [],
   "source": [
    "# import libraries\n",
    "from pyspark.sql import SparkSession, Window\n",
    "import pyspark.sql.functions as F\n",
    "from pyspark.sql.types import IntegerType\n",
    "#from pyspark import SparkFiles\n",
    "#from pyspark.sql.functions import avg, col, concat, count, desc, \\\n",
    "#asc, explode, lit, min, max, split, stddev, udf, isnan, when, rank, \\\n",
    "#log, sqrt, cbrt, exp, sum\n",
    "\n",
    "from pyspark.ml import Pipeline\n",
    "from pyspark.ml.classification import LogisticRegression, \\\n",
    "LogisticRegressionModel, RandomForestClassifier, \\\n",
    "RandomForestClassificationModel, GBTClassifier, \\\n",
    "GBTClassificationModel\n",
    "from pyspark.ml.evaluation import MulticlassClassificationEvaluator\n",
    "from pyspark.mllib.evaluation import MulticlassMetrics\n",
    "\n",
    "from pyspark.ml.feature import CountVectorizer, IDF, Normalizer, \\\n",
    "PCA, RegexTokenizer, Tokenizer, StandardScaler, StopWordsRemover, \\\n",
    "StringIndexer, VectorAssembler, MaxAbsScaler\n",
    "from pyspark.ml.regression import LinearRegression\n",
    "from pyspark.ml.clustering import KMeans\n",
    "from pyspark.ml.tuning import CrossValidator, ParamGridBuilder\n",
    "\n",
    "import time\n",
    "import tqdm\n",
    "import re\n",
    "import numpy as np\n",
    "import scipy\n",
    "import pandas as pd\n",
    "import datetime\n",
    "import matplotlib.pyplot as plt\n",
    "from pandas.plotting import scatter_matrix\n",
    "import seaborn as sns\n",
    "import random\n",
    "%matplotlib inline\n",
    "random.seed(42)"
   ]
  },
  {
   "cell_type": "code",
   "execution_count": 2,
   "metadata": {},
   "outputs": [],
   "source": [
    "def create_spark_session():\n",
    "    '''\n",
    "    Create a spark session\n",
    "    INPUT\n",
    "    spark session builder\n",
    "    OUTPUT\n",
    "    spark object\n",
    "    '''\n",
    "    spark = SparkSession\\\n",
    "    .builder \\\n",
    "    .master(\"local\") \\\n",
    "    .appName(\"sparkify\") \\\n",
    "    .config(\"config option\", \"config value\")\\\n",
    "    .getOrCreate()\n",
    "    print('Spark parameters:')\n",
    "    for parameter in spark.sparkContext.getConf().getAll():\n",
    "        print(parameter)\n",
    "\n",
    "    return spark\n",
    "\n",
    "def load_dataset(spark, path = 'mini_sparkify_event_data.json'):\n",
    "    '''\n",
    "    Data loader\n",
    "    INPUT\n",
    "    spark object\n",
    "    data path\n",
    "    OUTPUT\n",
    "    spark dataframe\n",
    "    '''\n",
    "    print(f'\\nReadinng File from: {path}')\n",
    "    df = spark.read.json(path)\n",
    "    print(f'\\nColumns in dataset:')\n",
    "    for column in df.columns:\n",
    "        print(column)\n",
    "    print(f'\\nDatatypes in dataset: {df.persist()}')\n",
    "    print(f'\\nFirst DataFrame record: {df.head()}')\n",
    "\n",
    "    return df\n",
    "\n",
    "def clean_dataset(df):\n",
    "    '''\n",
    "    Data Cleaning\n",
    "    INPUT\n",
    "    Spark DataFrame\n",
    "    OUTPUT\n",
    "    Cleaned Spark DataFrame\n",
    "    '''\n",
    "    log_events = df.dropna(how = \"any\", subset = [\"firstName\"])\n",
    "    log_events = log_events.withColumn('song', F.when(log_events.song.isNull(), F.lit(\"no_song\")).otherwise(df.song))\n",
    "    log_events = log_events.withColumn('artist', F.when(log_events.artist.isNull(), F.lit(\"no_artist\")).otherwise(df.artist))\n",
    "    log_events = log_events.withColumn('length', F.when(log_events.length.isNull(), F.lit(0)).otherwise(df.length))\n",
    "\n",
    "    return log_events\n",
    "\n",
    "\n",
    "def down_selection(page):\n",
    "    '''\n",
    "    helper funcction to create churn double selection downgrade\n",
    "    INPUT\n",
    "    page column\n",
    "    OUTPUT\n",
    "    no output\n",
    "    '''\n",
    "    if page == 'Cancellation Confirmation' or page == 'Downgrade':\n",
    "        return 1\n",
    "    return 0\n",
    "\n",
    "def create_churn_col(log_events):\n",
    "    '''\n",
    "    create churn column in log_events Spark DataFrame\n",
    "    INPUT\n",
    "    log_events DataFrame\n",
    "    OUTPUT\n",
    "    log_events DataFrame with churn column\n",
    "    '''\n",
    "    flag_downgrade_event = F.udf(down_selection, IntegerType())\n",
    "\n",
    "    log_events = log_events.withColumn('churn',flag_downgrade_event(df['page']))\n",
    "\n",
    "    return log_events\n",
    "\n",
    "def create_phase_col(log_events):\n",
    "    '''\n",
    "    create phase column in log_events Spark DataFrame\n",
    "    INPUT\n",
    "    log_events DataFrame\n",
    "    OUTPUT\n",
    "    log_events DataFrame with phase column\n",
    "    '''\n",
    "\n",
    "    # for each user order actions between certain events\n",
    "    windowval = Window.partitionBy(\"userId\").orderBy(F.desc(\"ts\")).rangeBetween(Window.unboundedPreceding, 0)\n",
    "\n",
    "    log_events = log_events.withColumn(\"phase\", F.sum(\"churn\").over(windowval))\n",
    "\n",
    "    return log_events\n",
    "\n",
    "def get_device_col(log_events):\n",
    "    '''\n",
    "    create device column in log_events Spark DataFrame\n",
    "    INPUT\n",
    "    log_events DataFrame\n",
    "    OUTPUT\n",
    "    log_events DataFrame with device column\n",
    "    '''\n",
    "    get_device = F.udf(lambda x: x.split('(')[1].replace(\";\", \" \").split(\" \")[0])\n",
    "\n",
    "    log_events = log_events.withColumn(\"device\", get_device(log_events[\"userAgent\"]))\n",
    "    return log_events\n",
    "\n",
    "def create_num_df(log_events):\n",
    "    '''\n",
    "    aggregate numeric featuresin the log_events Spark DataFrame\n",
    "    INPUT\n",
    "    log_events DataFrame\n",
    "    OUTPUT\n",
    "    separate dataframe containing only numeric Features\n",
    "    '''\n",
    "    num_df = log_events.select(\"userId\",\"itemInSession\", \"phase\", \"length\")\\\n",
    "    .groupBy(\"userId\")\\\n",
    "    .agg(F.count(log_events.userId).cast('int').alias(\"count_user_logs\"),\\\n",
    "        F.max(log_events.itemInSession).cast('int').alias(\"max_session\"),\\\n",
    "        #F.avg(log_events.phase).cast('int').alias(\"avg_phase\"),\\\n",
    "        F.avg(log_events.length).cast('int').alias(\"avg_length\"))\n",
    "\n",
    "    return num_df\n",
    "\n",
    "def get_dummy_expression(column):\n",
    "    '''\n",
    "    create expressions to separate Categorical Features \n",
    "    INPUT\n",
    "    One column of the log_events DataFrame\n",
    "    OUTPUT\n",
    "    the expression to be used\n",
    "    '''\n",
    "    unique_values = log_events.select(column).distinct().rdd.flatMap(lambda element:element).collect()\n",
    "    expression = [F.when(F.col(column) == str(el), 1).otherwise(0).alias(column + \"_\" + str(el)) for el in unique_values]\n",
    "\n",
    "    return expression\n",
    "\n",
    "def create_cat_df(log_events, column):\n",
    "    expression = get_dummy_expression(column)\n",
    "    cat_df = log_events.select(log_events.userId, *expression)\n",
    "    cat_df = cat_df.groupBy(\"userId\").avg()\n",
    "   \n",
    "    for colm in cat_df.columns:\n",
    "        if colm != \"userId\":\n",
    "            cat_df = cat_df.withColumn(colm, F.col(colm).cast('int')).withColumnRenamed(colm, colm[4:-1])\n",
    "\n",
    "    return cat_df\n",
    "\n",
    "def generate_cats(log_events):\n",
    "\n",
    "    device_df = create_cat_df(log_events, 'device')\n",
    "    \n",
    "    get_location = F.udf(lambda location: location.split(\", \")[-1])\n",
    "    log_events = log_events.withColumn(\"location\", get_location(log_events['location']))\n",
    "    locations_df = create_cat_df(log_events, 'location')\n",
    "    \n",
    "    pages_df = create_cat_df(log_events, 'page')\n",
    "    pages_df = pages_df.drop('page_Cancellation_Confirmation', 'page_Downgrade')\n",
    "    \n",
    "    status_df = create_cat_df(log_events, 'status')\n",
    "    auth_df = create_cat_df(log_events, 'auth')\n",
    "    gender_df = create_cat_df(log_events, 'auth')\n",
    "    level_df = create_cat_df(log_events, 'level')\n",
    "    method_df = create_cat_df(log_events, 'method')\n",
    "    \n",
    "    return device_df, locations_df, pages_df, status_df, auth_df, gender_df, level_df, method_df\n",
    "\n",
    "def fix_cat_type(cat_df):\n",
    "    '''\n",
    "    fix data type in cat_df\n",
    "    \n",
    "    INPUT\n",
    "    cat_df Spark DataFrame\n",
    "    \n",
    "    OUTPUT\n",
    "    cat_df Spark DataFrame\n",
    "    '''\n",
    "    for col in cat_df.columns:\n",
    "        if col != \"userID\":\n",
    "            cat_df = cat_df.withColumn(col, F.col(col).cast(\"int\"))\n",
    "        \n",
    "    return cat_df\n",
    "\n",
    "\n",
    "def create_cat_dict(cat_df):\n",
    "    keywords = ['device', 'locations', 'page', 'status', 'auth', 'gender', 'level', 'method']\n",
    "    cat_dict = {}\n",
    "    for wrd in keywords:\n",
    "        if wrd not in ['page_Cancellation_Confirmation', 'page_Downgrade']:\n",
    "            col_names = [col for col in cat_df.columns if wrd in col] + ['userId']\n",
    "            cat_dict[wrd + '_df'] = col_names\n",
    "        \n",
    "    return cat_dict\n",
    " \n",
    "\n",
    "def data_for_modeling(log_events, num_df, pages_df, gender_df):\n",
    "    churn_func = F.udf(lambda x: 0 if x == 0 else 1)\n",
    "    churn_vals = log_events\\\n",
    "        .select('userId','churn')\\\n",
    "        .groupBy('userId').sum()\\\n",
    "        .withColumnRenamed(\"sum(churn)\", \"sum_churn\")\\\n",
    "        .withColumn('churn_bin', churn_func('sum_churn'))\n",
    "\n",
    "    data = num_df\\\n",
    "        .join(pages_df, [\"userID\"])\\\n",
    "        .join(gender_df, [\"userID\"])\\\n",
    "        .join(churn_vals.select('userID','churn_bin'), [\"userID\"])\n",
    "\n",
    "    # Rename churn column into label\n",
    "    data = data.withColumn('label', data['churn_bin'].cast('float')).drop('churn_bin') #important to have float type\n",
    "    data = fix_cat_type(data)\n",
    "    # Feature columns to be converted into vector\n",
    "    cols = data.drop('label').drop('userId').columns\n",
    "\n",
    "    # Train-test split\n",
    "    train, test = data.drop('userId').randomSplit([0.6, 0.4], seed = 42)\n",
    "    \n",
    "    return data, cols, train, test"
   ]
  },
  {
   "cell_type": "code",
   "execution_count": 3,
   "metadata": {},
   "outputs": [
    {
     "name": "stdout",
     "output_type": "stream",
     "text": [
      "Spark parameters:\n",
      "('spark.master', 'local')\n",
      "('spark.app.id', 'local-1631892012963')\n",
      "('spark.app.name', 'sparkify')\n",
      "('spark.driver.host', 'cb581e46f709')\n",
      "('spark.driver.port', '35215')\n",
      "('spark.rdd.compress', 'True')\n",
      "('spark.serializer.objectStreamReset', '100')\n",
      "('config option', 'config value')\n",
      "('spark.executor.id', 'driver')\n",
      "('spark.submit.deployMode', 'client')\n",
      "('spark.ui.showConsoleProgress', 'true')\n",
      "\n",
      " Creating spark session time: 0.31 minutes\n",
      "\n",
      "Readinng File from: mini_sparkify_event_data.json\n",
      "\n",
      "Columns in dataset:\n",
      "artist\n",
      "auth\n",
      "firstName\n",
      "gender\n",
      "itemInSession\n",
      "lastName\n",
      "length\n",
      "level\n",
      "location\n",
      "method\n",
      "page\n",
      "registration\n",
      "sessionId\n",
      "song\n",
      "status\n",
      "ts\n",
      "userAgent\n",
      "userId\n",
      "\n",
      "Datatypes in dataset: DataFrame[artist: string, auth: string, firstName: string, gender: string, itemInSession: bigint, lastName: string, length: double, level: string, location: string, method: string, page: string, registration: bigint, sessionId: bigint, song: string, status: bigint, ts: bigint, userAgent: string, userId: string]\n",
      "\n",
      "First DataFrame record: Row(artist='Martha Tilston', auth='Logged In', firstName='Colin', gender='M', itemInSession=50, lastName='Freeman', length=277.89016, level='paid', location='Bakersfield, CA', method='PUT', page='NextSong', registration=1538173362000, sessionId=29, song='Rockpools', status=200, ts=1538352117000, userAgent='Mozilla/5.0 (Windows NT 6.1; WOW64; rv:31.0) Gecko/20100101 Firefox/31.0', userId='30')\n",
      "\n",
      " Loading dataset time: 0.76 minutes\n",
      "\n",
      " Cleaning dataset time: 0.03 minutes\n",
      "\n",
      " Engineering Features time: 2.51 minutes\n",
      "\n",
      " Joining Features Together: 0.04 minutes\n"
     ]
    }
   ],
   "source": [
    "start = time.time()\n",
    "spark = create_spark_session()\n",
    "stop = time.time()\n",
    "print(f'\\n Creating spark session time: {round((stop - start)/60, 2)} minutes')\n",
    "\n",
    "start = time.time()\n",
    "df = load_dataset(spark)\n",
    "stop = time.time()\n",
    "print(f'\\n Loading dataset time: {round((stop - start)/60, 2)} minutes')\n",
    "\n",
    "start = time.time()\n",
    "log_events = clean_dataset(df)\n",
    "log_events = create_churn_col(log_events)\n",
    "log_events = create_phase_col(log_events)\n",
    "log_events = get_device_col(log_events)\n",
    "stop = time.time()\n",
    "print(f'\\n Cleaning dataset time: {round((stop - start)/60, 2)} minutes')\n",
    "\n",
    "start = time.time()\n",
    "num_df = create_num_df(log_events)\n",
    "device_df = create_cat_df(log_events, 'device')\n",
    "    \n",
    "get_location = F.udf(lambda location: location.split(\", \")[-1])\n",
    "log_events = log_events.withColumn(\"location\", get_location(log_events['location']))\n",
    "locations_df = create_cat_df(log_events, 'location')\n",
    "    \n",
    "pages_df = create_cat_df(log_events, 'page')\n",
    "pages_df = pages_df.drop('page_Cancellation_Confirmation', 'page_Downgrade')\n",
    "    \n",
    "status_df = create_cat_df(log_events, 'status')\n",
    "auth_df = create_cat_df(log_events, 'auth')\n",
    "gender_df = create_cat_df(log_events, 'auth')\n",
    "level_df = create_cat_df(log_events, 'level')\n",
    "method_df = create_cat_df(log_events, 'method')\n",
    "stop = time.time()\n",
    "print(f'\\n Engineering Features time: {round((stop - start)/60, 2)} minutes')\n",
    "\n",
    "start = time.time()\n",
    "data,\\\n",
    "cols,\\\n",
    "train,\\\n",
    "test = data_for_modeling(log_events, num_df, pages_df, gender_df)\n",
    "stop = time.time()\n",
    "print(f'\\n Joining Features Together: {round((stop - start)/60, 2)} minutes')"
   ]
  },
  {
   "cell_type": "markdown",
   "metadata": {},
   "source": [
    "Here's the related [class video](https://youtu.be/ZMSzkDG1BSQ) to create a Spark session. If we use getOrCreate(), if the session alreafy exists, we update it, if it does not exist, a new one will be created. "
   ]
  },
  {
   "cell_type": "code",
   "execution_count": 4,
   "metadata": {},
   "outputs": [],
   "source": [
    "def build_pipeline(classifier, paramGrid):\n",
    "    '''\n",
    "    Build a cross validation pipeline\n",
    "    \n",
    "    INPUT\n",
    "    classifier: untrained machine learning classifier\n",
    "    paramGrid: a grid of parameters to search over\n",
    "    \n",
    "    OUTPUT\n",
    "    crossval: K-fold cross validator performing model selection by splitting\n",
    "    the dataset into a set of non-overlapping randomly partitioned folds which\n",
    "    are used as separate training and test datasets\n",
    "    e.g., with k=3 folds, K-fold cross validation will generate 3 (training, test)\n",
    "    dataset pairs, each of which uses 2/3 of the data for training and 1/3 for testing\n",
    "    '''\n",
    "    # feature transformer that merges multiple columns into a vector column\n",
    "    assembler = VectorAssembler(inputCols = cols, outputCol = \"features\")\n",
    "    #mascaler = MaxAbsScaler(inputCol = \"features\", outputCol = \"scaled\")\n",
    "    #mmScaler = MinMaxScaler(inputCol = \"features\", outputCol = \"scaled\")\n",
    "    sdscaler = StandardScaler(inputCol = \"features\", outputCol = \"scaled\", withStd=True, withMean=True)\n",
    "    pipeline = Pipeline(stages = [assembler, sdscaler, classifier])\n",
    "\n",
    "    # Cross validation\n",
    "    crossval = CrossValidator(\n",
    "        estimator = pipeline,\n",
    "        estimatorParamMaps = paramGrid,\n",
    "        evaluator = MulticlassClassificationEvaluator(metricName='f1'),\n",
    "        numFolds = 3\n",
    "    )\n",
    "    return crossval"
   ]
  },
  {
   "cell_type": "code",
   "execution_count": 5,
   "metadata": {},
   "outputs": [],
   "source": [
    "def train_model(classifier, train, paramGrid):\n",
    "    '''\n",
    "    Train the machine learning model\n",
    "    \n",
    "    INPUT\n",
    "    classifier: untrained machine learning classifier\n",
    "    paramGrid: a grid of parameters to search over\n",
    "    train: Spark DataFrame to use for training\n",
    "    \n",
    "    OUTPUT\n",
    "    model: trained machine learning model\n",
    "    training_time: excecution time\n",
    "    '''\n",
    "    crossval = build_pipeline(classifier, paramGrid)\n",
    "    start = time.time()\n",
    "    \n",
    "    model = crossval.fit(train)\n",
    "    stop = time.time()\n",
    "    training_time = round((stop - start)/60, 2)\n",
    "    print(f'Training time: {training_time} minutes')\n",
    "    return model, training_time"
   ]
  },
  {
   "cell_type": "code",
   "execution_count": 6,
   "metadata": {},
   "outputs": [],
   "source": [
    "def evaluate_model(model, data):\n",
    "    \n",
    "    start = time.time()\n",
    "    # make prediction yhat\n",
    "    yhat = model.transform(data)\n",
    "    evaluator = MulticlassClassificationEvaluator(predictionCol=\"prediction\", labelCol=\"label\")\n",
    "    stop = time.time()\n",
    "    return yhat, evaluator"
   ]
  },
  {
   "cell_type": "code",
   "execution_count": 7,
   "metadata": {},
   "outputs": [],
   "source": [
    "def results_classifier(lr = False, rf = False):\n",
    "\n",
    "    if lr:\n",
    "        classifier = LogisticRegression(labelCol=\"label\", featuresCol=\"scaled\")\n",
    "    elif rf:\n",
    "        classifier = RandomForestClassifier(labelCol=\"label\", featuresCol=\"scaled\")\n",
    "    else:\n",
    "        classifier = GBTClassifier(labelCol=\"label\", featuresCol=\"scaled\")\n",
    "    paramGrid = ParamGridBuilder().build() # build parameters\n",
    "    model, training_time = train_model(classifier, train, paramGrid) # train model on train set\n",
    "    yhat_train, train_evaluator = evaluate_model(model, train) # make predictions from train set\n",
    "    yhat_test, test_evaluator = evaluate_model(model, test) # make predictions from test set\n",
    "    train_f1 = train_evaluator.evaluate(yhat_train, {train_evaluator.metricName: \"f1\"}) # calc f1 from train\n",
    "    test_f1 = train_evaluator.evaluate(yhat_test, {test_evaluator.metricName: \"f1\"}) # calc f1 from test\n",
    "    train_conf_matrix = yhat_train.groupby(\"label\").pivot(\"prediction\").count() # mk confusion matrix for train\n",
    "    test_conf_matrix = yhat_train.groupby(\"label\").pivot(\"prediction\").count() # mk confusion matrix for test\n",
    "    best_model = model.bestModel # save the best model of the pipeline\n",
    "    \n",
    "    return train_evaluator, test_evaluator, train_f1, test_f1, train_conf_matrix, test_conf_matrix, best_model"
   ]
  },
  {
   "cell_type": "code",
   "execution_count": 8,
   "metadata": {},
   "outputs": [],
   "source": [
    "def export_f1(rf_train_f1, rf_test_f1, lr_train_f1, lr_test_f1, gbt_train_f1, gbt_test_f1):\n",
    "    names = ['rf_train_f1', 'rf_test_f1', 'lr_train_f1', 'lr_test_f1', 'gbt_train_f1', 'gbt_test_f1']\n",
    "    vals = [rf_train_f1, rf_test_f1, lr_train_f1, lr_test_f1, gbt_train_f1, gbt_test_f1]\n",
    "    f1_dict = dict(list(zip(names, vals)))\n",
    "    f1_df = pd.DataFrame.from_dict(f1_dict, orient = 'index', columns = ['f1'])\n",
    "    \n",
    "    return f1_df, f1_df.to_csv('f1.csv', index=False)"
   ]
  },
  {
   "cell_type": "code",
   "execution_count": 41,
   "metadata": {},
   "outputs": [],
   "source": [
    "def save_models():\n",
    "        lr_best_model.stages[2].write().overwrite().save('logistic_stages')\n",
    "        rf_best_model.stages[2].write().overwrite().save('random_forest_stages')\n",
    "        gbt_best_model.stages[2].write().overwrite().save('gradient_boosted_tree_stages')"
   ]
  },
  {
   "cell_type": "code",
   "execution_count": 10,
   "metadata": {},
   "outputs": [],
   "source": [
    "def load_models():\n",
    "    lr_best_model = LogisticRegressionModel.load(\"logistic\")\n",
    "    rf_best_model = RandomForestClassificationModel.load(\"random_forest\")\n",
    "    gbt_best_model = GBTClassificationModel.load(\"gradient_boosted_tree\")\n",
    "    \n",
    "    return lr_best_model, rf_best_model, gbt_best_model"
   ]
  },
  {
   "cell_type": "code",
   "execution_count": 34,
   "metadata": {},
   "outputs": [],
   "source": [
    "def create_coef_df(cols, lr_best_model, rf_best_model, gbt_best_model):\n",
    "    \n",
    "    lr_feature_coef = lr_best_model.coefficients.values.tolist()\n",
    "    lr_dict = dict(list(zip(cols, lr_feature_coef)))\n",
    "    lr_df = pd.DataFrame.from_dict(lr_dict, orient = 'index', columns = ['coefficient'])\\\n",
    "    .sort_values('coefficient', ascending=False)\n",
    "    \n",
    "    rf_feature_coef = rf_best_model.stages[2].featureImportances.values.tolist()\n",
    "    rf_dict = dict(list(zip(cols, rf_feature_coef)))\n",
    "    rf_df = pd.DataFrame.from_dict(rf_dict, orient = 'index', columns = ['coefficient'])\\\n",
    "    .sort_values('coefficient', ascending=False)\n",
    "    \n",
    "    gbt_feature_coef = gbt_best_model.featureImportances.values.tolist()\n",
    "    gbt_dict = dict(list(zip(cols, gbt_feature_coef)))\n",
    "    gbt_df = pd.DataFrame.from_dict(gbt_dict, orient = 'index', columns = ['coefficient'])\\\n",
    "    .sort_values('coefficient', ascending=False)\n",
    "    \n",
    "    return lr_df, rf_df, gbt_df"
   ]
  },
  {
   "cell_type": "code",
   "execution_count": 118,
   "metadata": {},
   "outputs": [],
   "source": [
    "def plot_coef(df):\n",
    "\n",
    "    plt.figure(figsize=(30, 15))\n",
    "    sns.barplot(x = df.index, y = df.coefficient, data = df)\n",
    "    plt.title('Feature Importance', fontsize = 14)\n",
    "    plt.xlabel('Features', fontsize = 30)\n",
    "    plt.ylabel('Feature Importance', fontsize = 14)\n",
    "    plt.xticks(rotation = 60, fontsize = 20)\n",
    "    plt.yticks(fontsize = 14)\n",
    "    plt.show()"
   ]
  },
  {
   "cell_type": "code",
   "execution_count": 36,
   "metadata": {},
   "outputs": [],
   "source": [
    "def create_cat_df(log_events, keyword):\n",
    "    expression = get_dummy_expression(keyword)\n",
    "    cat_df = log_events.select(log_events.userId, *expression)\n",
    "    cat_df = rename_cols(cat_df)\n",
    "\n",
    "    cat_df = cat_df.groupBy(\"userId\").avg()\n",
    "    for colm in cat_df.columns:\n",
    "        if colm != \"userId\":\n",
    "            cat_df = cat_df.withColumn(colm, F.col(colm).cast('int')).withColumnRenamed(colm, colm[4:-1])\n",
    "\n",
    "\n",
    "    return cat_df"
   ]
  },
  {
   "cell_type": "code",
   "execution_count": 14,
   "metadata": {},
   "outputs": [
    {
     "name": "stdout",
     "output_type": "stream",
     "text": [
      "Training time: 6.22 minutes\n"
     ]
    }
   ],
   "source": [
    "rf_train_evaluator, \\\n",
    "rf_test_evaluator, \\\n",
    "rf_train_f1, \\\n",
    "rf_test_f1, \\\n",
    "rf_train_conf_matrix, \\\n",
    "rf_test_conf_matrix, \\\n",
    "rf_best_model = results_classifier(rf = True)"
   ]
  },
  {
   "cell_type": "code",
   "execution_count": 15,
   "metadata": {},
   "outputs": [
    {
     "name": "stdout",
     "output_type": "stream",
     "text": [
      "Training time: 8.96 minutes\n"
     ]
    }
   ],
   "source": [
    "lr_train_evaluator, \\\n",
    "lr_test_evaluator, \\\n",
    "lr_train_f1, \\\n",
    "lr_test_f1, \\\n",
    "lr_train_conf_matrix, \\\n",
    "lr_test_conf_matrix, \\\n",
    "lr_best_model = results_classifier(lr = True)"
   ]
  },
  {
   "cell_type": "code",
   "execution_count": 16,
   "metadata": {},
   "outputs": [
    {
     "name": "stdout",
     "output_type": "stream",
     "text": [
      "Training time: 23.67 minutes\n"
     ]
    }
   ],
   "source": [
    "gbt_train_evaluator, \\\n",
    "gbt_test_evaluator, \\\n",
    "gbt_train_f1, \\\n",
    "gbt_test_f1, \\\n",
    "gbt_train_conf_matrix, \\\n",
    "gbt_test_conf_matrix, \\\n",
    "gbt_best_model = results_classifier()"
   ]
  },
  {
   "cell_type": "code",
   "execution_count": 42,
   "metadata": {},
   "outputs": [],
   "source": [
    "lr_best_model, rf_best_model, gbt_best_model = load_models()"
   ]
  },
  {
   "cell_type": "code",
   "execution_count": 43,
   "metadata": {},
   "outputs": [],
   "source": [
    "f1_df, f1_csv = export_f1(rf_train_f1, rf_test_f1, lr_train_f1, lr_test_f1, gbt_train_f1, gbt_test_f1)"
   ]
  },
  {
   "cell_type": "code",
   "execution_count": 44,
   "metadata": {},
   "outputs": [],
   "source": [
    "lr_df, rf_df, gbt_df = create_coef_df(cols, lr_best_model, rf_best_model, gbt_best_model)"
   ]
  },
  {
   "cell_type": "code",
   "execution_count": 119,
   "metadata": {},
   "outputs": [
    {
     "data": {
      "image/png": "[encoded data removed]",
      "text/plain": [
       "<matplotlib.figure.Figure at 0x7fcc3a7dabe0>"
      ]
     },
     "metadata": {
      "needs_background": "light"
     },
     "output_type": "display_data"
    }
   ],
   "source": [
    "plot_coef(gbt_df)"
   ]
  },
  {
   "cell_type": "code",
   "execution_count": 120,
   "metadata": {},
   "outputs": [
    {
     "data": {
      "image/png": "[encoded data removed]",
      "text/plain": [
       "<matplotlib.figure.Figure at 0x7fcc3a7daa58>"
      ]
     },
     "metadata": {
      "needs_background": "light"
     },
     "output_type": "display_data"
    }
   ],
   "source": [
    "plot_coef(rf_df)"
   ]
  },
  {
   "cell_type": "code",
   "execution_count": 121,
   "metadata": {},
   "outputs": [
    {
     "data": {
      "image/png": "[encoded data removed]",
      "text/plain": [
       "<matplotlib.figure.Figure at 0x7fcc3a63e160>"
      ]
     },
     "metadata": {
      "needs_background": "light"
     },
     "output_type": "display_data"
    }
   ],
   "source": [
    "plot_coef(lr_df)"
   ]
  },
  {
   "cell_type": "markdown",
   "metadata": {},
   "source": [
    "# Exploratory Data Analysis\n",
    "When you're working with the full dataset, perform EDA by loading a small subset of the data and doing basic manipulations within Spark. In this workspace, you are already provided a small subset of data you can explore."
   ]
  },
  {
   "cell_type": "markdown",
   "metadata": {},
   "source": [
    "### Define Churn\n",
    "\n",
    "Once you've done some preliminary analysis, create a column `Churn` to use as the label for your model. I suggest using the `Cancellation Confirmation` events to define your churn, which happen for both paid and free users. As a bonus task, you can also look into the `Downgrade` events."
   ]
  },
  {
   "cell_type": "code",
   "execution_count": 48,
   "metadata": {},
   "outputs": [
    {
     "data": {
      "text/plain": [
       "2107"
      ]
     },
     "execution_count": 48,
     "metadata": {},
     "output_type": "execute_result"
    }
   ],
   "source": [
    "# check downgraded selection given \"Cancellation Confirmation\" and \"Downgrade\"\n",
    "log_events.filter((F.col(\"page\") == 'Cancellation Confirmation')| (F.col(\"page\") == 'Downgrade')).count()"
   ]
  },
  {
   "cell_type": "code",
   "execution_count": 49,
   "metadata": {},
   "outputs": [],
   "source": [
    "# create downgrade selection using \n",
    "def down_selection(page):\n",
    "    if page == 'Cancellation Confirmation' or page == 'Downgrade':\n",
    "        return 1\n",
    "    return 0"
   ]
  },
  {
   "cell_type": "code",
   "execution_count": 50,
   "metadata": {},
   "outputs": [],
   "source": [
    "def create_churn_col(log_events):\n",
    "    flag_downgrade_event = F.udf(down_selection, IntegerType())\n",
    "\n",
    "    log_events = log_events.withColumn('churn',flag_downgrade_event(df['page']))\n",
    "\n",
    "    return log_events"
   ]
  },
  {
   "cell_type": "code",
   "execution_count": 51,
   "metadata": {},
   "outputs": [],
   "source": [
    "log_events = create_churn_col(log_events)"
   ]
  },
  {
   "cell_type": "code",
   "execution_count": 52,
   "metadata": {},
   "outputs": [
    {
     "name": "stdout",
     "output_type": "stream",
     "text": [
      "+-----+-------------+-------------------+\n",
      "|churn|cnt_per_group|perc_of_count_total|\n",
      "+-----+-------------+-------------------+\n",
      "|    1|         2107| 0.7574940500586006|\n",
      "|    0|       276047|  99.24250594994139|\n",
      "+-----+-------------+-------------------+\n",
      "\n"
     ]
    }
   ],
   "source": [
    "log_events.groupBy(\"churn\") \\\n",
    "    .count() \\\n",
    "    .withColumnRenamed('count', 'cnt_per_group') \\\n",
    "    .withColumn('perc_of_count_total', (F.col('cnt_per_group') / log_events.count()) * 100 ) \\\n",
    "    .show()"
   ]
  },
  {
   "cell_type": "code",
   "execution_count": 53,
   "metadata": {},
   "outputs": [],
   "source": [
    "# create a churn user defined function to be used later on in visualizations\n",
    "churn_func = F.udf(lambda x: 'Churn' if x == 1 else 'Not Churn')"
   ]
  },
  {
   "cell_type": "markdown",
   "metadata": {},
   "source": [
    "### Explore Data\n",
    "Once you've defined churn, perform some exploratory data analysis to observe the behavior for users who stayed vs users who churned. You can start by exploring aggregates on these two groups of users, observing how much of a specific action they experienced per a certain time unit or number of songs played."
   ]
  },
  {
   "cell_type": "markdown",
   "metadata": {},
   "source": [
    "#### 1. \"userId\" feature"
   ]
  },
  {
   "cell_type": "code",
   "execution_count": 54,
   "metadata": {
    "scrolled": true
   },
   "outputs": [
    {
     "name": "stdout",
     "output_type": "stream",
     "text": [
      "+------+\n",
      "|userId|\n",
      "+------+\n",
      "|    99|\n",
      "|    98|\n",
      "|    97|\n",
      "|    96|\n",
      "|    95|\n",
      "+------+\n",
      "only showing top 5 rows\n",
      "\n",
      "+------+\n",
      "|userId|\n",
      "+------+\n",
      "|    10|\n",
      "|   100|\n",
      "|100001|\n",
      "|100002|\n",
      "|100003|\n",
      "+------+\n",
      "only showing top 5 rows\n",
      "\n"
     ]
    }
   ],
   "source": [
    "# check eventual \"userId\" typos\n",
    "log_events.select(\"userId\").dropDuplicates().sort(\"userId\", ascending = False).show(5)\n",
    "log_events.select(\"userId\").dropDuplicates().sort(\"userId\").show(5)"
   ]
  },
  {
   "cell_type": "code",
   "execution_count": 55,
   "metadata": {},
   "outputs": [
    {
     "name": "stdout",
     "output_type": "stream",
     "text": [
      "+-------+-----------------+\n",
      "|summary|           userId|\n",
      "+-------+-----------------+\n",
      "|  count|           278154|\n",
      "|   mean|59682.02278593872|\n",
      "| stddev|109091.9499991047|\n",
      "|    min|               10|\n",
      "|    max|               99|\n",
      "+-------+-----------------+\n",
      "\n"
     ]
    }
   ],
   "source": [
    "# describe data although you get info only for count\n",
    "log_events.describe(\"userId\").show()"
   ]
  },
  {
   "cell_type": "markdown",
   "metadata": {},
   "source": [
    "#### 2. \"auth\" feature"
   ]
  },
  {
   "cell_type": "code",
   "execution_count": 56,
   "metadata": {},
   "outputs": [
    {
     "name": "stdout",
     "output_type": "stream",
     "text": [
      "+---------+------+\n",
      "|     auth| count|\n",
      "+---------+------+\n",
      "|Cancelled|    52|\n",
      "|Logged In|278102|\n",
      "+---------+------+\n",
      "\n"
     ]
    }
   ],
   "source": [
    "log_events.select(\"auth\", \"churn\").groupBy(\"auth\").count().show()"
   ]
  },
  {
   "cell_type": "code",
   "execution_count": 57,
   "metadata": {},
   "outputs": [],
   "source": [
    "# get closer look to auth data\n",
    "auth_df = log_events.select(\"auth\", \"churn\").toPandas()"
   ]
  },
  {
   "cell_type": "code",
   "execution_count": 58,
   "metadata": {},
   "outputs": [
    {
     "data": {
      "image/png": "[encoded data removed]",
      "text/plain": [
       "<matplotlib.figure.Figure at 0x7fcc4da464a8>"
      ]
     },
     "metadata": {
      "needs_background": "light"
     },
     "output_type": "display_data"
    }
   ],
   "source": [
    "sns.countplot(x=\"auth\", hue=\"churn\", data=auth_df);"
   ]
  },
  {
   "cell_type": "markdown",
   "metadata": {},
   "source": [
    "Unfortunatelly we have dropped all \"guests\" in our dataframe. It looks like there is no more info to get from here."
   ]
  },
  {
   "cell_type": "markdown",
   "metadata": {},
   "source": [
    "#### 3. \"firstName\" feature"
   ]
  },
  {
   "cell_type": "code",
   "execution_count": 59,
   "metadata": {},
   "outputs": [
    {
     "name": "stdout",
     "output_type": "stream",
     "text": [
      "+---------+\n",
      "|firstName|\n",
      "+---------+\n",
      "|   Zyonna|\n",
      "|     Zoey|\n",
      "|      Zoe|\n",
      "|  William|\n",
      "|   Wesley|\n",
      "+---------+\n",
      "only showing top 5 rows\n",
      "\n",
      "+---------+\n",
      "|firstName|\n",
      "+---------+\n",
      "| Adelaida|\n",
      "|   Adrian|\n",
      "|  Adriana|\n",
      "|   Adriel|\n",
      "|  Ainsley|\n",
      "+---------+\n",
      "only showing top 5 rows\n",
      "\n"
     ]
    }
   ],
   "source": [
    "# get closer look to firstName\n",
    "log_events.select(\"firstName\").dropDuplicates().sort(\"firstName\", ascending = False).show(5)\n",
    "log_events.select(\"firstName\").dropDuplicates().sort(\"firstName\").show(5)"
   ]
  },
  {
   "cell_type": "markdown",
   "metadata": {},
   "source": [
    "For the moment I do not see something strange in this field"
   ]
  },
  {
   "cell_type": "markdown",
   "metadata": {},
   "source": [
    "#### 4. \"gender\" feature¶"
   ]
  },
  {
   "cell_type": "code",
   "execution_count": 60,
   "metadata": {},
   "outputs": [
    {
     "name": "stdout",
     "output_type": "stream",
     "text": [
      "+------+-------------+-------------------+\n",
      "|gender|cnt_per_group|perc_of_count_total|\n",
      "+------+-------------+-------------------+\n",
      "|     F|       154578| 55.572812183179096|\n",
      "|     M|       123576|   44.4271878168209|\n",
      "+------+-------------+-------------------+\n",
      "\n"
     ]
    }
   ],
   "source": [
    "# check gender feature\n",
    "log_events.groupBy(\"gender\") \\\n",
    "    .count() \\\n",
    "    .withColumnRenamed('count', 'cnt_per_group') \\\n",
    "    .withColumn('perc_of_count_total', (F.col('cnt_per_group') / log_events.count()) * 100 ) \\\n",
    "    .show()"
   ]
  },
  {
   "cell_type": "code",
   "execution_count": 61,
   "metadata": {},
   "outputs": [],
   "source": [
    "gender_df = log_events.select(\"gender\", \"churn\").toPandas()"
   ]
  },
  {
   "cell_type": "code",
   "execution_count": 62,
   "metadata": {},
   "outputs": [
    {
     "data": {
      "image/png": "[encoded data removed]",
      "text/plain": [
       "<matplotlib.figure.Figure at 0x7fcc4c157320>"
      ]
     },
     "metadata": {
      "needs_background": "light"
     },
     "output_type": "display_data"
    }
   ],
   "source": [
    "sns.countplot(x=\"gender\", hue=\"churn\", data=gender_df);"
   ]
  },
  {
   "cell_type": "markdown",
   "metadata": {},
   "source": [
    "It looks like there are slightly more females than males in our dataset"
   ]
  },
  {
   "cell_type": "markdown",
   "metadata": {},
   "source": [
    "#### 5. \"itemInSession\" feature"
   ]
  },
  {
   "cell_type": "code",
   "execution_count": 63,
   "metadata": {},
   "outputs": [
    {
     "name": "stdout",
     "output_type": "stream",
     "text": [
      "+------+-----+\n",
      "|userId|count|\n",
      "+------+-----+\n",
      "|   135|    6|\n",
      "|   156|    6|\n",
      "|   125|   11|\n",
      "|100011|   23|\n",
      "|300003|   35|\n",
      "+------+-----+\n",
      "only showing top 5 rows\n",
      "\n",
      "+------+-----+\n",
      "|userId|count|\n",
      "+------+-----+\n",
      "|    39| 9632|\n",
      "|    92| 7230|\n",
      "|   140| 6880|\n",
      "|300011| 5732|\n",
      "|   124| 4825|\n",
      "+------+-----+\n",
      "only showing top 5 rows\n",
      "\n"
     ]
    }
   ],
   "source": [
    "# check itemIn Session feature\n",
    "log_events.select(\"userId\", \"itemInSession\").groupBy(\"userId\").count().sort(\"count\").show(5)\n",
    "log_events.select(\"userId\", \"itemInSession\").groupBy(\"userId\").count().sort(\"count\", ascending = False).show(5)"
   ]
  },
  {
   "cell_type": "code",
   "execution_count": 64,
   "metadata": {},
   "outputs": [
    {
     "name": "stdout",
     "output_type": "stream",
     "text": [
      "+-------+------------------+\n",
      "|summary|     itemInSession|\n",
      "+-------+------------------+\n",
      "|  count|            278154|\n",
      "|   mean|114.89918174824018|\n",
      "| stddev|  129.851729399489|\n",
      "|    min|                 0|\n",
      "|    max|              1321|\n",
      "+-------+------------------+\n",
      "\n"
     ]
    }
   ],
   "source": [
    "# get statistics\n",
    "log_events.describe(\"itemInSession\").show()"
   ]
  },
  {
   "cell_type": "code",
   "execution_count": 65,
   "metadata": {},
   "outputs": [
    {
     "name": "stdout",
     "output_type": "stream",
     "text": [
      "+------+--------------------+\n",
      "|userId|count(itemInSession)|\n",
      "+------+--------------------+\n",
      "|    39|                9632|\n",
      "|    92|                7230|\n",
      "|   140|                6880|\n",
      "|300011|                5732|\n",
      "|   124|                4825|\n",
      "|300021|                4659|\n",
      "|300017|                4428|\n",
      "|    85|                4370|\n",
      "|    42|                4257|\n",
      "|200023|                3769|\n",
      "|     6|                3761|\n",
      "|    29|                3603|\n",
      "|    54|                3437|\n",
      "|   100|                3214|\n",
      "|     9|                3191|\n",
      "|   126|                3102|\n",
      "|300015|                3051|\n",
      "|    91|                3014|\n",
      "|    98|                2891|\n",
      "|    74|                2887|\n",
      "+------+--------------------+\n",
      "only showing top 20 rows\n",
      "\n"
     ]
    }
   ],
   "source": [
    "log_events.select(\"userId\",\"itemInSession\", \"churn\")\\\n",
    "    .groupBy(\"userId\")\\\n",
    "    .agg(F.count('itemInSession'))\\\n",
    "    .orderBy('count(itemInSession)', ascending = False)\\\n",
    "    .show()"
   ]
  },
  {
   "cell_type": "code",
   "execution_count": 66,
   "metadata": {},
   "outputs": [],
   "source": [
    "inSession_df = log_events.select(\"userId\",\"itemInSession\", \"churn\")\\\n",
    "    .groupBy(\"userId\")\\\n",
    "    .agg({'itemInSession': 'count', 'churn': 'sum'})\\\n",
    "    .orderBy('sum(churn)', ascending = False).toPandas()"
   ]
  },
  {
   "cell_type": "code",
   "execution_count": 67,
   "metadata": {},
   "outputs": [
    {
     "data": {
      "text/html": [
       "<div>\n",
       "<style scoped>\n",
       "    .dataframe tbody tr th:only-of-type {\n",
       "        vertical-align: middle;\n",
       "    }\n",
       "\n",
       "    .dataframe tbody tr th {\n",
       "        vertical-align: top;\n",
       "    }\n",
       "\n",
       "    .dataframe thead th {\n",
       "        text-align: right;\n",
       "    }\n",
       "</style>\n",
       "<table border=\"1\" class=\"dataframe\">\n",
       "  <thead>\n",
       "    <tr style=\"text-align: right;\">\n",
       "      <th></th>\n",
       "      <th>userId</th>\n",
       "      <th>count(itemInSession)</th>\n",
       "      <th>sum(churn)</th>\n",
       "    </tr>\n",
       "  </thead>\n",
       "  <tbody>\n",
       "    <tr>\n",
       "      <th>0</th>\n",
       "      <td>39</td>\n",
       "      <td>9632</td>\n",
       "      <td>73</td>\n",
       "    </tr>\n",
       "    <tr>\n",
       "      <th>1</th>\n",
       "      <td>92</td>\n",
       "      <td>7230</td>\n",
       "      <td>68</td>\n",
       "    </tr>\n",
       "    <tr>\n",
       "      <th>2</th>\n",
       "      <td>140</td>\n",
       "      <td>6880</td>\n",
       "      <td>50</td>\n",
       "    </tr>\n",
       "    <tr>\n",
       "      <th>3</th>\n",
       "      <td>200023</td>\n",
       "      <td>3769</td>\n",
       "      <td>44</td>\n",
       "    </tr>\n",
       "    <tr>\n",
       "      <th>4</th>\n",
       "      <td>85</td>\n",
       "      <td>4370</td>\n",
       "      <td>42</td>\n",
       "    </tr>\n",
       "  </tbody>\n",
       "</table>\n",
       "</div>"
      ],
      "text/plain": [
       "   userId  count(itemInSession)  sum(churn)\n",
       "0      39                  9632          73\n",
       "1      92                  7230          68\n",
       "2     140                  6880          50\n",
       "3  200023                  3769          44\n",
       "4      85                  4370          42"
      ]
     },
     "execution_count": 67,
     "metadata": {},
     "output_type": "execute_result"
    }
   ],
   "source": [
    "inSession_df.head()"
   ]
  },
  {
   "cell_type": "code",
   "execution_count": 68,
   "metadata": {},
   "outputs": [
    {
     "data": {
      "text/html": [
       "<div>\n",
       "<style scoped>\n",
       "    .dataframe tbody tr th:only-of-type {\n",
       "        vertical-align: middle;\n",
       "    }\n",
       "\n",
       "    .dataframe tbody tr th {\n",
       "        vertical-align: top;\n",
       "    }\n",
       "\n",
       "    .dataframe thead th {\n",
       "        text-align: right;\n",
       "    }\n",
       "</style>\n",
       "<table border=\"1\" class=\"dataframe\">\n",
       "  <thead>\n",
       "    <tr style=\"text-align: right;\">\n",
       "      <th></th>\n",
       "      <th>userId</th>\n",
       "      <th>count(itemInSession)</th>\n",
       "      <th>sum(churn)</th>\n",
       "    </tr>\n",
       "  </thead>\n",
       "  <tbody>\n",
       "    <tr>\n",
       "      <th>220</th>\n",
       "      <td>151</td>\n",
       "      <td>163</td>\n",
       "      <td>0</td>\n",
       "    </tr>\n",
       "    <tr>\n",
       "      <th>221</th>\n",
       "      <td>76</td>\n",
       "      <td>272</td>\n",
       "      <td>0</td>\n",
       "    </tr>\n",
       "    <tr>\n",
       "      <th>222</th>\n",
       "      <td>80</td>\n",
       "      <td>474</td>\n",
       "      <td>0</td>\n",
       "    </tr>\n",
       "    <tr>\n",
       "      <th>223</th>\n",
       "      <td>57</td>\n",
       "      <td>112</td>\n",
       "      <td>0</td>\n",
       "    </tr>\n",
       "    <tr>\n",
       "      <th>224</th>\n",
       "      <td>119</td>\n",
       "      <td>223</td>\n",
       "      <td>0</td>\n",
       "    </tr>\n",
       "  </tbody>\n",
       "</table>\n",
       "</div>"
      ],
      "text/plain": [
       "    userId  count(itemInSession)  sum(churn)\n",
       "220    151                   163           0\n",
       "221     76                   272           0\n",
       "222     80                   474           0\n",
       "223     57                   112           0\n",
       "224    119                   223           0"
      ]
     },
     "execution_count": 68,
     "metadata": {},
     "output_type": "execute_result"
    }
   ],
   "source": [
    "inSession_df.tail()"
   ]
  },
  {
   "cell_type": "code",
   "execution_count": 69,
   "metadata": {},
   "outputs": [
    {
     "data": {
      "image/png": "[encoded data removed]",
      "text/plain": [
       "<matplotlib.figure.Figure at 0x7fcc445fc208>"
      ]
     },
     "metadata": {
      "needs_background": "light"
     },
     "output_type": "display_data"
    }
   ],
   "source": [
    "plt.scatter(inSession_df[\"count(itemInSession)\"], inSession_df[\"sum(churn)\"])\n",
    "plt.xlabel(\"Count - Item In Session\")\n",
    "plt.ylabel(\"Sum - Churn\");"
   ]
  },
  {
   "cell_type": "code",
   "execution_count": 70,
   "metadata": {},
   "outputs": [
    {
     "name": "stdout",
     "output_type": "stream",
     "text": [
      "+-------+------------------+--------------------+------------------+\n",
      "|summary|            userId|count(itemInSession)|        sum(churn)|\n",
      "+-------+------------------+--------------------+------------------+\n",
      "|  count|               225|                 225|               225|\n",
      "|   mean|65391.013333333336|             1236.24| 9.364444444444445|\n",
      "| stddev|105396.47791907164|  1329.5317164325193|11.689455633855365|\n",
      "|    min|                10|                   6|                 0|\n",
      "|    max|                99|                9632|                73|\n",
      "+-------+------------------+--------------------+------------------+\n",
      "\n"
     ]
    }
   ],
   "source": [
    "log_events.select(\"userId\",\"itemInSession\", \"churn\")\\\n",
    "    .groupBy(\"userId\")\\\n",
    "    .agg({'itemInSession': 'count', 'churn': 'sum'})\\\n",
    "    .orderBy('sum(churn)', ascending = False).describe().show()"
   ]
  },
  {
   "cell_type": "markdown",
   "metadata": {},
   "source": [
    "#### 6. \"lastName\" feature"
   ]
  },
  {
   "cell_type": "code",
   "execution_count": 71,
   "metadata": {},
   "outputs": [
    {
     "name": "stdout",
     "output_type": "stream",
     "text": [
      "+---------+\n",
      "| lastName|\n",
      "+---------+\n",
      "|   Wright|\n",
      "|     Wood|\n",
      "|     Wolf|\n",
      "| Williams|\n",
      "|Whitehead|\n",
      "+---------+\n",
      "only showing top 5 rows\n",
      "\n",
      "+---------+\n",
      "| lastName|\n",
      "+---------+\n",
      "|    Adams|\n",
      "|  Aguilar|\n",
      "|Alexander|\n",
      "|    Allen|\n",
      "| Atkinson|\n",
      "+---------+\n",
      "only showing top 5 rows\n",
      "\n"
     ]
    }
   ],
   "source": [
    "# check possible typos in lastname\n",
    "log_events.select(\"lastName\").dropDuplicates().sort(\"lastName\", ascending = False).show(5)\n",
    "log_events.select(\"lastName\").dropDuplicates().sort(\"lastName\").show(5)"
   ]
  },
  {
   "cell_type": "markdown",
   "metadata": {},
   "source": [
    "All gut here"
   ]
  },
  {
   "cell_type": "markdown",
   "metadata": {},
   "source": [
    "#### 7. \"length\" feature"
   ]
  },
  {
   "cell_type": "code",
   "execution_count": 72,
   "metadata": {},
   "outputs": [
    {
     "name": "stdout",
     "output_type": "stream",
     "text": [
      "+-------+------------------+\n",
      "|summary|            length|\n",
      "+-------+------------------+\n",
      "|  count|            278154|\n",
      "|   mean|204.29554184589276|\n",
      "| stddev|131.27340104312333|\n",
      "|    min|               0.0|\n",
      "|    max|        3024.66567|\n",
      "+-------+------------------+\n",
      "\n"
     ]
    }
   ],
   "source": [
    "# get statistics\n",
    "log_events.describe(\"length\").show()"
   ]
  },
  {
   "cell_type": "code",
   "execution_count": 73,
   "metadata": {},
   "outputs": [],
   "source": [
    "# save to pandas dataframe to get some visualizations\n",
    "length_df = log_events.select(\"userId\", \"length\").toPandas()"
   ]
  },
  {
   "cell_type": "code",
   "execution_count": 74,
   "metadata": {},
   "outputs": [
    {
     "name": "stdout",
     "output_type": "stream",
     "text": [
      "            length\n",
      "userId            \n",
      "156     115.278140\n",
      "100011  123.552152\n",
      "100006  133.065706\n",
      "100024  143.348113\n",
      "68      147.493604\n",
      "            length\n",
      "userId            \n",
      "63      216.372364\n",
      "100014  218.398297\n",
      "300024  222.535727\n",
      "100002  227.339074\n",
      "135     266.074102\n"
     ]
    }
   ],
   "source": [
    "print(length_df.groupby(\"userId\").mean().sort_values(by = \"length\").head())\n",
    "print(length_df.groupby(\"userId\").mean().sort_values(by = \"length\").tail())"
   ]
  },
  {
   "cell_type": "code",
   "execution_count": 75,
   "metadata": {},
   "outputs": [
    {
     "data": {
      "text/html": [
       "<div>\n",
       "<style scoped>\n",
       "    .dataframe tbody tr th:only-of-type {\n",
       "        vertical-align: middle;\n",
       "    }\n",
       "\n",
       "    .dataframe tbody tr th {\n",
       "        vertical-align: top;\n",
       "    }\n",
       "\n",
       "    .dataframe thead th {\n",
       "        text-align: right;\n",
       "    }\n",
       "</style>\n",
       "<table border=\"1\" class=\"dataframe\">\n",
       "  <thead>\n",
       "    <tr style=\"text-align: right;\">\n",
       "      <th></th>\n",
       "      <th>userId</th>\n",
       "      <th>length</th>\n",
       "    </tr>\n",
       "  </thead>\n",
       "  <tbody>\n",
       "    <tr>\n",
       "      <th>706</th>\n",
       "      <td>126</td>\n",
       "      <td>3024.66567</td>\n",
       "    </tr>\n",
       "    <tr>\n",
       "      <th>24252</th>\n",
       "      <td>39</td>\n",
       "      <td>3024.66567</td>\n",
       "    </tr>\n",
       "    <tr>\n",
       "      <th>25408</th>\n",
       "      <td>101</td>\n",
       "      <td>3024.66567</td>\n",
       "    </tr>\n",
       "    <tr>\n",
       "      <th>92343</th>\n",
       "      <td>85</td>\n",
       "      <td>3024.66567</td>\n",
       "    </tr>\n",
       "    <tr>\n",
       "      <th>117632</th>\n",
       "      <td>88</td>\n",
       "      <td>3024.66567</td>\n",
       "    </tr>\n",
       "    <tr>\n",
       "      <th>254586</th>\n",
       "      <td>300009</td>\n",
       "      <td>3024.66567</td>\n",
       "    </tr>\n",
       "    <tr>\n",
       "      <th>261864</th>\n",
       "      <td>300018</td>\n",
       "      <td>3024.66567</td>\n",
       "    </tr>\n",
       "    <tr>\n",
       "      <th>277019</th>\n",
       "      <td>300023</td>\n",
       "      <td>3024.66567</td>\n",
       "    </tr>\n",
       "  </tbody>\n",
       "</table>\n",
       "</div>"
      ],
      "text/plain": [
       "        userId      length\n",
       "706        126  3024.66567\n",
       "24252       39  3024.66567\n",
       "25408      101  3024.66567\n",
       "92343       85  3024.66567\n",
       "117632      88  3024.66567\n",
       "254586  300009  3024.66567\n",
       "261864  300018  3024.66567\n",
       "277019  300023  3024.66567"
      ]
     },
     "execution_count": 75,
     "metadata": {},
     "output_type": "execute_result"
    }
   ],
   "source": [
    "# check where we have maximum values\n",
    "length_df.loc[length_df.length == length_df.length.max()]"
   ]
  },
  {
   "cell_type": "code",
   "execution_count": 76,
   "metadata": {},
   "outputs": [
    {
     "data": {
      "image/png": "[encoded data removed]",
      "text/plain": [
       "<matplotlib.figure.Figure at 0x7fcc38b02978>"
      ]
     },
     "metadata": {
      "needs_background": "light"
     },
     "output_type": "display_data"
    }
   ],
   "source": [
    "# check boxplot for outliers\n",
    "length_df.length.plot(kind = \"box\");"
   ]
  },
  {
   "cell_type": "code",
   "execution_count": 77,
   "metadata": {},
   "outputs": [
    {
     "data": {
      "text/plain": [
       "0.25    157.41342\n",
       "0.50    220.13342\n",
       "0.75    265.58649\n",
       "0.90    327.96689\n",
       "0.95    385.59302\n",
       "0.99    560.22159\n",
       "Name: length, dtype: float64"
      ]
     },
     "execution_count": 77,
     "metadata": {},
     "output_type": "execute_result"
    }
   ],
   "source": [
    "# check quantiles\n",
    "length_df.length.quantile([.25, .5, .75, .90, .95, .99])"
   ]
  },
  {
   "cell_type": "code",
   "execution_count": 78,
   "metadata": {},
   "outputs": [
    {
     "data": {
      "text/plain": [
       "278"
      ]
     },
     "execution_count": 78,
     "metadata": {},
     "output_type": "execute_result"
    }
   ],
   "source": [
    "# check in the very last quantile how many values we have\n",
    "len(length_df.loc[length_df.length > length_df.length.quantile( .999)])"
   ]
  },
  {
   "cell_type": "code",
   "execution_count": 79,
   "metadata": {},
   "outputs": [
    {
     "data": {
      "image/png": "[encoded data removed]",
      "text/plain": [
       "<matplotlib.figure.Figure at 0x7fcc44581748>"
      ]
     },
     "metadata": {
      "needs_background": "light"
     },
     "output_type": "display_data"
    }
   ],
   "source": [
    "# plot valid values\n",
    "length_df.loc[length_df.length < length_df.length.quantile( .999)].plot(kind = \"box\");"
   ]
  },
  {
   "cell_type": "code",
   "execution_count": 80,
   "metadata": {},
   "outputs": [
    {
     "data": {
      "text/html": [
       "<div>\n",
       "<style scoped>\n",
       "    .dataframe tbody tr th:only-of-type {\n",
       "        vertical-align: middle;\n",
       "    }\n",
       "\n",
       "    .dataframe tbody tr th {\n",
       "        vertical-align: top;\n",
       "    }\n",
       "\n",
       "    .dataframe thead th {\n",
       "        text-align: right;\n",
       "    }\n",
       "</style>\n",
       "<table border=\"1\" class=\"dataframe\">\n",
       "  <thead>\n",
       "    <tr style=\"text-align: right;\">\n",
       "      <th></th>\n",
       "      <th>userId</th>\n",
       "      <th>length</th>\n",
       "    </tr>\n",
       "  </thead>\n",
       "  <tbody>\n",
       "    <tr>\n",
       "      <th>142138</th>\n",
       "      <td>60</td>\n",
       "      <td>1001.74322</td>\n",
       "    </tr>\n",
       "    <tr>\n",
       "      <th>201665</th>\n",
       "      <td>111</td>\n",
       "      <td>1001.74322</td>\n",
       "    </tr>\n",
       "    <tr>\n",
       "      <th>269081</th>\n",
       "      <td>300021</td>\n",
       "      <td>1001.74322</td>\n",
       "    </tr>\n",
       "  </tbody>\n",
       "</table>\n",
       "</div>"
      ],
      "text/plain": [
       "        userId      length\n",
       "142138      60  1001.74322\n",
       "201665     111  1001.74322\n",
       "269081  300021  1001.74322"
      ]
     },
     "execution_count": 80,
     "metadata": {},
     "output_type": "execute_result"
    }
   ],
   "source": [
    "# check outliers threshold\n",
    "length_df.loc[length_df.length == length_df.length.quantile( .999)]"
   ]
  },
  {
   "cell_type": "code",
   "execution_count": 81,
   "metadata": {},
   "outputs": [
    {
     "data": {
      "text/plain": [
       "282"
      ]
     },
     "execution_count": 81,
     "metadata": {},
     "output_type": "execute_result"
    }
   ],
   "source": [
    "# check reccords to drop\n",
    "log_events.filter(log_events[\"length\"] > 1000).count()"
   ]
  },
  {
   "cell_type": "code",
   "execution_count": 82,
   "metadata": {},
   "outputs": [],
   "source": [
    "# keep records with session length beloow 1000 minutes\n",
    "log_events = log_events.filter(log_events[\"length\"] < 1000)"
   ]
  },
  {
   "cell_type": "markdown",
   "metadata": {},
   "source": [
    "#### 8. \"level\" feature"
   ]
  },
  {
   "cell_type": "code",
   "execution_count": 83,
   "metadata": {},
   "outputs": [
    {
     "name": "stdout",
     "output_type": "stream",
     "text": [
      "+-----+------+\n",
      "|level| count|\n",
      "+-----+------+\n",
      "| free| 55666|\n",
      "| paid|222206|\n",
      "+-----+------+\n",
      "\n"
     ]
    }
   ],
   "source": [
    "log_events.groupBy(\"level\").count().show()"
   ]
  },
  {
   "cell_type": "code",
   "execution_count": 84,
   "metadata": {},
   "outputs": [
    {
     "name": "stdout",
     "output_type": "stream",
     "text": [
      "+-----+-------------+-------------------+\n",
      "|level|cnt_per_group|perc_of_count_total|\n",
      "+-----+-------------+-------------------+\n",
      "| free|        55666|  20.03296481833362|\n",
      "| paid|       222206|  79.96703518166638|\n",
      "+-----+-------------+-------------------+\n",
      "\n"
     ]
    }
   ],
   "source": [
    "log_events.groupBy(\"level\") \\\n",
    "    .count() \\\n",
    "    .withColumnRenamed('count', 'cnt_per_group') \\\n",
    "    .withColumn('perc_of_count_total', (F.col('cnt_per_group') / log_events.count()) * 100 ) \\\n",
    "    .show()"
   ]
  },
  {
   "cell_type": "markdown",
   "metadata": {},
   "source": [
    "20 % are free consumers and 80 % paid. It doest't seem very realistic but it is fictional data!"
   ]
  },
  {
   "cell_type": "markdown",
   "metadata": {},
   "source": [
    "#### 9. \"location\" feature"
   ]
  },
  {
   "cell_type": "code",
   "execution_count": 85,
   "metadata": {},
   "outputs": [],
   "source": [
    "loc_df = log_events.groupBy(\"location\").count().orderBy(\"count\", ascending = False).toPandas()"
   ]
  },
  {
   "cell_type": "code",
   "execution_count": 86,
   "metadata": {},
   "outputs": [
    {
     "data": {
      "image/png": "[encoded data removed]",
      "text/plain": [
       "<matplotlib.figure.Figure at 0x7fcc444a68d0>"
      ]
     },
     "metadata": {
      "needs_background": "light"
     },
     "output_type": "display_data"
    }
   ],
   "source": [
    "loc_df.set_index('location').head(20).plot(kind = 'bar');"
   ]
  },
  {
   "cell_type": "markdown",
   "metadata": {},
   "source": [
    "#### 10. \"method\" feature"
   ]
  },
  {
   "cell_type": "code",
   "execution_count": 87,
   "metadata": {},
   "outputs": [
    {
     "data": {
      "text/plain": [
       "['PUT', 'GET']"
      ]
     },
     "execution_count": 87,
     "metadata": {},
     "output_type": "execute_result"
    }
   ],
   "source": [
    "# get unique values for \"method\" feature\n",
    "[row['method'] for row in log_events.select('method').dropDuplicates().collect()]"
   ]
  },
  {
   "cell_type": "markdown",
   "metadata": {},
   "source": [
    "It looks like \"method\" feature can be either get or put"
   ]
  },
  {
   "cell_type": "markdown",
   "metadata": {},
   "source": [
    "#### 11. \"page\" feature"
   ]
  },
  {
   "cell_type": "code",
   "execution_count": 88,
   "metadata": {},
   "outputs": [
    {
     "data": {
      "text/plain": [
       "['Cancel',\n",
       " 'Submit Downgrade',\n",
       " 'Thumbs Down',\n",
       " 'Home',\n",
       " 'Downgrade',\n",
       " 'Roll Advert',\n",
       " 'Logout',\n",
       " 'Save Settings',\n",
       " 'Cancellation Confirmation',\n",
       " 'About',\n",
       " 'Settings',\n",
       " 'Add to Playlist',\n",
       " 'Add Friend',\n",
       " 'NextSong',\n",
       " 'Thumbs Up',\n",
       " 'Help',\n",
       " 'Upgrade',\n",
       " 'Error',\n",
       " 'Submit Upgrade']"
      ]
     },
     "execution_count": 88,
     "metadata": {},
     "output_type": "execute_result"
    }
   ],
   "source": [
    "# get unique values for \"page\" feature\n",
    "[row['page'] for row in log_events.select('page').dropDuplicates().collect()]"
   ]
  },
  {
   "cell_type": "code",
   "execution_count": 89,
   "metadata": {},
   "outputs": [
    {
     "data": {
      "image/png": "[encoded data removed]",
      "text/plain": [
       "<matplotlib.figure.Figure at 0x7fcc44661cc0>"
      ]
     },
     "metadata": {
      "needs_background": "light"
     },
     "output_type": "display_data"
    }
   ],
   "source": [
    "# count page events \n",
    "page_df = log_events.groupBy(['userId']).pivot('page').count().fillna(0).toPandas()\n",
    "\n",
    "# Visualize churn patterns by page event\n",
    "fig = plt.figure(figsize=(12, 12))\n",
    "page_cols = [row['page'] for row in log_events.select('page').dropDuplicates().collect()]\n",
    "\n",
    "for i, col in enumerate(page_cols):\n",
    "    ax = fig.add_subplot(4,5,i+1)\n",
    "    page_df.boxplot(col, ax=ax, grid=False,  by='Cancellation Confirmation', showfliers=False);\n",
    "\n",
    "fig.suptitle('')\n",
    "plt.tight_layout()"
   ]
  },
  {
   "cell_type": "markdown",
   "metadata": {},
   "source": [
    "Here we have all page features we can exlore"
   ]
  },
  {
   "cell_type": "markdown",
   "metadata": {},
   "source": [
    "#### 12. \"registration\" feature"
   ]
  },
  {
   "cell_type": "code",
   "execution_count": 90,
   "metadata": {},
   "outputs": [
    {
     "data": {
      "text/plain": [
       "225"
      ]
     },
     "execution_count": 90,
     "metadata": {},
     "output_type": "execute_result"
    }
   ],
   "source": [
    "# get unique values for \"page\" feature\n",
    "len([row['registration'] for row in log_events.select('registration').dropDuplicates().collect()])"
   ]
  },
  {
   "cell_type": "code",
   "execution_count": 91,
   "metadata": {},
   "outputs": [
    {
     "data": {
      "text/plain": [
       "1529027541000"
      ]
     },
     "execution_count": 91,
     "metadata": {},
     "output_type": "execute_result"
    }
   ],
   "source": [
    "[row['registration'] for row in log_events.select('registration').dropDuplicates().collect()][0]"
   ]
  },
  {
   "cell_type": "markdown",
   "metadata": {},
   "source": [
    "It looks like a 13 digit length id linked with some sort of id"
   ]
  },
  {
   "cell_type": "markdown",
   "metadata": {},
   "source": [
    "#### 13. \"sessionId\" feature"
   ]
  },
  {
   "cell_type": "code",
   "execution_count": 92,
   "metadata": {},
   "outputs": [
    {
     "data": {
      "text/plain": [
       "[29,\n",
       " 26,\n",
       " 474,\n",
       " 964,\n",
       " 1697,\n",
       " 1806,\n",
       " 2040,\n",
       " 1950,\n",
       " 2214,\n",
       " 418,\n",
       " 65,\n",
       " 541,\n",
       " 558,\n",
       " 1010,\n",
       " 1224,\n",
       " 1277,\n",
       " 1258,\n",
       " 1360,\n",
       " 1840,\n",
       " 2173,\n",
       " 191,\n",
       " 222,\n",
       " 293,\n",
       " 270,\n",
       " 730,\n",
       " 938,\n",
       " 1127,\n",
       " 1371,\n",
       " 1409,\n",
       " 1551,\n",
       " 1642,\n",
       " 1145,\n",
       " 2184,\n",
       " 278,\n",
       " 442,\n",
       " 367,\n",
       " 705,\n",
       " 720,\n",
       " 1202,\n",
       " 1175,\n",
       " 243,\n",
       " 1532,\n",
       " 1690,\n",
       " 1919,\n",
       " 1936,\n",
       " 2030,\n",
       " 296,\n",
       " 54,\n",
       " 926,\n",
       " 1280,\n",
       " 1217,\n",
       " 1447,\n",
       " 1537,\n",
       " 1671,\n",
       " 1782,\n",
       " 965,\n",
       " 19,\n",
       " 277,\n",
       " 287,\n",
       " 348,\n",
       " 415,\n",
       " 847,\n",
       " 1077,\n",
       " 1336,\n",
       " 1594,\n",
       " 1958,\n",
       " 502,\n",
       " 1055,\n",
       " 1480,\n",
       " 656,\n",
       " 1921,\n",
       " 2088,\n",
       " 2244,\n",
       " 112,\n",
       " 299,\n",
       " 113,\n",
       " 385,\n",
       " 167,\n",
       " 831,\n",
       " 736,\n",
       " 1042,\n",
       " 1738,\n",
       " 1882,\n",
       " 1599,\n",
       " 2175,\n",
       " 2403,\n",
       " 155,\n",
       " 241,\n",
       " 237,\n",
       " 347,\n",
       " 602,\n",
       " 564,\n",
       " 588,\n",
       " 857,\n",
       " 1547,\n",
       " 1636,\n",
       " 1740,\n",
       " 1497,\n",
       " 1983,\n",
       " 198,\n",
       " 330,\n",
       " 530,\n",
       " 414,\n",
       " 724,\n",
       " 1241,\n",
       " 1211,\n",
       " 1640,\n",
       " 1526,\n",
       " 1905,\n",
       " 1338,\n",
       " 1711,\n",
       " 2355,\n",
       " 22,\n",
       " 486,\n",
       " 427,\n",
       " 487,\n",
       " 823,\n",
       " 1050,\n",
       " 932,\n",
       " 1152,\n",
       " 1157,\n",
       " 1059,\n",
       " 1403,\n",
       " 1374,\n",
       " 1428,\n",
       " 1972,\n",
       " 2282,\n",
       " 130,\n",
       " 196,\n",
       " 677,\n",
       " 1353,\n",
       " 1505,\n",
       " 1760,\n",
       " 2007,\n",
       " 1979,\n",
       " 2241,\n",
       " 1873,\n",
       " 77,\n",
       " 7,\n",
       " 532,\n",
       " 635,\n",
       " 858,\n",
       " 1041,\n",
       " 1427,\n",
       " 1529,\n",
       " 1687,\n",
       " 1540,\n",
       " 1887,\n",
       " 34,\n",
       " 184,\n",
       " 463,\n",
       " 551,\n",
       " 830,\n",
       " 939,\n",
       " 853,\n",
       " 1200,\n",
       " 1319,\n",
       " 1329,\n",
       " 1471,\n",
       " 1542,\n",
       " 2033,\n",
       " 399,\n",
       " 1052,\n",
       " 1199,\n",
       " 693,\n",
       " 1483,\n",
       " 1458,\n",
       " 1445,\n",
       " 2069,\n",
       " 2300,\n",
       " 188,\n",
       " 202,\n",
       " 228,\n",
       " 529,\n",
       " 889,\n",
       " 844,\n",
       " 1591,\n",
       " 1730,\n",
       " 1768,\n",
       " 2014,\n",
       " 2204,\n",
       " 2370,\n",
       " 126,\n",
       " 274,\n",
       " 262,\n",
       " 325,\n",
       " 406,\n",
       " 624,\n",
       " 998,\n",
       " 1694,\n",
       " 1567,\n",
       " 1899,\n",
       " 2227,\n",
       " 570,\n",
       " 734,\n",
       " 691,\n",
       " 1415,\n",
       " 1508,\n",
       " 1799,\n",
       " 1766,\n",
       " 1908,\n",
       " 1986,\n",
       " 2308,\n",
       " 2080,\n",
       " 2316,\n",
       " 1776,\n",
       " 421,\n",
       " 149,\n",
       " 1038,\n",
       " 1174,\n",
       " 1895,\n",
       " 1949,\n",
       " 1816,\n",
       " 2071,\n",
       " 2162,\n",
       " 50,\n",
       " 94,\n",
       " 264,\n",
       " 638,\n",
       " 600,\n",
       " 876,\n",
       " 961,\n",
       " 1110,\n",
       " 1210,\n",
       " 1064,\n",
       " 1632,\n",
       " 1789,\n",
       " 1302,\n",
       " 1756,\n",
       " 2149,\n",
       " 2119,\n",
       " 650,\n",
       " 1119,\n",
       " 1185,\n",
       " 1212,\n",
       " 1343,\n",
       " 1376,\n",
       " 1559,\n",
       " 1485,\n",
       " 1606,\n",
       " 1930,\n",
       " 2196,\n",
       " 1846,\n",
       " 1969,\n",
       " 2153,\n",
       " 229,\n",
       " 110,\n",
       " 343,\n",
       " 439,\n",
       " 629,\n",
       " 275,\n",
       " 706,\n",
       " 737,\n",
       " 902,\n",
       " 1598,\n",
       " 1964,\n",
       " 1967,\n",
       " 2182,\n",
       " 2098,\n",
       " 2215,\n",
       " 190,\n",
       " 136,\n",
       " 57,\n",
       " 513,\n",
       " 828,\n",
       " 936,\n",
       " 1002,\n",
       " 1213,\n",
       " 1407,\n",
       " 1607,\n",
       " 1728,\n",
       " 2377,\n",
       " 388,\n",
       " 412,\n",
       " 417,\n",
       " 963,\n",
       " 1571,\n",
       " 1710,\n",
       " 1911,\n",
       " 1956,\n",
       " 2041,\n",
       " 2192,\n",
       " 144,\n",
       " 1025,\n",
       " 1219,\n",
       " 909,\n",
       " 1283,\n",
       " 1240,\n",
       " 1549,\n",
       " 1256,\n",
       " 1771,\n",
       " 1937,\n",
       " 2235,\n",
       " 2212,\n",
       " 2336,\n",
       " 420,\n",
       " 555,\n",
       " 696,\n",
       " 752,\n",
       " 1051,\n",
       " 1073,\n",
       " 1089,\n",
       " 1128,\n",
       " 1134,\n",
       " 1108,\n",
       " 1550,\n",
       " 2077,\n",
       " 2112,\n",
       " 2223,\n",
       " 32,\n",
       " 43,\n",
       " 378,\n",
       " 1233,\n",
       " 2012,\n",
       " 84,\n",
       " 779,\n",
       " 766,\n",
       " 970,\n",
       " 1501,\n",
       " 1362,\n",
       " 1924,\n",
       " 2294,\n",
       " 2358,\n",
       " 2276,\n",
       " 212,\n",
       " 376,\n",
       " 516,\n",
       " 958,\n",
       " 1361,\n",
       " 1434,\n",
       " 1722,\n",
       " 1991,\n",
       " 1811,\n",
       " 662,\n",
       " 2441,\n",
       " 31,\n",
       " 395,\n",
       " 768,\n",
       " 974,\n",
       " 1440,\n",
       " 1420,\n",
       " 1940,\n",
       " 2137,\n",
       " 2130,\n",
       " 119,\n",
       " 326,\n",
       " 450,\n",
       " 596,\n",
       " 894,\n",
       " 595,\n",
       " 1069,\n",
       " 1444,\n",
       " 1513,\n",
       " 1461,\n",
       " 2113,\n",
       " 386,\n",
       " 187,\n",
       " 39,\n",
       " 98,\n",
       " 496,\n",
       " 561,\n",
       " 845,\n",
       " 1297,\n",
       " 1733,\n",
       " 1918,\n",
       " 201,\n",
       " 402,\n",
       " 990,\n",
       " 1141,\n",
       " 1252,\n",
       " 1405,\n",
       " 1548,\n",
       " 1650,\n",
       " 1975,\n",
       " 2022,\n",
       " 2185,\n",
       " 232,\n",
       " 773,\n",
       " 962,\n",
       " 1269,\n",
       " 1282,\n",
       " 1504,\n",
       " 1624,\n",
       " 1612,\n",
       " 1775,\n",
       " 1639,\n",
       " 1945,\n",
       " 2397,\n",
       " 700,\n",
       " 1482,\n",
       " 1850,\n",
       " 1891,\n",
       " 2106,\n",
       " 2348,\n",
       " 203,\n",
       " 116,\n",
       " 488,\n",
       " 1530,\n",
       " 1602,\n",
       " 1942,\n",
       " 2247,\n",
       " 2285,\n",
       " 2356,\n",
       " 145,\n",
       " 814,\n",
       " 880,\n",
       " 1099,\n",
       " 1299,\n",
       " 1312,\n",
       " 1472,\n",
       " 1757,\n",
       " 1778,\n",
       " 1826,\n",
       " 1893,\n",
       " 2016,\n",
       " 2110,\n",
       " 25,\n",
       " 948,\n",
       " 1021,\n",
       " 1452,\n",
       " 1731,\n",
       " 1805,\n",
       " 2026,\n",
       " 2043,\n",
       " 1048,\n",
       " 1330,\n",
       " 1347,\n",
       " 1897,\n",
       " 2059,\n",
       " 2261,\n",
       " 157,\n",
       " 363,\n",
       " 586,\n",
       " 843,\n",
       " 1135,\n",
       " 1149,\n",
       " 1323,\n",
       " 1368,\n",
       " 1441,\n",
       " 1535,\n",
       " 181,\n",
       " 1858,\n",
       " 1592,\n",
       " 2097,\n",
       " 2334,\n",
       " 2384,\n",
       " 124,\n",
       " 686,\n",
       " 852,\n",
       " 1016,\n",
       " 1238,\n",
       " 1737,\n",
       " 1795,\n",
       " 1777,\n",
       " 1935,\n",
       " 1810,\n",
       " 2373,\n",
       " 268,\n",
       " 227,\n",
       " 95,\n",
       " 589,\n",
       " 562,\n",
       " 925,\n",
       " 1246,\n",
       " 1553,\n",
       " 699,\n",
       " 1833,\n",
       " 369,\n",
       " 455,\n",
       " 413,\n",
       " 760,\n",
       " 820,\n",
       " 915,\n",
       " 912,\n",
       " 1395,\n",
       " 1721,\n",
       " 1831,\n",
       " 370,\n",
       " 704,\n",
       " 642,\n",
       " 790,\n",
       " 621,\n",
       " 703,\n",
       " 71,\n",
       " 1274,\n",
       " 1902,\n",
       " 1960,\n",
       " 143,\n",
       " 193,\n",
       " 443,\n",
       " 1191,\n",
       " 1429,\n",
       " 1669,\n",
       " 1934,\n",
       " 2101,\n",
       " 2268,\n",
       " 2354,\n",
       " 161,\n",
       " 365,\n",
       " 466,\n",
       " 713,\n",
       " 1012,\n",
       " 1242,\n",
       " 342,\n",
       " 1520,\n",
       " 2186,\n",
       " 2394,\n",
       " 6,\n",
       " 68,\n",
       " 215,\n",
       " 72,\n",
       " 756,\n",
       " 1608,\n",
       " 1786,\n",
       " 2027,\n",
       " 2177,\n",
       " 87,\n",
       " 255,\n",
       " 258,\n",
       " 320,\n",
       " 883,\n",
       " 1098,\n",
       " 665,\n",
       " 1665,\n",
       " 2207,\n",
       " 2362,\n",
       " 58,\n",
       " 266,\n",
       " 221,\n",
       " 424,\n",
       " 271,\n",
       " 997,\n",
       " 882,\n",
       " 107,\n",
       " 1124,\n",
       " 1150,\n",
       " 1817,\n",
       " 1769,\n",
       " 1898,\n",
       " 2275,\n",
       " 2164,\n",
       " 1862,\n",
       " 407,\n",
       " 316,\n",
       " 9,\n",
       " 554,\n",
       " 789,\n",
       " 920,\n",
       " 744,\n",
       " 897,\n",
       " 968,\n",
       " 1476,\n",
       " 1675,\n",
       " 2076,\n",
       " 2191,\n",
       " 2365,\n",
       " 2429,\n",
       " 389,\n",
       " 397,\n",
       " 796,\n",
       " 158,\n",
       " 856,\n",
       " 63,\n",
       " 959,\n",
       " 754,\n",
       " 933,\n",
       " 1531,\n",
       " 1516,\n",
       " 1693,\n",
       " 1623,\n",
       " 1570,\n",
       " 2084,\n",
       " 2170,\n",
       " 2255,\n",
       " 2281,\n",
       " 27,\n",
       " 447,\n",
       " 1267,\n",
       " 51,\n",
       " 56,\n",
       " 353,\n",
       " 178,\n",
       " 1164,\n",
       " 702,\n",
       " 1698,\n",
       " 1739,\n",
       " 2270,\n",
       " 2444,\n",
       " 341,\n",
       " 610,\n",
       " 234,\n",
       " 891,\n",
       " 1437,\n",
       " 1761,\n",
       " 1923,\n",
       " 239,\n",
       " 574,\n",
       " 279,\n",
       " 1514,\n",
       " 1545,\n",
       " 1955,\n",
       " 2037,\n",
       " 1800,\n",
       " 1426,\n",
       " 2259,\n",
       " 150,\n",
       " 52,\n",
       " 346,\n",
       " 546,\n",
       " 608,\n",
       " 694,\n",
       " 1328,\n",
       " 1307,\n",
       " 1263,\n",
       " 1762,\n",
       " 1849,\n",
       " 1987,\n",
       " 2219,\n",
       " 2066,\n",
       " 2415,\n",
       " 146,\n",
       " 459,\n",
       " 577,\n",
       " 585,\n",
       " 446,\n",
       " 861,\n",
       " 1046,\n",
       " 1103,\n",
       " 1236,\n",
       " 1253,\n",
       " 2114,\n",
       " 2140,\n",
       " 174,\n",
       " 825,\n",
       " 946,\n",
       " 1641,\n",
       " 1821,\n",
       " 2018,\n",
       " 2412,\n",
       " 79,\n",
       " 661,\n",
       " 170,\n",
       " 1060,\n",
       " 1342,\n",
       " 1453,\n",
       " 1346,\n",
       " 2107,\n",
       " 17,\n",
       " 209,\n",
       " 236,\n",
       " 253,\n",
       " 103,\n",
       " 675,\n",
       " 738,\n",
       " 1116,\n",
       " 1484,\n",
       " 989,\n",
       " 1629,\n",
       " 1896,\n",
       " 2180,\n",
       " 2240,\n",
       " 276,\n",
       " 509,\n",
       " 592,\n",
       " 1250,\n",
       " 1334,\n",
       " 1287,\n",
       " 139,\n",
       " 1190,\n",
       " 1196,\n",
       " 1770,\n",
       " 1888,\n",
       " 1781,\n",
       " 1999,\n",
       " 2165,\n",
       " 246,\n",
       " 242,\n",
       " 226,\n",
       " 430,\n",
       " 453,\n",
       " 726,\n",
       " 817,\n",
       " 1009,\n",
       " 977,\n",
       " 1121,\n",
       " 1230,\n",
       " 1997,\n",
       " 499,\n",
       " 1273,\n",
       " 907,\n",
       " 1114,\n",
       " 1473,\n",
       " 1574,\n",
       " 1695,\n",
       " 1689,\n",
       " 1716,\n",
       " 1783,\n",
       " 2171,\n",
       " 2051,\n",
       " 2474,\n",
       " 41,\n",
       " 248,\n",
       " 208,\n",
       " 28,\n",
       " 384,\n",
       " 405,\n",
       " 519,\n",
       " 33,\n",
       " 1595,\n",
       " 1673,\n",
       " 1807,\n",
       " 2201,\n",
       " 2209,\n",
       " 88,\n",
       " 257,\n",
       " 511,\n",
       " 498,\n",
       " 207,\n",
       " 671,\n",
       " 866,\n",
       " 1321,\n",
       " 637,\n",
       " 1576,\n",
       " 1358,\n",
       " 1683,\n",
       " 2318,\n",
       " 138,\n",
       " 307,\n",
       " 235,\n",
       " 304,\n",
       " 462,\n",
       " 813,\n",
       " 833,\n",
       " 865,\n",
       " 769,\n",
       " 649,\n",
       " 1100,\n",
       " 1206,\n",
       " 1855,\n",
       " 1948,\n",
       " 434,\n",
       " 599,\n",
       " 678,\n",
       " 742,\n",
       " 646,\n",
       " 714,\n",
       " 928,\n",
       " 1425,\n",
       " 1474,\n",
       " 1625,\n",
       " 1963,\n",
       " 2234,\n",
       " 2376,\n",
       " 114,\n",
       " 5,\n",
       " 900,\n",
       " 1083,\n",
       " 794,\n",
       " 1597,\n",
       " 1363,\n",
       " 1700,\n",
       " 1723,\n",
       " 1884,\n",
       " 2134,\n",
       " 2383,\n",
       " 319,\n",
       " 404,\n",
       " 539,\n",
       " 1,\n",
       " 896,\n",
       " 901,\n",
       " 1040,\n",
       " 1071,\n",
       " 1118,\n",
       " 1316,\n",
       " 1583,\n",
       " 1845,\n",
       " 1875,\n",
       " 1909,\n",
       " 2079,\n",
       " 2062,\n",
       " 718,\n",
       " 1074,\n",
       " 1562,\n",
       " 1953,\n",
       " 2293,\n",
       " 115,\n",
       " 153,\n",
       " 250,\n",
       " 96,\n",
       " 743,\n",
       " 859,\n",
       " 377,\n",
       " 929,\n",
       " 1132,\n",
       " 1163,\n",
       " 1367,\n",
       " 1136,\n",
       " 1257,\n",
       " 1218,\n",
       " 1609,\n",
       " 1685,\n",
       " 1787,\n",
       " 1741,\n",
       " 2086,\n",
       " 328,\n",
       " 849,\n",
       " 890,\n",
       " 1115,\n",
       " 1126,\n",
       " 1130,\n",
       " 1279,\n",
       " 1469,\n",
       " 1446,\n",
       " 1560,\n",
       " 1534,\n",
       " 1790,\n",
       " 1877,\n",
       " 1726,\n",
       " 2050,\n",
       " 2390,\n",
       " 349,\n",
       " 185,\n",
       " 375,\n",
       " 632,\n",
       " 1054,\n",
       " 1582,\n",
       " 1838,\n",
       " 1774,\n",
       " 2366,\n",
       " 104,\n",
       " 219,\n",
       " 368,\n",
       " 623,\n",
       " 834,\n",
       " 944,\n",
       " 978,\n",
       " 1151,\n",
       " 1075,\n",
       " 1232,\n",
       " 1388,\n",
       " 1436,\n",
       " 1894,\n",
       " 2296,\n",
       " 461,\n",
       " 719,\n",
       " 538,\n",
       " 1024,\n",
       " 1284,\n",
       " 1478,\n",
       " 1493,\n",
       " 1622,\n",
       " 1536,\n",
       " 1729,\n",
       " 2322,\n",
       " 2231,\n",
       " 214,\n",
       " 449,\n",
       " 419,\n",
       " 252,\n",
       " 593,\n",
       " 556,\n",
       " 816,\n",
       " 818,\n",
       " 874,\n",
       " 1208,\n",
       " 1373,\n",
       " 1266,\n",
       " 1647,\n",
       " 1696,\n",
       " 1475,\n",
       " 2193,\n",
       " 2197,\n",
       " 2382,\n",
       " 120,\n",
       " 423,\n",
       " 10,\n",
       " 485,\n",
       " 500,\n",
       " 748,\n",
       " 806,\n",
       " 836,\n",
       " 945,\n",
       " 1037,\n",
       " 1087,\n",
       " 1433,\n",
       " 1278,\n",
       " 2210,\n",
       " 2288,\n",
       " 550,\n",
       " 521,\n",
       " 1706,\n",
       " 1666,\n",
       " 2178,\n",
       " 89,\n",
       " 361,\n",
       " 644,\n",
       " 1045,\n",
       " 1498,\n",
       " 2147,\n",
       " 2357,\n",
       " 364,\n",
       " 501,\n",
       " 452,\n",
       " 870,\n",
       " 1487,\n",
       " 1566,\n",
       " 1829,\n",
       " 2305,\n",
       " 356,\n",
       " 403,\n",
       " 490,\n",
       " 741,\n",
       " 784,\n",
       " 871,\n",
       " 975,\n",
       " 923,\n",
       " 1000,\n",
       " 1066,\n",
       " 1449,\n",
       " 1381,\n",
       " 1794,\n",
       " 1543,\n",
       " 1864,\n",
       " 1944,\n",
       " 2009,\n",
       " 2036,\n",
       " 1822,\n",
       " 1928,\n",
       " 2010,\n",
       " 2286,\n",
       " 128,\n",
       " 197,\n",
       " 464,\n",
       " 697,\n",
       " 497,\n",
       " 838,\n",
       " 911,\n",
       " 1112,\n",
       " 1239,\n",
       " 1512,\n",
       " 1322,\n",
       " 1808,\n",
       " 1744,\n",
       " 1926,\n",
       " 2064,\n",
       " 1867,\n",
       " 111,\n",
       " 106,\n",
       " 575,\n",
       " 332,\n",
       " 735,\n",
       " 815,\n",
       " 867,\n",
       " 1404,\n",
       " 1310,\n",
       " 1556,\n",
       " 1228,\n",
       " 1456,\n",
       " 1947,\n",
       " 2222,\n",
       " 2367,\n",
       " 2464,\n",
       " 85,\n",
       " 548,\n",
       " 411,\n",
       " 1804,\n",
       " 1809,\n",
       " 2339,\n",
       " 301,\n",
       " 177,\n",
       " 1231,\n",
       " 1643,\n",
       " 1435,\n",
       " 1734,\n",
       " 2426,\n",
       " 460,\n",
       " 797,\n",
       " 950,\n",
       " 1558,\n",
       " 1754,\n",
       " 1876,\n",
       " 1879,\n",
       " 1832,\n",
       " 2090,\n",
       " 2006,\n",
       " 2298,\n",
       " 1764,\n",
       " 441,\n",
       " 306,\n",
       " 563,\n",
       " 557,\n",
       " 448,\n",
       " 659,\n",
       " 1023,\n",
       " 1251,\n",
       " 1237,\n",
       " 1424,\n",
       " 1222,\n",
       " 1651,\n",
       " ...]"
      ]
     },
     "execution_count": 92,
     "metadata": {},
     "output_type": "execute_result"
    }
   ],
   "source": [
    "[row['sessionId'] for row in log_events.select('sessionId').dropDuplicates().collect()]"
   ]
  },
  {
   "cell_type": "markdown",
   "metadata": {},
   "source": [
    "These are sessions people have completed"
   ]
  },
  {
   "cell_type": "markdown",
   "metadata": {},
   "source": [
    "#### 14. \"song\" feature"
   ]
  },
  {
   "cell_type": "code",
   "execution_count": 93,
   "metadata": {},
   "outputs": [
    {
     "data": {
      "text/plain": [
       "58380"
      ]
     },
     "execution_count": 93,
     "metadata": {},
     "output_type": "execute_result"
    }
   ],
   "source": [
    "len([row['song'] for row in log_events.select('song').dropDuplicates().collect()])"
   ]
  },
  {
   "cell_type": "markdown",
   "metadata": {},
   "source": [
    "There are 58300 unique features"
   ]
  },
  {
   "cell_type": "markdown",
   "metadata": {},
   "source": [
    "Perform some NLP to see if we can see a clear pattern "
   ]
  },
  {
   "cell_type": "code",
   "execution_count": 94,
   "metadata": {},
   "outputs": [
    {
     "data": {
      "text/plain": [
       "Row(artist='no_artist', auth='Logged In', firstName='Darianna', gender='F', itemInSession=34, lastName='Carpenter', length=0.0, level='free', location='CT', method='PUT', page='Logout', registration=1538016340000, sessionId=187, song='no_song', status=307, ts=1542823952000, userAgent='\"Mozilla/5.0 (iPhone; CPU iPhone OS 7_1_2 like Mac OS X) AppleWebKit/537.51.2 (KHTML, like Gecko) Version/7.0 Mobile/11D257 Safari/9537.53\"', userId='100010', churn=0, phase=0, device='iPhone', words=['no_song'])"
      ]
     },
     "execution_count": 94,
     "metadata": {},
     "output_type": "execute_result"
    }
   ],
   "source": [
    "# split the song text into separate words\n",
    "regexTokenizer = RegexTokenizer(inputCol = \"song\", outputCol=\"words\", pattern=\"\\\\W\")\n",
    "log_events = regexTokenizer.transform(log_events)\n",
    "log_events.head()"
   ]
  },
  {
   "cell_type": "code",
   "execution_count": 95,
   "metadata": {},
   "outputs": [
    {
     "data": {
      "text/plain": [
       "[Row(artist='Martha Tilston', auth='Logged In', firstName='Colin', gender='M', itemInSession=50, lastName='Freeman', length=277.89016, level='paid', location='Bakersfield, CA', method='PUT', page='NextSong', registration=1538173362000, sessionId=29, song='Rockpools', status=200, ts=1538352117000, userAgent='Mozilla/5.0 (Windows NT 6.1; WOW64; rv:31.0) Gecko/20100101 Firefox/31.0', userId='30')]"
      ]
     },
     "execution_count": 95,
     "metadata": {},
     "output_type": "execute_result"
    }
   ],
   "source": [
    "# find the term frequencies of the words\n",
    "cv = CountVectorizer(inputCol=\"words\", outputCol=\"TF\", vocabSize=1000)\n",
    "cvmodel = cv.fit(log_events)\n",
    "log_events = cvmodel.transform(log_events)\n",
    "df.take(1)"
   ]
  },
  {
   "cell_type": "code",
   "execution_count": 96,
   "metadata": {},
   "outputs": [
    {
     "data": {
      "text/plain": [
       "['no_song', 'the', 'version', 'album', 'you']"
      ]
     },
     "execution_count": 96,
     "metadata": {},
     "output_type": "execute_result"
    }
   ],
   "source": [
    "# show the vocabulary in order of \n",
    "cvmodel.vocabulary[0:5]"
   ]
  },
  {
   "cell_type": "code",
   "execution_count": 97,
   "metadata": {},
   "outputs": [
    {
     "data": {
      "text/plain": [
       "['avenue',\n",
       " 'heights',\n",
       " 'higher',\n",
       " 'lightning',\n",
       " 'confusion',\n",
       " 'ball',\n",
       " 'lay',\n",
       " 'floor',\n",
       " 'sometimes',\n",
       " 'victoria']"
      ]
     },
     "execution_count": 97,
     "metadata": {},
     "output_type": "execute_result"
    }
   ],
   "source": [
    "# show the last 10 terms in the vocabulary\n",
    "cvmodel.vocabulary[-10:]"
   ]
  },
  {
   "cell_type": "markdown",
   "metadata": {},
   "source": [
    "I would leave space to a specific NLP specific analisis to a latter moment."
   ]
  },
  {
   "cell_type": "markdown",
   "metadata": {},
   "source": [
    "#### 15. \"status\" feature"
   ]
  },
  {
   "cell_type": "code",
   "execution_count": 98,
   "metadata": {},
   "outputs": [
    {
     "data": {
      "text/plain": [
       "[307, 404, 200]"
      ]
     },
     "execution_count": 98,
     "metadata": {},
     "output_type": "execute_result"
    }
   ],
   "source": [
    "[row['status'] for row in log_events.select('status').dropDuplicates().collect()]"
   ]
  },
  {
   "cell_type": "markdown",
   "metadata": {},
   "source": [
    "#### 16. \"ts\" feature - Count songs within a time fraction\n",
    "\n",
    "To do so we first need to convert the timestamps to datetime from epoch time. In this way we can run specific analytics based on hour, day, weekend, month etc.\n",
    "\n",
    "Check how many songs a user has listened to in a particular hour, day, month.\n",
    "We have to convert timestamp to datetime from epoch time to get the hour of the day."
   ]
  },
  {
   "cell_type": "code",
   "execution_count": 99,
   "metadata": {},
   "outputs": [
    {
     "data": {
      "text/plain": [
       "datetime.datetime(2018, 12, 3, 1, 11, 16)"
      ]
     },
     "execution_count": 99,
     "metadata": {},
     "output_type": "execute_result"
    }
   ],
   "source": [
    "# max timestamp\n",
    "datetime.datetime.fromtimestamp(log_events.agg({\"ts\": \"max\"}).collect()[0][0] / 1000.0)"
   ]
  },
  {
   "cell_type": "code",
   "execution_count": 100,
   "metadata": {},
   "outputs": [
    {
     "data": {
      "text/plain": [
       "datetime.datetime(2018, 10, 1, 0, 1, 57)"
      ]
     },
     "execution_count": 100,
     "metadata": {},
     "output_type": "execute_result"
    }
   ],
   "source": [
    "# min timestamp\n",
    "datetime.datetime.fromtimestamp(log_events.agg({\"ts\": \"min\"}).collect()[0][0] / 1000.0)"
   ]
  },
  {
   "cell_type": "markdown",
   "metadata": {},
   "source": [
    "The experiment lasted from **1 October 2018** to **3 Dicember 2018** "
   ]
  },
  {
   "cell_type": "code",
   "execution_count": 101,
   "metadata": {},
   "outputs": [],
   "source": [
    "# define a user- defined function called \"get_hour\"\n",
    "get_hour = F.udf(lambda dt_value: datetime.datetime.fromtimestamp(dt_value / 1000.0).hour)\n",
    "get_day = F.udf(lambda dt_value: datetime.datetime.fromtimestamp(dt_value / 1000.0).day)\n",
    "get_weekday = F.udf(lambda x: datetime.datetime.fromtimestamp(x / 1000.0).weekday(), IntegerType())\n",
    "get_month = F.udf(lambda dt_value: datetime.datetime.fromtimestamp(dt_value / 1000.0).month)\n",
    "\n",
    "#use get_hour to create a new column called \"hour\" in our dataframe\n",
    "log_events = log_events.withColumn(\"hour\", get_hour(log_events.ts))\n",
    "log_events = log_events.withColumn(\"day\", get_day(log_events.ts))\n",
    "log_events = log_events.withColumn(\"weekday\", get_weekday(log_events.ts))\n",
    "log_events = log_events.withColumn(\"month\", get_month(log_events.ts))"
   ]
  },
  {
   "cell_type": "code",
   "execution_count": 102,
   "metadata": {},
   "outputs": [],
   "source": [
    "def nextsong_ts(ts_element):\n",
    "    log_events.filter(log_events.page == \"NextSong\")\\\n",
    "    .groupby(log_events[ts_element])\\\n",
    "    .count()\\\n",
    "    .orderBy(log_events[ts_element].cast(\"float\"))\\\n",
    "    .toPandas()\\\n",
    "    .plot(kind = \"bar\");"
   ]
  },
  {
   "cell_type": "code",
   "execution_count": 103,
   "metadata": {},
   "outputs": [
    {
     "data": {
      "image/png": "[encoded data removed]",
      "text/plain": [
       "<matplotlib.figure.Figure at 0x7fcc3c4d44e0>"
      ]
     },
     "metadata": {
      "needs_background": "light"
     },
     "output_type": "display_data"
    }
   ],
   "source": [
    "nextsong_ts(\"hour\")"
   ]
  },
  {
   "cell_type": "code",
   "execution_count": 104,
   "metadata": {},
   "outputs": [
    {
     "data": {
      "image/png": "[encoded data removed]",
      "text/plain": [
       "<matplotlib.figure.Figure at 0x7fcc3a9d2ef0>"
      ]
     },
     "metadata": {
      "needs_background": "light"
     },
     "output_type": "display_data"
    }
   ],
   "source": [
    "nextsong_ts(\"day\")"
   ]
  },
  {
   "cell_type": "code",
   "execution_count": 105,
   "metadata": {},
   "outputs": [
    {
     "data": {
      "image/png": "[encoded data removed]",
      "text/plain": [
       "<matplotlib.figure.Figure at 0x7fcc44581400>"
      ]
     },
     "metadata": {
      "needs_background": "light"
     },
     "output_type": "display_data"
    }
   ],
   "source": [
    "nextsong_ts(\"weekday\")"
   ]
  },
  {
   "cell_type": "code",
   "execution_count": 106,
   "metadata": {},
   "outputs": [
    {
     "data": {
      "image/png": "[encoded data removed]",
      "text/plain": [
       "<matplotlib.figure.Figure at 0x7fcc4449bb00>"
      ]
     },
     "metadata": {
      "needs_background": "light"
     },
     "output_type": "display_data"
    }
   ],
   "source": [
    "nextsong_ts(\"month\")"
   ]
  },
  {
   "cell_type": "markdown",
   "metadata": {},
   "source": [
    "We do not have year data available to perform seasonal churn rate. From personal experience I would like to check higher rates of churn in September - after the end of a specific offer for the summer."
   ]
  },
  {
   "cell_type": "code",
   "execution_count": 107,
   "metadata": {},
   "outputs": [],
   "source": [
    "churn_week = log_events.select(['userId', 'weekday', 'churn'])\\\n",
    "    .dropDuplicates()\\\n",
    "    .groupBy('weekday')\\\n",
    "    .agg(F.count('userId').alias('num_users'), F.sum('churn').alias('num_churns')).toPandas()"
   ]
  },
  {
   "cell_type": "code",
   "execution_count": 108,
   "metadata": {},
   "outputs": [
    {
     "data": {
      "image/png": "[encoded data removed]",
      "text/plain": [
       "<matplotlib.figure.Figure at 0x7fcc3a9260b8>"
      ]
     },
     "metadata": {
      "needs_background": "light"
     },
     "output_type": "display_data"
    }
   ],
   "source": [
    "x_axis = np.arange(7)\n",
    "fig = plt.figure()\n",
    "ax = fig.add_axes([0,0,1,1])\n",
    "ax.bar(x_axis + 0.00, churn_week.num_users, color = 'g', width = 0.25)\n",
    "ax.bar(x_axis + 0.25, churn_week.num_churns, color = 'r', width = 0.25);"
   ]
  },
  {
   "cell_type": "markdown",
   "metadata": {},
   "source": [
    "We see the same pattern in normal and churn users."
   ]
  },
  {
   "cell_type": "markdown",
   "metadata": {},
   "source": [
    "#### 17. \"userAgent\" feature"
   ]
  },
  {
   "cell_type": "code",
   "execution_count": 109,
   "metadata": {},
   "outputs": [],
   "source": [
    "agent_list = [row['userAgent'] for row in log_events.select('userAgent').dropDuplicates().collect()]"
   ]
  },
  {
   "cell_type": "code",
   "execution_count": 110,
   "metadata": {},
   "outputs": [
    {
     "name": "stdout",
     "output_type": "stream",
     "text": [
      "root\n",
      " |-- artist: string (nullable = true)\n",
      " |-- auth: string (nullable = true)\n",
      " |-- firstName: string (nullable = true)\n",
      " |-- gender: string (nullable = true)\n",
      " |-- itemInSession: long (nullable = true)\n",
      " |-- lastName: string (nullable = true)\n",
      " |-- length: double (nullable = true)\n",
      " |-- level: string (nullable = true)\n",
      " |-- location: string (nullable = true)\n",
      " |-- method: string (nullable = true)\n",
      " |-- page: string (nullable = true)\n",
      " |-- registration: long (nullable = true)\n",
      " |-- sessionId: long (nullable = true)\n",
      " |-- song: string (nullable = true)\n",
      " |-- status: long (nullable = true)\n",
      " |-- ts: long (nullable = true)\n",
      " |-- userAgent: string (nullable = true)\n",
      " |-- userId: string (nullable = true)\n",
      " |-- churn: integer (nullable = true)\n",
      " |-- phase: long (nullable = true)\n",
      " |-- device: string (nullable = true)\n",
      " |-- words: array (nullable = true)\n",
      " |    |-- element: string (containsNull = true)\n",
      " |-- TF: vector (nullable = true)\n",
      " |-- hour: string (nullable = true)\n",
      " |-- day: string (nullable = true)\n",
      " |-- weekday: integer (nullable = true)\n",
      " |-- month: string (nullable = true)\n",
      "\n"
     ]
    }
   ],
   "source": [
    "log_events.printSchema()"
   ]
  },
  {
   "cell_type": "code",
   "execution_count": 111,
   "metadata": {},
   "outputs": [],
   "source": [
    "churn_func = F.udf(lambda churn: 'churn' if churn == 1 else 'stay')\n",
    "get_device = F.udf(lambda x: x.split('(')[1].replace(\";\", \" \").split(\" \")[0])\n",
    "\n",
    "log_events = log_events.withColumn(\"device\", get_device(log_events[\"userAgent\"]))"
   ]
  },
  {
   "cell_type": "code",
   "execution_count": 112,
   "metadata": {},
   "outputs": [],
   "source": [
    "device_df = log_events.select([\"userId\", 'device', 'churn'])\\\n",
    "    .dropDuplicates()\\\n",
    "    .withColumn('churn', churn_func('churn'))\\\n",
    "    .toPandas()"
   ]
  },
  {
   "cell_type": "code",
   "execution_count": 113,
   "metadata": {},
   "outputs": [
    {
     "data": {
      "image/png": "[encoded data removed]",
      "text/plain": [
       "<matplotlib.figure.Figure at 0x7fcc397046d8>"
      ]
     },
     "metadata": {
      "needs_background": "light"
     },
     "output_type": "display_data"
    }
   ],
   "source": [
    "fig = plt.figure()\n",
    "sns.countplot(y = device_df.device, hue = device_df.churn, data = device_df, palette=\"Set1\");\n",
    "plt.xticks()\n",
    "plt.yticks()\n",
    "plt.xlabel(\"No of Users\")\n",
    "plt.ylabel(\"Device\")\n",
    "plt.title(\"Device Use\")\n",
    "plt.legend(loc='best');"
   ]
  },
  {
   "cell_type": "code",
   "execution_count": 114,
   "metadata": {},
   "outputs": [],
   "source": [
    "def get_device_col(log_events):\n",
    "    get_device = F.udf(lambda x: x.split('(')[1].replace(\";\", \" \").split(\" \")[0])\n",
    "\n",
    "    log_events = log_events.withColumn(\"device\", get_device(log_events[\"userAgent\"]))\n",
    "    return log_events"
   ]
  },
  {
   "cell_type": "code",
   "execution_count": 115,
   "metadata": {},
   "outputs": [],
   "source": [
    "log_events = get_device_col(log_events)"
   ]
  },
  {
   "cell_type": "markdown",
   "metadata": {},
   "source": [
    "#### 18. \"artist\" feature"
   ]
  },
  {
   "cell_type": "code",
   "execution_count": 116,
   "metadata": {},
   "outputs": [
    {
     "data": {
      "text/plain": [
       "['Silverstein',\n",
       " 'Kate Nash',\n",
       " 'The Black Keys',\n",
       " 'Yann Tiersen',\n",
       " \"Jane's Addiction\"]"
      ]
     },
     "execution_count": 116,
     "metadata": {},
     "output_type": "execute_result"
    }
   ],
   "source": [
    "[row['artist'] for row in log_events.select('artist').dropDuplicates().collect()][0:5]"
   ]
  },
  {
   "cell_type": "code",
   "execution_count": 117,
   "metadata": {},
   "outputs": [
    {
     "data": {
      "text/plain": [
       "DataFrame[artist: string, auth: string, firstName: string, gender: string, itemInSession: bigint, lastName: string, length: double, level: string, location: string, method: string, page: string, registration: bigint, sessionId: bigint, song: string, status: bigint, ts: bigint, userAgent: string, userId: string, churn: int, phase: bigint, device: string, words: array<string>, TF: vector, hour: string, day: string, weekday: int, month: string]"
      ]
     },
     "execution_count": 117,
     "metadata": {},
     "output_type": "execute_result"
    }
   ],
   "source": [
    "log_events.persist()"
   ]
  },
  {
   "cell_type": "markdown",
   "metadata": {},
   "source": [
    "I would suggest NLP separate analysis using artist feature"
   ]
  },
  {
   "cell_type": "markdown",
   "metadata": {},
   "source": [
    "# Feature Engineering\n",
    "Once you've familiarized yourself with the data, build out the features you find promising to train your model on. To work with the full dataset, you can follow the following steps.\n",
    "- Write a script to extract the necessary features from the smaller subset of data\n",
    "- Ensure that your script is scalable, using the best practices discussed in Lesson 3\n",
    "- Try your script on the full data set, debugging your script if necessary\n",
    "\n",
    "If you are working in the classroom workspace, you can just extract features based on the small subset of data contained here. Be sure to transfer over this work to the larger dataset when you work on your Spark cluster."
   ]
  },
  {
   "cell_type": "markdown",
   "metadata": {},
   "source": [
    "#### Create a `phase` feature using Window Functions\n",
    "\n",
    "Window functions are a way of combining the values of ranges of rows in a DataFrame. When defining the window we can choose how to sort and group (with the `partitionBy` method) the rows and how wide of a window we'd like to use (described by `rangeBetween` or `rowsBetween`).\n",
    "\n",
    "In our computation we want to distinguish a user's activity before and after a particular event, for example before and after they have downgraded from a paid to a free one.\n",
    "\n"
   ]
  },
  {
   "cell_type": "code",
   "execution_count": null,
   "metadata": {},
   "outputs": [],
   "source": [
    "def create_phase_col(log_events):\n",
    "\n",
    "    # for each user order actions by between certain events\n",
    "    windowval = Window.partitionBy(\"userId\").orderBy(F.desc(\"ts\")).rangeBetween(Window.unboundedPreceding, 0)\n",
    "\n",
    "    log_events = log_events.withColumn(\"phase\", F.sum(\"churn\").over(windowval))\n",
    "\n",
    "    return log_events"
   ]
  },
  {
   "cell_type": "code",
   "execution_count": null,
   "metadata": {},
   "outputs": [],
   "source": [
    "log_events = create_phase_col(log_events)"
   ]
  },
  {
   "cell_type": "markdown",
   "metadata": {},
   "source": [
    "#### Create numerical features\n",
    "1. sum(itemInSession)\n",
    "2. max(phase)\n",
    "3. avg(length)"
   ]
  },
  {
   "cell_type": "code",
   "execution_count": null,
   "metadata": {},
   "outputs": [],
   "source": [
    "log_events.select(\"userId\",\"itemInSession\", \"churn\", \"phase\", \"length\")\\\n",
    "    .groupBy(\"userId\")\\\n",
    "    .agg(F.count(log_events.userId).alias(\"count_user_logs\"),\\\n",
    "        F.max(log_events.itemInSession).alias(\"max_session\"),\\\n",
    "        F.sum(log_events.churn).alias(\"sum_churn\"),\\\n",
    "        F.max(log_events.phase).alias(\"max_phase\"),\\\n",
    "        F.avg(log_events.length).alias(\"avg_length\"))\\\n",
    "    .orderBy('sum_churn', ascending = False).show()"
   ]
  },
  {
   "cell_type": "markdown",
   "metadata": {},
   "source": [
    "sum_churn and max_phase are the same"
   ]
  },
  {
   "cell_type": "code",
   "execution_count": null,
   "metadata": {},
   "outputs": [],
   "source": [
    "# check average phase in dataframe\n",
    "log_events.select(\"userId\",\"itemInSession\", \"churn\", \"phase\", \"length\")\\\n",
    "    .groupBy(\"userId\")\\\n",
    "    .agg({'itemInSession': 'max', \\\n",
    "          'churn': 'sum', \\\n",
    "          \"phase\": 'avg', \\\n",
    "          \"length\": 'avg'})\\\n",
    "    .orderBy('sum(churn)', ascending = False).show()"
   ]
  },
  {
   "cell_type": "code",
   "execution_count": null,
   "metadata": {},
   "outputs": [],
   "source": [
    "# lets keep count_user_logs, max_session and avg_length to avoid overfitting \n",
    "# and be cautious with avg_phase which may ha to be removed\n",
    "def create_num_df(log_events):\n",
    "    num_df = log_events.select(\"userId\",\"itemInSession\", \"phase\", \"length\")\\\n",
    "    .groupBy(\"userId\")\\\n",
    "    .agg(F.count(log_events.userId).alias(\"count_user_logs\"),\\\n",
    "        F.max(log_events.itemInSession).alias(\"max_session\"),\\\n",
    "        F.avg(log_events.phase).alias(\"avg_phase\"),\\\n",
    "        F.avg(log_events.length).alias(\"avg_length\"))\n",
    "    \n",
    "    return num_df"
   ]
  },
  {
   "cell_type": "code",
   "execution_count": null,
   "metadata": {},
   "outputs": [],
   "source": [
    "num_df = create_num_df(log_events)"
   ]
  },
  {
   "cell_type": "markdown",
   "metadata": {},
   "source": [
    "#### Treating categorial features (to dummy)\n",
    "1. User Device\n",
    "2. User Location\n",
    "3. User Page\n",
    "4. User Status"
   ]
  },
  {
   "cell_type": "code",
   "execution_count": null,
   "metadata": {},
   "outputs": [],
   "source": [
    "# isolating device feature\n",
    "log_events.select('userId','device')\\\n",
    "        .groupBy('userId', 'device')\\\n",
    "        .agg(F.count(log_events.device))\\\n",
    "        .orderBy(\"count(device)\", ascending = False)\\\n",
    "        .show(3)"
   ]
  },
  {
   "cell_type": "code",
   "execution_count": null,
   "metadata": {},
   "outputs": [],
   "source": [
    "# isolating location feature\n",
    "log_events.select('userId','location')\\\n",
    "        .groupBy('userId', 'location')\\\n",
    "        .agg(F.count('location'))\\\n",
    "        .orderBy(\"count(location)\", ascending = False)\\\n",
    "        .show(3)"
   ]
  },
  {
   "cell_type": "code",
   "execution_count": null,
   "metadata": {},
   "outputs": [],
   "source": [
    "# isolating page feature\n",
    "log_events.select('userId','page')\\\n",
    "        .groupBy('userId', 'page')\\\n",
    "        .agg(F.count('page'))\\\n",
    "        .orderBy(\"count(page)\", ascending = False)\\\n",
    "        .show(3)"
   ]
  },
  {
   "cell_type": "code",
   "execution_count": null,
   "metadata": {},
   "outputs": [],
   "source": [
    "# isolating status feature\n",
    "log_events.select('userId','status')\\\n",
    "        .groupBy('userId', 'status')\\\n",
    "        .agg(F.count('status'))\\\n",
    "        .orderBy(\"count(status)\", ascending = False)\\\n",
    "        .show(3)"
   ]
  },
  {
   "cell_type": "markdown",
   "metadata": {},
   "source": [
    "Checking we have one device per uderId"
   ]
  },
  {
   "cell_type": "code",
   "execution_count": null,
   "metadata": {},
   "outputs": [],
   "source": [
    "# cheking the number of unique userIds and the number of unique devices per userID\n",
    "len(log_events.dropDuplicates()\\\n",
    "    .groupBy('userId')\\\n",
    "    .count()\\\n",
    "    .collect())\\\n",
    "    ==\\\n",
    "len(log_events.dropDuplicates()\\\n",
    "    .select('userId','device')\\\n",
    "    .groupBy('userId', 'device')\\\n",
    "    .agg(F.count(\"device\"))\\\n",
    "    .collect())"
   ]
  },
  {
   "cell_type": "code",
   "execution_count": null,
   "metadata": {},
   "outputs": [],
   "source": [
    "# cheking the number of unique userIds and the number of unique gender per userID\n",
    "len(log_events.dropDuplicates()\\\n",
    "    .groupBy('userId')\\\n",
    "    .count()\\\n",
    "    .collect())\\\n",
    "    ==\\\n",
    "len(log_events.dropDuplicates()\\\n",
    "    .select('userId','gender')\\\n",
    "    .groupBy('userId', 'gender')\\\n",
    "    .agg(F.count(\"gender\"))\\\n",
    "    .collect())"
   ]
  },
  {
   "cell_type": "code",
   "execution_count": null,
   "metadata": {},
   "outputs": [],
   "source": [
    "# cheking the number of unique userIds and the number of unique level per userID\n",
    "len(log_events.dropDuplicates()\\\n",
    "    .groupBy('userId')\\\n",
    "    .count()\\\n",
    "    .collect())\\\n",
    "    ==\\\n",
    "len(log_events.dropDuplicates()\\\n",
    "    .select('userId','level')\\\n",
    "    .groupBy('userId', 'level')\\\n",
    "    .agg(F.count(\"level\"))\\\n",
    "    .collect())"
   ]
  },
  {
   "cell_type": "code",
   "execution_count": null,
   "metadata": {},
   "outputs": [],
   "source": [
    "# cheking the number of unique userIds and the number of unique auth per userID\n",
    "len(log_events.dropDuplicates()\\\n",
    "    .groupBy('userId')\\\n",
    "    .count()\\\n",
    "    .collect())\\\n",
    "    ==\\\n",
    "len(log_events.dropDuplicates()\\\n",
    "    .select('userId','method')\\\n",
    "    .groupBy('userId', 'method')\\\n",
    "    .agg(count(\"method\"))\\\n",
    "    .collect())"
   ]
  },
  {
   "cell_type": "code",
   "execution_count": null,
   "metadata": {},
   "outputs": [],
   "source": [
    "# cheking the number of unique userIds and the number of unique auth per userID\n",
    "len(log_events.dropDuplicates()\\\n",
    "    .groupBy('userId')\\\n",
    "    .count()\\\n",
    "    .collect())\\\n",
    "    ==\\\n",
    "len(log_events.dropDuplicates()\\\n",
    "    .select('userId','auth')\\\n",
    "    .groupBy('userId', 'auth')\\\n",
    "    .agg(F.count(\"auth\"))\\\n",
    "    .collect())"
   ]
  },
  {
   "cell_type": "code",
   "execution_count": null,
   "metadata": {},
   "outputs": [],
   "source": [
    "# cheking the number of unique userIds and the number of unique location per userID\n",
    "len(log_events.dropDuplicates()\\\n",
    "    .groupBy('userId')\\\n",
    "    .count()\\\n",
    "    .collect())\\\n",
    "    ==\\\n",
    "len(log_events.dropDuplicates()\\\n",
    "    .select('userId','location')\\\n",
    "    .groupBy('userId', 'location')\\\n",
    "    .agg(F.count(\"location\"))\\\n",
    "    .collect())"
   ]
  },
  {
   "cell_type": "code",
   "execution_count": null,
   "metadata": {},
   "outputs": [],
   "source": [
    "# cheking the number of unique userIds and the number of unique page per userID\n",
    "print(len(log_events.dropDuplicates()\\\n",
    "    .select('userId','page')\\\n",
    "    .groupBy('userId', 'page')\\\n",
    "    .agg(F.count(\"page\"))\\\n",
    "    .collect()))\n",
    "print(len(log_events.dropDuplicates()\\\n",
    "    .groupBy('userId')\\\n",
    "    .count()\\\n",
    "    .collect())\\\n",
    "    ==\\\n",
    "    len(log_events.dropDuplicates()\\\n",
    "    .select('userId','page')\\\n",
    "    .groupBy('userId', 'page')\\\n",
    "    .agg(F.count(\"page\"))\\\n",
    "    .collect()))"
   ]
  },
  {
   "cell_type": "code",
   "execution_count": null,
   "metadata": {},
   "outputs": [],
   "source": [
    "# cheking the number of unique userIds and the number of unique staus per userID\n",
    "print(len(log_events.dropDuplicates()\\\n",
    "    .select('userId','status')\\\n",
    "    .groupBy('userId', 'status')\\\n",
    "    .agg(F.count(\"status\"))\\\n",
    "    .collect()))\n",
    "print(len(log_events.dropDuplicates()\\\n",
    "    .groupBy('userId')\\\n",
    "    .count()\\\n",
    "    .collect())\\\n",
    "    ==\\\n",
    "    len(log_events.dropDuplicates()\\\n",
    "    .select('userId','status')\\\n",
    "    .groupBy('userId', 'status')\\\n",
    "    .agg(F.count(\"status\"))\\\n",
    "    .collect()))"
   ]
  },
  {
   "cell_type": "markdown",
   "metadata": {},
   "source": [
    "#### Creating dummy features"
   ]
  },
  {
   "cell_type": "code",
   "execution_count": null,
   "metadata": {},
   "outputs": [],
   "source": [
    "# create a function to create expressions for creating dummies\n",
    "def get_dummy_expression(column):\n",
    "    unique_values = log_events.select(column).distinct().rdd.flatMap(lambda element:element).collect()\n",
    "    expression = [F.when(F.col(column) == str(el), 1).otherwise(0).alias(column + \"_\" + str(el)) for el in unique_values]\n",
    "    \n",
    "    return expression"
   ]
  },
  {
   "cell_type": "code",
   "execution_count": null,
   "metadata": {},
   "outputs": [],
   "source": [
    "def create_cat_df(log_events):\n",
    "    device_expression = get_dummy_expression(\"device\")\n",
    "    location_expression = get_dummy_expression(\"location\")\n",
    "    page_expression = get_dummy_expression(\"page\")\n",
    "    status_expression = get_dummy_expression(\"status\")\n",
    "    auth_expression = get_dummy_expression(\"auth\")\n",
    "    gender_expression = get_dummy_expression(\"gender\")\n",
    "    level_expression = get_dummy_expression(\"level\")\n",
    "    method_expression = get_dummy_expression(\"method\")\n",
    "    cat_df = log_events.select(\"userId\", *device_expression +\\\n",
    "                           location_expression +\\\n",
    "                           page_expression +\\\n",
    "                           status_expression +\\\n",
    "                           auth_expression +\\\n",
    "                           gender_expression +\\\n",
    "                           level_expression +\\\n",
    "                           method_expression)\n",
    "    return cat_df"
   ]
  },
  {
   "cell_type": "code",
   "execution_count": null,
   "metadata": {},
   "outputs": [],
   "source": [
    "device_expression = get_dummy_expression(\"device\")\n",
    "location_expression = get_dummy_expression(\"location\")\n",
    "page_expression = get_dummy_expression(\"page\")\n",
    "status_expression = get_dummy_expression(\"status\")\n",
    "auth_expression = get_dummy_expression(\"auth\")\n",
    "gender_expression = get_dummy_expression(\"gender\")\n",
    "level_expression = get_dummy_expression(\"level\")\n",
    "method_expression = get_dummy_expression(\"method\")"
   ]
  },
  {
   "cell_type": "code",
   "execution_count": null,
   "metadata": {},
   "outputs": [],
   "source": [
    "cat_df = log_events.select(\"userId\", *device_expression +\\\n",
    "                           location_expression +\\\n",
    "                           page_expression +\\\n",
    "                           status_expression +\\\n",
    "                           auth_expression +\\\n",
    "                           gender_expression +\\\n",
    "                           level_expression +\\\n",
    "                           method_expression)"
   ]
  },
  {
   "cell_type": "code",
   "execution_count": null,
   "metadata": {},
   "outputs": [],
   "source": [
    "cat_df = create_cat_df(log_events)"
   ]
  },
  {
   "cell_type": "code",
   "execution_count": null,
   "metadata": {},
   "outputs": [],
   "source": [
    "cat_df.count()"
   ]
  },
  {
   "cell_type": "markdown",
   "metadata": {},
   "source": [
    "`device` and `location` features are binary for every user while there are more than one `pages` or `status` values per user so we have to count them and treat these features as numeric and not categorical."
   ]
  },
  {
   "cell_type": "code",
   "execution_count": null,
   "metadata": {},
   "outputs": [],
   "source": [
    "cat_df.columns"
   ]
  },
  {
   "cell_type": "code",
   "execution_count": null,
   "metadata": {},
   "outputs": [],
   "source": [
    "def rename_cols(cat_df):\n",
    "    \n",
    "    cat_df = cat_df\\\n",
    "    .withColumnRenamed('location_Minneapolis-St. Paul-Bloomington, MN-WI','location_Minneapolis-St Paul-Bloomington, MN-WI')\\\n",
    "    .withColumnRenamed('location_St. Louis, MO-IL','location_St Louis, MO-IL')\\\n",
    "    .withColumnRenamed('location_Port St. Lucie, FL','location_Port St Lucie, FL')\\\n",
    "    .withColumnRenamed('location_Tampa-St. Petersburg-Clearwater, FL','location_Tampa-St Petersburg-Clearwater, FL')\\\n",
    "    .withColumnRenamed('page_Cancellation Confirmation', 'page_Cancellation_Confirmation')\n",
    "    \n",
    "    return cat_df"
   ]
  },
  {
   "cell_type": "code",
   "execution_count": null,
   "metadata": {},
   "outputs": [],
   "source": [
    "cat_df = rename_cols(cat_df)"
   ]
  },
  {
   "cell_type": "code",
   "execution_count": null,
   "metadata": {},
   "outputs": [],
   "source": [
    "def binarize_id(df, df_list):\n",
    "    df = df.select(df_list).groupBy('userID').avg()\n",
    "    get_bins = F.udf(lambda x: 0 if x == 0 else 1)\n",
    "    for col in df.columns:\n",
    "        if col != \"userID\":\n",
    "            df = df.withColumn(col, get_bins(df[col]))\n",
    "    return df"
   ]
  },
  {
   "cell_type": "code",
   "execution_count": null,
   "metadata": {},
   "outputs": [],
   "source": [
    "def separate_cat_dfs(cat_df):\n",
    "    devices = [col for col in cat_df.columns if 'device' in col] + ['userId']\n",
    "    locations = [col for col in cat_df.columns if 'location' in col] + ['userId']\n",
    "    pages = [col for col in cat_df.columns if 'page' in col] + ['userId']\n",
    "    pages = [col for col in pages if col not in ['page_Cancellation_Confirmation', 'page_Downgrade']]\n",
    "    status = [col for col in cat_df.columns if 'status' in col] + ['userId']\n",
    "    auth = [col for col in cat_df.columns if 'auth' in col] + ['userId']\n",
    "    gender = [col for col in cat_df.columns if 'gender' in col] + ['userId']\n",
    "    level = [col for col in cat_df.columns if 'level' in col] + ['userId']\n",
    "    method = [col for col in cat_df.columns if 'method' in col] + ['userId']\n",
    "\n",
    "    device_df = binarize_id(cat_df, devices)\n",
    "    for col in device_df.columns:\n",
    "        if col != \"userID\":\n",
    "            device_df = device_df.withColumnRenamed(col,col[4:-1])\n",
    "    locations_df = binarize_id(cat_df, locations)\n",
    "    for col in locations_df.columns:\n",
    "        if col != \"userID\":\n",
    "            locations_df = locations_df.withColumnRenamed(col,col[4:-1])\n",
    "    pages_df = binarize_id(cat_df, pages)\n",
    "    for col in pages_df.columns:\n",
    "        if col != \"userID\":\n",
    "            pages_df = pages_df.withColumnRenamed(col,col[4:-1])\n",
    "    status_df = binarize_id(cat_df, status)\n",
    "    for col in status_df.columns:\n",
    "        if col != \"userID\":\n",
    "            status_df = status_df.withColumnRenamed(col,col[4:-1])\n",
    "    auth_df = binarize_id(cat_df, auth)\n",
    "    for col in auth_df.columns:\n",
    "        if col != \"userID\":\n",
    "            auth_df = auth_df.withColumnRenamed(col,col[4:-1])\n",
    "    gender_df = binarize_id(cat_df, gender)\n",
    "    for col in gender_df.columns:\n",
    "        if col != \"userID\":\n",
    "            gender_df = gender_df.withColumnRenamed(col,col[4:-1])\n",
    "    level_df = binarize_id(cat_df, level)\n",
    "    for col in level_df.columns:\n",
    "        if col != \"userID\":\n",
    "            level_df = level_df.withColumnRenamed(col,col[4:-1])\n",
    "    method_df = binarize_id(cat_df, method)\n",
    "    for col in method_df.columns:\n",
    "        if col != \"userID\":\n",
    "            method_df = method_df.withColumnRenamed(col,col[4:-1])\n",
    "    \n",
    "    return device_df, locations_df, pages_df, status_df, auth_df, gender_df, level_df, method_df"
   ]
  },
  {
   "cell_type": "code",
   "execution_count": null,
   "metadata": {},
   "outputs": [],
   "source": [
    "device_df, locations_df, pages_df, status_df, auth_df, gender_df, level_df, method_df = separate_cat_dfs(cat_df)"
   ]
  },
  {
   "cell_type": "markdown",
   "metadata": {},
   "source": [
    "`gender` feature is binary for every user while there are more than one `auth`,`level` and `method` values per user so we have to count them and treat these features as numeric and not categorical."
   ]
  },
  {
   "cell_type": "code",
   "execution_count": null,
   "metadata": {},
   "outputs": [],
   "source": [
    "X = num_df.join(device_df, [\"userID\"])\\\n",
    "    .join(locations_df, [\"userID\"])\\\n",
    "    .join(pages_df, [\"userID\"])\\\n",
    "    .join(status_df, [\"userID\"])\\\n",
    "    .join(auth_df, [\"userID\"])\\\n",
    "    .join(gender_df, [\"userID\"])\\\n",
    "    .join(level_df, [\"userID\"])\\\n",
    "    .join(method_df, [\"userID\"])\\\n",
    "    \n",
    "log_events.select('churn').show()"
   ]
  },
  {
   "cell_type": "code",
   "execution_count": null,
   "metadata": {},
   "outputs": [],
   "source": []
  },
  {
   "cell_type": "code",
   "execution_count": null,
   "metadata": {},
   "outputs": [],
   "source": [
    "X.printSchema()"
   ]
  },
  {
   "cell_type": "code",
   "execution_count": null,
   "metadata": {},
   "outputs": [],
   "source": [
    "pca = PCA(k=3, inputCol= X , outputCol=\"pcaFeatures\")\n",
    "model = pca.fit(df)\n",
    "result = model.transform(df).select(\"pcaFeatures\")\n",
    "result.show(truncate=False)"
   ]
  },
  {
   "cell_type": "markdown",
   "metadata": {},
   "source": [
    "# Modeling\n",
    "Split the full dataset into train, test, and validation sets. Test out several of the machine learning methods you learned. Evaluate the accuracy of the various models, tuning parameters as necessary. Determine your winning model based on test accuracy and report results on the validation set. Since the churned users are a fairly small subset, I suggest using F1 score as the metric to optimize."
   ]
  },
  {
   "cell_type": "code",
   "execution_count": null,
   "metadata": {},
   "outputs": [],
   "source": []
  },
  {
   "cell_type": "markdown",
   "metadata": {},
   "source": [
    "# Final Steps\n",
    "Clean up your code, adding comments and renaming variables to make the code easier to read and maintain. Refer to the Spark Project Overview page and Data Scientist Capstone Project Rubric to make sure you are including all components of the capstone project and meet all expectations. Remember, this includes thorough documentation in a README file in a Github repository, as well as a web app or blog post."
   ]
  },
  {
   "cell_type": "code",
   "execution_count": null,
   "metadata": {},
   "outputs": [],
   "source": []
  }
 ],
 "metadata": {
  "kernelspec": {
   "display_name": "Python 3",
   "language": "python",
   "name": "python3"
  },
  "language_info": {
   "codemirror_mode": {
    "name": "ipython",
    "version": 3
   },
   "file_extension": ".py",
   "mimetype": "text/x-python",
   "name": "python",
   "nbconvert_exporter": "python",
   "pygments_lexer": "ipython3",
   "version": "3.8.8"
  }
 },
 "nbformat": 4,
 "nbformat_minor": 2
}
