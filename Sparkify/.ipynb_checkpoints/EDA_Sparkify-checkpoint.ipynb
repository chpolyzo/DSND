{
 "cells": [
  {
   "cell_type": "code",
   "execution_count": null,
   "id": "7437c1a7",
   "metadata": {},
   "outputs": [],
   "source": [
    "import pandas as pd\n",
    "import numpy as np\n",
    "from plotly.subplots import make_subplots\n",
    "import plotly.express as px\n",
    "import plotly.graph_objects as go\n",
    "import plotly.offline as offline_py"
   ]
  },
  {
   "cell_type": "code",
   "execution_count": null,
   "id": "c4b158a8",
   "metadata": {},
   "outputs": [],
   "source": [
    "churn = pd.read_csv('churn.csv')\n",
    "pages = pd.read_csv('pages.csv')\n",
    "data = pd.read_csv('data.csv')\n",
    "gender = pd.read_csv('gender.csv')"
   ]
  },
  {
   "cell_type": "code",
   "execution_count": null,
   "id": "585a5d62",
   "metadata": {},
   "outputs": [],
   "source": [
    "def churn_dist(df):\n",
    "    \"\"\"\n",
    "    Creates barplot\n",
    "    Args:\n",
    "    Pandas churn Dataframe\n",
    "    Returns:\n",
    "    Series data used for the plot\n",
    "    \"\"\"\n",
    "\n",
    "    task0 = go.Bar(\n",
    "        x = ['Churned', 'Not Churned'],\n",
    "        y = [churn.churn_bin.sum(), churn.shape[0] - churn.churn_bin.sum()],\n",
    "        opacity=0.5\n",
    "    )\n",
    "\n",
    "    data = [task0]\n",
    "    layout = go.Layout(\n",
    "        title = {'text': \"Churn Distribution\",\n",
    "                 'y':0.9,\n",
    "                 'x':0.5,\n",
    "                 'xanchor': 'center',\n",
    "                 'yanchor': 'top'},\n",
    "        \n",
    "        xaxis = {\"title\": \"Customer\",\n",
    "                \"automargin\": True},\n",
    "        \n",
    "        yaxis = {\"title\": \"Count\",\n",
    "                 \"automargin\": True})\n",
    "\n",
    "    figure = go.Figure(data = data, layout = layout)\n",
    "\n",
    "    offline_py.iplot(figure)\n",
    "    return figure.write_html(\"churn_dist.html\")"
   ]
  },
  {
   "cell_type": "code",
   "execution_count": null,
   "id": "035843db",
   "metadata": {},
   "outputs": [],
   "source": [
    "def page_dist(pages):\n",
    "    \"\"\"\n",
    "    Creates barplot\n",
    "    Args:\n",
    "    Pandas pages Dataframe\n",
    "    Returns:\n",
    "    Series data used for the plot\n",
    "    \"\"\"\n",
    "    col_names = ['userId'] + [col[5:].replace(' ','_').lower() for col in pages.columns.tolist() if col != \"userId\"] \n",
    "    pages_dict = dict(zip(pages.columns.tolist(), col_names))\n",
    "    pages = pages.rename(columns = pages_dict)\n",
    "\n",
    "    task1 = go.Bar(\n",
    "        x = (pages.iloc[:, 1:].sum()/pages.iloc[:, 1:].sum().sum()*100).sort_values()[:-1].index,\n",
    "        y = (pages.iloc[:, 1:].sum()/pages.iloc[:, 1:].sum().sum()*100).sort_values()[:-1].round(2)*10,\n",
    "        opacity = 0.5\n",
    "    )\n",
    "\n",
    "    data = [task1]\n",
    "    layout = go.Layout(\n",
    "        title = {'text': \"Pages Distribution\",\n",
    "                 'y':0.9,\n",
    "                 'x':0.5,\n",
    "                 'xanchor': 'center',\n",
    "                 'yanchor': 'top'},\n",
    "        \n",
    "        xaxis = {\"title\": \"Page Type\",\n",
    "                \"automargin\": True},\n",
    "        \n",
    "        yaxis = {\"title\": \"Percentage\",\n",
    "                 \"automargin\": True}\n",
    "    )\n",
    "\n",
    "    figure = go.Figure(data = data, layout = layout)\n",
    "\n",
    "    offline_py.iplot(figure)"
   ]
  },
  {
   "cell_type": "code",
   "execution_count": null,
   "id": "e87097ad",
   "metadata": {},
   "outputs": [],
   "source": [
    "def page_box(pages):\n",
    "    fig = px.box(pages.iloc[:, np.r_[1:3, 4:len(pages.columns)]].melt(), x = 'variable', y = 'value')\n",
    "    fig.update_xaxes(\n",
    "        title_text = \"Page Type\",\n",
    "        title_font = {\"size\": 12},\n",
    "        title_standoff = 25)\n",
    "\n",
    "    fig.update_yaxes(\n",
    "        title_text = \"Page Usage\",\n",
    "        title_standoff = 25)\n",
    "\n",
    "    fig.update_layout(\n",
    "        title=\"Page Usage\",\n",
    "        title_x=0.5,\n",
    "        xaxis_title=\"Page Type\",\n",
    "        yaxis_title=\"Page Range Usage\"\n",
    "        )\n",
    "    fig.show()"
   ]
  },
  {
   "cell_type": "code",
   "execution_count": null,
   "id": "d9a0be5f",
   "metadata": {},
   "outputs": [],
   "source": [
    "def page_boxes(pages, churn):    \n",
    "    page_cols = pages.iloc[:,1:].columns\n",
    "    df = pd.merge(pages, churn, how = \"right\")\n",
    "    \n",
    "    fig = make_subplots(\n",
    "        rows=6, cols=3,\n",
    "        subplot_titles=[col for col in pages.iloc[:,1:].columns])\n",
    "\n",
    "    fig.add_trace(go.Box(x = df.churn_bin, y = df[page_cols[0]], name = page_cols[0]), row=1, col=1)\n",
    "    fig.add_trace(go.Box(x = df.churn_bin, y = df[page_cols[1]], name = page_cols[1]), row=1, col=2)\n",
    "    fig.add_trace(go.Box(x = df.churn_bin, y = df[page_cols[2]], name = page_cols[2]), row=1, col=3)\n",
    "    fig.add_trace(go.Box(x = df.churn_bin, y = df[page_cols[3]], name = page_cols[3]), row=2, col=1)\n",
    "    fig.add_trace(go.Box(x = df.churn_bin, y = df[page_cols[4]], name = page_cols[4]), row=2, col=2)\n",
    "    fig.add_trace(go.Box(x = df.churn_bin, y = df[page_cols[5]], name = page_cols[5]), row=2, col=3)\n",
    "    fig.add_trace(go.Box(x = df.churn_bin, y = df[page_cols[6]], name = page_cols[6]), row=3, col=1)\n",
    "    fig.add_trace(go.Box(x = df.churn_bin, y = df[page_cols[7]], name = page_cols[7]), row=3, col=2)\n",
    "    fig.add_trace(go.Box(x = df.churn_bin, y = df[page_cols[8]], name = page_cols[8]), row=3, col=3)\n",
    "    fig.add_trace(go.Box(x = df.churn_bin, y = df[page_cols[9]], name = page_cols[9]), row=4, col=1)\n",
    "    fig.add_trace(go.Box(x = df.churn_bin, y = df[page_cols[10]], name = page_cols[10]), row=4, col=2)\n",
    "    fig.add_trace(go.Box(x = df.churn_bin, y = df[page_cols[11]], name = page_cols[11]), row=4, col=3)\n",
    "    fig.add_trace(go.Box(x = df.churn_bin, y = df[page_cols[12]], name = page_cols[12]), row=5, col=1)\n",
    "    fig.add_trace(go.Box(x = df.churn_bin, y = df[page_cols[13]], name = page_cols[13]), row=5, col=2)\n",
    "    fig.add_trace(go.Box(x = df.churn_bin, y = df[page_cols[14]], name = page_cols[14]), row=5, col=3)\n",
    "    fig.add_trace(go.Box(x = df.churn_bin, y = df[page_cols[15]], name = page_cols[15]), row=6, col=1)\n",
    "    fig.add_trace(go.Box(x = df.churn_bin, y = df[page_cols[16]], name = page_cols[16]), row=6, col=2)\n",
    "\n",
    "\n",
    "    fig.update_layout(height=1000, width=900,\n",
    "                  title_text=\"Page Events and Churn\", title_x=0.5)\n",
    "\n",
    "    fig.show()"
   ]
  },
  {
   "cell_type": "code",
   "execution_count": null,
   "id": "e6ec1e4c",
   "metadata": {},
   "outputs": [],
   "source": [
    "def make_hist(data, churn, column):\n",
    "    df = pd.merge(data, churn, how = \"right\")\n",
    "    df.rename(columns = {\"churn_bin\":\"churn\"}, inplace = True)\n",
    "    df.loc[df['churn'] == 0, 'churn'] = 'Not Churn'\n",
    "    df.loc[df['churn'] == 1, 'churn'] = 'Churn'\n",
    "    fig = px.histogram(df, x = column, color = \"churn\",\n",
    "                       nbins = 50, marginal = \"box\", opacity = 0.5, hover_data = df.columns)\n",
    "    \n",
    "\n",
    "    fig.update_layout(\n",
    "        title = column.replace('_', ' ').title(),\n",
    "        title_x = 0.5,\n",
    "        xaxis_title = column.replace('_', ' ').title(),\n",
    "        yaxis_title = \"Count\"\n",
    "        )\n",
    "    fig.show()"
   ]
  },
  {
   "cell_type": "code",
   "execution_count": null,
   "id": "e4b88289",
   "metadata": {},
   "outputs": [],
   "source": [
    "def gender_bar(gender, churn):\n",
    "    gender.set_index('userId',inplace=True)\n",
    "    gender[gender==1].stack().reset_index().drop(0,1)\n",
    "    gender = gender[gender==1].stack().reset_index().drop(0,1)\n",
    "    df = pd.merge(gender, churn, how = \"right\", on = 'userId')\n",
    "    df.rename(columns = {'level_1':'gender', \"churn_bin\":\"churn\"}, inplace = True)\n",
    "    df.loc[df['churn'] == 0, 'churn'] = 'Not Churn'\n",
    "    df.loc[df['churn'] == 1, 'churn'] = 'Churn'\n",
    "    df.loc[df['gender'] == 'gender_F', 'Female'] = 'Female'\n",
    "    df.loc[df['gender'] == 'gender_M', 'gender_M'] = 'Male'\n",
    "    fig = px.bar(df, x='gender', color='churn')\n",
    "    fig.update_layout(\n",
    "        barmode='group',\n",
    "        title = \"Gender And Churn\",\n",
    "        title_x = 0.5,\n",
    "        xaxis_title = \"Gender\",\n",
    "        yaxis_title = \"Count\")\n",
    "    \n",
    "    fig.show()"
   ]
  },
  {
   "cell_type": "code",
   "execution_count": null,
   "id": "48be672a",
   "metadata": {},
   "outputs": [],
   "source": [
    "churn_dist(churn)"
   ]
  },
  {
   "cell_type": "code",
   "execution_count": null,
   "id": "1bedce62",
   "metadata": {},
   "outputs": [],
   "source": [
    "page_dist(pages)"
   ]
  },
  {
   "cell_type": "code",
   "execution_count": null,
   "id": "14c6b063",
   "metadata": {},
   "outputs": [],
   "source": [
    "page_box(pages)"
   ]
  },
  {
   "cell_type": "code",
   "execution_count": null,
   "id": "4c47552e",
   "metadata": {},
   "outputs": [],
   "source": [
    "page_boxes(pages, churn)"
   ]
  },
  {
   "cell_type": "code",
   "execution_count": null,
   "id": "265701ac",
   "metadata": {},
   "outputs": [],
   "source": [
    "make_hist(data, churn, \"count_user_logs\")"
   ]
  },
  {
   "cell_type": "code",
   "execution_count": null,
   "id": "7ce77fdd",
   "metadata": {},
   "outputs": [],
   "source": [
    "make_hist(data, churn, \"max_session\")"
   ]
  },
  {
   "cell_type": "code",
   "execution_count": null,
   "id": "f700c53c",
   "metadata": {},
   "outputs": [],
   "source": [
    "make_hist(data, churn, \"avg_length\")"
   ]
  },
  {
   "cell_type": "code",
   "execution_count": null,
   "id": "b55b2448",
   "metadata": {},
   "outputs": [],
   "source": [
    "gender_bar(gender, churn)"
   ]
  },
  {
   "cell_type": "code",
   "execution_count": null,
   "id": "096d4579",
   "metadata": {},
   "outputs": [],
   "source": []
  }
 ],
 "metadata": {
  "kernelspec": {
   "display_name": "Python 3",
   "language": "python",
   "name": "python3"
  },
  "language_info": {
   "codemirror_mode": {
    "name": "ipython",
    "version": 3
   },
   "file_extension": ".py",
   "mimetype": "text/x-python",
   "name": "python",
   "nbconvert_exporter": "python",
   "pygments_lexer": "ipython3",
   "version": "3.8.8"
  }
 },
 "nbformat": 4,
 "nbformat_minor": 5
}
