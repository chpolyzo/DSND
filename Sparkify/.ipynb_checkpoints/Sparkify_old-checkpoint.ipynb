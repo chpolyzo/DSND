{
 "cells": [
  {
   "cell_type": "markdown",
   "metadata": {},
   "source": [
    "# Sparkify Project Workspace\n",
    "This workspace contains a tiny subset (128MB) of the full dataset available (12GB). Feel free to use this workspace to build your project, or to explore a smaller subset with Spark before deploying your cluster on the cloud. Instructions for setting up your Spark cluster is included in the last lesson of the Extracurricular Spark Course content.\n",
    "\n",
    "You can follow the steps below to guide your data analysis and model building portion of this project."
   ]
  },
  {
   "cell_type": "code",
   "execution_count": 1,
   "metadata": {},
   "outputs": [],
   "source": [
    "# import libraries\n",
    "from pyspark.sql import SparkSession, Window\n",
    "import pyspark.sql.functions as F\n",
    "from pyspark.sql.types import IntegerType\n",
    "#from pyspark import SparkFiles\n",
    "#from pyspark.sql.functions import avg, col, concat, count, desc, \\\n",
    "#asc, explode, lit, min, max, split, stddev, udf, isnan, when, rank, \\\n",
    "#log, sqrt, cbrt, exp, sum\n",
    "\n",
    "from pyspark.ml import Pipeline\n",
    "from pyspark.ml.classification import LogisticRegression, \\\n",
    "LogisticRegressionModel, RandomForestClassifier, \\\n",
    "RandomForestClassificationModel, GBTClassifier, \\\n",
    "GBTClassificationModel\n",
    "from pyspark.ml.evaluation import MulticlassClassificationEvaluator\n",
    "from pyspark.mllib.evaluation import MulticlassMetrics\n",
    "\n",
    "from pyspark.ml.feature import CountVectorizer, IDF, Normalizer, \\\n",
    "PCA, RegexTokenizer, Tokenizer, StandardScaler, StopWordsRemover, \\\n",
    "StringIndexer, VectorAssembler, MaxAbsScaler\n",
    "from pyspark.ml.regression import LinearRegression\n",
    "from pyspark.ml.clustering import KMeans\n",
    "from pyspark.ml.tuning import CrossValidator, ParamGridBuilder\n",
    "\n",
    "from time import time\n",
    "import re\n",
    "import numpy as np\n",
    "import scipy\n",
    "import pandas as pd\n",
    "import datetime\n",
    "import matplotlib.pyplot as plt\n",
    "from pandas.plotting import scatter_matrix\n",
    "import seaborn as sns\n",
    "import random\n",
    "%matplotlib inline\n",
    "random.seed(42)"
   ]
  },
  {
   "cell_type": "markdown",
   "metadata": {},
   "source": [
    "Here's the related [class video](https://youtu.be/ZMSzkDG1BSQ) to create a Spark session. If we use getOrCreate(), if the session alreafy exists, we update it, if it does not exist, a new one will be created. "
   ]
  },
  {
   "cell_type": "code",
   "execution_count": 2,
   "metadata": {},
   "outputs": [],
   "source": [
    "# create a Spark session by instantiating a spark object\n",
    "def create_spark_session():\n",
    "    spark = SparkSession\\\n",
    "    .builder \\\n",
    "    .master(\"local\") \\\n",
    "    .appName(\"sparkify\") \\\n",
    "    .config(\"config option\", \"config value\") \\\n",
    "    .getOrCreate()\n",
    "    print('Spark parameters:')\n",
    "    [print(parameter) for parameter in spark.sparkContext.getConf().getAll()]\n",
    "\n",
    "    return spark"
   ]
  },
  {
   "cell_type": "code",
   "execution_count": 3,
   "metadata": {},
   "outputs": [
    {
     "name": "stdout",
     "output_type": "stream",
     "text": [
      "Spark parameters:\n",
      "('spark.master', 'local')\n",
      "('spark.driver.port', '43751')\n",
      "('spark.app.name', 'sparkify')\n",
      "('spark.rdd.compress', 'True')\n",
      "('spark.serializer.objectStreamReset', '100')\n",
      "('config option', 'config value')\n",
      "('spark.executor.id', 'driver')\n",
      "('spark.submit.deployMode', 'client')\n",
      "('spark.driver.host', '79614a7977c6')\n",
      "('spark.ui.showConsoleProgress', 'true')\n",
      "('spark.app.id', 'local-1631216679436')\n"
     ]
    },
    {
     "data": {
      "text/html": [
       "\n",
       "            <div>\n",
       "                <p><b>SparkSession - in-memory</b></p>\n",
       "                \n",
       "        <div>\n",
       "            <p><b>SparkContext</b></p>\n",
       "\n",
       "            <p><a href=\"http://79614a7977c6:4040\">Spark UI</a></p>\n",
       "\n",
       "            <dl>\n",
       "              <dt>Version</dt>\n",
       "                <dd><code>v2.4.3</code></dd>\n",
       "              <dt>Master</dt>\n",
       "                <dd><code>local</code></dd>\n",
       "              <dt>AppName</dt>\n",
       "                <dd><code>sparkify</code></dd>\n",
       "            </dl>\n",
       "        </div>\n",
       "        \n",
       "            </div>\n",
       "        "
      ],
      "text/plain": [
       "<pyspark.sql.session.SparkSession at 0x7fa40ef20f28>"
      ]
     },
     "execution_count": 3,
     "metadata": {},
     "output_type": "execute_result"
    }
   ],
   "source": [
    "# Get session details\n",
    "spark = create_spark_session()\n",
    "spark"
   ]
  },
  {
   "cell_type": "markdown",
   "metadata": {},
   "source": [
    "# Load and Clean Dataset\n",
    "In this workspace, the mini-dataset file is `mini_sparkify_event_data.json`. Load and clean the dataset, checking for invalid or missing data - for example, records without userids or sessionids. "
   ]
  },
  {
   "cell_type": "markdown",
   "metadata": {},
   "source": [
    "### Load Dataset"
   ]
  },
  {
   "cell_type": "code",
   "execution_count": 4,
   "metadata": {},
   "outputs": [],
   "source": [
    "def load_dataset(spark, path = 'mini_sparkify_event_data.json'):\n",
    "    print(f'Readinng File: {path}')\n",
    "    df = spark.read.json(path)\n",
    "    print(f'Columns in dataset: {df.columns}')\n",
    "    print(f'Datatypes in dataset: {df.persist()}')\n",
    "    print(f'First DataFrame record: {df.head()}')\n",
    "\n",
    "    return df"
   ]
  },
  {
   "cell_type": "code",
   "execution_count": 5,
   "metadata": {},
   "outputs": [
    {
     "name": "stdout",
     "output_type": "stream",
     "text": [
      "Readinng File: mini_sparkify_event_data.json\n",
      "Columns in dataset: ['artist', 'auth', 'firstName', 'gender', 'itemInSession', 'lastName', 'length', 'level', 'location', 'method', 'page', 'registration', 'sessionId', 'song', 'status', 'ts', 'userAgent', 'userId']\n",
      "Datatypes in dataset: DataFrame[artist: string, auth: string, firstName: string, gender: string, itemInSession: bigint, lastName: string, length: double, level: string, location: string, method: string, page: string, registration: bigint, sessionId: bigint, song: string, status: bigint, ts: bigint, userAgent: string, userId: string]\n",
      "First DataFrame record: Row(artist='Martha Tilston', auth='Logged In', firstName='Colin', gender='M', itemInSession=50, lastName='Freeman', length=277.89016, level='paid', location='Bakersfield, CA', method='PUT', page='NextSong', registration=1538173362000, sessionId=29, song='Rockpools', status=200, ts=1538352117000, userAgent='Mozilla/5.0 (Windows NT 6.1; WOW64; rv:31.0) Gecko/20100101 Firefox/31.0', userId='30')\n"
     ]
    }
   ],
   "source": [
    "df = load_dataset(spark)"
   ]
  },
  {
   "cell_type": "code",
   "execution_count": 7,
   "metadata": {},
   "outputs": [
    {
     "data": {
      "text/plain": [
       "pyspark.sql.dataframe.DataFrame"
      ]
     },
     "execution_count": 7,
     "metadata": {},
     "output_type": "execute_result"
    }
   ],
   "source": [
    "# pyspark DataFrame\n",
    "type(df)"
   ]
  },
  {
   "cell_type": "code",
   "execution_count": 8,
   "metadata": {},
   "outputs": [
    {
     "data": {
      "text/plain": [
       "286500"
      ]
     },
     "execution_count": 8,
     "metadata": {},
     "output_type": "execute_result"
    }
   ],
   "source": [
    "# number of DataFrame rows\n",
    "df.count()"
   ]
  },
  {
   "cell_type": "code",
   "execution_count": 9,
   "metadata": {},
   "outputs": [
    {
     "data": {
      "text/plain": [
       "['artist',\n",
       " 'auth',\n",
       " 'firstName',\n",
       " 'gender',\n",
       " 'itemInSession',\n",
       " 'lastName',\n",
       " 'length',\n",
       " 'level',\n",
       " 'location',\n",
       " 'method',\n",
       " 'page',\n",
       " 'registration',\n",
       " 'sessionId',\n",
       " 'song',\n",
       " 'status',\n",
       " 'ts',\n",
       " 'userAgent',\n",
       " 'userId']"
      ]
     },
     "execution_count": 9,
     "metadata": {},
     "output_type": "execute_result"
    }
   ],
   "source": [
    "# number of DataFrame columns\n",
    "df.columns"
   ]
  },
  {
   "cell_type": "code",
   "execution_count": 10,
   "metadata": {},
   "outputs": [
    {
     "data": {
      "text/plain": [
       "DataFrame[artist: string, auth: string, firstName: string, gender: string, itemInSession: bigint, lastName: string, length: double, level: string, location: string, method: string, page: string, registration: bigint, sessionId: bigint, song: string, status: bigint, ts: bigint, userAgent: string, userId: string]"
      ]
     },
     "execution_count": 10,
     "metadata": {},
     "output_type": "execute_result"
    }
   ],
   "source": [
    "# check datatypes\n",
    "df.persist()"
   ]
  },
  {
   "cell_type": "code",
   "execution_count": 11,
   "metadata": {},
   "outputs": [
    {
     "name": "stdout",
     "output_type": "stream",
     "text": [
      "root\n",
      " |-- artist: string (nullable = true)\n",
      " |-- auth: string (nullable = true)\n",
      " |-- firstName: string (nullable = true)\n",
      " |-- gender: string (nullable = true)\n",
      " |-- itemInSession: long (nullable = true)\n",
      " |-- lastName: string (nullable = true)\n",
      " |-- length: double (nullable = true)\n",
      " |-- level: string (nullable = true)\n",
      " |-- location: string (nullable = true)\n",
      " |-- method: string (nullable = true)\n",
      " |-- page: string (nullable = true)\n",
      " |-- registration: long (nullable = true)\n",
      " |-- sessionId: long (nullable = true)\n",
      " |-- song: string (nullable = true)\n",
      " |-- status: long (nullable = true)\n",
      " |-- ts: long (nullable = true)\n",
      " |-- userAgent: string (nullable = true)\n",
      " |-- userId: string (nullable = true)\n",
      "\n"
     ]
    }
   ],
   "source": [
    "# print Schema\n",
    "df.printSchema()"
   ]
  },
  {
   "cell_type": "code",
   "execution_count": 12,
   "metadata": {},
   "outputs": [
    {
     "name": "stdout",
     "output_type": "stream",
     "text": [
      "+----------------+---------+---------+------+-------------+--------+---------+-----+--------------------+------+--------+-------------+---------+-----------------+------+-------------+--------------------+------+\n",
      "|          artist|     auth|firstName|gender|itemInSession|lastName|   length|level|            location|method|    page| registration|sessionId|             song|status|           ts|           userAgent|userId|\n",
      "+----------------+---------+---------+------+-------------+--------+---------+-----+--------------------+------+--------+-------------+---------+-----------------+------+-------------+--------------------+------+\n",
      "|  Martha Tilston|Logged In|    Colin|     M|           50| Freeman|277.89016| paid|     Bakersfield, CA|   PUT|NextSong|1538173362000|       29|        Rockpools|   200|1538352117000|Mozilla/5.0 (Wind...|    30|\n",
      "|Five Iron Frenzy|Logged In|    Micah|     M|           79|    Long|236.09424| free|Boston-Cambridge-...|   PUT|NextSong|1538331630000|        8|           Canada|   200|1538352180000|\"Mozilla/5.0 (Win...|     9|\n",
      "|    Adam Lambert|Logged In|    Colin|     M|           51| Freeman| 282.8273| paid|     Bakersfield, CA|   PUT|NextSong|1538173362000|       29|Time For Miracles|   200|1538352394000|Mozilla/5.0 (Wind...|    30|\n",
      "+----------------+---------+---------+------+-------------+--------+---------+-----+--------------------+------+--------+-------------+---------+-----------------+------+-------------+--------------------+------+\n",
      "only showing top 3 rows\n",
      "\n"
     ]
    }
   ],
   "source": [
    "# show the first 3 rows of the dataframe\n",
    "df.show(n=3)"
   ]
  },
  {
   "cell_type": "code",
   "execution_count": 13,
   "metadata": {},
   "outputs": [
    {
     "data": {
      "text/plain": [
       "[Row(artist='Martha Tilston', auth='Logged In', firstName='Colin', gender='M', itemInSession=50, lastName='Freeman', length=277.89016, level='paid', location='Bakersfield, CA', method='PUT', page='NextSong', registration=1538173362000, sessionId=29, song='Rockpools', status=200, ts=1538352117000, userAgent='Mozilla/5.0 (Windows NT 6.1; WOW64; rv:31.0) Gecko/20100101 Firefox/31.0', userId='30'),\n",
       " Row(artist='Five Iron Frenzy', auth='Logged In', firstName='Micah', gender='M', itemInSession=79, lastName='Long', length=236.09424, level='free', location='Boston-Cambridge-Newton, MA-NH', method='PUT', page='NextSong', registration=1538331630000, sessionId=8, song='Canada', status=200, ts=1538352180000, userAgent='\"Mozilla/5.0 (Windows NT 6.1; WOW64) AppleWebKit/537.36 (KHTML, like Gecko) Chrome/37.0.2062.103 Safari/537.36\"', userId='9')]"
      ]
     },
     "execution_count": 13,
     "metadata": {},
     "output_type": "execute_result"
    }
   ],
   "source": [
    "# use the take() method to see the first two reccords \n",
    "df.take(2)"
   ]
  },
  {
   "cell_type": "code",
   "execution_count": 14,
   "metadata": {},
   "outputs": [
    {
     "name": "stdout",
     "output_type": "stream",
     "text": [
      "+------+\n",
      "|userId|\n",
      "+------+\n",
      "|    30|\n",
      "|     9|\n",
      "|    30|\n",
      "+------+\n",
      "only showing top 3 rows\n",
      "\n"
     ]
    }
   ],
   "source": [
    "# show the first five records of `userID` column\n",
    "df.select(\"userId\").show(3)"
   ]
  },
  {
   "cell_type": "markdown",
   "metadata": {},
   "source": [
    "### Getting to know the dataset \n",
    "\n",
    "Following up [this video](https://youtu.be/pDOlgj0FBdU)."
   ]
  },
  {
   "cell_type": "markdown",
   "metadata": {},
   "source": [
    "#### Apply `describe()` function on the entire DataFrame to visualize\n",
    "\n",
    "- count\n",
    "- mean\n",
    "- standard deviation\n",
    "- min\n",
    "- max\n",
    "\n",
    "values of each column\n",
    "\n",
    "We also have to add show() to get all information needed."
   ]
  },
  {
   "cell_type": "code",
   "execution_count": 15,
   "metadata": {},
   "outputs": [
    {
     "name": "stdout",
     "output_type": "stream",
     "text": [
      "+-------+------------------+----------+---------+------+------------------+--------+-----------------+------+-----------------+------+-------+--------------------+-----------------+--------------------+------------------+--------------------+--------------------+-----------------+\n",
      "|summary|            artist|      auth|firstName|gender|     itemInSession|lastName|           length| level|         location|method|   page|        registration|        sessionId|                song|            status|                  ts|           userAgent|           userId|\n",
      "+-------+------------------+----------+---------+------+------------------+--------+-----------------+------+-----------------+------+-------+--------------------+-----------------+--------------------+------------------+--------------------+--------------------+-----------------+\n",
      "|  count|            228108|    286500|   278154|278154|            286500|  278154|           228108|286500|           278154|286500| 286500|              278154|           286500|              228108|            286500|              286500|              278154|           286500|\n",
      "|   mean| 551.0852017937219|      null|     null|  null|114.41421291448516|    null|249.1171819778458|  null|             null|  null|   null|1.535358834084427...|1041.526554973822|            Infinity|210.05459685863875|1.540956889810483...|                null|59682.02278593872|\n",
      "| stddev|1217.7693079161374|      null|     null|  null|129.76726201140994|    null|99.23517921058361|  null|             null|  null|   null| 3.291321616327586E9|726.7762634630741|                 NaN| 31.50507848842214|1.5075439608226302E9|                null|109091.9499991047|\n",
      "|    min|               !!!| Cancelled| Adelaida|     F|                 0|   Adams|          0.78322|  free|       Albany, OR|   GET|  About|       1521380675000|                1|\u001c",
      "ÃÂg ÃÂtti Gr...|               200|       1538352117000|\"Mozilla/5.0 (Mac...|                 |\n",
      "|    max| ÃÂlafur Arnalds|Logged Out|   Zyonna|     M|              1321|  Wright|       3024.66567|  paid|Winston-Salem, NC|   PUT|Upgrade|       1543247354000|             2474|ÃÂau hafa slopp...|               404|       1543799476000|Mozilla/5.0 (comp...|               99|\n",
      "+-------+------------------+----------+---------+------+------------------+--------+-----------------+------+-----------------+------+-------+--------------------+-----------------+--------------------+------------------+--------------------+--------------------+-----------------+\n",
      "\n"
     ]
    }
   ],
   "source": [
    "df.describe().show()"
   ]
  },
  {
   "cell_type": "markdown",
   "metadata": {},
   "source": [
    "This is a bit messy. For a better visual approoach we need to get just some columns to show. Let's show `artist` **column** or better `artist` **field**."
   ]
  },
  {
   "cell_type": "code",
   "execution_count": 16,
   "metadata": {},
   "outputs": [
    {
     "name": "stdout",
     "output_type": "stream",
     "text": [
      "+-------+------------------+\n",
      "|summary|            artist|\n",
      "+-------+------------------+\n",
      "|  count|            228108|\n",
      "|   mean| 551.0852017937219|\n",
      "| stddev|1217.7693079161374|\n",
      "|    min|               !!!|\n",
      "|    max| ÃÂlafur Arnalds|\n",
      "+-------+------------------+\n",
      "\n"
     ]
    }
   ],
   "source": [
    "df.describe(\"artist\").show()"
   ]
  },
  {
   "cell_type": "markdown",
   "metadata": {},
   "source": [
    "Check out a numeric field:"
   ]
  },
  {
   "cell_type": "code",
   "execution_count": 17,
   "metadata": {},
   "outputs": [
    {
     "name": "stdout",
     "output_type": "stream",
     "text": [
      "+-------+-----------------+\n",
      "|summary|        sessionId|\n",
      "+-------+-----------------+\n",
      "|  count|           286500|\n",
      "|   mean|1041.526554973822|\n",
      "| stddev|726.7762634630741|\n",
      "|    min|                1|\n",
      "|    max|             2474|\n",
      "+-------+-----------------+\n",
      "\n"
     ]
    }
   ],
   "source": [
    "df.describe(\"sessionId\").show()"
   ]
  },
  {
   "cell_type": "markdown",
   "metadata": {},
   "source": [
    "#### Use `dropDuplicates()` \n",
    "we see each kind just once and with sort(), we sort them alphabetically."
   ]
  },
  {
   "cell_type": "code",
   "execution_count": 18,
   "metadata": {},
   "outputs": [
    {
     "name": "stdout",
     "output_type": "stream",
     "text": [
      "+---------------+\n",
      "|           page|\n",
      "+---------------+\n",
      "|          About|\n",
      "|     Add Friend|\n",
      "|Add to Playlist|\n",
      "+---------------+\n",
      "only showing top 3 rows\n",
      "\n"
     ]
    }
   ],
   "source": [
    "# check page requests\n",
    "df.select(\"page\").dropDuplicates().sort(\"page\").show(3)"
   ]
  },
  {
   "cell_type": "markdown",
   "metadata": {},
   "source": [
    "#### Get specific events \n",
    "Get events associated to a particular `userID` by firtering specific events. Get to know how a typical **user event log** might look like."
   ]
  },
  {
   "cell_type": "code",
   "execution_count": 19,
   "metadata": {},
   "outputs": [
    {
     "data": {
      "text/plain": [
       "[]"
      ]
     },
     "execution_count": 19,
     "metadata": {},
     "output_type": "execute_result"
    }
   ],
   "source": [
    "df.select([\"userId\", \"firstname\", \"page\", \"song\"]).where(df.userId == \"1046\").collect()\n",
    "# userId ised in the video is not available anymore"
   ]
  },
  {
   "cell_type": "code",
   "execution_count": 19,
   "metadata": {},
   "outputs": [
    {
     "data": {
      "text/plain": [
       "[]"
      ]
     },
     "execution_count": 19,
     "metadata": {},
     "output_type": "execute_result"
    }
   ],
   "source": [
    "df.select(['userID','firstName','page','song']).where(df.firstName == \"Kenneth\").collect() \n",
    "# Kenneth is not available anymore"
   ]
  },
  {
   "cell_type": "code",
   "execution_count": 20,
   "metadata": {},
   "outputs": [
    {
     "data": {
      "text/plain": [
       "[Row(userID='30', firstName='Colin', page='NextSong', song='Rockpools'),\n",
       " Row(userID='30', firstName='Colin', page='NextSong', song='Time For Miracles'),\n",
       " Row(userID='30', firstName='Colin', page='NextSong', song='Harder Better Faster Stronger'),\n",
       " Row(userID='30', firstName='Colin', page='NextSong', song='Passengers (Old Album Version)'),\n",
       " Row(userID='30', firstName='Colin', page='Add to Playlist', song=None),\n",
       " Row(userID='30', firstName='Colin', page='NextSong', song='Fuck Kitty'),\n",
       " Row(userID='30', firstName='Colin', page='NextSong', song='Jade'),\n",
       " Row(userID='30', firstName='Colin', page='NextSong', song='So-Called Friends'),\n",
       " Row(userID='30', firstName='Colin', page='NextSong', song='Represent'),\n",
       " Row(userID='30', firstName='Colin', page='NextSong', song='Here I Am'),\n",
       " Row(userID='30', firstName='Colin', page='NextSong', song='Rebirthing (Album Version)'),\n",
       " Row(userID='30', firstName='Colin', page='NextSong', song='Dog Days Are Over (Radio Edit)'),\n",
       " Row(userID='30', firstName='Colin', page='NextSong', song='Tomorrow Is A Long Time'),\n",
       " Row(userID='30', firstName='Colin', page='NextSong', song='Halloween Spooks'),\n",
       " Row(userID='30', firstName='Colin', page='NextSong', song='Stronger'),\n",
       " Row(userID='30', firstName='Colin', page='NextSong', song='Dis Iz Brick City'),\n",
       " Row(userID='30', firstName='Colin', page='NextSong', song='Move Along'),\n",
       " Row(userID='30', firstName='Colin', page='NextSong', song='Manhattan'),\n",
       " Row(userID='30', firstName='Colin', page='NextSong', song='Undo'),\n",
       " Row(userID='30', firstName='Colin', page='NextSong', song='The Big Gundown'),\n",
       " Row(userID='30', firstName='Colin', page='NextSong', song='Black Bird'),\n",
       " Row(userID='30', firstName='Colin', page='Thumbs Down', song=None),\n",
       " Row(userID='30', firstName='Colin', page='NextSong', song='Nausea'),\n",
       " Row(userID='30', firstName='Colin', page='NextSong', song='Matricide'),\n",
       " Row(userID='30', firstName='Colin', page='NextSong', song='Valerie'),\n",
       " Row(userID='30', firstName='Colin', page='NextSong', song='Margarita'),\n",
       " Row(userID='30', firstName='Colin', page='NextSong', song=\"Le Jardin d'Hiver\"),\n",
       " Row(userID='30', firstName='Colin', page='Thumbs Up', song=None),\n",
       " Row(userID='30', firstName='Colin', page='NextSong', song='Soon As I Get Home(Album Version)'),\n",
       " Row(userID='30', firstName='Colin', page='Thumbs Up', song=None),\n",
       " Row(userID='30', firstName='Colin', page='NextSong', song='Vamos a la Playa'),\n",
       " Row(userID='30', firstName='Colin', page='NextSong', song='Perfecta'),\n",
       " Row(userID='30', firstName='Colin', page='NextSong', song='Requiem'),\n",
       " Row(userID='30', firstName='Colin', page='NextSong', song='Who Can Compare'),\n",
       " Row(userID='30', firstName='Colin', page='NextSong', song='240 Years Before Your Time'),\n",
       " Row(userID='30', firstName='Colin', page='NextSong', song='Rosa Pastel'),\n",
       " Row(userID='30', firstName='Colin', page='Roll Advert', song=None),\n",
       " Row(userID='30', firstName='Colin', page='NextSong', song=\"I'm Ready (Album Version)\"),\n",
       " Row(userID='30', firstName='Colin', page='NextSong', song='No Other Saviour'),\n",
       " Row(userID='30', firstName='Colin', page='NextSong', song='Hints'),\n",
       " Row(userID='30', firstName='Colin', page='NextSong', song='Yellow'),\n",
       " Row(userID='30', firstName='Colin', page='Add to Playlist', song=None),\n",
       " Row(userID='30', firstName='Colin', page='NextSong', song='Kill The Director [Radio Edit]'),\n",
       " Row(userID='30', firstName='Colin', page='Add Friend', song=None),\n",
       " Row(userID='30', firstName='Colin', page='Home', song=None),\n",
       " Row(userID='30', firstName='Colin', page='NextSong', song='Third Party'),\n",
       " Row(userID='30', firstName='Colin', page='NextSong', song=\"It's Working\"),\n",
       " Row(userID='30', firstName='Colin', page='NextSong', song=\"I'll Remember April (Digitally Remastered 01)\"),\n",
       " Row(userID='30', firstName='Colin', page='NextSong', song='Atmosphere Station'),\n",
       " Row(userID='30', firstName='Colin', page='NextSong', song='There_ There'),\n",
       " Row(userID='30', firstName='Colin', page='NextSong', song=\"'Til We Die (Album Version)\"),\n",
       " Row(userID='30', firstName='Colin', page='NextSong', song='Lies (Album Version)'),\n",
       " Row(userID='30', firstName='Colin', page='NextSong', song='The Ballad of Michael Valentine'),\n",
       " Row(userID='30', firstName='Colin', page='NextSong', song='Gears'),\n",
       " Row(userID='30', firstName='Colin', page='NextSong', song='These Eyes'),\n",
       " Row(userID='30', firstName='Colin', page='Help', song=None),\n",
       " Row(userID='30', firstName='Colin', page='Home', song=None),\n",
       " Row(userID='30', firstName='Colin', page='NextSong', song='Stronger'),\n",
       " Row(userID='30', firstName='Colin', page='NextSong', song='This Is Such A Pity'),\n",
       " Row(userID='30', firstName='Colin', page='NextSong', song='Strut (1993 Digital Remaster)'),\n",
       " Row(userID='30', firstName='Colin', page='NextSong', song='Fader'),\n",
       " Row(userID='30', firstName='Colin', page='NextSong', song='Se Quiere_ Se Mata'),\n",
       " Row(userID='30', firstName='Colin', page='NextSong', song='Somewhere'),\n",
       " Row(userID='30', firstName='Colin', page='NextSong', song='Canada'),\n",
       " Row(userID='30', firstName='Colin', page='NextSong', song='Dream On Dreamer'),\n",
       " Row(userID='30', firstName='Colin', page='NextSong', song='HÃ\\x83Â¡ Uma MÃ\\x83Âºsica Do Povo (Live)'),\n",
       " Row(userID='30', firstName='Colin', page='NextSong', song=\"Money Ain't A Thang\"),\n",
       " Row(userID='30', firstName='Colin', page='NextSong', song='Howlin\\x19 For You'),\n",
       " Row(userID='30', firstName='Colin', page='NextSong', song='Fireflies'),\n",
       " Row(userID='30', firstName='Colin', page='NextSong', song='Stadium Love'),\n",
       " Row(userID='30', firstName='Colin', page='Downgrade', song=None),\n",
       " Row(userID='30', firstName='Colin', page='NextSong', song='Again & Again'),\n",
       " Row(userID='30', firstName='Colin', page='NextSong', song='The Trooper (1998 Digital Remaster)'),\n",
       " Row(userID='30', firstName='Colin', page='NextSong', song='Get Off My Elevator'),\n",
       " Row(userID='30', firstName='Colin', page='NextSong', song='Speed Trials'),\n",
       " Row(userID='30', firstName='Colin', page='NextSong', song='Invalid'),\n",
       " Row(userID='30', firstName='Colin', page='NextSong', song='Frenchy\\x19s'),\n",
       " Row(userID='30', firstName='Colin', page='NextSong', song='Between Two Lungs'),\n",
       " Row(userID='30', firstName='Colin', page='NextSong', song='Hiding'),\n",
       " Row(userID='30', firstName='Colin', page='NextSong', song='Alone Again (Naturally)'),\n",
       " Row(userID='30', firstName='Colin', page='NextSong', song='You Found Me'),\n",
       " Row(userID='30', firstName='Colin', page='NextSong', song='Our Song'),\n",
       " Row(userID='30', firstName='Colin', page='NextSong', song='Rock Hard'),\n",
       " Row(userID='30', firstName='Colin', page='NextSong', song='Waiting For Tonight'),\n",
       " Row(userID='30', firstName='Colin', page='NextSong', song='Pioneer to The Falls'),\n",
       " Row(userID='30', firstName='Colin', page='NextSong', song=\"You're The One\"),\n",
       " Row(userID='30', firstName='Colin', page='NextSong', song='Trash And Ready'),\n",
       " Row(userID='30', firstName='Colin', page='NextSong', song=\"Keep On Movin'\"),\n",
       " Row(userID='30', firstName='Colin', page='NextSong', song='Quase Um Segundo'),\n",
       " Row(userID='30', firstName='Colin', page='NextSong', song='Costumbres Argentinas'),\n",
       " Row(userID='30', firstName='Colin', page='NextSong', song='Nine Times Out Of Ten (1998 Digital Remaster)'),\n",
       " Row(userID='30', firstName='Colin', page='NextSong', song='Bass Solo'),\n",
       " Row(userID='30', firstName='Colin', page='NextSong', song='The Memory Remains'),\n",
       " Row(userID='30', firstName='Colin', page='NextSong', song='Clock'),\n",
       " Row(userID='30', firstName='Colin', page='NextSong', song='I Don\\x19t Wanna Go To The Party'),\n",
       " Row(userID='30', firstName='Colin', page='NextSong', song=\"She's So Cold\"),\n",
       " Row(userID='30', firstName='Colin', page='NextSong', song='Drops In The River'),\n",
       " Row(userID='30', firstName='Colin', page='NextSong', song='Didgeridoo'),\n",
       " Row(userID='30', firstName='Colin', page='NextSong', song='Sex_ Love & Money'),\n",
       " Row(userID='30', firstName='Colin', page='NextSong', song='Rayando el sol'),\n",
       " Row(userID='30', firstName='Colin', page='NextSong', song='Lights And Sounds'),\n",
       " Row(userID='30', firstName='Colin', page='NextSong', song='You Make Me Wanna...'),\n",
       " Row(userID='30', firstName='Colin', page='NextSong', song=\"When It's Love (Remastered Album Version)\"),\n",
       " Row(userID='30', firstName='Colin', page='NextSong', song='Red Tide'),\n",
       " Row(userID='30', firstName='Colin', page='NextSong', song='Man Of Two Minds'),\n",
       " Row(userID='30', firstName='Colin', page='NextSong', song='Ruled By Secrecy'),\n",
       " Row(userID='30', firstName='Colin', page='NextSong', song='Untitled #5'),\n",
       " Row(userID='30', firstName='Colin', page='NextSong', song='Misery Business (Single Version)'),\n",
       " Row(userID='30', firstName='Colin', page='NextSong', song='Hold My Heart'),\n",
       " Row(userID='30', firstName='Colin', page='NextSong', song='Risen (Rolling Stone Original)'),\n",
       " Row(userID='30', firstName='Colin', page='NextSong', song='Sonne'),\n",
       " Row(userID='30', firstName='Colin', page='Thumbs Up', song=None),\n",
       " Row(userID='30', firstName='Colin', page='NextSong', song='Out Of Exile'),\n",
       " Row(userID='30', firstName='Colin', page='Thumbs Up', song=None),\n",
       " Row(userID='30', firstName='Colin', page='NextSong', song='Old Yellow Bricks'),\n",
       " Row(userID='30', firstName='Colin', page='NextSong', song='GalÃ\\x83Â©rer'),\n",
       " Row(userID='30', firstName='Colin', page='NextSong', song='Casting A Spell (Remixed) (1998 Digital Remaster)'),\n",
       " Row(userID='30', firstName='Colin', page='NextSong', song='Operation Uppsala'),\n",
       " Row(userID='30', firstName='Colin', page='NextSong', song='Detached (Album Version)'),\n",
       " Row(userID='30', firstName='Colin', page='NextSong', song='Echo Beach (2002 Digital Remaster)'),\n",
       " Row(userID='30', firstName='Colin', page='NextSong', song='Te Va A Doler'),\n",
       " Row(userID='30', firstName='Colin', page='NextSong', song='paranoid android'),\n",
       " Row(userID='30', firstName='Colin', page='Home', song=None),\n",
       " Row(userID='30', firstName='Colin', page='NextSong', song='Banned from Heaven'),\n",
       " Row(userID='30', firstName='Colin', page='NextSong', song='Trashcan'),\n",
       " Row(userID='30', firstName='Colin', page='NextSong', song='Go Go Gadget Flow (Explicit Album Version)'),\n",
       " Row(userID='30', firstName='Colin', page='NextSong', song='Home For A Rest'),\n",
       " Row(userID='30', firstName='Colin', page='NextSong', song=\"When You're Gone\"),\n",
       " Row(userID='30', firstName='Colin', page='NextSong', song='The Slam (Welcome To Diverse City Album Version)'),\n",
       " Row(userID='30', firstName='Colin', page='NextSong', song='You Raise Me Up'),\n",
       " Row(userID='30', firstName='Colin', page='Add to Playlist', song=None),\n",
       " Row(userID='30', firstName='Colin', page='NextSong', song='There Is A Light That Never Goes Out'),\n",
       " Row(userID='30', firstName='Colin', page='NextSong', song='The High Way'),\n",
       " Row(userID='30', firstName='Colin', page='Thumbs Up', song=None),\n",
       " Row(userID='30', firstName='Colin', page='Add to Playlist', song=None),\n",
       " Row(userID='30', firstName='Colin', page='NextSong', song=\"The Final Episode (Let's Change The Channel)\"),\n",
       " Row(userID='30', firstName='Colin', page='NextSong', song='Candy'),\n",
       " Row(userID='30', firstName='Colin', page='Thumbs Up', song=None),\n",
       " Row(userID='30', firstName='Colin', page='Add to Playlist', song=None),\n",
       " Row(userID='30', firstName='Colin', page='NextSong', song='re:stacks'),\n",
       " Row(userID='30', firstName='Colin', page='Add to Playlist', song=None),\n",
       " Row(userID='30', firstName='Colin', page='NextSong', song='Converting Vegetarians'),\n",
       " Row(userID='30', firstName='Colin', page='NextSong', song='Airwar'),\n",
       " Row(userID='30', firstName='Colin', page='NextSong', song='Unplayed Piano (Chris Lord-Alge Mix)'),\n",
       " Row(userID='30', firstName='Colin', page='NextSong', song=\"Don't Mean Nothing\"),\n",
       " Row(userID='30', firstName='Colin', page='NextSong', song='Let Me'),\n",
       " Row(userID='30', firstName='Colin', page='NextSong', song='Ã\\x82Â¿Por quÃ\\x83Â© te vas?'),\n",
       " Row(userID='30', firstName='Colin', page='NextSong', song='In My Place'),\n",
       " Row(userID='30', firstName='Colin', page='NextSong', song='Beautiful'),\n",
       " Row(userID='30', firstName='Colin', page='Thumbs Up', song=None),\n",
       " Row(userID='30', firstName='Colin', page='NextSong', song='Miniature Disasters'),\n",
       " Row(userID='30', firstName='Colin', page='NextSong', song='Brothers In Arms'),\n",
       " Row(userID='30', firstName='Colin', page='Home', song=None),\n",
       " Row(userID='30', firstName='Colin', page='NextSong', song='Billy Breathes'),\n",
       " Row(userID='30', firstName='Colin', page='NextSong', song='Revelry'),\n",
       " Row(userID='30', firstName='Colin', page='NextSong', song='Ignition'),\n",
       " Row(userID='30', firstName='Colin', page='Add Friend', song=None),\n",
       " Row(userID='30', firstName='Colin', page='NextSong', song='Sweet Escape'),\n",
       " Row(userID='30', firstName='Colin', page='NextSong', song='Disturbia Money'),\n",
       " Row(userID='30', firstName='Colin', page='NextSong', song='15 Step'),\n",
       " Row(userID='30', firstName='Colin', page='NextSong', song=\"Surfin' Bird\"),\n",
       " Row(userID='30', firstName='Colin', page='Thumbs Up', song=None),\n",
       " Row(userID='30', firstName='Colin', page='NextSong', song='Strange Machines'),\n",
       " Row(userID='30', firstName='Colin', page='NextSong', song='DÃ\\x83Â¬'),\n",
       " Row(userID='30', firstName='Colin', page='NextSong', song='Devotion And Desire'),\n",
       " Row(userID='30', firstName='Colin', page='NextSong', song='The Fire Still Burns'),\n",
       " Row(userID='30', firstName='Colin', page='NextSong', song='My Little Brother'),\n",
       " Row(userID='30', firstName='Colin', page='NextSong', song=\"These Things You Can't Unlearn\"),\n",
       " Row(userID='30', firstName='Colin', page='NextSong', song='Nobody (Featuring Athena Cage) (LP Version)'),\n",
       " Row(userID='30', firstName='Colin', page='NextSong', song='Mr. Jones'),\n",
       " Row(userID='30', firstName='Colin', page='NextSong', song='You Had Me At Hello'),\n",
       " Row(userID='30', firstName='Colin', page='NextSong', song='Rally'),\n",
       " Row(userID='30', firstName='Colin', page='NextSong', song=\"Adam's Song\"),\n",
       " Row(userID='30', firstName='Colin', page='NextSong', song='Too Much'),\n",
       " Row(userID='30', firstName='Colin', page='NextSong', song=\"I'm On A Boat\"),\n",
       " Row(userID='30', firstName='Colin', page='NextSong', song='Questo Pazzo Pazzo Mondo Di Tasse'),\n",
       " Row(userID='30', firstName='Colin', page='NextSong', song='You Are Not Stubborn'),\n",
       " Row(userID='30', firstName='Colin', page='NextSong', song='P.I.M.P.'),\n",
       " Row(userID='30', firstName='Colin', page='NextSong', song='Explosive'),\n",
       " Row(userID='30', firstName='Colin', page='NextSong', song='Conteo'),\n",
       " Row(userID='30', firstName='Colin', page='NextSong', song='Blue'),\n",
       " Row(userID='30', firstName='Colin', page='Thumbs Up', song=None),\n",
       " Row(userID='30', firstName='Colin', page='NextSong', song='These Days'),\n",
       " Row(userID='30', firstName='Colin', page='Home', song=None),\n",
       " Row(userID='30', firstName='Colin', page='NextSong', song='Twenty-Six Temptations (Album version)'),\n",
       " Row(userID='30', firstName='Colin', page='NextSong', song='Janglin'),\n",
       " Row(userID='30', firstName='Colin', page='NextSong', song='I Write Sins Not Tragedies [Live In Chicago]'),\n",
       " Row(userID='30', firstName='Colin', page='NextSong', song='Wore Out'),\n",
       " Row(userID='30', firstName='Colin', page='NextSong', song='JOG-O-MOTION PART 1'),\n",
       " Row(userID='30', firstName='Colin', page='Thumbs Up', song=None),\n",
       " Row(userID='30', firstName='Colin', page='NextSong', song='No Remorse'),\n",
       " Row(userID='30', firstName='Colin', page='NextSong', song='Small'),\n",
       " Row(userID='30', firstName='Colin', page='NextSong', song='Cover Me'),\n",
       " Row(userID='30', firstName='Colin', page='NextSong', song='No Air duet with Chris Brown'),\n",
       " Row(userID='30', firstName='Colin', page='NextSong', song='Between Us And Them'),\n",
       " Row(userID='30', firstName='Colin', page='NextSong', song='ParaÃ\\x83Â\\xadso'),\n",
       " Row(userID='30', firstName='Colin', page='NextSong', song='Untitled'),\n",
       " Row(userID='30', firstName='Colin', page='NextSong', song='Fire With Fire'),\n",
       " Row(userID='30', firstName='Colin', page='NextSong', song='Rainbow'),\n",
       " Row(userID='30', firstName='Colin', page='NextSong', song='Dusk Till Dawn'),\n",
       " Row(userID='30', firstName='Colin', page='NextSong', song='Three Pope (feat. Monty Alexander)'),\n",
       " Row(userID='30', firstName='Colin', page='NextSong', song='She Hates Me'),\n",
       " Row(userID='30', firstName='Colin', page='NextSong', song=\"You'll Be In My Heart\"),\n",
       " Row(userID='30', firstName='Colin', page='NextSong', song='The Bunting Song'),\n",
       " Row(userID='30', firstName='Colin', page='NextSong', song='Beer'),\n",
       " Row(userID='30', firstName='Colin', page='NextSong', song='With Or Without You'),\n",
       " Row(userID='30', firstName='Colin', page='NextSong', song='Going North [Commentary]'),\n",
       " Row(userID='30', firstName='Colin', page='NextSong', song='Greece 2000'),\n",
       " Row(userID='30', firstName='Colin', page='NextSong', song='What A Feeling'),\n",
       " Row(userID='30', firstName='Colin', page='Thumbs Up', song=None),\n",
       " Row(userID='30', firstName='Colin', page='NextSong', song='The Legend of Finn MacCumhail (Album Version)'),\n",
       " Row(userID='30', firstName='Colin', page='NextSong', song='Love Story'),\n",
       " Row(userID='30', firstName='Colin', page='Add Friend', song=None),\n",
       " Row(userID='30', firstName='Colin', page='Add Friend', song=None),\n",
       " Row(userID='30', firstName='Colin', page='NextSong', song='Gafas de pasta'),\n",
       " Row(userID='30', firstName='Colin', page='Add to Playlist', song=None),\n",
       " Row(userID='30', firstName='Colin', page='NextSong', song=\"You've Got A Friend (Live Version)\"),\n",
       " Row(userID='30', firstName='Colin', page='NextSong', song='Diamonds From Sierra Leone'),\n",
       " Row(userID='30', firstName='Colin', page='NextSong', song='No Use'),\n",
       " Row(userID='30', firstName='Colin', page='Settings', song=None),\n",
       " Row(userID='30', firstName='Colin', page='NextSong', song='Bring Me To Life'),\n",
       " Row(userID='30', firstName='Colin', page='NextSong', song='Be Like You'),\n",
       " Row(userID='30', firstName='Colin', page='NextSong', song='U.S. History'),\n",
       " Row(userID='30', firstName='Colin', page='NextSong', song='La Cocinera'),\n",
       " Row(userID='30', firstName='Colin', page='Thumbs Up', song=None),\n",
       " Row(userID='30', firstName='Colin', page='NextSong', song='All Summer Long'),\n",
       " Row(userID='30', firstName='Colin', page='NextSong', song=\"D'Evils\"),\n",
       " Row(userID='30', firstName='Colin', page='NextSong', song='Hard To Concentrate (Album Version)'),\n",
       " Row(userID='30', firstName='Colin', page='NextSong', song='Bad Omen (24-Bit Digitally Remastered 04) ()'),\n",
       " Row(userID='30', firstName='Colin', page='NextSong', song='Put Your Hands Up For Detroit'),\n",
       " Row(userID='30', firstName='Colin', page='NextSong', song='Bad Trails'),\n",
       " Row(userID='30', firstName='Colin', page='NextSong', song='Bring Me Down'),\n",
       " Row(userID='30', firstName='Colin', page='NextSong', song='Last Time (Album Version)'),\n",
       " Row(userID='30', firstName='Colin', page='NextSong', song='Apply Some Pressure'),\n",
       " Row(userID='30', firstName='Colin', page='NextSong', song='Tailor Made'),\n",
       " Row(userID='30', firstName='Colin', page='NextSong', song='I Can Tell'),\n",
       " Row(userID='30', firstName='Colin', page='NextSong', song='Angels We Have Heard On High'),\n",
       " Row(userID='30', firstName='Colin', page='Add to Playlist', song=None),\n",
       " Row(userID='30', firstName='Colin', page='NextSong', song='Catch You Baby (Steve Pitron & Max Sanna Radio Edit)'),\n",
       " Row(userID='30', firstName='Colin', page='NextSong', song='Picture Perfect'),\n",
       " Row(userID='30', firstName='Colin', page='Error', song=None),\n",
       " Row(userID='30', firstName='Colin', page='NextSong', song='Ours Alone'),\n",
       " Row(userID='30', firstName='Colin', page='NextSong', song='Master Of Puppets'),\n",
       " Row(userID='30', firstName='Colin', page='NextSong', song='Costruire'),\n",
       " Row(userID='30', firstName='Colin', page='NextSong', song='Sparks'),\n",
       " Row(userID='30', firstName='Colin', page='NextSong', song='Wildlife'),\n",
       " Row(userID='30', firstName='Colin', page='NextSong', song='Hello'),\n",
       " Row(userID='30', firstName='Colin', page='NextSong', song='Even If Kills Me (Cd)'),\n",
       " Row(userID='30', firstName='Colin', page='NextSong', song='Drinking In L.A.'),\n",
       " Row(userID='30', firstName='Colin', page='NextSong', song='Xehasmeni Melodia'),\n",
       " Row(userID='30', firstName='Colin', page='NextSong', song=\"You Can't Break A Broken Heart\"),\n",
       " Row(userID='30', firstName='Colin', page='Downgrade', song=None),\n",
       " Row(userID='30', firstName='Colin', page='NextSong', song='Truth In The Age Of Lies (Album Version)'),\n",
       " Row(userID='30', firstName='Colin', page='NextSong', song='Donde Vamos'),\n",
       " Row(userID='30', firstName='Colin', page='NextSong', song=\"Lady '95\"),\n",
       " Row(userID='30', firstName='Colin', page='NextSong', song='Horseshoes and Hand Grenades'),\n",
       " Row(userID='30', firstName='Colin', page='NextSong', song='Jamaica Roots II(Agora E Sempre)'),\n",
       " Row(userID='30', firstName='Colin', page='Downgrade', song=None),\n",
       " Row(userID='30', firstName='Colin', page='Submit Downgrade', song=None),\n",
       " Row(userID='30', firstName='Colin', page='Home', song=None),\n",
       " Row(userID='30', firstName='Colin', page='NextSong', song='Crimewave (Crystal Castles vs Health)'),\n",
       " Row(userID='30', firstName='Colin', page='NextSong', song='Hey (Album Version)'),\n",
       " Row(userID='30', firstName='Colin', page='NextSong', song='I Believe In Forever'),\n",
       " Row(userID='30', firstName='Colin', page='Add to Playlist', song=None),\n",
       " Row(userID='30', firstName='Colin', page='NextSong', song=\"Don't Stop The Music\"),\n",
       " Row(userID='30', firstName='Colin', page='NextSong', song='City Of The Dead'),\n",
       " Row(userID='30', firstName='Colin', page='NextSong', song='Too Afraid To Love'),\n",
       " Row(userID='30', firstName='Colin', page='Home', song=None),\n",
       " Row(userID='30', firstName='Colin', page='NextSong', song='Hasir'),\n",
       " Row(userID='30', firstName='Colin', page='NextSong', song='Bloat On (featuring the Bloaters) (LP Version)'),\n",
       " Row(userID='30', firstName='Colin', page='NextSong', song=\"Frisch und g'sund\"),\n",
       " Row(userID='30', firstName='Colin', page='NextSong', song='Boom Boom'),\n",
       " Row(userID='30', firstName='Colin', page='Thumbs Up', song=None),\n",
       " Row(userID='30', firstName='Colin', page='NextSong', song='Undo'),\n",
       " Row(userID='30', firstName='Colin', page='Add to Playlist', song=None),\n",
       " Row(userID='30', firstName='Colin', page='NextSong', song='Hunting For Witches'),\n",
       " Row(userID='30', firstName='Colin', page='NextSong', song='Blindsided'),\n",
       " Row(userID='30', firstName='Colin', page='NextSong', song='Survive'),\n",
       " Row(userID='30', firstName='Colin', page='NextSong', song='Alice'),\n",
       " Row(userID='30', firstName='Colin', page='NextSong', song='Dog Days Are Over (Radio Edit)'),\n",
       " Row(userID='30', firstName='Colin', page='NextSong', song=\"Lovin' You\"),\n",
       " Row(userID='30', firstName='Colin', page='NextSong', song=\"Everybody's Fool (Live in Europe)\"),\n",
       " Row(userID='30', firstName='Colin', page='NextSong', song='Jeune Et Con'),\n",
       " Row(userID='30', firstName='Colin', page='NextSong', song='Somebody (Loves You) (Explicit Album Version)'),\n",
       " Row(userID='30', firstName='Colin', page='NextSong', song='Not Big'),\n",
       " Row(userID='30', firstName='Colin', page='NextSong', song='Paint You'),\n",
       " Row(userID='30', firstName='Colin', page='NextSong', song='Block Of Ice'),\n",
       " Row(userID='30', firstName='Colin', page='Upgrade', song=None),\n",
       " Row(userID='30', firstName='Colin', page='NextSong', song='Sun It Rises'),\n",
       " Row(userID='30', firstName='Colin', page='Upgrade', song=None),\n",
       " Row(userID='30', firstName='Colin', page='NextSong', song='Paralyzer'),\n",
       " Row(userID='30', firstName='Colin', page='NextSong', song='Bleed It Out [Live At Milton Keynes]'),\n",
       " Row(userID='30', firstName='Colin', page='Add to Playlist', song=None),\n",
       " Row(userID='30', firstName='Colin', page='NextSong', song='Ven Conmigo (Solamente TÃ\\x83Âº)'),\n",
       " Row(userID='30', firstName='Colin', page='NextSong', song='Give In'),\n",
       " Row(userID='30', firstName='Colin', page='NextSong', song='Arrepentida'),\n",
       " Row(userID='30', firstName='Colin', page='NextSong', song=\"I Don't Want To Wait (Album Version)\"),\n",
       " Row(userID='30', firstName='Colin', page='NextSong', song='Down To The River To Pray'),\n",
       " Row(userID='30', firstName='Colin', page='NextSong', song='Castles In The Sky'),\n",
       " Row(userID='30', firstName='Colin', page='Thumbs Up', song=None),\n",
       " Row(userID='30', firstName='Colin', page='NextSong', song='Sitting On Top Of The World'),\n",
       " Row(userID='30', firstName='Colin', page='NextSong', song='The Way Things Go'),\n",
       " Row(userID='30', firstName='Colin', page='NextSong', song='Recruiting Soldiers (2002 Digital Remaster)'),\n",
       " Row(userID='30', firstName='Colin', page='Thumbs Up', song=None),\n",
       " Row(userID='30', firstName='Colin', page='NextSong', song='Clara meets Slope - Hard To Say'),\n",
       " Row(userID='30', firstName='Colin', page='NextSong', song='Timeless'),\n",
       " Row(userID='30', firstName='Colin', page='NextSong', song=\"Punta D'Alba\"),\n",
       " Row(userID='30', firstName='Colin', page='Roll Advert', song=None),\n",
       " Row(userID='30', firstName='Colin', page='NextSong', song=\"Ghosts 'n' Stuff (Original Instrumental Mix)\"),\n",
       " Row(userID='30', firstName='Colin', page='NextSong', song=\"I Couldn't Help It If I Tried\"),\n",
       " Row(userID='30', firstName='Colin', page='NextSong', song='The Blood_ The Sweat_ The Tears (Album Version)'),\n",
       " Row(userID='30', firstName='Colin', page='Add to Playlist', song=None),\n",
       " Row(userID='30', firstName='Colin', page='NextSong', song='She Said'),\n",
       " Row(userID='30', firstName='Colin', page='Home', song=None),\n",
       " Row(userID='30', firstName='Colin', page='NextSong', song='Undo'),\n",
       " Row(userID='30', firstName='Colin', page='NextSong', song='Bust A Move'),\n",
       " Row(userID='30', firstName='Colin', page='Thumbs Up', song=None),\n",
       " Row(userID='30', firstName='Colin', page='NextSong', song='Catch You Baby (Steve Pitron & Max Sanna Radio Edit)'),\n",
       " Row(userID='30', firstName='Colin', page='NextSong', song='White Light/White Heat'),\n",
       " Row(userID='30', firstName='Colin', page='NextSong', song='Infinity'),\n",
       " Row(userID='30', firstName='Colin', page='NextSong', song='Bros Sto Rimagmeno Spiti (2003 Digital Remaster)'),\n",
       " Row(userID='30', firstName='Colin', page='Add Friend', song=None),\n",
       " Row(userID='30', firstName='Colin', page='Add Friend', song=None),\n",
       " Row(userID='30', firstName='Colin', page='Home', song=None),\n",
       " Row(userID='30', firstName='Colin', page='NextSong', song='Gear Box'),\n",
       " Row(userID='30', firstName='Colin', page='Roll Advert', song=None),\n",
       " Row(userID='30', firstName='Colin', page='NextSong', song='In Liverpool'),\n",
       " Row(userID='30', firstName='Colin', page='NextSong', song='Work It Out'),\n",
       " Row(userID='30', firstName='Colin', page='NextSong', song='Timberwolves At New Jersey (Album Version)'),\n",
       " Row(userID='30', firstName='Colin', page='Home', song=None),\n",
       " Row(userID='30', firstName='Colin', page='NextSong', song='Great Escape'),\n",
       " Row(userID='30', firstName='Colin', page='NextSong', song='Drop The World'),\n",
       " Row(userID='30', firstName='Colin', page='NextSong', song='My Poor Old Heart'),\n",
       " Row(userID='30', firstName='Colin', page='NextSong', song='Hey! (A Lil Gratitude) (Album Version) ()'),\n",
       " Row(userID='30', firstName='Colin', page='Home', song=None),\n",
       " Row(userID='30', firstName='Colin', page='NextSong', song='Map Of The Problematique'),\n",
       " Row(userID='30', firstName='Colin', page='NextSong', song='Gente Que No'),\n",
       " Row(userID='30', firstName='Colin', page='NextSong', song='Half Of My Heart'),\n",
       " Row(userID='30', firstName='Colin', page='NextSong', song='All My Love'),\n",
       " Row(userID='30', firstName='Colin', page='NextSong', song='Dog Eat Dog'),\n",
       " Row(userID='30', firstName='Colin', page='Home', song=None),\n",
       " Row(userID='30', firstName='Colin', page='Home', song=None),\n",
       " Row(userID='30', firstName='Colin', page='Home', song=None),\n",
       " Row(userID='30', firstName='Colin', page='NextSong', song='The Laws Have Changed'),\n",
       " Row(userID='30', firstName='Colin', page='NextSong', song=\"She's My Baby\"),\n",
       " Row(userID='30', firstName='Colin', page='NextSong', song=\"Don't Give Up On Us\"),\n",
       " Row(userID='30', firstName='Colin', page='NextSong', song=\"What's Left of the Flag\"),\n",
       " Row(userID='30', firstName='Colin', page='NextSong', song='Why Do You Laugh At Me'),\n",
       " Row(userID='30', firstName='Colin', page='NextSong', song='Eskimo - Album Version (not as hidden track)'),\n",
       " Row(userID='30', firstName='Colin', page='Roll Advert', song=None),\n",
       " Row(userID='30', firstName='Colin', page='NextSong', song='A Beggar On A Beach Of Gold'),\n",
       " Row(userID='30', firstName='Colin', page='Upgrade', song=None),\n",
       " Row(userID='30', firstName='Colin', page='NextSong', song='Ragoo'),\n",
       " Row(userID='30', firstName='Colin', page='NextSong', song='Unreachable'),\n",
       " Row(userID='30', firstName='Colin', page='NextSong', song='Misunderstood'),\n",
       " Row(userID='30', firstName='Colin', page='NextSong', song='Seize The Day (Album Version)'),\n",
       " Row(userID='30', firstName='Colin', page='NextSong', song='All Over Again (Album Version)'),\n",
       " Row(userID='30', firstName='Colin', page='NextSong', song='Car (Album)'),\n",
       " Row(userID='30', firstName='Colin', page='NextSong', song=\"You're The One\"),\n",
       " Row(userID='30', firstName='Colin', page='NextSong', song='(You Drive Me) Crazy (The Stop Remix!)'),\n",
       " Row(userID='30', firstName='Colin', page='NextSong', song='The Battery'),\n",
       " Row(userID='30', firstName='Colin', page='NextSong', song='Ordinary Man'),\n",
       " Row(userID='30', firstName='Colin', page='NextSong', song=\"I CAN'T GET STARTED\"),\n",
       " Row(userID='30', firstName='Colin', page='Thumbs Up', song=None),\n",
       " Row(userID='30', firstName='Colin', page='NextSong', song='Corrido Al Torero'),\n",
       " Row(userID='30', firstName='Colin', page='NextSong', song='Dull Life'),\n",
       " Row(userID='30', firstName='Colin', page='NextSong', song='Aht Uh Mi Hed'),\n",
       " Row(userID='30', firstName='Colin', page='Roll Advert', song=None),\n",
       " Row(userID='30', firstName='Colin', page='Roll Advert', song=None),\n",
       " Row(userID='30', firstName='Colin', page='NextSong', song='Fisticuffs (LP Version)'),\n",
       " Row(userID='30', firstName='Colin', page='NextSong', song='More Than This'),\n",
       " Row(userID='30', firstName='Colin', page='NextSong', song='Baby I Want You'),\n",
       " Row(userID='30', firstName='Colin', page='NextSong', song='I Miss You'),\n",
       " Row(userID='30', firstName='Colin', page='Roll Advert', song=None),\n",
       " Row(userID='30', firstName='Colin', page='NextSong', song='Alejate De Mi'),\n",
       " Row(userID='30', firstName='Colin', page='NextSong', song='Crazy Bitch (Album Version)'),\n",
       " Row(userID='30', firstName='Colin', page='NextSong', song='Por segunda vez'),\n",
       " Row(userID='30', firstName='Colin', page='Thumbs Up', song=None),\n",
       " Row(userID='30', firstName='Colin', page='NextSong', song='Antibodies'),\n",
       " Row(userID='30', firstName='Colin', page='NextSong', song='Toxic Girl'),\n",
       " Row(userID='30', firstName='Colin', page='NextSong', song='Lowlands'),\n",
       " Row(userID='30', firstName='Colin', page='NextSong', song='Even Deeper'),\n",
       " Row(userID='30', firstName='Colin', page='Roll Advert', song=None),\n",
       " Row(userID='30', firstName='Colin', page='NextSong', song='I Second That Emotion'),\n",
       " Row(userID='30', firstName='Colin', page='NextSong', song='Scatman (Ski-Ba-Bop-Ba-Dop-Bop)'),\n",
       " Row(userID='30', firstName='Colin', page='NextSong', song='Countdown'),\n",
       " Row(userID='30', firstName='Colin', page='NextSong', song='Forever'),\n",
       " Row(userID='30', firstName='Colin', page='NextSong', song='Bootzilla'),\n",
       " Row(userID='30', firstName='Colin', page='Thumbs Up', song=None),\n",
       " Row(userID='30', firstName='Colin', page='NextSong', song=\"I'd Rather Fuck You (Explicit) (Feat. Eazy-E)\"),\n",
       " Row(userID='30', firstName='Colin', page='NextSong', song='New Generation'),\n",
       " Row(userID='30', firstName='Colin', page='NextSong', song='Follow You'),\n",
       " Row(userID='30', firstName='Colin', page='NextSong', song='Shine On (Album Version)'),\n",
       " Row(userID='30', firstName='Colin', page='NextSong', song='Venice Queen (Album Version)'),\n",
       " Row(userID='30', firstName='Colin', page='NextSong', song='Tear You Apart'),\n",
       " Row(userID='30', firstName='Colin', page='NextSong', song='Horn Concerto No. 4 in E flat K495: II. Romance (Andante cantabile)'),\n",
       " Row(userID='30', firstName='Colin', page='Thumbs Up', song=None),\n",
       " Row(userID='30', firstName='Colin', page='NextSong', song='Over Now'),\n",
       " Row(userID='30', firstName='Colin', page='Upgrade', song=None),\n",
       " Row(userID='30', firstName='Colin', page='NextSong', song='Superbeast'),\n",
       " Row(userID='30', firstName='Colin', page='Logout', song=None),\n",
       " Row(userID='30', firstName='Colin', page='Home', song=None),\n",
       " Row(userID='30', firstName='Colin', page='NextSong', song='Broke Up The Time'),\n",
       " Row(userID='30', firstName='Colin', page='Add to Playlist', song=None),\n",
       " Row(userID='30', firstName='Colin', page='NextSong', song='Roll Over Beethoven'),\n",
       " Row(userID='30', firstName='Colin', page='NextSong', song='Way Back Home'),\n",
       " Row(userID='30', firstName='Colin', page='NextSong', song='Back To Life (Album Version)'),\n",
       " Row(userID='30', firstName='Colin', page='NextSong', song='Strut (1993 Digital Remaster)'),\n",
       " Row(userID='30', firstName='Colin', page='NextSong', song='Super Inuit (Studio) [Bonus Track]'),\n",
       " Row(userID='30', firstName='Colin', page='NextSong', song='16 Candles'),\n",
       " Row(userID='30', firstName='Colin', page='NextSong', song='The Outlaw'),\n",
       " Row(userID='30', firstName='Colin', page='NextSong', song='Geek In The Pink [Phil Tan Remix]'),\n",
       " Row(userID='30', firstName='Colin', page='NextSong', song='The Chosen Legacy'),\n",
       " Row(userID='30', firstName='Colin', page='NextSong', song=\"Don't You Run With Him\"),\n",
       " Row(userID='30', firstName='Colin', page='Roll Advert', song=None),\n",
       " Row(userID='30', firstName='Colin', page='NextSong', song='Brianstorm'),\n",
       " Row(userID='30', firstName='Colin', page='NextSong', song='To Zion'),\n",
       " Row(userID='30', firstName='Colin', page='Home', song=None),\n",
       " Row(userID='30', firstName='Colin', page='NextSong', song='Lucy (Album Version)'),\n",
       " Row(userID='30', firstName='Colin', page='NextSong', song='What Goes Around...Comes Around'),\n",
       " Row(userID='30', firstName='Colin', page='NextSong', song='Bang On The Drum'),\n",
       " Row(userID='30', firstName='Colin', page='NextSong', song='Bill Sykes'),\n",
       " Row(userID='30', firstName='Colin', page='NextSong', song='Rhyme & Reason'),\n",
       " Row(userID='30', firstName='Colin', page='NextSong', song='Schifrin and Variations'),\n",
       " Row(userID='30', firstName='Colin', page='Thumbs Up', song=None),\n",
       " Row(userID='30', firstName='Colin', page='NextSong', song='Teach Me How To Dougie'),\n",
       " Row(userID='30', firstName='Colin', page='NextSong', song='We Deal In Dreams'),\n",
       " Row(userID='30', firstName='Colin', page='NextSong', song='Undo'),\n",
       " Row(userID='30', firstName='Colin', page='NextSong', song='Pushing Me Away (Album Version)'),\n",
       " Row(userID='30', firstName='Colin', page='Roll Advert', song=None),\n",
       " Row(userID='30', firstName='Colin', page='Logout', song=None),\n",
       " Row(userID='30', firstName='Colin', page='Home', song=None),\n",
       " Row(userID='30', firstName='Colin', page='NextSong', song='Trouble Dub - FAMS Mix'),\n",
       " Row(userID='30', firstName='Colin', page='NextSong', song='Electric Avenue'),\n",
       " Row(userID='30', firstName='Colin', page='NextSong', song=\"If I Ain't Got You\"),\n",
       " Row(userID='30', firstName='Colin', page='Roll Advert', song=None),\n",
       " Row(userID='30', firstName='Colin', page='Roll Advert', song=None),\n",
       " Row(userID='30', firstName='Colin', page='NextSong', song='Dream'),\n",
       " Row(userID='30', firstName='Colin', page='NextSong', song='Pak Dit Grej (1998 Digital Remaster)'),\n",
       " Row(userID='30', firstName='Colin', page='NextSong', song='My Moon My Man'),\n",
       " Row(userID='30', firstName='Colin', page='Thumbs Up', song=None),\n",
       " Row(userID='30', firstName='Colin', page='NextSong', song='Constellations'),\n",
       " Row(userID='30', firstName='Colin', page='NextSong', song='Kiss (LP Version)'),\n",
       " Row(userID='30', firstName='Colin', page='NextSong', song='Ven AquÃ\\x83Â\\xad'),\n",
       " Row(userID='30', firstName='Colin', page='NextSong', song='Christmas Journey'),\n",
       " Row(userID='30', firstName='Colin', page='NextSong', song='Little Fighter'),\n",
       " Row(userID='30', firstName='Colin', page='NextSong', song='Always Coming Back Home To You'),\n",
       " Row(userID='30', firstName='Colin', page='NextSong', song='Alarm!'),\n",
       " Row(userID='30', firstName='Colin', page='NextSong', song='Run'),\n",
       " Row(userID='30', firstName='Colin', page='NextSong', song='Do You Dream'),\n",
       " Row(userID='30', firstName='Colin', page='NextSong', song='The Only Exception (Album Version)'),\n",
       " Row(userID='30', firstName='Colin', page='Roll Advert', song=None),\n",
       " Row(userID='30', firstName='Colin', page='NextSong', song='Spiderwebs'),\n",
       " Row(userID='30', firstName='Colin', page='NextSong', song=\"Please Don't Go\"),\n",
       " Row(userID='30', firstName='Colin', page='Add to Playlist', song=None),\n",
       " Row(userID='30', firstName='Colin', page='NextSong', song='Pursuit Of Happiness (nightmare)'),\n",
       " Row(userID='30', firstName='Colin', page='NextSong', song=\"Breakin' Dishes\"),\n",
       " Row(userID='30', firstName='Colin', page='NextSong', song='Hall of Fame'),\n",
       " Row(userID='30', firstName='Colin', page='NextSong', song='Brothers'),\n",
       " Row(userID='30', firstName='Colin', page='NextSong', song='Hide & Seek'),\n",
       " Row(userID='30', firstName='Colin', page='Add to Playlist', song=None),\n",
       " Row(userID='30', firstName='Colin', page='NextSong', song=\"It's No Good (Single Version)\"),\n",
       " Row(userID='30', firstName='Colin', page='NextSong', song='Here We Are (Family In The Hallways)'),\n",
       " Row(userID='30', firstName='Colin', page='NextSong', song='Love Is Blue'),\n",
       " Row(userID='30', firstName='Colin', page='Thumbs Up', song=None),\n",
       " Row(userID='30', firstName='Colin', page='NextSong', song='Wounded'),\n",
       " Row(userID='30', firstName='Colin', page='NextSong', song='Selling The Drama'),\n",
       " Row(userID='30', firstName='Colin', page='NextSong', song='My Michelle'),\n",
       " Row(userID='30', firstName='Colin', page='Logout', song=None),\n",
       " Row(userID='30', firstName='Colin', page='Home', song=None),\n",
       " Row(userID='30', firstName='Colin', page='NextSong', song='Superstition'),\n",
       " Row(userID='30', firstName='Colin', page='NextSong', song='The Scientist'),\n",
       " Row(userID='30', firstName='Colin', page='Help', song=None),\n",
       " Row(userID='30', firstName='Colin', page='NextSong', song='Make Love To Your Mind'),\n",
       " Row(userID='30', firstName='Colin', page='NextSong', song='Art is Hard'),\n",
       " Row(userID='30', firstName='Colin', page='Home', song=None),\n",
       " Row(userID='30', firstName='Colin', page='Add Friend', song=None),\n",
       " Row(userID='30', firstName='Colin', page='Settings', song=None),\n",
       " Row(userID='30', firstName='Colin', page='Home', song=None),\n",
       " Row(userID='30', firstName='Colin', page='Logout', song=None),\n",
       " Row(userID='30', firstName='Colin', page='Home', song=None),\n",
       " Row(userID='30', firstName='Colin', page='NextSong', song='Silent Running'),\n",
       " Row(userID='30', firstName='Colin', page='NextSong', song='The Unforgiven II'),\n",
       " Row(userID='30', firstName='Colin', page='NextSong', song=\"Valjean's Soliloquy\"),\n",
       " Row(userID='30', firstName='Colin', page='NextSong', song='Tonight'),\n",
       " Row(userID='30', firstName='Colin', page='NextSong', song='Playing To Win (24-Bit Digitally Remastered 02)'),\n",
       " Row(userID='30', firstName='Colin', page='NextSong', song='El nazareno'),\n",
       " Row(userID='30', firstName='Colin', page='NextSong', song='Your Song'),\n",
       " Row(userID='30', firstName='Colin', page='NextSong', song='Thunderbird'),\n",
       " Row(userID='30', firstName='Colin', page='NextSong', song='Rayando el sol'),\n",
       " Row(userID='30', firstName='Colin', page='NextSong', song='Mama Your Boys Will Find A Home'),\n",
       " Row(userID='30', firstName='Colin', page='NextSong', song='Absolution: Of Flight and Failure'),\n",
       " Row(userID='30', firstName='Colin', page='NextSong', song='The Bones Of You'),\n",
       " Row(userID='30', firstName='Colin', page='NextSong', song='Kickstarts'),\n",
       " Row(userID='30', firstName='Colin', page='NextSong', song='Mrs. Robinson (LP Version)'),\n",
       " Row(userID='30', firstName='Colin', page='Add to Playlist', song=None),\n",
       " Row(userID='30', firstName='Colin', page='NextSong', song='Rain Is A Good Thing'),\n",
       " Row(userID='30', firstName='Colin', page='NextSong', song='Barco a Venus'),\n",
       " Row(userID='30', firstName='Colin', page='NextSong', song='Planet Caravan (Remastered LP Version)'),\n",
       " Row(userID='30', firstName='Colin', page='NextSong', song='I Melt With You'),\n",
       " Row(userID='30', firstName='Colin', page='NextSong', song='Failures Burden'),\n",
       " Row(userID='30', firstName='Colin', page='Roll Advert', song=None),\n",
       " Row(userID='30', firstName='Colin', page='NextSong', song='I Get It'),\n",
       " Row(userID='30', firstName='Colin', page='NextSong', song='Lie To Me'),\n",
       " Row(userID='30', firstName='Colin', page='Add to Playlist', song=None),\n",
       " Row(userID='30', firstName='Colin', page='NextSong', song=\"Sonny's Dream\"),\n",
       " Row(userID='30', firstName='Colin', page='Roll Advert', song=None),\n",
       " Row(userID='30', firstName='Colin', page='NextSong', song='Mandy'),\n",
       " Row(userID='30', firstName='Colin', page='Thumbs Down', song=None),\n",
       " Row(userID='30', firstName='Colin', page='NextSong', song='Still'),\n",
       " Row(userID='30', firstName='Colin', page='Roll Advert', song=None),\n",
       " Row(userID='30', firstName='Colin', page='NextSong', song='Future Says Run'),\n",
       " Row(userID='30', firstName='Colin', page='NextSong', song='Not So Usual (Eagles Ballroom Live Version)'),\n",
       " Row(userID='30', firstName='Colin', page='NextSong', song='Troublemaker'),\n",
       " Row(userID='30', firstName='Colin', page='Thumbs Up', song=None),\n",
       " Row(userID='30', firstName='Colin', page='NextSong', song=\"Our Lawyer Made Us Change The Name Of This Song So We Wouldn't Get Sued\"),\n",
       " Row(userID='30', firstName='Colin', page='NextSong', song='The Vanishing'),\n",
       " Row(userID='30', firstName='Colin', page='Home', song=None),\n",
       " Row(userID='30', firstName='Colin', page='NextSong', song='Forget Me'),\n",
       " Row(userID='30', firstName='Colin', page='NextSong', song='Wayfaring Stranger'),\n",
       " Row(userID='30', firstName='Colin', page='NextSong', song='The Runner'),\n",
       " Row(userID='30', firstName='Colin', page='NextSong', song='Harder To Breathe'),\n",
       " Row(userID='30', firstName='Colin', page='Thumbs Up', song=None),\n",
       " Row(userID='30', firstName='Colin', page='NextSong', song='Rain'),\n",
       " Row(userID='30', firstName='Colin', page='NextSong', song='Bon Voyage'),\n",
       " Row(userID='30', firstName='Colin', page='NextSong', song='Calm Down Dearest (Explicit)'),\n",
       " Row(userID='30', firstName='Colin', page='NextSong', song=\"What's Left of the Flag\"),\n",
       " Row(userID='30', firstName='Colin', page='NextSong', song='Enigma (Album Version)'),\n",
       " Row(userID='30', firstName='Colin', page='NextSong', song='Lay Me Down'),\n",
       " Row(userID='30', firstName='Colin', page='NextSong', song='I Repeat'),\n",
       " Row(userID='30', firstName='Colin', page='NextSong', song='Catch You Baby (Steve Pitron & Max Sanna Radio Edit)'),\n",
       " Row(userID='30', firstName='Colin', page='NextSong', song='Burgalveist'),\n",
       " Row(userID='30', firstName='Colin', page='NextSong', song=\"It's Time I Go (Jazz)\"),\n",
       " Row(userID='30', firstName='Colin', page='NextSong', song='COLORADOSUNRISE (Explicit Album Version)'),\n",
       " Row(userID='30', firstName='Colin', page='NextSong', song='Deseret'),\n",
       " Row(userID='30', firstName='Colin', page='NextSong', song='Pink'),\n",
       " Row(userID='30', firstName='Colin', page='Settings', song=None),\n",
       " Row(userID='30', firstName='Colin', page='NextSong', song='Ras Trent'),\n",
       " Row(userID='30', firstName='Colin', page='Roll Advert', song=None),\n",
       " Row(userID='30', firstName='Colin', page='NextSong', song=\"Help I'm Alive\"),\n",
       " Row(userID='30', firstName='Colin', page='NextSong', song=\"Prodigal Son (Harvey's A Star In Your Own Mind Mix)\"),\n",
       " Row(userID='30', firstName='Colin', page='NextSong', song='Rhinestone Eyes'),\n",
       " Row(userID='30', firstName='Colin', page='Add Friend', song=None),\n",
       " Row(userID='30', firstName='Colin', page='NextSong', song=\"When It's Over (Remastered Album Version)\"),\n",
       " Row(userID='30', firstName='Colin', page='NextSong', song='Punch Drunk Love'),\n",
       " Row(userID='30', firstName='Colin', page='NextSong', song=\"She's Got The Time\"),\n",
       " Row(userID='30', firstName='Colin', page='NextSong', song='The Strength To Go On'),\n",
       " Row(userID='30', firstName='Colin', page='NextSong', song='The Stakes Are High'),\n",
       " Row(userID='30', firstName='Colin', page='NextSong', song=\"Hustler's Prayer\"),\n",
       " Row(userID='30', firstName='Colin', page='NextSong', song='Fleur blanche'),\n",
       " Row(userID='30', firstName='Colin', page='Thumbs Down', song=None),\n",
       " Row(userID='30', firstName='Colin', page='NextSong', song='Live And Let Die'),\n",
       " Row(userID='30', firstName='Colin', page='NextSong', song='Fast As I Can'),\n",
       " Row(userID='30', firstName='Colin', page='NextSong', song='One In A Million'),\n",
       " Row(userID='30', firstName='Colin', page='NextSong', song='Book Of Brilliant Things (2002 Digital Remaster)'),\n",
       " Row(userID='30', firstName='Colin', page='NextSong', song='Glad All Over'),\n",
       " Row(userID='30', firstName='Colin', page='NextSong', song='Arma dispuesta'),\n",
       " Row(userID='30', firstName='Colin', page='NextSong', song='Heavyweight'),\n",
       " Row(userID='30', firstName='Colin', page='Roll Advert', song=None),\n",
       " Row(userID='30', firstName='Colin', page='NextSong', song='Deeply Disturbed'),\n",
       " Row(userID='30', firstName='Colin', page='NextSong', song='Signifying'),\n",
       " Row(userID='30', firstName='Colin', page='NextSong', song='Boy From School (Hot Chip Re-Work)'),\n",
       " Row(userID='30', firstName='Colin', page='Roll Advert', song=None),\n",
       " Row(userID='30', firstName='Colin', page='NextSong', song='Sehr kosmisch'),\n",
       " Row(userID='30', firstName='Colin', page='NextSong', song='Clocks'),\n",
       " Row(userID='30', firstName='Colin', page='Roll Advert', song=None),\n",
       " Row(userID='30', firstName='Colin', page='NextSong', song='Shut Up & Kiss Me'),\n",
       " Row(userID='30', firstName='Colin', page='NextSong', song='Use Somebody'),\n",
       " Row(userID='30', firstName='Colin', page='NextSong', song='Sparkover'),\n",
       " Row(userID='30', firstName='Colin', page='NextSong', song='Do You Feel Their Pain?'),\n",
       " Row(userID='30', firstName='Colin', page='NextSong', song='Back Against The Wall'),\n",
       " Row(userID='30', firstName='Colin', page='Home', song=None),\n",
       " Row(userID='30', firstName='Colin', page='NextSong', song='Lonely'),\n",
       " Row(userID='30', firstName='Colin', page='Roll Advert', song=None),\n",
       " Row(userID='30', firstName='Colin', page='NextSong', song='It Was A Good Day'),\n",
       " Row(userID='30', firstName='Colin', page='NextSong', song='Bliss'),\n",
       " Row(userID='30', firstName='Colin', page='NextSong', song='Marry Me'),\n",
       " Row(userID='30', firstName='Colin', page='Add to Playlist', song=None),\n",
       " Row(userID='30', firstName='Colin', page='NextSong', song='Paint The Town Red'),\n",
       " Row(userID='30', firstName='Colin', page='NextSong', song='Butterfly'),\n",
       " Row(userID='30', firstName='Colin', page='NextSong', song='The Breaking of the Dawn (LP Version)'),\n",
       " Row(userID='30', firstName='Colin', page='NextSong', song='Prenzlauerberg'),\n",
       " Row(userID='30', firstName='Colin', page='NextSong', song='Not Fair (Clean Radio Edit)'),\n",
       " Row(userID='30', firstName='Colin', page='Logout', song=None),\n",
       " Row(userID='30', firstName='Colin', page='Home', song=None),\n",
       " Row(userID='30', firstName='Colin', page='NextSong', song='Ribbons'),\n",
       " Row(userID='30', firstName='Colin', page='NextSong', song='Please Forgive Me'),\n",
       " Row(userID='30', firstName='Colin', page='NextSong', song='Kiss With A Fist'),\n",
       " Row(userID='30', firstName='Colin', page='NextSong', song='Surf Wax America'),\n",
       " Row(userID='30', firstName='Colin', page='NextSong', song='Smooth Sailing Remix'),\n",
       " Row(userID='30', firstName='Colin', page='Settings', song=None),\n",
       " Row(userID='30', firstName='Colin', page='NextSong', song='Hey Baby'),\n",
       " Row(userID='30', firstName='Colin', page='NextSong', song='Pump It'),\n",
       " Row(userID='30', firstName='Colin', page='Roll Advert', song=None),\n",
       " Row(userID='30', firstName='Colin', page='NextSong', song='Superballs'),\n",
       " Row(userID='30', firstName='Colin', page='NextSong', song='Away From Me'),\n",
       " Row(userID='30', firstName='Colin', page='NextSong', song='The shooting company of Captain Frans B.Cocq'),\n",
       " Row(userID='30', firstName='Colin', page='NextSong', song='Just'),\n",
       " Row(userID='30', firstName='Colin', page='NextSong', song='Le Soir'),\n",
       " Row(userID='30', firstName='Colin', page='Settings', song=None),\n",
       " Row(userID='30', firstName='Colin', page='NextSong', song='Thursday'),\n",
       " Row(userID='30', firstName='Colin', page='NextSong', song='Waiting For 22'),\n",
       " Row(userID='30', firstName='Colin', page='NextSong', song='C-Town'),\n",
       " Row(userID='30', firstName='Colin', page='NextSong', song='Never Again'),\n",
       " Row(userID='30', firstName='Colin', page='NextSong', song='I Love You'),\n",
       " Row(userID='30', firstName='Colin', page='NextSong', song='Appointment With Death'),\n",
       " Row(userID='30', firstName='Colin', page='NextSong', song='Even The Streets'),\n",
       " Row(userID='30', firstName='Colin', page='NextSong', song='Opis Helpus'),\n",
       " Row(userID='30', firstName='Colin', page='NextSong', song='Sehr kosmisch'),\n",
       " Row(userID='30', firstName='Colin', page='Roll Advert', song=None),\n",
       " Row(userID='30', firstName='Colin', page='NextSong', song='Nueve Y Quince (9:15)'),\n",
       " Row(userID='30', firstName='Colin', page='NextSong', song='Invocation: Attica Blues'),\n",
       " Row(userID='30', firstName='Colin', page='NextSong', song='Birds'),\n",
       " Row(userID='30', firstName='Colin', page='NextSong', song='Picture'),\n",
       " Row(userID='30', firstName='Colin', page='Thumbs Up', song=None),\n",
       " Row(userID='30', firstName='Colin', page='Add to Playlist', song=None),\n",
       " Row(userID='30', firstName='Colin', page='NextSong', song='Half Of My Heart'),\n",
       " Row(userID='30', firstName='Colin', page='NextSong', song='Catch You Baby (Steve Pitron & Max Sanna Radio Edit)'),\n",
       " Row(userID='30', firstName='Colin', page='NextSong', song='Gan Haedden (Edden)'),\n",
       " Row(userID='30', firstName='Colin', page='NextSong', song='Collide'),\n",
       " Row(userID='30', firstName='Colin', page='NextSong', song='Tan Solo (En Vivo)'),\n",
       " Row(userID='30', firstName='Colin', page='Logout', song=None),\n",
       " Row(userID='30', firstName='Colin', page='Home', song=None),\n",
       " Row(userID='30', firstName='Colin', page='NextSong', song=\"Everything's Gonna Be Alright\"),\n",
       " Row(userID='30', firstName='Colin', page='NextSong', song='The Happy Song'),\n",
       " Row(userID='30', firstName='Colin', page='NextSong', song='My Axe'),\n",
       " Row(userID='30', firstName='Colin', page='NextSong', song='Home Is Where (Scavenged Luxury EP)'),\n",
       " Row(userID='30', firstName='Colin', page='NextSong', song='The Scientist'),\n",
       " Row(userID='30', firstName='Colin', page='Roll Advert', song=None),\n",
       " Row(userID='30', firstName='Colin', page='NextSong', song='Deny Selected'),\n",
       " Row(userID='30', firstName='Colin', page='Roll Advert', song=None),\n",
       " Row(userID='30', firstName='Colin', page='NextSong', song='Late Nights'),\n",
       " Row(userID='30', firstName='Colin', page='NextSong', song='The Scientist'),\n",
       " Row(userID='30', firstName='Colin', page='NextSong', song='10%'),\n",
       " Row(userID='30', firstName='Colin', page='NextSong', song='Beds Are Burning'),\n",
       " Row(userID='30', firstName='Colin', page='NextSong', song='Relax'),\n",
       " Row(userID='30', firstName='Colin', page='NextSong', song='Revelry'),\n",
       " Row(userID='30', firstName='Colin', page='Upgrade', song=None),\n",
       " Row(userID='30', firstName='Colin', page='Add Friend', song=None),\n",
       " Row(userID='30', firstName='Colin', page='About', song=None),\n",
       " Row(userID='30', firstName='Colin', page='NextSong', song=\"Dancin' On The Killing Floor\"),\n",
       " Row(userID='30', firstName='Colin', page='NextSong', song='Undo'),\n",
       " Row(userID='30', firstName='Colin', page='NextSong', song='Te Hacen Falta Vitaminas'),\n",
       " Row(userID='30', firstName='Colin', page='Thumbs Up', song=None),\n",
       " Row(userID='30', firstName='Colin', page='NextSong', song='U Smile'),\n",
       " Row(userID='30', firstName='Colin', page='NextSong', song='Smile'),\n",
       " Row(userID='30', firstName='Colin', page='NextSong', song='Angels Fall First'),\n",
       " Row(userID='30', firstName='Colin', page='NextSong', song='Sehr kosmisch'),\n",
       " Row(userID='30', firstName='Colin', page='Home', song=None),\n",
       " Row(userID='30', firstName='Colin', page='NextSong', song='Meeting Daisy'),\n",
       " Row(userID='30', firstName='Colin', page='NextSong', song='El nazareno'),\n",
       " Row(userID='30', firstName='Colin', page='Thumbs Up', song=None),\n",
       " Row(userID='30', firstName='Colin', page='NextSong', song='Bat Country (Album Version)'),\n",
       " Row(userID='30', firstName='Colin', page='NextSong', song='Sinisten tÃ\\x83Â¤htien alla'),\n",
       " Row(userID='30', firstName='Colin', page='NextSong', song='Deadweight On Velveteen'),\n",
       " Row(userID='30', firstName='Colin', page='NextSong', song='Crank That (Soulja Boy)'),\n",
       " Row(userID='30', firstName='Colin', page='NextSong', song='Recado Falado (MetrÃ\\x83Â´ Da Saudade)'),\n",
       " Row(userID='30', firstName='Colin', page='NextSong', song=\"It's OK\"),\n",
       " Row(userID='30', firstName='Colin', page='NextSong', song=\"Can't Stop This\"),\n",
       " Row(userID='30', firstName='Colin', page='NextSong', song=\"You're The One\"),\n",
       " Row(userID='30', firstName='Colin', page='NextSong', song='DONTTRUSTME [BENNYBLANCOREMIX] FEATURINGKIDCUDI (Explicit Bonus Version)'),\n",
       " Row(userID='30', firstName='Colin', page='NextSong', song='The Grease Mega-Mix'),\n",
       " Row(userID='30', firstName='Colin', page='NextSong', song='Snuff'),\n",
       " Row(userID='30', firstName='Colin', page='NextSong', song='Runaway Love'),\n",
       " Row(userID='30', firstName='Colin', page='NextSong', song='Camera Talk'),\n",
       " Row(userID='30', firstName='Colin', page='NextSong', song='The Sicilian'),\n",
       " Row(userID='30', firstName='Colin', page='NextSong', song='Pursuit Of Happiness (nightmare)'),\n",
       " Row(userID='30', firstName='Colin', page='NextSong', song='Basbhat (Album Version)'),\n",
       " Row(userID='30', firstName='Colin', page='NextSong', song='The Pretender'),\n",
       " Row(userID='30', firstName='Colin', page='Roll Advert', song=None),\n",
       " Row(userID='30', firstName='Colin', page='Roll Advert', song=None),\n",
       " Row(userID='30', firstName='Colin', page='NextSong', song='Movement'),\n",
       " Row(userID='30', firstName='Colin', page='NextSong', song='Revelry'),\n",
       " Row(userID='30', firstName='Colin', page='NextSong', song='My Last Serenade'),\n",
       " Row(userID='30', firstName='Colin', page='NextSong', song='Her Alone'),\n",
       " Row(userID='30', firstName='Colin', page='NextSong', song='Diva'),\n",
       " Row(userID='30', firstName='Colin', page='Roll Advert', song=None),\n",
       " Row(userID='30', firstName='Colin', page='NextSong', song='Inhuman Creation Station'),\n",
       " Row(userID='30', firstName='Colin', page='NextSong', song='Monster (Alternate Radio Version)'),\n",
       " Row(userID='30', firstName='Colin', page='NextSong', song='The Game (Amended Version)'),\n",
       " Row(userID='30', firstName='Colin', page='NextSong', song='Keep It Simple'),\n",
       " Row(userID='30', firstName='Colin', page='NextSong', song='No Leaf Clover'),\n",
       " Row(userID='30', firstName='Colin', page='NextSong', song='Tramazi Parti'),\n",
       " Row(userID='30', firstName='Colin', page='NextSong', song='My Way (A Mi Manera) (Album Version)'),\n",
       " Row(userID='30', firstName='Colin', page='NextSong', song='Horrorbeach (Album Version)'),\n",
       " Row(userID='30', firstName='Colin', page='NextSong', song='Red Light Indicates Doors Are Secured'),\n",
       " Row(userID='30', firstName='Colin', page='NextSong', song='Girl'),\n",
       " Row(userID='30', firstName='Colin', page='Upgrade', song=None),\n",
       " Row(userID='30', firstName='Colin', page='NextSong', song=\"Don't Worry Be Happy\"),\n",
       " Row(userID='30', firstName='Colin', page='NextSong', song='Splash'),\n",
       " Row(userID='30', firstName='Colin', page='NextSong', song='Missing You'),\n",
       " Row(userID='30', firstName='Colin', page='NextSong', song='Goodbye Is All We Have'),\n",
       " Row(userID='30', firstName='Colin', page='NextSong', song='Raunioilla'),\n",
       " Row(userID='30', firstName='Colin', page='NextSong', song='Time/Breathe [Reprise] (Album Version)'),\n",
       " Row(userID='30', firstName='Colin', page='NextSong', song='Magic Mountain'),\n",
       " Row(userID='30', firstName='Colin', page='NextSong', song='Take The Box'),\n",
       " Row(userID='30', firstName='Colin', page='NextSong', song=\"O Ouranos Pano Ap' ton Grammo\"),\n",
       " Row(userID='30', firstName='Colin', page='Add to Playlist', song=None),\n",
       " Row(userID='30', firstName='Colin', page='NextSong', song=\"Boys Don't Cry\"),\n",
       " Row(userID='30', firstName='Colin', page='Thumbs Down', song=None),\n",
       " Row(userID='30', firstName='Colin', page='NextSong', song='Precious Memories (LP Version)'),\n",
       " Row(userID='30', firstName='Colin', page='Thumbs Up', song=None),\n",
       " Row(userID='30', firstName='Colin', page='NextSong', song='Path'),\n",
       " Row(userID='30', firstName='Colin', page='NextSong', song='The Scientist'),\n",
       " Row(userID='30', firstName='Colin', page='Logout', song=None),\n",
       " Row(userID='30', firstName='Colin', page='Home', song=None),\n",
       " Row(userID='30', firstName='Colin', page='NextSong', song='Rock Star'),\n",
       " Row(userID='30', firstName='Colin', page='NextSong', song='Palm Reader'),\n",
       " Row(userID='30', firstName='Colin', page='NextSong', song='Para Bellum'),\n",
       " Row(userID='30', firstName='Colin', page='NextSong', song=\"Maggie's Farm\"),\n",
       " Row(userID='30', firstName='Colin', page='NextSong', song='Four Winds'),\n",
       " Row(userID='30', firstName='Colin', page='Roll Advert', song=None),\n",
       " Row(userID='30', firstName='Colin', page='NextSong', song='Fight'),\n",
       " Row(userID='30', firstName='Colin', page='Roll Advert', song=None),\n",
       " Row(userID='30', firstName='Colin', page='NextSong', song='Things She Said'),\n",
       " Row(userID='30', firstName='Colin', page='NextSong', song='Sehr kosmisch'),\n",
       " Row(userID='30', firstName='Colin', page='NextSong', song='Sin Coro'),\n",
       " Row(userID='30', firstName='Colin', page='NextSong', song='Not In Love'),\n",
       " Row(userID='30', firstName='Colin', page='NextSong', song='Miserable Lie'),\n",
       " Row(userID='30', firstName='Colin', page='NextSong', song='Scooby Snacks (Explicit)'),\n",
       " Row(userID='30', firstName='Colin', page='NextSong', song='Him'),\n",
       " Row(userID='30', firstName='Colin', page='NextSong', song='Diary'),\n",
       " Row(userID='30', firstName='Colin', page='NextSong', song='Opening Up (Ce Soir On Danse)'),\n",
       " Row(userID='30', firstName='Colin', page='NextSong', song='Guiding Light'),\n",
       " Row(userID='30', firstName='Colin', page='NextSong', song='La Guerra'),\n",
       " Row(userID='30', firstName='Colin', page='NextSong', song='Oh Girl'),\n",
       " Row(userID='30', firstName='Colin', page='NextSong', song=\"Bottle Poppin' (feat. Gorilla Zoe) (Explicit Album Version)\"),\n",
       " Row(userID='30', firstName='Colin', page='Roll Advert', song=None),\n",
       " Row(userID='30', firstName='Colin', page='NextSong', song='Einfeld'),\n",
       " Row(userID='30', firstName='Colin', page='Logout', song=None),\n",
       " Row(userID='30', firstName='Colin', page='Home', song=None),\n",
       " Row(userID='30', firstName='Colin', page='NextSong', song=\"I'm With You\"),\n",
       " Row(userID='30', firstName='Colin', page='Settings', song=None),\n",
       " Row(userID='30', firstName='Colin', page='NextSong', song='Machine Gun Man'),\n",
       " Row(userID='30', firstName='Colin', page='NextSong', song='I Want It All'),\n",
       " Row(userID='30', firstName='Colin', page='NextSong', song='Straight To The Bank'),\n",
       " Row(userID='30', firstName='Colin', page='NextSong', song='Rock On'),\n",
       " Row(userID='30', firstName='Colin', page='NextSong', song='This Is All I Ask (Live)'),\n",
       " Row(userID='30', firstName='Colin', page='NextSong', song='Woman Tonight'),\n",
       " Row(userID='30', firstName='Colin', page='NextSong', song='Dialogue'),\n",
       " Row(userID='30', firstName='Colin', page='NextSong', song='No Child Of Mine'),\n",
       " Row(userID='30', firstName='Colin', page='Upgrade', song=None),\n",
       " Row(userID='30', firstName='Colin', page='Upgrade', song=None),\n",
       " Row(userID='30', firstName='Colin', page='NextSong', song='This Is Not America (performed by Juliette Lewis)'),\n",
       " Row(userID='30', firstName='Colin', page='Thumbs Up', song=None),\n",
       " Row(userID='30', firstName='Colin', page='NextSong', song=\"Where's Rexy?\"),\n",
       " Row(userID='30', firstName='Colin', page='Roll Advert', song=None),\n",
       " Row(userID='30', firstName='Colin', page='NextSong', song='Canal Song (End Of Sentence)'),\n",
       " Row(userID='30', firstName='Colin', page='NextSong', song=\"Witchdoctor's Curse\"),\n",
       " Row(userID='30', firstName='Colin', page='Help', song=None),\n",
       " Row(userID='30', firstName='Colin', page='Home', song=None),\n",
       " Row(userID='30', firstName='Colin', page='NextSong', song='Something (Album Version)'),\n",
       " Row(userID='30', firstName='Colin', page='NextSong', song='Will I See You Again'),\n",
       " Row(userID='30', firstName='Colin', page='NextSong', song='Two Hands (Plastic Soul Impalement Album Version)'),\n",
       " Row(userID='30', firstName='Colin', page='NextSong', song='Cut The Rope'),\n",
       " Row(userID='30', firstName='Colin', page='NextSong', song='A Comet Appears (Album)'),\n",
       " Row(userID='30', firstName='Colin', page='Thumbs Up', song=None),\n",
       " Row(userID='30', firstName='Colin', page='NextSong', song='The Power Of One'),\n",
       " Row(userID='30', firstName='Colin', page='Roll Advert', song=None),\n",
       " Row(userID='30', firstName='Colin', page='NextSong', song='Being Alive'),\n",
       " Row(userID='30', firstName='Colin', page='NextSong', song='Technologic ( Basement Jaxx Kontrol Mixx )'),\n",
       " Row(userID='30', firstName='Colin', page='Add Friend', song=None),\n",
       " Row(userID='30', firstName='Colin', page='NextSong', song='Back To You'),\n",
       " Row(userID='30', firstName='Colin', page='NextSong', song='Ironic (Acoustic Album Version)'),\n",
       " Row(userID='30', firstName='Colin', page='Add to Playlist', song=None),\n",
       " Row(userID='30', firstName='Colin', page='NextSong', song='All I Ever Wanted'),\n",
       " Row(userID='30', firstName='Colin', page='NextSong', song='Better in time'),\n",
       " Row(userID='30', firstName='Colin', page='Roll Advert', song=None),\n",
       " Row(userID='30', firstName='Colin', page='NextSong', song='One Above One'),\n",
       " Row(userID='30', firstName='Colin', page='NextSong', song='Crank That (Soulja Boy)'),\n",
       " Row(userID='30', firstName='Colin', page='NextSong', song='Du Hast'),\n",
       " Row(userID='30', firstName='Colin', page='NextSong', song='Confetti Smile (AO Album Version)'),\n",
       " Row(userID='30', firstName='Colin', page='NextSong', song='Vem Pra CÃ\\x83Â¡'),\n",
       " Row(userID='30', firstName='Colin', page='NextSong', song='True Stories'),\n",
       " Row(userID='30', firstName='Colin', page='NextSong', song='Dr. Feelgood'),\n",
       " Row(userID='30', firstName='Colin', page='NextSong', song='The Writer'),\n",
       " Row(userID='30', firstName='Colin', page='NextSong', song='Ass Fucking Murder'),\n",
       " Row(userID='30', firstName='Colin', page='Home', song=None),\n",
       " Row(userID='30', firstName='Colin', page='NextSong', song=\"All Tomorrow's Parties\"),\n",
       " Row(userID='30', firstName='Colin', page='NextSong', song='Ocean Avenue'),\n",
       " Row(userID='30', firstName='Colin', page='NextSong', song='Venus'),\n",
       " Row(userID='30', firstName='Colin', page='Thumbs Up', song=None),\n",
       " Row(userID='30', firstName='Colin', page='Add to Playlist', song=None),\n",
       " Row(userID='30', firstName='Colin', page='NextSong', song='Learn To Fly'),\n",
       " Row(userID='30', firstName='Colin', page='NextSong', song='Touchy! (Album Version)'),\n",
       " Row(userID='30', firstName='Colin', page='NextSong', song='Jude Law and a Semester Abroad'),\n",
       " Row(userID='30', firstName='Colin', page='NextSong', song='Dream On'),\n",
       " Row(userID='30', firstName='Colin', page='NextSong', song='Half Asleep'),\n",
       " Row(userID='30', firstName='Colin', page='NextSong', song='MatinÃ\\x83Â©e'),\n",
       " Row(userID='30', firstName='Colin', page='NextSong', song='Mysterious Ways'),\n",
       " Row(userID='30', firstName='Colin', page='NextSong', song='Peaceful'),\n",
       " Row(userID='30', firstName='Colin', page='NextSong', song='Otherside (Album Version)'),\n",
       " Row(userID='30', firstName='Colin', page='NextSong', song='Bad Little Woman (LP Version)'),\n",
       " Row(userID='30', firstName='Colin', page='NextSong', song='Superman'),\n",
       " Row(userID='30', firstName='Colin', page='NextSong', song='Intro 2/ Kick Out The Jams (LP Version)'),\n",
       " Row(userID='30', firstName='Colin', page='NextSong', song='Dance Flow'),\n",
       " Row(userID='30', firstName='Colin', page='NextSong', song='Hey Now Now'),\n",
       " Row(userID='30', firstName='Colin', page='NextSong', song='Save The Last Dance For Me [Ralphi Rosario Anthomic Vocal]'),\n",
       " Row(userID='30', firstName='Colin', page='Thumbs Up', song=None),\n",
       " Row(userID='30', firstName='Colin', page='NextSong', song='MÃ\\x83Â¡s Papaya'),\n",
       " Row(userID='30', firstName='Colin', page='NextSong', song='Dialogue Box'),\n",
       " Row(userID='30', firstName='Colin', page='NextSong', song='The Ex'),\n",
       " Row(userID='30', firstName='Colin', page='NextSong', song='Crack Under Pressure'),\n",
       " Row(userID='30', firstName='Colin', page='Add to Playlist', song=None),\n",
       " Row(userID='30', firstName='Colin', page='NextSong', song='Odessa'),\n",
       " Row(userID='30', firstName='Colin', page='NextSong', song='Addicted'),\n",
       " Row(userID='30', firstName='Colin', page='NextSong', song='DVNO'),\n",
       " Row(userID='30', firstName='Colin', page='NextSong', song='Bad Luck'),\n",
       " Row(userID='30', firstName='Colin', page='NextSong', song=\"Rupi's Dance\"),\n",
       " Row(userID='30', firstName='Colin', page='Home', song=None),\n",
       " Row(userID='30', firstName='Colin', page='NextSong', song='Horn Concerto No. 4 in E flat K495: II. Romance (Andante cantabile)'),\n",
       " Row(userID='30', firstName='Colin', page='NextSong', song='Safety Dance'),\n",
       " Row(userID='30', firstName='Colin', page='NextSong', song=\"Build God_ Then We'll Talk (Album Version)\"),\n",
       " Row(userID='30', firstName='Colin', page='NextSong', song='ReprÃ\\x83Â©sente'),\n",
       " Row(userID='30', firstName='Colin', page='NextSong', song=\"I CAN'T GET STARTED\"),\n",
       " Row(userID='30', firstName='Colin', page='NextSong', song='What A Wonderful World'),\n",
       " Row(userID='30', firstName='Colin', page='NextSong', song='Not Like That (Album Version)'),\n",
       " Row(userID='30', firstName='Colin', page='NextSong', song='So far so long'),\n",
       " Row(userID='30', firstName='Colin', page='NextSong', song='En El Septimo Dia'),\n",
       " Row(userID='30', firstName='Colin', page='NextSong', song='Let Down'),\n",
       " Row(userID='30', firstName='Colin', page='NextSong', song='Pon De Floor'),\n",
       " Row(userID='30', firstName='Colin', page='Upgrade', song=None),\n",
       " Row(userID='30', firstName='Colin', page='NextSong', song='Hotel'),\n",
       " Row(userID='30', firstName='Colin', page='Roll Advert', song=None),\n",
       " Row(userID='30', firstName='Colin', page='NextSong', song='Gestern_Morgen'),\n",
       " Row(userID='30', firstName='Colin', page='NextSong', song='Show'),\n",
       " Row(userID='30', firstName='Colin', page='NextSong', song='Jasey Rae'),\n",
       " Row(userID='30', firstName='Colin', page='Home', song=None),\n",
       " Row(userID='30', firstName='Colin', page='Add Friend', song=None),\n",
       " Row(userID='30', firstName='Colin', page='Add Friend', song=None),\n",
       " Row(userID='30', firstName='Colin', page='NextSong', song='Sooner or Later'),\n",
       " Row(userID='30', firstName='Colin', page='NextSong', song='Good Soldier'),\n",
       " Row(userID='30', firstName='Colin', page='Home', song=None),\n",
       " Row(userID='30', firstName='Colin', page='NextSong', song='Soul Suckers'),\n",
       " Row(userID='30', firstName='Colin', page='Add to Playlist', song=None),\n",
       " Row(userID='30', firstName='Colin', page='NextSong', song='Seed (Album Version)'),\n",
       " Row(userID='30', firstName='Colin', page='NextSong', song=\"Day 'N' Nite\"),\n",
       " Row(userID='30', firstName='Colin', page='NextSong', song='Climbing A Hill'),\n",
       " Row(userID='30', firstName='Colin', page='Home', song=None),\n",
       " Row(userID='30', firstName='Colin', page='NextSong', song='Ode To My Family'),\n",
       " Row(userID='30', firstName='Colin', page='NextSong', song='Live And Let Die'),\n",
       " Row(userID='30', firstName='Colin', page='NextSong', song=\"Livin' On A Prayer\"),\n",
       " Row(userID='30', firstName='Colin', page='NextSong', song='Good Morning Little School Girl'),\n",
       " Row(userID='30', firstName='Colin', page='NextSong', song=\"Stayin' Alive\"),\n",
       " Row(userID='30', firstName='Colin', page='NextSong', song='Two As One'),\n",
       " Row(userID='30', firstName='Colin', page='Add Friend', song=None),\n",
       " Row(userID='30', firstName='Colin', page='NextSong', song='Big Uncle Ugliness'),\n",
       " Row(userID='30', firstName='Colin', page='NextSong', song='Prelude'),\n",
       " Row(userID='30', firstName='Colin', page='Upgrade', song=None),\n",
       " Row(userID='30', firstName='Colin', page='NextSong', song='Transparency'),\n",
       " Row(userID='30', firstName='Colin', page='Roll Advert', song=None),\n",
       " Row(userID='30', firstName='Colin', page='NextSong', song='Behind Closed Doors'),\n",
       " Row(userID='30', firstName='Colin', page='NextSong', song='Sample Track 2'),\n",
       " Row(userID='30', firstName='Colin', page='Roll Advert', song=None),\n",
       " Row(userID='30', firstName='Colin', page='NextSong', song='La Lluvia Gris'),\n",
       " Row(userID='30', firstName='Colin', page='NextSong', song='Stream'),\n",
       " Row(userID='30', firstName='Colin', page='Logout', song=None),\n",
       " Row(userID='30', firstName='Colin', page='Home', song=None),\n",
       " Row(userID='30', firstName='Colin', page='NextSong', song='Three Simple Words'),\n",
       " Row(userID='30', firstName='Colin', page='NextSong', song='Fortunate Son (Live)'),\n",
       " Row(userID='30', firstName='Colin', page='NextSong', song='Yeah!'),\n",
       " Row(userID='30', firstName='Colin', page='NextSong', song='Mamma'),\n",
       " Row(userID='30', firstName='Colin', page='NextSong', song='Venice Industry'),\n",
       " Row(userID='30', firstName='Colin', page='NextSong', song='Nah!'),\n",
       " Row(userID='30', firstName='Colin', page='Thumbs Down', song=None),\n",
       " Row(userID='30', firstName='Colin', page='NextSong', song='ReprÃ\\x83Â©sente'),\n",
       " Row(userID='30', firstName='Colin', page='NextSong', song='Jiguen'),\n",
       " Row(userID='30', firstName='Colin', page='NextSong', song='Ba Ba'),\n",
       " Row(userID='30', firstName='Colin', page='NextSong', song='Superballs'),\n",
       " Row(userID='30', firstName='Colin', page='NextSong', song='Horn Concerto No. 4 in E flat K495: II. Romance (Andante cantabile)'),\n",
       " Row(userID='30', firstName='Colin', page='Add to Playlist', song=None),\n",
       " Row(userID='30', firstName='Colin', page='NextSong', song=\"You're The One\"),\n",
       " Row(userID='30', firstName='Colin', page='NextSong', song='Heartbeats'),\n",
       " Row(userID='30', firstName='Colin', page='NextSong', song='Otherside (Album Version)'),\n",
       " Row(userID='30', firstName='Colin', page='NextSong', song='Rio'),\n",
       " Row(userID='30', firstName='Colin', page='Roll Advert', song=None),\n",
       " Row(userID='30', firstName='Colin', page='NextSong', song='Plush (LP Version)'),\n",
       " Row(userID='30', firstName='Colin', page='NextSong', song='First Of The Gang'),\n",
       " Row(userID='30', firstName='Colin', page='NextSong', song='Me And Armini'),\n",
       " Row(userID='30', firstName='Colin', page='NextSong', song='Traveller'),\n",
       " Row(userID='30', firstName='Colin', page='NextSong', song='Sweet Carrie'),\n",
       " Row(userID='30', firstName='Colin', page='Thumbs Up', song=None),\n",
       " Row(userID='30', firstName='Colin', page='NextSong', song='Sick_ Sick_ Sick'),\n",
       " Row(userID='30', firstName='Colin', page='NextSong', song='The Blast'),\n",
       " Row(userID='30', firstName='Colin', page='NextSong', song='Beautiful Stranger'),\n",
       " Row(userID='30', firstName='Colin', page='NextSong', song='No Milk Today'),\n",
       " Row(userID='30', firstName='Colin', page='NextSong', song='Repression Song'),\n",
       " Row(userID='30', firstName='Colin', page='NextSong', song='Non E_ Per Te_ Per Me'),\n",
       " Row(userID='30', firstName='Colin', page='NextSong', song=\"What's The Difference\"),\n",
       " Row(userID='30', firstName='Colin', page='NextSong', song='Restless'),\n",
       " Row(userID='30', firstName='Colin', page='NextSong', song='Horn Concerto No. 4 in E flat K495: II. Romance (Andante cantabile)'),\n",
       " Row(userID='30', firstName='Colin', page='NextSong', song='Teardrop'),\n",
       " Row(userID='30', firstName='Colin', page='NextSong', song='Seven'),\n",
       " Row(userID='30', firstName='Colin', page='NextSong', song='Gone In The Morning'),\n",
       " Row(userID='30', firstName='Colin', page='NextSong', song='Baby_ This Love I Have'),\n",
       " Row(userID='30', firstName='Colin', page='NextSong', song='Me Da Miedo'),\n",
       " Row(userID='30', firstName='Colin', page='NextSong', song='I Can See Clearly Now'),\n",
       " Row(userID='30', firstName='Colin', page='NextSong', song='Nemo'),\n",
       " Row(userID='30', firstName='Colin', page='NextSong', song='Choctaw Hayride'),\n",
       " Row(userID='30', firstName='Colin', page='NextSong', song='The Real Slim Shady'),\n",
       " Row(userID='30', firstName='Colin', page='NextSong', song='Silence'),\n",
       " Row(userID='30', firstName='Colin', page='NextSong', song='Snake'),\n",
       " Row(userID='30', firstName='Colin', page='About', song=None),\n",
       " Row(userID='30', firstName='Colin', page='NextSong', song='Your Hand In Mine'),\n",
       " Row(userID='30', firstName='Colin', page='Logout', song=None),\n",
       " Row(userID='30', firstName='Colin', page='Home', song=None),\n",
       " Row(userID='30', firstName='Colin', page='NextSong', song='Marry Me'),\n",
       " Row(userID='30', firstName='Colin', page='Thumbs Up', song=None),\n",
       " Row(userID='30', firstName='Colin', page='NextSong', song='Undo'),\n",
       " Row(userID='30', firstName='Colin', page='Upgrade', song=None),\n",
       " Row(userID='30', firstName='Colin', page='NextSong', song='Use Somebody'),\n",
       " Row(userID='30', firstName='Colin', page='NextSong', song=\"Can't You See\"),\n",
       " Row(userID='30', firstName='Colin', page='NextSong', song='Skinny Love'),\n",
       " Row(userID='30', firstName='Colin', page='NextSong', song='All We Ever Do Is Say Goodbye'),\n",
       " Row(userID='30', firstName='Colin', page='NextSong', song='Amanecer'),\n",
       " Row(userID='30', firstName='Colin', page='Roll Advert', song=None),\n",
       " Row(userID='30', firstName='Colin', page='NextSong', song='Starry Night'),\n",
       " Row(userID='30', firstName='Colin', page='NextSong', song='Unwell (Album Version)'),\n",
       " Row(userID='30', firstName='Colin', page='NextSong', song='West One (Shine On Me)'),\n",
       " Row(userID='30', firstName='Colin', page='Roll Advert', song=None),\n",
       " Row(userID='30', firstName='Colin', page='NextSong', song='Ironic (Acoustic Album Version)'),\n",
       " Row(userID='30', firstName='Colin', page='NextSong', song=\"You've Got The Love\"),\n",
       " Row(userID='30', firstName='Colin', page='Roll Advert', song=None),\n",
       " Row(userID='30', firstName='Colin', page='NextSong', song='Innocence'),\n",
       " Row(userID='30', firstName='Colin', page='NextSong', song='Las flores'),\n",
       " Row(userID='30', firstName='Colin', page='NextSong', song='Longhaired Redneck'),\n",
       " Row(userID='30', firstName='Colin', page='Home', song=None),\n",
       " Row(userID='30', firstName='Colin', page='NextSong', song=\"Don't Come Around Here No More\"),\n",
       " Row(userID='30', firstName='Colin', page='NextSong', song='Love Story'),\n",
       " Row(userID='30', firstName='Colin', page='Roll Advert', song=None),\n",
       " Row(userID='30', firstName='Colin', page='NextSong', song='The Message'),\n",
       " Row(userID='30', firstName='Colin', page='NextSong', song='Beautiful Stranger'),\n",
       " Row(userID='30', firstName='Colin', page='NextSong', song='White Noise'),\n",
       " Row(userID='30', firstName='Colin', page='NextSong', song='Home'),\n",
       " Row(userID='30', firstName='Colin', page='NextSong', song='Cry Baby'),\n",
       " Row(userID='30', firstName='Colin', page='NextSong', song='Vals fÃ\\x83Â¶r satan (din vÃ\\x83Â¤n pessimisten)'),\n",
       " Row(userID='30', firstName='Colin', page='NextSong', song='If She Wants Me'),\n",
       " Row(userID='30', firstName='Colin', page='NextSong', song='Behind The Sea [Live In Chicago]'),\n",
       " Row(userID='30', firstName='Colin', page='NextSong', song='Complex Person'),\n",
       " Row(userID='30', firstName='Colin', page='NextSong', song='Better'),\n",
       " Row(userID='30', firstName='Colin', page='NextSong', song='Hallelujah (Album Version)'),\n",
       " Row(userID='30', firstName='Colin', page='NextSong', song='You Girl'),\n",
       " Row(userID='30', firstName='Colin', page='NextSong', song='No BalanÃ\\x83Â§o Da Canoa'),\n",
       " Row(userID='30', firstName='Colin', page='Add to Playlist', song=None),\n",
       " Row(userID='30', firstName='Colin', page='NextSong', song='The Drive System (Demo)'),\n",
       " Row(userID='30', firstName='Colin', page='NextSong', song='Kick It Up'),\n",
       " Row(userID='30', firstName='Colin', page='NextSong', song='Bombtrack'),\n",
       " Row(userID='30', firstName='Colin', page='Home', song=None),\n",
       " Row(userID='30', firstName='Colin', page='Add Friend', song=None),\n",
       " Row(userID='30', firstName='Colin', page='NextSong', song=\"I'm With You\"),\n",
       " Row(userID='30', firstName='Colin', page='Thumbs Up', song=None),\n",
       " Row(userID='30', firstName='Colin', page='NextSong', song='Pills'),\n",
       " Row(userID='30', firstName='Colin', page='NextSong', song='The Seed (2.0)'),\n",
       " Row(userID='30', firstName='Colin', page='NextSong', song='The Count (aka HervÃ\\x83Â©) And Lily Face The Fear'),\n",
       " Row(userID='30', firstName='Colin', page='Thumbs Up', song=None),\n",
       " Row(userID='30', firstName='Colin', page='NextSong', song=\"Don't Dream It's Over\"),\n",
       " Row(userID='30', firstName='Colin', page='NextSong', song='The Alliance Of Hellhoundz'),\n",
       " Row(userID='30', firstName='Colin', page='NextSong', song='What If I Stumble?'),\n",
       " Row(userID='30', firstName='Colin', page='NextSong', song=\"I'll Be There For You\"),\n",
       " Row(userID='30', firstName='Colin', page='NextSong', song='Somebody To Love'),\n",
       " Row(userID='30', firstName='Colin', page='NextSong', song='Use Somebody'),\n",
       " Row(userID='30', firstName='Colin', page='NextSong', song='Too Much To Ask'),\n",
       " Row(userID='30', firstName='Colin', page='Add to Playlist', song=None),\n",
       " Row(userID='30', firstName='Colin', page='NextSong', song='Gears'),\n",
       " Row(userID='30', firstName='Colin', page='NextSong', song='Dog Days Are Over (Radio Edit)'),\n",
       " Row(userID='30', firstName='Colin', page='NextSong', song=\"Dreamin'\"),\n",
       " Row(userID='30', firstName='Colin', page='NextSong', song='Inside The Fire (Album Version)'),\n",
       " Row(userID='30', firstName='Colin', page='Roll Advert', song=None),\n",
       " Row(userID='30', firstName='Colin', page='Roll Advert', song=None),\n",
       " Row(userID='30', firstName='Colin', page='NextSong', song='Fakty'),\n",
       " Row(userID='30', firstName='Colin', page='NextSong', song='Jambalaya'),\n",
       " Row(userID='30', firstName='Colin', page='Upgrade', song=None),\n",
       " Row(userID='30', firstName='Colin', page='NextSong', song='The Shadowlands'),\n",
       " Row(userID='30', firstName='Colin', page='Logout', song=None),\n",
       " Row(userID='30', firstName='Colin', page='Home', song=None),\n",
       " Row(userID='30', firstName='Colin', page='NextSong', song='The Invisible Man'),\n",
       " Row(userID='30', firstName='Colin', page='NextSong', song='Firecracker'),\n",
       " Row(userID='30', firstName='Colin', page='NextSong', song='Bleed It Out [Live At Milton Keynes]'),\n",
       " Row(userID='30', firstName='Colin', page='NextSong', song='Miralo'),\n",
       " Row(userID='30', firstName='Colin', page='NextSong', song='ReprÃ\\x83Â©sente'),\n",
       " Row(userID='30', firstName='Colin', page='NextSong', song='Silencio'),\n",
       " Row(userID='30', firstName='Colin', page='Roll Advert', song=None),\n",
       " Row(userID='30', firstName='Colin', page='NextSong', song='Momma Cried'),\n",
       " Row(userID='30', firstName='Colin', page='Roll Advert', song=None),\n",
       " Row(userID='30', firstName='Colin', page='NextSong', song='La Vida Es Un Ratico'),\n",
       " Row(userID='30', firstName='Colin', page='Thumbs Down', song=None),\n",
       " Row(userID='30', firstName='Colin', page='NextSong', song='Cape Cod Kwassa Kwassa (Album)'),\n",
       " Row(userID='30', firstName='Colin', page='NextSong', song='Write You A Song'),\n",
       " Row(userID='30', firstName='Colin', page='NextSong', song='Elijah'),\n",
       " Row(userID='30', firstName='Colin', page='NextSong', song='Fireflies'),\n",
       " Row(userID='30', firstName='Colin', page='Thumbs Up', song=None),\n",
       " Row(userID='30', firstName='Colin', page='NextSong', song=\"You Don't Have Far To Go\"),\n",
       " Row(userID='30', firstName='Colin', page='NextSong', song='One by One'),\n",
       " Row(userID='30', firstName='Colin', page='NextSong', song='Wasted'),\n",
       " Row(userID='30', firstName='Colin', page='NextSong', song='Me Voy'),\n",
       " Row(userID='30', firstName='Colin', page='NextSong', song='Dear God (Album Version)'),\n",
       " Row(userID='30', firstName='Colin', page='NextSong', song='Die Hard'),\n",
       " Row(userID='30', firstName='Colin', page='Thumbs Up', song=None),\n",
       " Row(userID='30', firstName='Colin', page='NextSong', song='When The Stars Go Blue (Featuring Bono) (Disclab Remix)'),\n",
       " Row(userID='30', firstName='Colin', page='NextSong', song='What Can I Give You This Christmas?'),\n",
       " ...]"
      ]
     },
     "execution_count": 20,
     "metadata": {},
     "output_type": "execute_result"
    }
   ],
   "source": [
    "# try a different user\n",
    "df.select(['userID','firstName','page','song']).where(df.userId == \"30\").collect()"
   ]
  },
  {
   "cell_type": "markdown",
   "metadata": {},
   "source": [
    "More on Lazy Evaluation [here](https://data-flair.training/blogs/apache-spark-lazy-evaluation/). You need to use show() or collect() to have spark doing something with data."
   ]
  },
  {
   "cell_type": "markdown",
   "metadata": {},
   "source": [
    "### Clean Dataset"
   ]
  },
  {
   "cell_type": "markdown",
   "metadata": {},
   "source": [
    "##### Check NaNs"
   ]
  },
  {
   "cell_type": "markdown",
   "metadata": {},
   "source": [
    "Null values, spark DataFrame count using `isNull()` Function. Every column name is passed to `isNull()` function which returns the count of nulls."
   ]
  },
  {
   "cell_type": "code",
   "execution_count": 21,
   "metadata": {},
   "outputs": [
    {
     "name": "stdout",
     "output_type": "stream",
     "text": [
      "+------+----+---------+------+-------------+--------+------+-----+--------+------+----+------------+---------+-----+------+---+---------+------+\n",
      "|artist|auth|firstName|gender|itemInSession|lastName|length|level|location|method|page|registration|sessionId| song|status| ts|userAgent|userId|\n",
      "+------+----+---------+------+-------------+--------+------+-----+--------+------+----+------------+---------+-----+------+---+---------+------+\n",
      "| 58392|   0|     8346|  8346|            0|    8346| 58392|    0|    8346|     0|   0|        8346|        0|58392|     0|  0|     8346|     0|\n",
      "+------+----+---------+------+-------------+--------+------+-----+--------+------+----+------------+---------+-----+------+---+---------+------+\n",
      "\n"
     ]
    }
   ],
   "source": [
    "df.select([F.count(F.when(F.col(c).isNull(), c)).alias(c) for c in df.columns]).show()"
   ]
  },
  {
   "cell_type": "markdown",
   "metadata": {},
   "source": [
    "Null values of dataframe count in pyspark using `isNull()` and `isnan()` Functions."
   ]
  },
  {
   "cell_type": "code",
   "execution_count": 22,
   "metadata": {},
   "outputs": [
    {
     "name": "stdout",
     "output_type": "stream",
     "text": [
      "+------+----+---------+------+-------------+--------+------+-----+--------+------+----+------------+---------+-----+------+---+---------+------+\n",
      "|artist|auth|firstName|gender|itemInSession|lastName|length|level|location|method|page|registration|sessionId| song|status| ts|userAgent|userId|\n",
      "+------+----+---------+------+-------------+--------+------+-----+--------+------+----+------------+---------+-----+------+---+---------+------+\n",
      "| 58392|   0|     8346|  8346|            0|    8346| 58392|    0|    8346|     0|   0|        8346|        0|58392|     0|  0|     8346|     0|\n",
      "+------+----+---------+------+-------------+--------+------+-----+--------+------+----+------------+---------+-----+------+---+---------+------+\n",
      "\n"
     ]
    }
   ],
   "source": [
    "df.select([F.count(F.when(F.isnan(c) | F.col(c).isNull(), c)).alias(c) for c in df.columns]).show()"
   ]
  },
  {
   "cell_type": "code",
   "execution_count": 9,
   "metadata": {},
   "outputs": [],
   "source": [
    "nan_dict = {}\n",
    "def create_nan_dict(df):\n",
    "    '''\n",
    "    Description: Gets a spark dataframe and returns a python dictionary with  sum of null values\n",
    "    Input: Spark DataFrame\n",
    "    Output: Ordered dicronary ranging from the highest number of nulls to the lowest\n",
    "    \n",
    "    '''\n",
    "    \n",
    "    # create a dictionary keeping column names and nans\n",
    "    for col in df.columns:\n",
    "        nan_dict[col] = df.where(df[col].isNull()|F.isnan(df[col])).select(col).count()\n",
    "        \n",
    "        sorted_dict = dict(sorted(nan_dict.items(), key=lambda item: item[1]))\n",
    "        # plot Null values\n",
    "    sns.barplot([*sorted_dict.keys()],[*sorted_dict.values()])\n",
    "    plt.xticks(rotation = 90);\n",
    "    \n",
    "    return sorted_dict"
   ]
  },
  {
   "cell_type": "code",
   "execution_count": 24,
   "metadata": {},
   "outputs": [
    {
     "name": "stdout",
     "output_type": "stream",
     "text": [
      "Execution time: 0.18145756324132284 minutes\n"
     ]
    },
    {
     "data": {
      "image/png": "[encoded data removed]",
      "text/plain": [
       "<matplotlib.figure.Figure at 0x7f0fbe437748>"
      ]
     },
     "metadata": {
      "needs_background": "light"
     },
     "output_type": "display_data"
    }
   ],
   "source": [
    "import time\n",
    "start = time.time()\n",
    "nan_dict = create_nan_dict(df)\n",
    "stop = time.time()\n",
    "print(f'Execution time: {(stop - start)/60} minutes')"
   ]
  },
  {
   "cell_type": "markdown",
   "metadata": {},
   "source": [
    "We observe that \n",
    "- firstName\n",
    "- gender\n",
    "- lastName\n",
    "- registration\n",
    "- userAgent\n",
    "have the very same number of null values.\n",
    "\n",
    "Same goes for \n",
    "- artist\n",
    "- length\n",
    "- song\n",
    "\n",
    "Check if \"userId\", \"gender\", \"lastName\", \"location\", \"registration\", \"userAgent\", \"firstName\" correspond to the same records"
   ]
  },
  {
   "cell_type": "code",
   "execution_count": 25,
   "metadata": {},
   "outputs": [
    {
     "data": {
      "text/plain": [
       "True"
      ]
     },
     "execution_count": 25,
     "metadata": {},
     "output_type": "execute_result"
    }
   ],
   "source": [
    "# check firstName nans\n",
    "firstName_cols = len(df.select(\"firstName\").where(df.firstName.isNull()|F.isnan(df.firstName)).collect())\n",
    "\n",
    "# check rest of columns\n",
    "rest_of_cols = len(df.select([\"userId\", \"gender\", \"lastName\", \"location\", \"registration\", \"userAgent\"])\\\n",
    "    .where(df.firstName.isNull()|F.isnan(df.firstName))\\\n",
    "    .collect())\n",
    "\n",
    "firstName_cols == rest_of_cols"
   ]
  },
  {
   "cell_type": "markdown",
   "metadata": {},
   "source": [
    "It looks like they correspond to the same reccords. "
   ]
  },
  {
   "cell_type": "code",
   "execution_count": 26,
   "metadata": {},
   "outputs": [
    {
     "data": {
      "text/plain": [
       "0.029130890052356022"
      ]
     },
     "execution_count": 26,
     "metadata": {},
     "output_type": "execute_result"
    }
   ],
   "source": [
    "# check persentage of nulls\n",
    "rest_of_cols/df.count()"
   ]
  },
  {
   "cell_type": "markdown",
   "metadata": {},
   "source": [
    "They corrispond to 3% of the entire dataset so we can feel free to drop those."
   ]
  },
  {
   "cell_type": "code",
   "execution_count": 27,
   "metadata": {},
   "outputs": [
    {
     "name": "stdout",
     "output_type": "stream",
     "text": [
      "+----------+-----+\n",
      "|      auth|count|\n",
      "+----------+-----+\n",
      "|     Guest|   97|\n",
      "|Logged Out| 8249|\n",
      "+----------+-----+\n",
      "\n",
      "+-------------------+-----+\n",
      "|               page|count|\n",
      "+-------------------+-----+\n",
      "|Submit Registration|    5|\n",
      "|              Error|    6|\n",
      "|           Register|   18|\n",
      "|               Help|  272|\n",
      "|              About|  429|\n",
      "|              Login| 3241|\n",
      "|               Home| 4375|\n",
      "+-------------------+-----+\n",
      "\n"
     ]
    }
   ],
   "source": [
    "# keep nulls in a separate frame for future use if needed\n",
    "null_frame = df.filter(df.firstName.isNull()|F.isnan(df.firstName))\n",
    "\n",
    "# check authentication info in these records\n",
    "null_frame.groupBy(\"auth\").count().sort(\"count\").show()\n",
    "\n",
    "# check page info in these records\n",
    "null_frame.groupBy(\"page\").count().sort(\"count\").show()"
   ]
  },
  {
   "cell_type": "markdown",
   "metadata": {},
   "source": [
    "It looks like they are either \"Guests\" or \"Logged Out\" due to authentication issues and none of them has been tryong to downgrade their subscription so nein added value here. We can drop these reccords as they are not meaningfull for the analysis we are performing. "
   ]
  },
  {
   "cell_type": "code",
   "execution_count": 28,
   "metadata": {},
   "outputs": [
    {
     "name": "stdout",
     "output_type": "stream",
     "text": [
      "+----------------+---------+---------+------+-------------+--------+---------+-----+--------------------+------+--------+-------------+---------+-----------------+------+-------------+--------------------+------+\n",
      "|          artist|     auth|firstName|gender|itemInSession|lastName|   length|level|            location|method|    page| registration|sessionId|             song|status|           ts|           userAgent|userId|\n",
      "+----------------+---------+---------+------+-------------+--------+---------+-----+--------------------+------+--------+-------------+---------+-----------------+------+-------------+--------------------+------+\n",
      "|  Martha Tilston|Logged In|    Colin|     M|           50| Freeman|277.89016| paid|     Bakersfield, CA|   PUT|NextSong|1538173362000|       29|        Rockpools|   200|1538352117000|Mozilla/5.0 (Wind...|    30|\n",
      "|Five Iron Frenzy|Logged In|    Micah|     M|           79|    Long|236.09424| free|Boston-Cambridge-...|   PUT|NextSong|1538331630000|        8|           Canada|   200|1538352180000|\"Mozilla/5.0 (Win...|     9|\n",
      "|    Adam Lambert|Logged In|    Colin|     M|           51| Freeman| 282.8273| paid|     Bakersfield, CA|   PUT|NextSong|1538173362000|       29|Time For Miracles|   200|1538352394000|Mozilla/5.0 (Wind...|    30|\n",
      "+----------------+---------+---------+------+-------------+--------+---------+-----+--------------------+------+--------+-------------+---------+-----------------+------+-------------+--------------------+------+\n",
      "only showing top 3 rows\n",
      "\n"
     ]
    }
   ],
   "source": [
    "# drop null values and create log_events to work on from now on\n",
    "df.dropna(how = \"any\", subset = [\"firstName\"]).show(3)"
   ]
  },
  {
   "cell_type": "markdown",
   "metadata": {},
   "source": [
    "Further explore nulls in the rest of the data we are elaborating"
   ]
  },
  {
   "cell_type": "code",
   "execution_count": 6,
   "metadata": {},
   "outputs": [],
   "source": [
    "def clean_dataset(df):\n",
    "    log_events = df.dropna(how = \"any\", subset = [\"firstName\"])\n",
    "    log_events = log_events.withColumn('song', F.when(log_events.song.isNull(), F.lit(\"no_song\")).otherwise(df.song))\n",
    "    log_events = log_events.withColumn('artist', F.when(log_events.artist.isNull(), F.lit(\"no_artist\")).otherwise(df.artist))\n",
    "    log_events = log_events.withColumn('length', F.when(log_events.length.isNull(), F.lit(0)).otherwise(df.length))\n",
    "\n",
    "    return log_events"
   ]
  },
  {
   "cell_type": "code",
   "execution_count": 7,
   "metadata": {},
   "outputs": [],
   "source": [
    "log_events = clean_dataset(df)"
   ]
  },
  {
   "cell_type": "code",
   "execution_count": 10,
   "metadata": {},
   "outputs": [
    {
     "data": {
      "image/png": "[encoded data removed]",
      "text/plain": [
       "<matplotlib.figure.Figure at 0x7fa40e65efd0>"
      ]
     },
     "metadata": {
      "needs_background": "light"
     },
     "output_type": "display_data"
    }
   ],
   "source": [
    "# check nulls on log_events\n",
    "null_log_dict = create_nan_dict(log_events)"
   ]
  },
  {
   "cell_type": "markdown",
   "metadata": {},
   "source": [
    "It looks like we are done with NANs. Let's explore further our data."
   ]
  },
  {
   "cell_type": "markdown",
   "metadata": {},
   "source": [
    "# Exploratory Data Analysis\n",
    "When you're working with the full dataset, perform EDA by loading a small subset of the data and doing basic manipulations within Spark. In this workspace, you are already provided a small subset of data you can explore."
   ]
  },
  {
   "cell_type": "markdown",
   "metadata": {},
   "source": [
    "### Define Churn\n",
    "\n",
    "Once you've done some preliminary analysis, create a column `Churn` to use as the label for your model. I suggest using the `Cancellation Confirmation` events to define your churn, which happen for both paid and free users. As a bonus task, you can also look into the `Downgrade` events."
   ]
  },
  {
   "cell_type": "code",
   "execution_count": 32,
   "metadata": {},
   "outputs": [
    {
     "data": {
      "text/plain": [
       "2107"
      ]
     },
     "execution_count": 32,
     "metadata": {},
     "output_type": "execute_result"
    }
   ],
   "source": [
    "# check downgraded selection given \"Cancellation Confirmation\" and \"Downgrade\"\n",
    "log_events.filter((F.col(\"page\") == 'Cancellation Confirmation')| (F.col(\"page\") == 'Downgrade')).count()"
   ]
  },
  {
   "cell_type": "code",
   "execution_count": 11,
   "metadata": {},
   "outputs": [],
   "source": [
    "# create downgrade selection using \n",
    "def down_selection(page):\n",
    "    if page == 'Cancellation Confirmation' or page == 'Downgrade':\n",
    "        return 1\n",
    "    return 0"
   ]
  },
  {
   "cell_type": "code",
   "execution_count": 12,
   "metadata": {},
   "outputs": [],
   "source": [
    "def create_churn_col(log_events):\n",
    "    flag_downgrade_event = F.udf(down_selection, IntegerType())\n",
    "\n",
    "    log_events = log_events.withColumn('churn',flag_downgrade_event(df['page']))\n",
    "\n",
    "    return log_events"
   ]
  },
  {
   "cell_type": "code",
   "execution_count": 13,
   "metadata": {},
   "outputs": [],
   "source": [
    "log_events = create_churn_col(log_events)"
   ]
  },
  {
   "cell_type": "code",
   "execution_count": 36,
   "metadata": {},
   "outputs": [
    {
     "name": "stdout",
     "output_type": "stream",
     "text": [
      "+-----+-------------+-------------------+\n",
      "|churn|cnt_per_group|perc_of_count_total|\n",
      "+-----+-------------+-------------------+\n",
      "|    1|         2107| 0.7574940500586006|\n",
      "|    0|       276047|  99.24250594994139|\n",
      "+-----+-------------+-------------------+\n",
      "\n"
     ]
    }
   ],
   "source": [
    "log_events.groupBy(\"churn\") \\\n",
    "    .count() \\\n",
    "    .withColumnRenamed('count', 'cnt_per_group') \\\n",
    "    .withColumn('perc_of_count_total', (F.col('cnt_per_group') / log_events.count()) * 100 ) \\\n",
    "    .show()"
   ]
  },
  {
   "cell_type": "code",
   "execution_count": 37,
   "metadata": {},
   "outputs": [],
   "source": [
    "# create a churn user defined function to be used later on in visualizations\n",
    "churn_func = F.udf(lambda x: 'Churn' if x == 1 else 'Not Churn')"
   ]
  },
  {
   "cell_type": "markdown",
   "metadata": {},
   "source": [
    "### Explore Data\n",
    "Once you've defined churn, perform some exploratory data analysis to observe the behavior for users who stayed vs users who churned. You can start by exploring aggregates on these two groups of users, observing how much of a specific action they experienced per a certain time unit or number of songs played."
   ]
  },
  {
   "cell_type": "markdown",
   "metadata": {},
   "source": [
    "#### 1. \"userId\" feature"
   ]
  },
  {
   "cell_type": "code",
   "execution_count": 38,
   "metadata": {
    "scrolled": true
   },
   "outputs": [
    {
     "name": "stdout",
     "output_type": "stream",
     "text": [
      "+------+\n",
      "|userId|\n",
      "+------+\n",
      "|    99|\n",
      "|    98|\n",
      "|    97|\n",
      "|    96|\n",
      "|    95|\n",
      "+------+\n",
      "only showing top 5 rows\n",
      "\n",
      "+------+\n",
      "|userId|\n",
      "+------+\n",
      "|    10|\n",
      "|   100|\n",
      "|100001|\n",
      "|100002|\n",
      "|100003|\n",
      "+------+\n",
      "only showing top 5 rows\n",
      "\n"
     ]
    }
   ],
   "source": [
    "# check eventual \"userId\" typos\n",
    "log_events.select(\"userId\").dropDuplicates().sort(\"userId\", ascending = False).show(5)\n",
    "log_events.select(\"userId\").dropDuplicates().sort(\"userId\").show(5)"
   ]
  },
  {
   "cell_type": "code",
   "execution_count": 39,
   "metadata": {},
   "outputs": [
    {
     "name": "stdout",
     "output_type": "stream",
     "text": [
      "+-------+-----------------+\n",
      "|summary|           userId|\n",
      "+-------+-----------------+\n",
      "|  count|           278154|\n",
      "|   mean|59682.02278593872|\n",
      "| stddev|109091.9499991047|\n",
      "|    min|               10|\n",
      "|    max|               99|\n",
      "+-------+-----------------+\n",
      "\n"
     ]
    }
   ],
   "source": [
    "# describe data although you get info only for count\n",
    "log_events.describe(\"userId\").show()"
   ]
  },
  {
   "cell_type": "markdown",
   "metadata": {},
   "source": [
    "#### 2. \"auth\" feature"
   ]
  },
  {
   "cell_type": "code",
   "execution_count": 40,
   "metadata": {},
   "outputs": [
    {
     "name": "stdout",
     "output_type": "stream",
     "text": [
      "+---------+------+\n",
      "|     auth| count|\n",
      "+---------+------+\n",
      "|Cancelled|    52|\n",
      "|Logged In|278102|\n",
      "+---------+------+\n",
      "\n"
     ]
    }
   ],
   "source": [
    "log_events.select(\"auth\", \"churn\").groupBy(\"auth\").count().show()"
   ]
  },
  {
   "cell_type": "code",
   "execution_count": 41,
   "metadata": {},
   "outputs": [],
   "source": [
    "# get closer look to auth data\n",
    "auth_df = log_events.select(\"auth\", \"churn\").toPandas()"
   ]
  },
  {
   "cell_type": "code",
   "execution_count": 42,
   "metadata": {},
   "outputs": [
    {
     "data": {
      "image/png": "[encoded data removed]",
      "text/plain": [
       "<matplotlib.figure.Figure at 0x7f0fbca737f0>"
      ]
     },
     "metadata": {
      "needs_background": "light"
     },
     "output_type": "display_data"
    }
   ],
   "source": [
    "sns.countplot(x=\"auth\", hue=\"churn\", data=auth_df);"
   ]
  },
  {
   "cell_type": "markdown",
   "metadata": {},
   "source": [
    "Unfortunatelly we have dropped all \"guests\" in our dataframe. It looks like there is no more info to get from here."
   ]
  },
  {
   "cell_type": "markdown",
   "metadata": {},
   "source": [
    "#### 3. \"firstName\" feature"
   ]
  },
  {
   "cell_type": "code",
   "execution_count": 43,
   "metadata": {},
   "outputs": [
    {
     "name": "stdout",
     "output_type": "stream",
     "text": [
      "+---------+\n",
      "|firstName|\n",
      "+---------+\n",
      "|   Zyonna|\n",
      "|     Zoey|\n",
      "|      Zoe|\n",
      "|  William|\n",
      "|   Wesley|\n",
      "+---------+\n",
      "only showing top 5 rows\n",
      "\n",
      "+---------+\n",
      "|firstName|\n",
      "+---------+\n",
      "| Adelaida|\n",
      "|   Adrian|\n",
      "|  Adriana|\n",
      "|   Adriel|\n",
      "|  Ainsley|\n",
      "+---------+\n",
      "only showing top 5 rows\n",
      "\n"
     ]
    }
   ],
   "source": [
    "# get closer look to firstName\n",
    "log_events.select(\"firstName\").dropDuplicates().sort(\"firstName\", ascending = False).show(5)\n",
    "log_events.select(\"firstName\").dropDuplicates().sort(\"firstName\").show(5)"
   ]
  },
  {
   "cell_type": "markdown",
   "metadata": {},
   "source": [
    "For the moment I do not see something strange in this field"
   ]
  },
  {
   "cell_type": "markdown",
   "metadata": {},
   "source": [
    "#### 4. \"gender\" feature¶"
   ]
  },
  {
   "cell_type": "code",
   "execution_count": 44,
   "metadata": {},
   "outputs": [
    {
     "name": "stdout",
     "output_type": "stream",
     "text": [
      "+------+-------------+-------------------+\n",
      "|gender|cnt_per_group|perc_of_count_total|\n",
      "+------+-------------+-------------------+\n",
      "|     F|       154578| 55.572812183179096|\n",
      "|     M|       123576|   44.4271878168209|\n",
      "+------+-------------+-------------------+\n",
      "\n"
     ]
    }
   ],
   "source": [
    "# check gender feature\n",
    "log_events.groupBy(\"gender\") \\\n",
    "    .count() \\\n",
    "    .withColumnRenamed('count', 'cnt_per_group') \\\n",
    "    .withColumn('perc_of_count_total', (F.col('cnt_per_group') / log_events.count()) * 100 ) \\\n",
    "    .show()"
   ]
  },
  {
   "cell_type": "code",
   "execution_count": 45,
   "metadata": {},
   "outputs": [],
   "source": [
    "gender_df = log_events.select(\"gender\", \"churn\").toPandas()"
   ]
  },
  {
   "cell_type": "code",
   "execution_count": 46,
   "metadata": {},
   "outputs": [
    {
     "data": {
      "image/png": "[encoded data removed]",
      "text/plain": [
       "<matplotlib.figure.Figure at 0x7f0fefb5d518>"
      ]
     },
     "metadata": {
      "needs_background": "light"
     },
     "output_type": "display_data"
    }
   ],
   "source": [
    "sns.countplot(x=\"gender\", hue=\"churn\", data=gender_df);"
   ]
  },
  {
   "cell_type": "markdown",
   "metadata": {},
   "source": [
    "It looks like there are slightly more females than males in our dataset"
   ]
  },
  {
   "cell_type": "markdown",
   "metadata": {},
   "source": [
    "#### 5. \"itemInSession\" feature"
   ]
  },
  {
   "cell_type": "code",
   "execution_count": 47,
   "metadata": {},
   "outputs": [
    {
     "name": "stdout",
     "output_type": "stream",
     "text": [
      "+------+-----+\n",
      "|userId|count|\n",
      "+------+-----+\n",
      "|   135|    6|\n",
      "|   156|    6|\n",
      "|   125|   11|\n",
      "|100011|   23|\n",
      "|300003|   35|\n",
      "+------+-----+\n",
      "only showing top 5 rows\n",
      "\n",
      "+------+-----+\n",
      "|userId|count|\n",
      "+------+-----+\n",
      "|    39| 9632|\n",
      "|    92| 7230|\n",
      "|   140| 6880|\n",
      "|300011| 5732|\n",
      "|   124| 4825|\n",
      "+------+-----+\n",
      "only showing top 5 rows\n",
      "\n"
     ]
    }
   ],
   "source": [
    "# check itemIn Session feature\n",
    "log_events.select(\"userId\", \"itemInSession\").groupBy(\"userId\").count().sort(\"count\").show(5)\n",
    "log_events.select(\"userId\", \"itemInSession\").groupBy(\"userId\").count().sort(\"count\", ascending = False).show(5)"
   ]
  },
  {
   "cell_type": "code",
   "execution_count": 48,
   "metadata": {},
   "outputs": [
    {
     "name": "stdout",
     "output_type": "stream",
     "text": [
      "+-------+------------------+\n",
      "|summary|     itemInSession|\n",
      "+-------+------------------+\n",
      "|  count|            278154|\n",
      "|   mean|114.89918174824018|\n",
      "| stddev|  129.851729399489|\n",
      "|    min|                 0|\n",
      "|    max|              1321|\n",
      "+-------+------------------+\n",
      "\n"
     ]
    }
   ],
   "source": [
    "# get statistics\n",
    "log_events.describe(\"itemInSession\").show()"
   ]
  },
  {
   "cell_type": "code",
   "execution_count": 49,
   "metadata": {},
   "outputs": [
    {
     "name": "stdout",
     "output_type": "stream",
     "text": [
      "+------+--------------------+\n",
      "|userId|count(itemInSession)|\n",
      "+------+--------------------+\n",
      "|    39|                9632|\n",
      "|    92|                7230|\n",
      "|   140|                6880|\n",
      "|300011|                5732|\n",
      "|   124|                4825|\n",
      "|300021|                4659|\n",
      "|300017|                4428|\n",
      "|    85|                4370|\n",
      "|    42|                4257|\n",
      "|200023|                3769|\n",
      "|     6|                3761|\n",
      "|    29|                3603|\n",
      "|    54|                3437|\n",
      "|   100|                3214|\n",
      "|     9|                3191|\n",
      "|   126|                3102|\n",
      "|300015|                3051|\n",
      "|    91|                3014|\n",
      "|    98|                2891|\n",
      "|    74|                2887|\n",
      "+------+--------------------+\n",
      "only showing top 20 rows\n",
      "\n"
     ]
    }
   ],
   "source": [
    "log_events.select(\"userId\",\"itemInSession\", \"churn\")\\\n",
    "    .groupBy(\"userId\")\\\n",
    "    .agg(F.count('itemInSession'))\\\n",
    "    .orderBy('count(itemInSession)', ascending = False)\\\n",
    "    .show()"
   ]
  },
  {
   "cell_type": "code",
   "execution_count": 50,
   "metadata": {},
   "outputs": [],
   "source": [
    "inSession_df = log_events.select(\"userId\",\"itemInSession\", \"churn\")\\\n",
    "    .groupBy(\"userId\")\\\n",
    "    .agg({'itemInSession': 'count', 'churn': 'sum'})\\\n",
    "    .orderBy('sum(churn)', ascending = False).toPandas()"
   ]
  },
  {
   "cell_type": "code",
   "execution_count": 51,
   "metadata": {},
   "outputs": [
    {
     "data": {
      "text/html": [
       "<div>\n",
       "<style scoped>\n",
       "    .dataframe tbody tr th:only-of-type {\n",
       "        vertical-align: middle;\n",
       "    }\n",
       "\n",
       "    .dataframe tbody tr th {\n",
       "        vertical-align: top;\n",
       "    }\n",
       "\n",
       "    .dataframe thead th {\n",
       "        text-align: right;\n",
       "    }\n",
       "</style>\n",
       "<table border=\"1\" class=\"dataframe\">\n",
       "  <thead>\n",
       "    <tr style=\"text-align: right;\">\n",
       "      <th></th>\n",
       "      <th>userId</th>\n",
       "      <th>count(itemInSession)</th>\n",
       "      <th>sum(churn)</th>\n",
       "    </tr>\n",
       "  </thead>\n",
       "  <tbody>\n",
       "    <tr>\n",
       "      <th>0</th>\n",
       "      <td>39</td>\n",
       "      <td>9632</td>\n",
       "      <td>73</td>\n",
       "    </tr>\n",
       "    <tr>\n",
       "      <th>1</th>\n",
       "      <td>92</td>\n",
       "      <td>7230</td>\n",
       "      <td>68</td>\n",
       "    </tr>\n",
       "    <tr>\n",
       "      <th>2</th>\n",
       "      <td>140</td>\n",
       "      <td>6880</td>\n",
       "      <td>50</td>\n",
       "    </tr>\n",
       "    <tr>\n",
       "      <th>3</th>\n",
       "      <td>200023</td>\n",
       "      <td>3769</td>\n",
       "      <td>44</td>\n",
       "    </tr>\n",
       "    <tr>\n",
       "      <th>4</th>\n",
       "      <td>85</td>\n",
       "      <td>4370</td>\n",
       "      <td>42</td>\n",
       "    </tr>\n",
       "  </tbody>\n",
       "</table>\n",
       "</div>"
      ],
      "text/plain": [
       "   userId  count(itemInSession)  sum(churn)\n",
       "0      39                  9632          73\n",
       "1      92                  7230          68\n",
       "2     140                  6880          50\n",
       "3  200023                  3769          44\n",
       "4      85                  4370          42"
      ]
     },
     "execution_count": 51,
     "metadata": {},
     "output_type": "execute_result"
    }
   ],
   "source": [
    "inSession_df.head()"
   ]
  },
  {
   "cell_type": "code",
   "execution_count": 52,
   "metadata": {},
   "outputs": [
    {
     "data": {
      "text/html": [
       "<div>\n",
       "<style scoped>\n",
       "    .dataframe tbody tr th:only-of-type {\n",
       "        vertical-align: middle;\n",
       "    }\n",
       "\n",
       "    .dataframe tbody tr th {\n",
       "        vertical-align: top;\n",
       "    }\n",
       "\n",
       "    .dataframe thead th {\n",
       "        text-align: right;\n",
       "    }\n",
       "</style>\n",
       "<table border=\"1\" class=\"dataframe\">\n",
       "  <thead>\n",
       "    <tr style=\"text-align: right;\">\n",
       "      <th></th>\n",
       "      <th>userId</th>\n",
       "      <th>count(itemInSession)</th>\n",
       "      <th>sum(churn)</th>\n",
       "    </tr>\n",
       "  </thead>\n",
       "  <tbody>\n",
       "    <tr>\n",
       "      <th>220</th>\n",
       "      <td>151</td>\n",
       "      <td>163</td>\n",
       "      <td>0</td>\n",
       "    </tr>\n",
       "    <tr>\n",
       "      <th>221</th>\n",
       "      <td>76</td>\n",
       "      <td>272</td>\n",
       "      <td>0</td>\n",
       "    </tr>\n",
       "    <tr>\n",
       "      <th>222</th>\n",
       "      <td>80</td>\n",
       "      <td>474</td>\n",
       "      <td>0</td>\n",
       "    </tr>\n",
       "    <tr>\n",
       "      <th>223</th>\n",
       "      <td>57</td>\n",
       "      <td>112</td>\n",
       "      <td>0</td>\n",
       "    </tr>\n",
       "    <tr>\n",
       "      <th>224</th>\n",
       "      <td>119</td>\n",
       "      <td>223</td>\n",
       "      <td>0</td>\n",
       "    </tr>\n",
       "  </tbody>\n",
       "</table>\n",
       "</div>"
      ],
      "text/plain": [
       "    userId  count(itemInSession)  sum(churn)\n",
       "220    151                   163           0\n",
       "221     76                   272           0\n",
       "222     80                   474           0\n",
       "223     57                   112           0\n",
       "224    119                   223           0"
      ]
     },
     "execution_count": 52,
     "metadata": {},
     "output_type": "execute_result"
    }
   ],
   "source": [
    "inSession_df.tail()"
   ]
  },
  {
   "cell_type": "code",
   "execution_count": 53,
   "metadata": {},
   "outputs": [
    {
     "data": {
      "image/png": "[encoded data removed]",
      "text/plain": [
       "<matplotlib.figure.Figure at 0x7f0fbcb22278>"
      ]
     },
     "metadata": {
      "needs_background": "light"
     },
     "output_type": "display_data"
    }
   ],
   "source": [
    "plt.scatter(inSession_df[\"count(itemInSession)\"], inSession_df[\"sum(churn)\"])\n",
    "plt.xlabel(\"Count - Item In Session\")\n",
    "plt.ylabel(\"Sum - Churn\");"
   ]
  },
  {
   "cell_type": "code",
   "execution_count": 54,
   "metadata": {},
   "outputs": [
    {
     "name": "stdout",
     "output_type": "stream",
     "text": [
      "+-------+------------------+--------------------+------------------+\n",
      "|summary|            userId|count(itemInSession)|        sum(churn)|\n",
      "+-------+------------------+--------------------+------------------+\n",
      "|  count|               225|                 225|               225|\n",
      "|   mean|65391.013333333336|             1236.24| 9.364444444444445|\n",
      "| stddev|105396.47791907164|  1329.5317164325193|11.689455633855365|\n",
      "|    min|                10|                   6|                 0|\n",
      "|    max|                99|                9632|                73|\n",
      "+-------+------------------+--------------------+------------------+\n",
      "\n"
     ]
    }
   ],
   "source": [
    "log_events.select(\"userId\",\"itemInSession\", \"churn\")\\\n",
    "    .groupBy(\"userId\")\\\n",
    "    .agg({'itemInSession': 'count', 'churn': 'sum'})\\\n",
    "    .orderBy('sum(churn)', ascending = False).describe().show()"
   ]
  },
  {
   "cell_type": "markdown",
   "metadata": {},
   "source": [
    "#### 6. \"lastName\" feature"
   ]
  },
  {
   "cell_type": "code",
   "execution_count": 55,
   "metadata": {},
   "outputs": [
    {
     "name": "stdout",
     "output_type": "stream",
     "text": [
      "+---------+\n",
      "| lastName|\n",
      "+---------+\n",
      "|   Wright|\n",
      "|     Wood|\n",
      "|     Wolf|\n",
      "| Williams|\n",
      "|Whitehead|\n",
      "+---------+\n",
      "only showing top 5 rows\n",
      "\n",
      "+---------+\n",
      "| lastName|\n",
      "+---------+\n",
      "|    Adams|\n",
      "|  Aguilar|\n",
      "|Alexander|\n",
      "|    Allen|\n",
      "| Atkinson|\n",
      "+---------+\n",
      "only showing top 5 rows\n",
      "\n"
     ]
    }
   ],
   "source": [
    "# check possible typos in lastname\n",
    "log_events.select(\"lastName\").dropDuplicates().sort(\"lastName\", ascending = False).show(5)\n",
    "log_events.select(\"lastName\").dropDuplicates().sort(\"lastName\").show(5)"
   ]
  },
  {
   "cell_type": "markdown",
   "metadata": {},
   "source": [
    "All gut here"
   ]
  },
  {
   "cell_type": "markdown",
   "metadata": {},
   "source": [
    "#### 7. \"length\" feature"
   ]
  },
  {
   "cell_type": "code",
   "execution_count": 56,
   "metadata": {},
   "outputs": [
    {
     "name": "stdout",
     "output_type": "stream",
     "text": [
      "+-------+------------------+\n",
      "|summary|            length|\n",
      "+-------+------------------+\n",
      "|  count|            278154|\n",
      "|   mean|204.29554184589276|\n",
      "| stddev|131.27340104312333|\n",
      "|    min|               0.0|\n",
      "|    max|        3024.66567|\n",
      "+-------+------------------+\n",
      "\n"
     ]
    }
   ],
   "source": [
    "# get statistics\n",
    "log_events.describe(\"length\").show()"
   ]
  },
  {
   "cell_type": "code",
   "execution_count": 57,
   "metadata": {},
   "outputs": [],
   "source": [
    "# save to pandas dataframe to get some visualizations\n",
    "length_df = log_events.select(\"userId\", \"length\").toPandas()"
   ]
  },
  {
   "cell_type": "code",
   "execution_count": 58,
   "metadata": {},
   "outputs": [
    {
     "name": "stdout",
     "output_type": "stream",
     "text": [
      "            length\n",
      "userId            \n",
      "156     115.278140\n",
      "100011  123.552152\n",
      "100006  133.065706\n",
      "100024  143.348113\n",
      "68      147.493604\n",
      "            length\n",
      "userId            \n",
      "63      216.372364\n",
      "100014  218.398297\n",
      "300024  222.535727\n",
      "100002  227.339074\n",
      "135     266.074102\n"
     ]
    }
   ],
   "source": [
    "print(length_df.groupby(\"userId\").mean().sort_values(by = \"length\").head())\n",
    "print(length_df.groupby(\"userId\").mean().sort_values(by = \"length\").tail())"
   ]
  },
  {
   "cell_type": "code",
   "execution_count": 59,
   "metadata": {},
   "outputs": [
    {
     "data": {
      "text/html": [
       "<div>\n",
       "<style scoped>\n",
       "    .dataframe tbody tr th:only-of-type {\n",
       "        vertical-align: middle;\n",
       "    }\n",
       "\n",
       "    .dataframe tbody tr th {\n",
       "        vertical-align: top;\n",
       "    }\n",
       "\n",
       "    .dataframe thead th {\n",
       "        text-align: right;\n",
       "    }\n",
       "</style>\n",
       "<table border=\"1\" class=\"dataframe\">\n",
       "  <thead>\n",
       "    <tr style=\"text-align: right;\">\n",
       "      <th></th>\n",
       "      <th>userId</th>\n",
       "      <th>length</th>\n",
       "    </tr>\n",
       "  </thead>\n",
       "  <tbody>\n",
       "    <tr>\n",
       "      <th>706</th>\n",
       "      <td>126</td>\n",
       "      <td>3024.66567</td>\n",
       "    </tr>\n",
       "    <tr>\n",
       "      <th>24252</th>\n",
       "      <td>39</td>\n",
       "      <td>3024.66567</td>\n",
       "    </tr>\n",
       "    <tr>\n",
       "      <th>25408</th>\n",
       "      <td>101</td>\n",
       "      <td>3024.66567</td>\n",
       "    </tr>\n",
       "    <tr>\n",
       "      <th>92343</th>\n",
       "      <td>85</td>\n",
       "      <td>3024.66567</td>\n",
       "    </tr>\n",
       "    <tr>\n",
       "      <th>117632</th>\n",
       "      <td>88</td>\n",
       "      <td>3024.66567</td>\n",
       "    </tr>\n",
       "    <tr>\n",
       "      <th>254586</th>\n",
       "      <td>300009</td>\n",
       "      <td>3024.66567</td>\n",
       "    </tr>\n",
       "    <tr>\n",
       "      <th>261864</th>\n",
       "      <td>300018</td>\n",
       "      <td>3024.66567</td>\n",
       "    </tr>\n",
       "    <tr>\n",
       "      <th>277019</th>\n",
       "      <td>300023</td>\n",
       "      <td>3024.66567</td>\n",
       "    </tr>\n",
       "  </tbody>\n",
       "</table>\n",
       "</div>"
      ],
      "text/plain": [
       "        userId      length\n",
       "706        126  3024.66567\n",
       "24252       39  3024.66567\n",
       "25408      101  3024.66567\n",
       "92343       85  3024.66567\n",
       "117632      88  3024.66567\n",
       "254586  300009  3024.66567\n",
       "261864  300018  3024.66567\n",
       "277019  300023  3024.66567"
      ]
     },
     "execution_count": 59,
     "metadata": {},
     "output_type": "execute_result"
    }
   ],
   "source": [
    "# check where we have maximum values\n",
    "length_df.loc[length_df.length == length_df.length.max()]"
   ]
  },
  {
   "cell_type": "code",
   "execution_count": 60,
   "metadata": {},
   "outputs": [
    {
     "data": {
      "image/png": "[encoded data removed]",
      "text/plain": [
       "<matplotlib.figure.Figure at 0x7f0faf753630>"
      ]
     },
     "metadata": {
      "needs_background": "light"
     },
     "output_type": "display_data"
    }
   ],
   "source": [
    "# check boxplot for outliers\n",
    "length_df.length.plot(kind = \"box\");"
   ]
  },
  {
   "cell_type": "code",
   "execution_count": 61,
   "metadata": {},
   "outputs": [
    {
     "data": {
      "text/plain": [
       "0.25    157.41342\n",
       "0.50    220.13342\n",
       "0.75    265.58649\n",
       "0.90    327.96689\n",
       "0.95    385.59302\n",
       "0.99    560.22159\n",
       "Name: length, dtype: float64"
      ]
     },
     "execution_count": 61,
     "metadata": {},
     "output_type": "execute_result"
    }
   ],
   "source": [
    "# check quantiles\n",
    "length_df.length.quantile([.25, .5, .75, .90, .95, .99])"
   ]
  },
  {
   "cell_type": "code",
   "execution_count": 62,
   "metadata": {},
   "outputs": [
    {
     "data": {
      "text/plain": [
       "278"
      ]
     },
     "execution_count": 62,
     "metadata": {},
     "output_type": "execute_result"
    }
   ],
   "source": [
    "# check in the very last quantile how many values we have\n",
    "len(length_df.loc[length_df.length > length_df.length.quantile( .999)])"
   ]
  },
  {
   "cell_type": "code",
   "execution_count": 63,
   "metadata": {},
   "outputs": [
    {
     "data": {
      "image/png": "[encoded data removed]",
      "text/plain": [
       "<matplotlib.figure.Figure at 0x7f0fbcadf908>"
      ]
     },
     "metadata": {
      "needs_background": "light"
     },
     "output_type": "display_data"
    }
   ],
   "source": [
    "# plot valid values\n",
    "length_df.loc[length_df.length < length_df.length.quantile( .999)].plot(kind = \"box\");"
   ]
  },
  {
   "cell_type": "code",
   "execution_count": 64,
   "metadata": {},
   "outputs": [
    {
     "data": {
      "text/html": [
       "<div>\n",
       "<style scoped>\n",
       "    .dataframe tbody tr th:only-of-type {\n",
       "        vertical-align: middle;\n",
       "    }\n",
       "\n",
       "    .dataframe tbody tr th {\n",
       "        vertical-align: top;\n",
       "    }\n",
       "\n",
       "    .dataframe thead th {\n",
       "        text-align: right;\n",
       "    }\n",
       "</style>\n",
       "<table border=\"1\" class=\"dataframe\">\n",
       "  <thead>\n",
       "    <tr style=\"text-align: right;\">\n",
       "      <th></th>\n",
       "      <th>userId</th>\n",
       "      <th>length</th>\n",
       "    </tr>\n",
       "  </thead>\n",
       "  <tbody>\n",
       "    <tr>\n",
       "      <th>142138</th>\n",
       "      <td>60</td>\n",
       "      <td>1001.74322</td>\n",
       "    </tr>\n",
       "    <tr>\n",
       "      <th>201665</th>\n",
       "      <td>111</td>\n",
       "      <td>1001.74322</td>\n",
       "    </tr>\n",
       "    <tr>\n",
       "      <th>269081</th>\n",
       "      <td>300021</td>\n",
       "      <td>1001.74322</td>\n",
       "    </tr>\n",
       "  </tbody>\n",
       "</table>\n",
       "</div>"
      ],
      "text/plain": [
       "        userId      length\n",
       "142138      60  1001.74322\n",
       "201665     111  1001.74322\n",
       "269081  300021  1001.74322"
      ]
     },
     "execution_count": 64,
     "metadata": {},
     "output_type": "execute_result"
    }
   ],
   "source": [
    "# check outliers threshold\n",
    "length_df.loc[length_df.length == length_df.length.quantile( .999)]"
   ]
  },
  {
   "cell_type": "code",
   "execution_count": 65,
   "metadata": {},
   "outputs": [
    {
     "data": {
      "text/plain": [
       "282"
      ]
     },
     "execution_count": 65,
     "metadata": {},
     "output_type": "execute_result"
    }
   ],
   "source": [
    "# check reccords to drop\n",
    "log_events.filter(log_events[\"length\"] > 1000).count()"
   ]
  },
  {
   "cell_type": "code",
   "execution_count": 66,
   "metadata": {},
   "outputs": [],
   "source": [
    "# keep records with session length beloow 1000 minutes\n",
    "log_events = log_events.filter(log_events[\"length\"] < 1000)"
   ]
  },
  {
   "cell_type": "markdown",
   "metadata": {},
   "source": [
    "#### 8. \"level\" feature"
   ]
  },
  {
   "cell_type": "code",
   "execution_count": 67,
   "metadata": {},
   "outputs": [
    {
     "name": "stdout",
     "output_type": "stream",
     "text": [
      "+-----+------+\n",
      "|level| count|\n",
      "+-----+------+\n",
      "| free| 55666|\n",
      "| paid|222206|\n",
      "+-----+------+\n",
      "\n"
     ]
    }
   ],
   "source": [
    "log_events.groupBy(\"level\").count().show()"
   ]
  },
  {
   "cell_type": "code",
   "execution_count": 68,
   "metadata": {},
   "outputs": [
    {
     "name": "stdout",
     "output_type": "stream",
     "text": [
      "+-----+-------------+-------------------+\n",
      "|level|cnt_per_group|perc_of_count_total|\n",
      "+-----+-------------+-------------------+\n",
      "| free|        55666|  20.03296481833362|\n",
      "| paid|       222206|  79.96703518166638|\n",
      "+-----+-------------+-------------------+\n",
      "\n"
     ]
    }
   ],
   "source": [
    "log_events.groupBy(\"level\") \\\n",
    "    .count() \\\n",
    "    .withColumnRenamed('count', 'cnt_per_group') \\\n",
    "    .withColumn('perc_of_count_total', (F.col('cnt_per_group') / log_events.count()) * 100 ) \\\n",
    "    .show()"
   ]
  },
  {
   "cell_type": "markdown",
   "metadata": {},
   "source": [
    "20 % are free consumers and 80 % paid. It doest't seem very realistic but it is fictional data!"
   ]
  },
  {
   "cell_type": "markdown",
   "metadata": {},
   "source": [
    "#### 9. \"location\" feature"
   ]
  },
  {
   "cell_type": "code",
   "execution_count": 69,
   "metadata": {},
   "outputs": [],
   "source": [
    "loc_df = log_events.groupBy(\"location\").count().orderBy(\"count\", ascending = False).toPandas()"
   ]
  },
  {
   "cell_type": "code",
   "execution_count": 70,
   "metadata": {},
   "outputs": [
    {
     "data": {
      "image/png": "[encoded data removed]",
      "text/plain": [
       "<matplotlib.figure.Figure at 0x7f0fbcb9b7b8>"
      ]
     },
     "metadata": {
      "needs_background": "light"
     },
     "output_type": "display_data"
    }
   ],
   "source": [
    "loc_df.set_index('location').head(20).plot(kind = 'bar');"
   ]
  },
  {
   "cell_type": "markdown",
   "metadata": {},
   "source": [
    "#### 10. \"method\" feature"
   ]
  },
  {
   "cell_type": "code",
   "execution_count": 71,
   "metadata": {},
   "outputs": [
    {
     "data": {
      "text/plain": [
       "['PUT', 'GET']"
      ]
     },
     "execution_count": 71,
     "metadata": {},
     "output_type": "execute_result"
    }
   ],
   "source": [
    "# get unique values for \"method\" feature\n",
    "[row['method'] for row in log_events.select('method').dropDuplicates().collect()]"
   ]
  },
  {
   "cell_type": "markdown",
   "metadata": {},
   "source": [
    "It looks like \"method\" feature can be either get or put"
   ]
  },
  {
   "cell_type": "markdown",
   "metadata": {},
   "source": [
    "#### 11. \"page\" feature"
   ]
  },
  {
   "cell_type": "code",
   "execution_count": 72,
   "metadata": {},
   "outputs": [
    {
     "data": {
      "text/plain": [
       "['Cancel',\n",
       " 'Submit Downgrade',\n",
       " 'Thumbs Down',\n",
       " 'Home',\n",
       " 'Downgrade',\n",
       " 'Roll Advert',\n",
       " 'Logout',\n",
       " 'Save Settings',\n",
       " 'Cancellation Confirmation',\n",
       " 'About',\n",
       " 'Settings',\n",
       " 'Add to Playlist',\n",
       " 'Add Friend',\n",
       " 'NextSong',\n",
       " 'Thumbs Up',\n",
       " 'Help',\n",
       " 'Upgrade',\n",
       " 'Error',\n",
       " 'Submit Upgrade']"
      ]
     },
     "execution_count": 72,
     "metadata": {},
     "output_type": "execute_result"
    }
   ],
   "source": [
    "# get unique values for \"page\" feature\n",
    "[row['page'] for row in log_events.select('page').dropDuplicates().collect()]"
   ]
  },
  {
   "cell_type": "code",
   "execution_count": 73,
   "metadata": {},
   "outputs": [
    {
     "data": {
      "image/png": "[encoded data removed]",
      "text/plain": [
       "<matplotlib.figure.Figure at 0x7f0fbcad0f98>"
      ]
     },
     "metadata": {
      "needs_background": "light"
     },
     "output_type": "display_data"
    }
   ],
   "source": [
    "# count page events \n",
    "page_df = log_events.groupBy(['userId']).pivot('page').count().fillna(0).toPandas()\n",
    "\n",
    "# Visualize churn patterns by page event\n",
    "fig = plt.figure(figsize=(12, 12))\n",
    "page_cols = [row['page'] for row in log_events.select('page').dropDuplicates().collect()]\n",
    "\n",
    "for i, col in enumerate(page_cols):\n",
    "    ax = fig.add_subplot(4,5,i+1)\n",
    "    page_df.boxplot(col, ax=ax, grid=False,  by='Cancellation Confirmation', showfliers=False);\n",
    "\n",
    "fig.suptitle('')\n",
    "plt.tight_layout()"
   ]
  },
  {
   "cell_type": "markdown",
   "metadata": {},
   "source": [
    "Here we have all page features we can exlore"
   ]
  },
  {
   "cell_type": "markdown",
   "metadata": {},
   "source": [
    "#### 12. \"registration\" feature"
   ]
  },
  {
   "cell_type": "code",
   "execution_count": 74,
   "metadata": {},
   "outputs": [
    {
     "data": {
      "text/plain": [
       "225"
      ]
     },
     "execution_count": 74,
     "metadata": {},
     "output_type": "execute_result"
    }
   ],
   "source": [
    "# get unique values for \"page\" feature\n",
    "len([row['registration'] for row in log_events.select('registration').dropDuplicates().collect()])"
   ]
  },
  {
   "cell_type": "code",
   "execution_count": 75,
   "metadata": {},
   "outputs": [
    {
     "data": {
      "text/plain": [
       "1529027541000"
      ]
     },
     "execution_count": 75,
     "metadata": {},
     "output_type": "execute_result"
    }
   ],
   "source": [
    "[row['registration'] for row in log_events.select('registration').dropDuplicates().collect()][0]"
   ]
  },
  {
   "cell_type": "markdown",
   "metadata": {},
   "source": [
    "It looks like a 13 digit length id linked with some sort of id"
   ]
  },
  {
   "cell_type": "markdown",
   "metadata": {},
   "source": [
    "#### 13. \"sessionId\" feature"
   ]
  },
  {
   "cell_type": "code",
   "execution_count": 76,
   "metadata": {},
   "outputs": [
    {
     "data": {
      "text/plain": [
       "[29,\n",
       " 26,\n",
       " 474,\n",
       " 964,\n",
       " 1697,\n",
       " 1806,\n",
       " 2040,\n",
       " 1950,\n",
       " 2214,\n",
       " 418,\n",
       " 65,\n",
       " 541,\n",
       " 558,\n",
       " 1010,\n",
       " 1224,\n",
       " 1277,\n",
       " 1258,\n",
       " 1360,\n",
       " 1840,\n",
       " 2173,\n",
       " 191,\n",
       " 222,\n",
       " 293,\n",
       " 270,\n",
       " 730,\n",
       " 938,\n",
       " 1127,\n",
       " 1371,\n",
       " 1409,\n",
       " 1551,\n",
       " 1642,\n",
       " 1145,\n",
       " 2184,\n",
       " 278,\n",
       " 442,\n",
       " 367,\n",
       " 705,\n",
       " 720,\n",
       " 1202,\n",
       " 1175,\n",
       " 243,\n",
       " 1532,\n",
       " 1690,\n",
       " 1919,\n",
       " 1936,\n",
       " 2030,\n",
       " 296,\n",
       " 54,\n",
       " 926,\n",
       " 1280,\n",
       " 1217,\n",
       " 1447,\n",
       " 1537,\n",
       " 1671,\n",
       " 1782,\n",
       " 965,\n",
       " 19,\n",
       " 277,\n",
       " 287,\n",
       " 348,\n",
       " 415,\n",
       " 847,\n",
       " 1077,\n",
       " 1336,\n",
       " 1594,\n",
       " 1958,\n",
       " 502,\n",
       " 1055,\n",
       " 1480,\n",
       " 656,\n",
       " 1921,\n",
       " 2088,\n",
       " 2244,\n",
       " 112,\n",
       " 299,\n",
       " 113,\n",
       " 385,\n",
       " 167,\n",
       " 831,\n",
       " 736,\n",
       " 1042,\n",
       " 1738,\n",
       " 1882,\n",
       " 1599,\n",
       " 2175,\n",
       " 2403,\n",
       " 155,\n",
       " 241,\n",
       " 237,\n",
       " 347,\n",
       " 602,\n",
       " 564,\n",
       " 588,\n",
       " 857,\n",
       " 1547,\n",
       " 1636,\n",
       " 1740,\n",
       " 1497,\n",
       " 1983,\n",
       " 198,\n",
       " 330,\n",
       " 530,\n",
       " 414,\n",
       " 724,\n",
       " 1241,\n",
       " 1211,\n",
       " 1640,\n",
       " 1526,\n",
       " 1905,\n",
       " 1338,\n",
       " 1711,\n",
       " 2355,\n",
       " 22,\n",
       " 486,\n",
       " 427,\n",
       " 487,\n",
       " 823,\n",
       " 1050,\n",
       " 932,\n",
       " 1152,\n",
       " 1157,\n",
       " 1059,\n",
       " 1403,\n",
       " 1374,\n",
       " 1428,\n",
       " 1972,\n",
       " 2282,\n",
       " 130,\n",
       " 196,\n",
       " 677,\n",
       " 1353,\n",
       " 1505,\n",
       " 1760,\n",
       " 2007,\n",
       " 1979,\n",
       " 2241,\n",
       " 1873,\n",
       " 77,\n",
       " 7,\n",
       " 532,\n",
       " 635,\n",
       " 858,\n",
       " 1041,\n",
       " 1427,\n",
       " 1529,\n",
       " 1687,\n",
       " 1540,\n",
       " 1887,\n",
       " 34,\n",
       " 184,\n",
       " 463,\n",
       " 551,\n",
       " 830,\n",
       " 939,\n",
       " 853,\n",
       " 1200,\n",
       " 1319,\n",
       " 1329,\n",
       " 1471,\n",
       " 1542,\n",
       " 2033,\n",
       " 399,\n",
       " 1052,\n",
       " 1199,\n",
       " 693,\n",
       " 1483,\n",
       " 1458,\n",
       " 1445,\n",
       " 2069,\n",
       " 2300,\n",
       " 188,\n",
       " 202,\n",
       " 228,\n",
       " 529,\n",
       " 889,\n",
       " 844,\n",
       " 1591,\n",
       " 1730,\n",
       " 1768,\n",
       " 2014,\n",
       " 2204,\n",
       " 2370,\n",
       " 126,\n",
       " 274,\n",
       " 262,\n",
       " 325,\n",
       " 406,\n",
       " 624,\n",
       " 998,\n",
       " 1694,\n",
       " 1567,\n",
       " 1899,\n",
       " 2227,\n",
       " 570,\n",
       " 734,\n",
       " 691,\n",
       " 1415,\n",
       " 1508,\n",
       " 1799,\n",
       " 1766,\n",
       " 1908,\n",
       " 1986,\n",
       " 2308,\n",
       " 2080,\n",
       " 2316,\n",
       " 1776,\n",
       " 421,\n",
       " 149,\n",
       " 1038,\n",
       " 1174,\n",
       " 1895,\n",
       " 1949,\n",
       " 1816,\n",
       " 2071,\n",
       " 2162,\n",
       " 50,\n",
       " 94,\n",
       " 264,\n",
       " 638,\n",
       " 600,\n",
       " 876,\n",
       " 961,\n",
       " 1110,\n",
       " 1210,\n",
       " 1064,\n",
       " 1632,\n",
       " 1789,\n",
       " 1302,\n",
       " 1756,\n",
       " 2149,\n",
       " 2119,\n",
       " 650,\n",
       " 1119,\n",
       " 1185,\n",
       " 1212,\n",
       " 1343,\n",
       " 1376,\n",
       " 1559,\n",
       " 1485,\n",
       " 1606,\n",
       " 1930,\n",
       " 2196,\n",
       " 1846,\n",
       " 1969,\n",
       " 2153,\n",
       " 229,\n",
       " 110,\n",
       " 343,\n",
       " 439,\n",
       " 629,\n",
       " 275,\n",
       " 706,\n",
       " 737,\n",
       " 902,\n",
       " 1598,\n",
       " 1964,\n",
       " 1967,\n",
       " 2182,\n",
       " 2098,\n",
       " 2215,\n",
       " 190,\n",
       " 136,\n",
       " 57,\n",
       " 513,\n",
       " 828,\n",
       " 936,\n",
       " 1002,\n",
       " 1213,\n",
       " 1407,\n",
       " 1607,\n",
       " 1728,\n",
       " 2377,\n",
       " 388,\n",
       " 412,\n",
       " 417,\n",
       " 963,\n",
       " 1571,\n",
       " 1710,\n",
       " 1911,\n",
       " 1956,\n",
       " 2041,\n",
       " 2192,\n",
       " 144,\n",
       " 1025,\n",
       " 1219,\n",
       " 909,\n",
       " 1283,\n",
       " 1240,\n",
       " 1549,\n",
       " 1256,\n",
       " 1771,\n",
       " 1937,\n",
       " 2235,\n",
       " 2212,\n",
       " 2336,\n",
       " 420,\n",
       " 555,\n",
       " 696,\n",
       " 752,\n",
       " 1051,\n",
       " 1073,\n",
       " 1089,\n",
       " 1128,\n",
       " 1134,\n",
       " 1108,\n",
       " 1550,\n",
       " 2077,\n",
       " 2112,\n",
       " 2223,\n",
       " 32,\n",
       " 43,\n",
       " 378,\n",
       " 1233,\n",
       " 2012,\n",
       " 84,\n",
       " 779,\n",
       " 766,\n",
       " 970,\n",
       " 1501,\n",
       " 1362,\n",
       " 1924,\n",
       " 2294,\n",
       " 2358,\n",
       " 2276,\n",
       " 212,\n",
       " 376,\n",
       " 516,\n",
       " 958,\n",
       " 1361,\n",
       " 1434,\n",
       " 1722,\n",
       " 1991,\n",
       " 1811,\n",
       " 662,\n",
       " 2441,\n",
       " 31,\n",
       " 395,\n",
       " 768,\n",
       " 974,\n",
       " 1440,\n",
       " 1420,\n",
       " 1940,\n",
       " 2137,\n",
       " 2130,\n",
       " 119,\n",
       " 326,\n",
       " 450,\n",
       " 596,\n",
       " 894,\n",
       " 595,\n",
       " 1069,\n",
       " 1444,\n",
       " 1513,\n",
       " 1461,\n",
       " 2113,\n",
       " 386,\n",
       " 187,\n",
       " 39,\n",
       " 98,\n",
       " 496,\n",
       " 561,\n",
       " 845,\n",
       " 1297,\n",
       " 1733,\n",
       " 1918,\n",
       " 201,\n",
       " 402,\n",
       " 990,\n",
       " 1141,\n",
       " 1252,\n",
       " 1405,\n",
       " 1548,\n",
       " 1650,\n",
       " 1975,\n",
       " 2022,\n",
       " 2185,\n",
       " 232,\n",
       " 773,\n",
       " 962,\n",
       " 1269,\n",
       " 1282,\n",
       " 1504,\n",
       " 1624,\n",
       " 1612,\n",
       " 1775,\n",
       " 1639,\n",
       " 1945,\n",
       " 2397,\n",
       " 700,\n",
       " 1482,\n",
       " 1850,\n",
       " 1891,\n",
       " 2106,\n",
       " 2348,\n",
       " 203,\n",
       " 116,\n",
       " 488,\n",
       " 1530,\n",
       " 1602,\n",
       " 1942,\n",
       " 2247,\n",
       " 2285,\n",
       " 2356,\n",
       " 145,\n",
       " 814,\n",
       " 880,\n",
       " 1099,\n",
       " 1299,\n",
       " 1312,\n",
       " 1472,\n",
       " 1757,\n",
       " 1778,\n",
       " 1826,\n",
       " 1893,\n",
       " 2016,\n",
       " 2110,\n",
       " 25,\n",
       " 948,\n",
       " 1021,\n",
       " 1452,\n",
       " 1731,\n",
       " 1805,\n",
       " 2026,\n",
       " 2043,\n",
       " 1048,\n",
       " 1330,\n",
       " 1347,\n",
       " 1897,\n",
       " 2059,\n",
       " 2261,\n",
       " 157,\n",
       " 363,\n",
       " 586,\n",
       " 843,\n",
       " 1135,\n",
       " 1149,\n",
       " 1323,\n",
       " 1368,\n",
       " 1441,\n",
       " 1535,\n",
       " 181,\n",
       " 1858,\n",
       " 1592,\n",
       " 2097,\n",
       " 2334,\n",
       " 2384,\n",
       " 124,\n",
       " 686,\n",
       " 852,\n",
       " 1016,\n",
       " 1238,\n",
       " 1737,\n",
       " 1795,\n",
       " 1777,\n",
       " 1935,\n",
       " 1810,\n",
       " 2373,\n",
       " 268,\n",
       " 227,\n",
       " 95,\n",
       " 589,\n",
       " 562,\n",
       " 925,\n",
       " 1246,\n",
       " 1553,\n",
       " 699,\n",
       " 1833,\n",
       " 369,\n",
       " 455,\n",
       " 413,\n",
       " 760,\n",
       " 820,\n",
       " 915,\n",
       " 912,\n",
       " 1395,\n",
       " 1721,\n",
       " 1831,\n",
       " 370,\n",
       " 704,\n",
       " 642,\n",
       " 790,\n",
       " 621,\n",
       " 703,\n",
       " 71,\n",
       " 1274,\n",
       " 1902,\n",
       " 1960,\n",
       " 143,\n",
       " 193,\n",
       " 443,\n",
       " 1191,\n",
       " 1429,\n",
       " 1669,\n",
       " 1934,\n",
       " 2101,\n",
       " 2268,\n",
       " 2354,\n",
       " 161,\n",
       " 365,\n",
       " 466,\n",
       " 713,\n",
       " 1012,\n",
       " 1242,\n",
       " 342,\n",
       " 1520,\n",
       " 2186,\n",
       " 2394,\n",
       " 6,\n",
       " 68,\n",
       " 215,\n",
       " 72,\n",
       " 756,\n",
       " 1608,\n",
       " 1786,\n",
       " 2027,\n",
       " 2177,\n",
       " 87,\n",
       " 255,\n",
       " 258,\n",
       " 320,\n",
       " 883,\n",
       " 1098,\n",
       " 665,\n",
       " 1665,\n",
       " 2207,\n",
       " 2362,\n",
       " 58,\n",
       " 266,\n",
       " 221,\n",
       " 424,\n",
       " 271,\n",
       " 997,\n",
       " 882,\n",
       " 107,\n",
       " 1124,\n",
       " 1150,\n",
       " 1817,\n",
       " 1769,\n",
       " 1898,\n",
       " 2275,\n",
       " 2164,\n",
       " 1862,\n",
       " 407,\n",
       " 316,\n",
       " 9,\n",
       " 554,\n",
       " 789,\n",
       " 920,\n",
       " 744,\n",
       " 897,\n",
       " 968,\n",
       " 1476,\n",
       " 1675,\n",
       " 2076,\n",
       " 2191,\n",
       " 2365,\n",
       " 2429,\n",
       " 389,\n",
       " 397,\n",
       " 796,\n",
       " 158,\n",
       " 856,\n",
       " 63,\n",
       " 959,\n",
       " 754,\n",
       " 933,\n",
       " 1531,\n",
       " 1516,\n",
       " 1693,\n",
       " 1623,\n",
       " 1570,\n",
       " 2084,\n",
       " 2170,\n",
       " 2255,\n",
       " 2281,\n",
       " 27,\n",
       " 447,\n",
       " 1267,\n",
       " 51,\n",
       " 56,\n",
       " 353,\n",
       " 178,\n",
       " 1164,\n",
       " 702,\n",
       " 1698,\n",
       " 1739,\n",
       " 2270,\n",
       " 2444,\n",
       " 341,\n",
       " 610,\n",
       " 234,\n",
       " 891,\n",
       " 1437,\n",
       " 1761,\n",
       " 1923,\n",
       " 239,\n",
       " 574,\n",
       " 279,\n",
       " 1514,\n",
       " 1545,\n",
       " 1955,\n",
       " 2037,\n",
       " 1800,\n",
       " 1426,\n",
       " 2259,\n",
       " 150,\n",
       " 52,\n",
       " 346,\n",
       " 546,\n",
       " 608,\n",
       " 694,\n",
       " 1328,\n",
       " 1307,\n",
       " 1263,\n",
       " 1762,\n",
       " 1849,\n",
       " 1987,\n",
       " 2219,\n",
       " 2066,\n",
       " 2415,\n",
       " 146,\n",
       " 459,\n",
       " 577,\n",
       " 585,\n",
       " 446,\n",
       " 861,\n",
       " 1046,\n",
       " 1103,\n",
       " 1236,\n",
       " 1253,\n",
       " 2114,\n",
       " 2140,\n",
       " 174,\n",
       " 825,\n",
       " 946,\n",
       " 1641,\n",
       " 1821,\n",
       " 2018,\n",
       " 2412,\n",
       " 79,\n",
       " 661,\n",
       " 170,\n",
       " 1060,\n",
       " 1342,\n",
       " 1453,\n",
       " 1346,\n",
       " 2107,\n",
       " 17,\n",
       " 209,\n",
       " 236,\n",
       " 253,\n",
       " 103,\n",
       " 675,\n",
       " 738,\n",
       " 1116,\n",
       " 1484,\n",
       " 989,\n",
       " 1629,\n",
       " 1896,\n",
       " 2180,\n",
       " 2240,\n",
       " 276,\n",
       " 509,\n",
       " 592,\n",
       " 1250,\n",
       " 1334,\n",
       " 1287,\n",
       " 139,\n",
       " 1190,\n",
       " 1196,\n",
       " 1770,\n",
       " 1888,\n",
       " 1781,\n",
       " 1999,\n",
       " 2165,\n",
       " 246,\n",
       " 242,\n",
       " 226,\n",
       " 430,\n",
       " 453,\n",
       " 726,\n",
       " 817,\n",
       " 1009,\n",
       " 977,\n",
       " 1121,\n",
       " 1230,\n",
       " 1997,\n",
       " 499,\n",
       " 1273,\n",
       " 907,\n",
       " 1114,\n",
       " 1473,\n",
       " 1574,\n",
       " 1695,\n",
       " 1689,\n",
       " 1716,\n",
       " 1783,\n",
       " 2171,\n",
       " 2051,\n",
       " 2474,\n",
       " 41,\n",
       " 248,\n",
       " 208,\n",
       " 28,\n",
       " 384,\n",
       " 405,\n",
       " 519,\n",
       " 33,\n",
       " 1595,\n",
       " 1673,\n",
       " 1807,\n",
       " 2201,\n",
       " 2209,\n",
       " 88,\n",
       " 257,\n",
       " 511,\n",
       " 498,\n",
       " 207,\n",
       " 671,\n",
       " 866,\n",
       " 1321,\n",
       " 637,\n",
       " 1576,\n",
       " 1358,\n",
       " 1683,\n",
       " 2318,\n",
       " 138,\n",
       " 307,\n",
       " 235,\n",
       " 304,\n",
       " 462,\n",
       " 813,\n",
       " 833,\n",
       " 865,\n",
       " 769,\n",
       " 649,\n",
       " 1100,\n",
       " 1206,\n",
       " 1855,\n",
       " 1948,\n",
       " 434,\n",
       " 599,\n",
       " 678,\n",
       " 742,\n",
       " 646,\n",
       " 714,\n",
       " 928,\n",
       " 1425,\n",
       " 1474,\n",
       " 1625,\n",
       " 1963,\n",
       " 2234,\n",
       " 2376,\n",
       " 114,\n",
       " 5,\n",
       " 900,\n",
       " 1083,\n",
       " 794,\n",
       " 1597,\n",
       " 1363,\n",
       " 1700,\n",
       " 1723,\n",
       " 1884,\n",
       " 2134,\n",
       " 2383,\n",
       " 319,\n",
       " 404,\n",
       " 539,\n",
       " 1,\n",
       " 896,\n",
       " 901,\n",
       " 1040,\n",
       " 1071,\n",
       " 1118,\n",
       " 1316,\n",
       " 1583,\n",
       " 1845,\n",
       " 1875,\n",
       " 1909,\n",
       " 2079,\n",
       " 2062,\n",
       " 718,\n",
       " 1074,\n",
       " 1562,\n",
       " 1953,\n",
       " 2293,\n",
       " 115,\n",
       " 153,\n",
       " 250,\n",
       " 96,\n",
       " 743,\n",
       " 859,\n",
       " 377,\n",
       " 929,\n",
       " 1132,\n",
       " 1163,\n",
       " 1367,\n",
       " 1136,\n",
       " 1257,\n",
       " 1218,\n",
       " 1609,\n",
       " 1685,\n",
       " 1787,\n",
       " 1741,\n",
       " 2086,\n",
       " 328,\n",
       " 849,\n",
       " 890,\n",
       " 1115,\n",
       " 1126,\n",
       " 1130,\n",
       " 1279,\n",
       " 1469,\n",
       " 1446,\n",
       " 1560,\n",
       " 1534,\n",
       " 1790,\n",
       " 1877,\n",
       " 1726,\n",
       " 2050,\n",
       " 2390,\n",
       " 349,\n",
       " 185,\n",
       " 375,\n",
       " 632,\n",
       " 1054,\n",
       " 1582,\n",
       " 1838,\n",
       " 1774,\n",
       " 2366,\n",
       " 104,\n",
       " 219,\n",
       " 368,\n",
       " 623,\n",
       " 834,\n",
       " 944,\n",
       " 978,\n",
       " 1151,\n",
       " 1075,\n",
       " 1232,\n",
       " 1388,\n",
       " 1436,\n",
       " 1894,\n",
       " 2296,\n",
       " 461,\n",
       " 719,\n",
       " 538,\n",
       " 1024,\n",
       " 1284,\n",
       " 1478,\n",
       " 1493,\n",
       " 1622,\n",
       " 1536,\n",
       " 1729,\n",
       " 2322,\n",
       " 2231,\n",
       " 214,\n",
       " 449,\n",
       " 419,\n",
       " 252,\n",
       " 593,\n",
       " 556,\n",
       " 816,\n",
       " 818,\n",
       " 874,\n",
       " 1208,\n",
       " 1373,\n",
       " 1266,\n",
       " 1647,\n",
       " 1696,\n",
       " 1475,\n",
       " 2193,\n",
       " 2197,\n",
       " 2382,\n",
       " 120,\n",
       " 423,\n",
       " 10,\n",
       " 485,\n",
       " 500,\n",
       " 748,\n",
       " 806,\n",
       " 836,\n",
       " 945,\n",
       " 1037,\n",
       " 1087,\n",
       " 1433,\n",
       " 1278,\n",
       " 2210,\n",
       " 2288,\n",
       " 550,\n",
       " 521,\n",
       " 1706,\n",
       " 1666,\n",
       " 2178,\n",
       " 89,\n",
       " 361,\n",
       " 644,\n",
       " 1045,\n",
       " 1498,\n",
       " 2147,\n",
       " 2357,\n",
       " 364,\n",
       " 501,\n",
       " 452,\n",
       " 870,\n",
       " 1487,\n",
       " 1566,\n",
       " 1829,\n",
       " 2305,\n",
       " 356,\n",
       " 403,\n",
       " 490,\n",
       " 741,\n",
       " 784,\n",
       " 871,\n",
       " 975,\n",
       " 923,\n",
       " 1000,\n",
       " 1066,\n",
       " 1449,\n",
       " 1381,\n",
       " 1794,\n",
       " 1543,\n",
       " 1864,\n",
       " 1944,\n",
       " 2009,\n",
       " 2036,\n",
       " 1822,\n",
       " 1928,\n",
       " 2010,\n",
       " 2286,\n",
       " 128,\n",
       " 197,\n",
       " 464,\n",
       " 697,\n",
       " 497,\n",
       " 838,\n",
       " 911,\n",
       " 1112,\n",
       " 1239,\n",
       " 1512,\n",
       " 1322,\n",
       " 1808,\n",
       " 1744,\n",
       " 1926,\n",
       " 2064,\n",
       " 1867,\n",
       " 111,\n",
       " 106,\n",
       " 575,\n",
       " 332,\n",
       " 735,\n",
       " 815,\n",
       " 867,\n",
       " 1404,\n",
       " 1310,\n",
       " 1556,\n",
       " 1228,\n",
       " 1456,\n",
       " 1947,\n",
       " 2222,\n",
       " 2367,\n",
       " 2464,\n",
       " 85,\n",
       " 548,\n",
       " 411,\n",
       " 1804,\n",
       " 1809,\n",
       " 2339,\n",
       " 301,\n",
       " 177,\n",
       " 1231,\n",
       " 1643,\n",
       " 1435,\n",
       " 1734,\n",
       " 2426,\n",
       " 460,\n",
       " 797,\n",
       " 950,\n",
       " 1558,\n",
       " 1754,\n",
       " 1876,\n",
       " 1879,\n",
       " 1832,\n",
       " 2090,\n",
       " 2006,\n",
       " 2298,\n",
       " 1764,\n",
       " 441,\n",
       " 306,\n",
       " 563,\n",
       " 557,\n",
       " 448,\n",
       " 659,\n",
       " 1023,\n",
       " 1251,\n",
       " 1237,\n",
       " 1424,\n",
       " 1222,\n",
       " 1651,\n",
       " ...]"
      ]
     },
     "execution_count": 76,
     "metadata": {},
     "output_type": "execute_result"
    }
   ],
   "source": [
    "[row['sessionId'] for row in log_events.select('sessionId').dropDuplicates().collect()]"
   ]
  },
  {
   "cell_type": "markdown",
   "metadata": {},
   "source": [
    "These are sessions people have completed"
   ]
  },
  {
   "cell_type": "markdown",
   "metadata": {},
   "source": [
    "#### 14. \"song\" feature"
   ]
  },
  {
   "cell_type": "code",
   "execution_count": 77,
   "metadata": {},
   "outputs": [
    {
     "data": {
      "text/plain": [
       "58380"
      ]
     },
     "execution_count": 77,
     "metadata": {},
     "output_type": "execute_result"
    }
   ],
   "source": [
    "len([row['song'] for row in log_events.select('song').dropDuplicates().collect()])"
   ]
  },
  {
   "cell_type": "markdown",
   "metadata": {},
   "source": [
    "There are 58300 unique features"
   ]
  },
  {
   "cell_type": "markdown",
   "metadata": {},
   "source": [
    "Perform some NLP to see if we can see a clear pattern "
   ]
  },
  {
   "cell_type": "code",
   "execution_count": 78,
   "metadata": {},
   "outputs": [
    {
     "data": {
      "text/plain": [
       "Row(artist='Martha Tilston', auth='Logged In', firstName='Colin', gender='M', itemInSession=50, lastName='Freeman', length=277.89016, level='paid', location='Bakersfield, CA', method='PUT', page='NextSong', registration=1538173362000, sessionId=29, song='Rockpools', status=200, ts=1538352117000, userAgent='Mozilla/5.0 (Windows NT 6.1; WOW64; rv:31.0) Gecko/20100101 Firefox/31.0', userId='30', churn=0, words=['rockpools'])"
      ]
     },
     "execution_count": 78,
     "metadata": {},
     "output_type": "execute_result"
    }
   ],
   "source": [
    "# split the song text into separate words\n",
    "regexTokenizer = RegexTokenizer(inputCol = \"song\", outputCol=\"words\", pattern=\"\\\\W\")\n",
    "log_events = regexTokenizer.transform(log_events)\n",
    "log_events.head()"
   ]
  },
  {
   "cell_type": "code",
   "execution_count": 79,
   "metadata": {},
   "outputs": [
    {
     "data": {
      "text/plain": [
       "[Row(artist='Martha Tilston', auth='Logged In', firstName='Colin', gender='M', itemInSession=50, lastName='Freeman', length=277.89016, level='paid', location='Bakersfield, CA', method='PUT', page='NextSong', registration=1538173362000, sessionId=29, song='Rockpools', status=200, ts=1538352117000, userAgent='Mozilla/5.0 (Windows NT 6.1; WOW64; rv:31.0) Gecko/20100101 Firefox/31.0', userId='30')]"
      ]
     },
     "execution_count": 79,
     "metadata": {},
     "output_type": "execute_result"
    }
   ],
   "source": [
    "# find the term frequencies of the words\n",
    "cv = CountVectorizer(inputCol=\"words\", outputCol=\"TF\", vocabSize=1000)\n",
    "cvmodel = cv.fit(log_events)\n",
    "log_events = cvmodel.transform(log_events)\n",
    "df.take(1)"
   ]
  },
  {
   "cell_type": "code",
   "execution_count": 80,
   "metadata": {},
   "outputs": [
    {
     "data": {
      "text/plain": [
       "['no_song', 'the', 'version', 'album', 'you']"
      ]
     },
     "execution_count": 80,
     "metadata": {},
     "output_type": "execute_result"
    }
   ],
   "source": [
    "# show the vocabulary in order of \n",
    "cvmodel.vocabulary[0:5]"
   ]
  },
  {
   "cell_type": "code",
   "execution_count": 81,
   "metadata": {},
   "outputs": [
    {
     "data": {
      "text/plain": [
       "['avenue',\n",
       " 'heights',\n",
       " 'higher',\n",
       " 'lightning',\n",
       " 'confusion',\n",
       " 'ball',\n",
       " 'lay',\n",
       " 'floor',\n",
       " 'sometimes',\n",
       " 'victoria']"
      ]
     },
     "execution_count": 81,
     "metadata": {},
     "output_type": "execute_result"
    }
   ],
   "source": [
    "# show the last 10 terms in the vocabulary\n",
    "cvmodel.vocabulary[-10:]"
   ]
  },
  {
   "cell_type": "markdown",
   "metadata": {},
   "source": [
    "I would leave space to a specific NLP specific analisis to a latter moment."
   ]
  },
  {
   "cell_type": "markdown",
   "metadata": {},
   "source": [
    "#### 15. \"status\" feature"
   ]
  },
  {
   "cell_type": "code",
   "execution_count": 82,
   "metadata": {},
   "outputs": [
    {
     "data": {
      "text/plain": [
       "[307, 404, 200]"
      ]
     },
     "execution_count": 82,
     "metadata": {},
     "output_type": "execute_result"
    }
   ],
   "source": [
    "[row['status'] for row in log_events.select('status').dropDuplicates().collect()]"
   ]
  },
  {
   "cell_type": "markdown",
   "metadata": {},
   "source": [
    "#### 16. \"ts\" feature - Count songs within a time fraction\n",
    "\n",
    "To do so we first need to convert the timestamps to datetime from epoch time. In this way we can run specific analytics based on hour, day, weekend, month etc.\n",
    "\n",
    "Check how many songs a user has listened to in a particular hour, day, month.\n",
    "We have to convert timestamp to datetime from epoch time to get the hour of the day."
   ]
  },
  {
   "cell_type": "code",
   "execution_count": 83,
   "metadata": {},
   "outputs": [
    {
     "data": {
      "text/plain": [
       "datetime.datetime(2018, 12, 3, 1, 11, 16)"
      ]
     },
     "execution_count": 83,
     "metadata": {},
     "output_type": "execute_result"
    }
   ],
   "source": [
    "# max timestamp\n",
    "datetime.datetime.fromtimestamp(log_events.agg({\"ts\": \"max\"}).collect()[0][0] / 1000.0)"
   ]
  },
  {
   "cell_type": "code",
   "execution_count": 84,
   "metadata": {},
   "outputs": [
    {
     "data": {
      "text/plain": [
       "datetime.datetime(2018, 10, 1, 0, 1, 57)"
      ]
     },
     "execution_count": 84,
     "metadata": {},
     "output_type": "execute_result"
    }
   ],
   "source": [
    "# min timestamp\n",
    "datetime.datetime.fromtimestamp(log_events.agg({\"ts\": \"min\"}).collect()[0][0] / 1000.0)"
   ]
  },
  {
   "cell_type": "markdown",
   "metadata": {},
   "source": [
    "The experiment lasted from **1 October 2018** to **3 Dicember 2018** "
   ]
  },
  {
   "cell_type": "code",
   "execution_count": 85,
   "metadata": {},
   "outputs": [],
   "source": [
    "# define a user- defined function called \"get_hour\"\n",
    "get_hour = F.udf(lambda dt_value: datetime.datetime.fromtimestamp(dt_value / 1000.0).hour)\n",
    "get_day = F.udf(lambda dt_value: datetime.datetime.fromtimestamp(dt_value / 1000.0).day)\n",
    "get_weekday = F.udf(lambda x: datetime.datetime.fromtimestamp(x / 1000.0).weekday(), IntegerType())\n",
    "get_month = F.udf(lambda dt_value: datetime.datetime.fromtimestamp(dt_value / 1000.0).month)\n",
    "\n",
    "#use get_hour to create a new column called \"hour\" in our dataframe\n",
    "log_events = log_events.withColumn(\"hour\", get_hour(log_events.ts))\n",
    "log_events = log_events.withColumn(\"day\", get_day(log_events.ts))\n",
    "log_events = log_events.withColumn(\"weekday\", get_weekday(log_events.ts))\n",
    "log_events = log_events.withColumn(\"month\", get_month(log_events.ts))"
   ]
  },
  {
   "cell_type": "code",
   "execution_count": 86,
   "metadata": {},
   "outputs": [],
   "source": [
    "def nextsong_ts(ts_element):\n",
    "    log_events.filter(log_events.page == \"NextSong\")\\\n",
    "    .groupby(log_events[ts_element])\\\n",
    "    .count()\\\n",
    "    .orderBy(log_events[ts_element].cast(\"float\"))\\\n",
    "    .toPandas()\\\n",
    "    .plot(kind = \"bar\");"
   ]
  },
  {
   "cell_type": "code",
   "execution_count": 87,
   "metadata": {},
   "outputs": [
    {
     "data": {
      "image/png": "[encoded data removed]",
      "text/plain": [
       "<matplotlib.figure.Figure at 0x7f0fbca444a8>"
      ]
     },
     "metadata": {
      "needs_background": "light"
     },
     "output_type": "display_data"
    }
   ],
   "source": [
    "nextsong_ts(\"hour\")"
   ]
  },
  {
   "cell_type": "code",
   "execution_count": 88,
   "metadata": {},
   "outputs": [
    {
     "data": {
      "image/png": "[encoded data removed]",
      "text/plain": [
       "<matplotlib.figure.Figure at 0x7f0fbc99fe80>"
      ]
     },
     "metadata": {
      "needs_background": "light"
     },
     "output_type": "display_data"
    }
   ],
   "source": [
    "nextsong_ts(\"day\")"
   ]
  },
  {
   "cell_type": "code",
   "execution_count": 89,
   "metadata": {},
   "outputs": [
    {
     "data": {
      "image/png": "[encoded data removed]",
      "text/plain": [
       "<matplotlib.figure.Figure at 0x7f0fbc54b780>"
      ]
     },
     "metadata": {
      "needs_background": "light"
     },
     "output_type": "display_data"
    }
   ],
   "source": [
    "nextsong_ts(\"weekday\")"
   ]
  },
  {
   "cell_type": "code",
   "execution_count": 90,
   "metadata": {},
   "outputs": [
    {
     "data": {
      "image/png": "[encoded data removed]",
      "text/plain": [
       "<matplotlib.figure.Figure at 0x7f0fb47f4b38>"
      ]
     },
     "metadata": {
      "needs_background": "light"
     },
     "output_type": "display_data"
    }
   ],
   "source": [
    "nextsong_ts(\"month\")"
   ]
  },
  {
   "cell_type": "markdown",
   "metadata": {},
   "source": [
    "We do not have year data available to perform seasonal churn rate. From personal experience I would like to check higher rates of churn in September - after the end of a specific offer for the summer."
   ]
  },
  {
   "cell_type": "code",
   "execution_count": 91,
   "metadata": {},
   "outputs": [],
   "source": [
    "churn_week = log_events.select(['userId', 'weekday', 'churn'])\\\n",
    "    .dropDuplicates()\\\n",
    "    .groupBy('weekday')\\\n",
    "    .agg(F.count('userId').alias('num_users'), F.sum('churn').alias('num_churns')).toPandas()"
   ]
  },
  {
   "cell_type": "code",
   "execution_count": 92,
   "metadata": {},
   "outputs": [
    {
     "data": {
      "image/png": "[encoded data removed]",
      "text/plain": [
       "<matplotlib.figure.Figure at 0x7f0fb5326240>"
      ]
     },
     "metadata": {
      "needs_background": "light"
     },
     "output_type": "display_data"
    }
   ],
   "source": [
    "x_axis = np.arange(7)\n",
    "fig = plt.figure()\n",
    "ax = fig.add_axes([0,0,1,1])\n",
    "ax.bar(x_axis + 0.00, churn_week.num_users, color = 'g', width = 0.25)\n",
    "ax.bar(x_axis + 0.25, churn_week.num_churns, color = 'r', width = 0.25);"
   ]
  },
  {
   "cell_type": "markdown",
   "metadata": {},
   "source": [
    "We see the same pattern in normal and churn users."
   ]
  },
  {
   "cell_type": "markdown",
   "metadata": {},
   "source": [
    "#### 17. \"userAgent\" feature"
   ]
  },
  {
   "cell_type": "code",
   "execution_count": 93,
   "metadata": {},
   "outputs": [],
   "source": [
    "agent_list = [row['userAgent'] for row in log_events.select('userAgent').dropDuplicates().collect()]"
   ]
  },
  {
   "cell_type": "code",
   "execution_count": 94,
   "metadata": {},
   "outputs": [
    {
     "name": "stdout",
     "output_type": "stream",
     "text": [
      "root\n",
      " |-- artist: string (nullable = true)\n",
      " |-- auth: string (nullable = true)\n",
      " |-- firstName: string (nullable = true)\n",
      " |-- gender: string (nullable = true)\n",
      " |-- itemInSession: long (nullable = true)\n",
      " |-- lastName: string (nullable = true)\n",
      " |-- length: double (nullable = true)\n",
      " |-- level: string (nullable = true)\n",
      " |-- location: string (nullable = true)\n",
      " |-- method: string (nullable = true)\n",
      " |-- page: string (nullable = true)\n",
      " |-- registration: long (nullable = true)\n",
      " |-- sessionId: long (nullable = true)\n",
      " |-- song: string (nullable = true)\n",
      " |-- status: long (nullable = true)\n",
      " |-- ts: long (nullable = true)\n",
      " |-- userAgent: string (nullable = true)\n",
      " |-- userId: string (nullable = true)\n",
      " |-- churn: integer (nullable = true)\n",
      " |-- words: array (nullable = true)\n",
      " |    |-- element: string (containsNull = true)\n",
      " |-- TF: vector (nullable = true)\n",
      " |-- hour: string (nullable = true)\n",
      " |-- day: string (nullable = true)\n",
      " |-- weekday: integer (nullable = true)\n",
      " |-- month: string (nullable = true)\n",
      "\n"
     ]
    }
   ],
   "source": [
    "log_events.printSchema()"
   ]
  },
  {
   "cell_type": "code",
   "execution_count": 95,
   "metadata": {},
   "outputs": [],
   "source": [
    "churn_func = F.udf(lambda churn: 'churn' if churn == 1 else 'stay')\n",
    "get_device = F.udf(lambda x: x.split('(')[1].replace(\";\", \" \").split(\" \")[0])\n",
    "\n",
    "log_events = log_events.withColumn(\"device\", get_device(log_events[\"userAgent\"]))"
   ]
  },
  {
   "cell_type": "code",
   "execution_count": 96,
   "metadata": {},
   "outputs": [],
   "source": [
    "device_df = log_events.select([\"userId\", 'device', 'churn'])\\\n",
    "    .dropDuplicates()\\\n",
    "    .withColumn('churn', churn_func('churn'))\\\n",
    "    .toPandas()"
   ]
  },
  {
   "cell_type": "code",
   "execution_count": 97,
   "metadata": {},
   "outputs": [
    {
     "data": {
      "image/png": "[encoded data removed]",
      "text/plain": [
       "<matplotlib.figure.Figure at 0x7f0fb4e88160>"
      ]
     },
     "metadata": {
      "needs_background": "light"
     },
     "output_type": "display_data"
    }
   ],
   "source": [
    "fig = plt.figure()\n",
    "sns.countplot(y = device_df.device, hue = device_df.churn, data = device_df, palette=\"Set1\");\n",
    "plt.xticks()\n",
    "plt.yticks()\n",
    "plt.xlabel(\"No of Users\")\n",
    "plt.ylabel(\"Device\")\n",
    "plt.title(\"Device Use\")\n",
    "plt.legend(loc='best');"
   ]
  },
  {
   "cell_type": "code",
   "execution_count": 14,
   "metadata": {},
   "outputs": [],
   "source": [
    "def get_device_col(log_events):\n",
    "    get_device = F.udf(lambda x: x.split('(')[1].replace(\";\", \" \").split(\" \")[0])\n",
    "\n",
    "    log_events = log_events.withColumn(\"device\", get_device(log_events[\"userAgent\"]))\n",
    "    return log_events"
   ]
  },
  {
   "cell_type": "code",
   "execution_count": 15,
   "metadata": {},
   "outputs": [],
   "source": [
    "log_events = get_device_col(log_events)"
   ]
  },
  {
   "cell_type": "markdown",
   "metadata": {},
   "source": [
    "#### 18. \"artist\" feature"
   ]
  },
  {
   "cell_type": "code",
   "execution_count": 30,
   "metadata": {},
   "outputs": [
    {
     "data": {
      "text/plain": [
       "['The Black Keys',\n",
       " 'Silverstein',\n",
       " 'Kate Nash',\n",
       " 'Yann Tiersen',\n",
       " \"Jane's Addiction\"]"
      ]
     },
     "execution_count": 30,
     "metadata": {},
     "output_type": "execute_result"
    }
   ],
   "source": [
    "[row['artist'] for row in log_events.select('artist').dropDuplicates().collect()][0:5]"
   ]
  },
  {
   "cell_type": "code",
   "execution_count": 31,
   "metadata": {},
   "outputs": [
    {
     "data": {
      "text/plain": [
       "DataFrame[artist: string, auth: string, firstName: string, gender: string, itemInSession: bigint, lastName: string, length: double, level: string, location: string, method: string, page: string, registration: bigint, sessionId: bigint, song: string, status: bigint, ts: bigint, userAgent: string, userId: string, churn: int, device: string]"
      ]
     },
     "execution_count": 31,
     "metadata": {},
     "output_type": "execute_result"
    }
   ],
   "source": [
    "log_events.persist()"
   ]
  },
  {
   "cell_type": "markdown",
   "metadata": {},
   "source": [
    "I would suggest NLP separate analysis using artist feature"
   ]
  },
  {
   "cell_type": "markdown",
   "metadata": {},
   "source": [
    "# Feature Engineering\n",
    "Once you've familiarized yourself with the data, build out the features you find promising to train your model on. To work with the full dataset, you can follow the following steps.\n",
    "- Write a script to extract the necessary features from the smaller subset of data\n",
    "- Ensure that your script is scalable, using the best practices discussed in Lesson 3\n",
    "- Try your script on the full data set, debugging your script if necessary\n",
    "\n",
    "If you are working in the classroom workspace, you can just extract features based on the small subset of data contained here. Be sure to transfer over this work to the larger dataset when you work on your Spark cluster."
   ]
  },
  {
   "cell_type": "markdown",
   "metadata": {},
   "source": [
    "#### Create a `phase` feature using Window Functions\n",
    "\n",
    "Window functions are a way of combining the values of ranges of rows in a DataFrame. When defining the window we can choose how to sort and group (with the `partitionBy` method) the rows and how wide of a window we'd like to use (described by `rangeBetween` or `rowsBetween`).\n",
    "\n",
    "In our computation we want to distinguish a user's activity before and after a particular event, for example before and after they have downgraded from a paid to a free one.\n",
    "\n"
   ]
  },
  {
   "cell_type": "code",
   "execution_count": 16,
   "metadata": {},
   "outputs": [],
   "source": [
    "def create_phase_col(log_events):\n",
    "\n",
    "    # for each user order actions by between certain events\n",
    "    windowval = Window.partitionBy(\"userId\").orderBy(F.desc(\"ts\")).rangeBetween(Window.unboundedPreceding, 0)\n",
    "\n",
    "    log_events = log_events.withColumn(\"phase\", F.sum(\"churn\").over(windowval))\n",
    "\n",
    "    return log_events"
   ]
  },
  {
   "cell_type": "code",
   "execution_count": 17,
   "metadata": {},
   "outputs": [],
   "source": [
    "log_events = create_phase_col(log_events)"
   ]
  },
  {
   "cell_type": "markdown",
   "metadata": {},
   "source": [
    "#### Create numerical features\n",
    "1. sum(itemInSession)\n",
    "2. max(phase)\n",
    "3. avg(length)"
   ]
  },
  {
   "cell_type": "code",
   "execution_count": 116,
   "metadata": {},
   "outputs": [
    {
     "name": "stdout",
     "output_type": "stream",
     "text": [
      "+------+---------------+-----------+---------+---------+------------------+\n",
      "|userId|count_user_logs|max_session|sum_churn|max_phase|        avg_length|\n",
      "+------+---------------+-----------+---------+---------+------------------+\n",
      "|    39|           9625|        593|       73|       73|205.63061037610322|\n",
      "|    92|           7217|        551|       68|       68|204.10573571982778|\n",
      "|   140|           6873|        669|       50|       50|203.53989229012066|\n",
      "|200023|           3762|        277|       44|       44|192.96495404306242|\n",
      "|    85|           4364|        647|       42|       42|206.21607341888128|\n",
      "|   124|           4821|        530|       41|       41|208.63698934245997|\n",
      "|     6|           3759|        567|       41|       41|208.86627088321356|\n",
      "|    54|           3433|        581|       40|       40| 205.6916617593945|\n",
      "|    42|           4256|        306|       37|       37|206.85918675516885|\n",
      "|300011|           5727|        438|       32|       32|199.29714455212144|\n",
      "|     9|           3188|        249|       32|       32|206.79034222082794|\n",
      "|    74|           2882|        326|       31|       31|  205.911993494101|\n",
      "|   100|           3211|        312|       30|       30|207.92342241669326|\n",
      "|    15|           2277|        423|       28|       28|209.01799886253832|\n",
      "|200004|           2127|        271|       28|       28|202.35787118476722|\n",
      "|   118|           2868|        551|       27|       27|206.08399205020888|\n",
      "|200021|           1502|        273|       27|       27| 200.2118179494008|\n",
      "|    81|           2330|        454|       26|       26|211.09772806437797|\n",
      "|300017|           4421|        296|       25|       25|  200.778685521375|\n",
      "|    98|           2887|        507|       25|       25|208.99813537582259|\n",
      "+------+---------------+-----------+---------+---------+------------------+\n",
      "only showing top 20 rows\n",
      "\n"
     ]
    }
   ],
   "source": [
    "log_events.select(\"userId\",\"itemInSession\", \"churn\", \"phase\", \"length\")\\\n",
    "    .groupBy(\"userId\")\\\n",
    "    .agg(F.count(log_events.userId).alias(\"count_user_logs\"),\\\n",
    "        F.max(log_events.itemInSession).alias(\"max_session\"),\\\n",
    "        F.sum(log_events.churn).alias(\"sum_churn\"),\\\n",
    "        F.max(log_events.phase).alias(\"max_phase\"),\\\n",
    "        F.avg(log_events.length).alias(\"avg_length\"))\\\n",
    "    .orderBy('sum_churn', ascending = False).show()"
   ]
  },
  {
   "cell_type": "markdown",
   "metadata": {},
   "source": [
    "sum_churn and max_phase are the same"
   ]
  },
  {
   "cell_type": "code",
   "execution_count": 117,
   "metadata": {},
   "outputs": [
    {
     "name": "stdout",
     "output_type": "stream",
     "text": [
      "+------+------------------+------------------+----------+------------------+\n",
      "|userId|        avg(phase)|max(itemInSession)|sum(churn)|       avg(length)|\n",
      "+------+------------------+------------------+----------+------------------+\n",
      "|    39| 35.01433766233766|               593|        73|205.63061037610322|\n",
      "|    92|35.375640847997786|               551|        68|204.10573571982778|\n",
      "|   140|27.069838498472283|               669|        50|203.53989229012066|\n",
      "|200023|16.994683678894205|               277|        44|192.96495404306242|\n",
      "|    85|24.683547204399634|               647|        42|206.21607341888128|\n",
      "|   124| 19.53308442231902|               530|        41|208.63698934245997|\n",
      "|     6| 20.03564777866454|               567|        41|208.86627088321356|\n",
      "|    54|21.618700844742207|               581|        40| 205.6916617593945|\n",
      "|    42|  20.0578007518797|               306|        37|206.85918675516885|\n",
      "|300011| 18.33612711716431|               438|        32|199.29714455212144|\n",
      "|     9| 16.84473023839398|               249|        32|206.79034222082794|\n",
      "|    74|17.543372657876475|               326|        31|  205.911993494101|\n",
      "|   100|15.675179071940205|               312|        30|207.92342241669326|\n",
      "|    15|12.971453667105841|               423|        28|209.01799886253832|\n",
      "|200004|13.372355430183356|               271|        28|202.35787118476722|\n",
      "|   118| 14.75139470013947|               551|        27|206.08399205020888|\n",
      "|200021|15.834886817576564|               273|        27| 200.2118179494008|\n",
      "|    81| 13.68412017167382|               454|        26|211.09772806437797|\n",
      "|300017| 9.849355349468446|               296|        25|  200.778685521375|\n",
      "|    98|15.938344302043644|               507|        25|208.99813537582259|\n",
      "+------+------------------+------------------+----------+------------------+\n",
      "only showing top 20 rows\n",
      "\n"
     ]
    }
   ],
   "source": [
    "# check average phase in dataframe\n",
    "log_events.select(\"userId\",\"itemInSession\", \"churn\", \"phase\", \"length\")\\\n",
    "    .groupBy(\"userId\")\\\n",
    "    .agg({'itemInSession': 'max', \\\n",
    "          'churn': 'sum', \\\n",
    "          \"phase\": 'avg', \\\n",
    "          \"length\": 'avg'})\\\n",
    "    .orderBy('sum(churn)', ascending = False).show()"
   ]
  },
  {
   "cell_type": "code",
   "execution_count": 18,
   "metadata": {},
   "outputs": [],
   "source": [
    "# lets keep count_user_logs, max_session and avg_length to avoid overfitting \n",
    "# and be cautious with avg_phase which may ha to be removed\n",
    "def create_num_df(log_events):\n",
    "    num_df = log_events.select(\"userId\",\"itemInSession\", \"phase\", \"length\")\\\n",
    "    .groupBy(\"userId\")\\\n",
    "    .agg(F.count(log_events.userId).alias(\"count_user_logs\"),\\\n",
    "        F.max(log_events.itemInSession).alias(\"max_session\"),\\\n",
    "        F.avg(log_events.phase).alias(\"avg_phase\"),\\\n",
    "        F.avg(log_events.length).alias(\"avg_length\"))\n",
    "    \n",
    "    return num_df"
   ]
  },
  {
   "cell_type": "code",
   "execution_count": 19,
   "metadata": {},
   "outputs": [],
   "source": [
    "num_df = create_num_df(log_events)"
   ]
  },
  {
   "cell_type": "markdown",
   "metadata": {},
   "source": [
    "#### Treating categorial features (to dummy)\n",
    "1. User Device\n",
    "2. User Location\n",
    "3. User Page\n",
    "4. User Status"
   ]
  },
  {
   "cell_type": "code",
   "execution_count": 120,
   "metadata": {},
   "outputs": [
    {
     "name": "stdout",
     "output_type": "stream",
     "text": [
      "+------+-------+-------------+\n",
      "|userId| device|count(device)|\n",
      "+------+-------+-------------+\n",
      "|    39|Windows|         9625|\n",
      "|    92|   iPad|         7217|\n",
      "|   140|Windows|         6873|\n",
      "+------+-------+-------------+\n",
      "only showing top 3 rows\n",
      "\n"
     ]
    }
   ],
   "source": [
    "# isolating device feature\n",
    "log_events.select('userId','device')\\\n",
    "        .groupBy('userId', 'device')\\\n",
    "        .agg(F.count(log_events.device))\\\n",
    "        .orderBy(\"count(device)\", ascending = False)\\\n",
    "        .show(3)"
   ]
  },
  {
   "cell_type": "code",
   "execution_count": 121,
   "metadata": {},
   "outputs": [
    {
     "name": "stdout",
     "output_type": "stream",
     "text": [
      "+------+--------------------+---------------+\n",
      "|userId|            location|count(location)|\n",
      "+------+--------------------+---------------+\n",
      "|    39|Los Angeles-Long ...|           9625|\n",
      "|    92|Boston-Cambridge-...|           7217|\n",
      "|   140|Louisville/Jeffer...|           6873|\n",
      "+------+--------------------+---------------+\n",
      "only showing top 3 rows\n",
      "\n"
     ]
    }
   ],
   "source": [
    "# isolating location feature\n",
    "log_events.select('userId','location')\\\n",
    "        .groupBy('userId', 'location')\\\n",
    "        .agg(F.count('location'))\\\n",
    "        .orderBy(\"count(location)\", ascending = False)\\\n",
    "        .show(3)"
   ]
  },
  {
   "cell_type": "code",
   "execution_count": 138,
   "metadata": {},
   "outputs": [
    {
     "name": "stdout",
     "output_type": "stream",
     "text": [
      "+------+--------+-----------+\n",
      "|userId|    page|count(page)|\n",
      "+------+--------+-----------+\n",
      "|    39|NextSong|       7995|\n",
      "|    92|NextSong|       5932|\n",
      "|   140|NextSong|       5657|\n",
      "+------+--------+-----------+\n",
      "only showing top 3 rows\n",
      "\n"
     ]
    }
   ],
   "source": [
    "# isolating page feature\n",
    "log_events.select('userId','page')\\\n",
    "        .groupBy('userId', 'page')\\\n",
    "        .agg(F.count('page'))\\\n",
    "        .orderBy(\"count(page)\", ascending = False)\\\n",
    "        .show(3)"
   ]
  },
  {
   "cell_type": "code",
   "execution_count": 139,
   "metadata": {},
   "outputs": [
    {
     "name": "stdout",
     "output_type": "stream",
     "text": [
      "+------+------+-------------+\n",
      "|userId|status|count(status)|\n",
      "+------+------+-------------+\n",
      "|    39|   200|         8902|\n",
      "|    92|   200|         6650|\n",
      "|   140|   200|         6270|\n",
      "+------+------+-------------+\n",
      "only showing top 3 rows\n",
      "\n"
     ]
    }
   ],
   "source": [
    "# isolating status feature\n",
    "log_events.select('userId','status')\\\n",
    "        .groupBy('userId', 'status')\\\n",
    "        .agg(F.count('status'))\\\n",
    "        .orderBy(\"count(status)\", ascending = False)\\\n",
    "        .show(3)"
   ]
  },
  {
   "cell_type": "markdown",
   "metadata": {},
   "source": [
    "Checking we have one device per uderId"
   ]
  },
  {
   "cell_type": "code",
   "execution_count": 141,
   "metadata": {},
   "outputs": [
    {
     "data": {
      "text/plain": [
       "True"
      ]
     },
     "execution_count": 141,
     "metadata": {},
     "output_type": "execute_result"
    }
   ],
   "source": [
    "# cheking the number of unique userIds and the number of unique devices per userID\n",
    "len(log_events.dropDuplicates()\\\n",
    "    .groupBy('userId')\\\n",
    "    .count()\\\n",
    "    .collect())\\\n",
    "    ==\\\n",
    "len(log_events.dropDuplicates()\\\n",
    "    .select('userId','device')\\\n",
    "    .groupBy('userId', 'device')\\\n",
    "    .agg(F.count(\"device\"))\\\n",
    "    .collect())"
   ]
  },
  {
   "cell_type": "code",
   "execution_count": 142,
   "metadata": {},
   "outputs": [
    {
     "data": {
      "text/plain": [
       "True"
      ]
     },
     "execution_count": 142,
     "metadata": {},
     "output_type": "execute_result"
    }
   ],
   "source": [
    "# cheking the number of unique userIds and the number of unique gender per userID\n",
    "len(log_events.dropDuplicates()\\\n",
    "    .groupBy('userId')\\\n",
    "    .count()\\\n",
    "    .collect())\\\n",
    "    ==\\\n",
    "len(log_events.dropDuplicates()\\\n",
    "    .select('userId','gender')\\\n",
    "    .groupBy('userId', 'gender')\\\n",
    "    .agg(F.count(\"gender\"))\\\n",
    "    .collect())"
   ]
  },
  {
   "cell_type": "code",
   "execution_count": 143,
   "metadata": {},
   "outputs": [
    {
     "data": {
      "text/plain": [
       "False"
      ]
     },
     "execution_count": 143,
     "metadata": {},
     "output_type": "execute_result"
    }
   ],
   "source": [
    "# cheking the number of unique userIds and the number of unique level per userID\n",
    "len(log_events.dropDuplicates()\\\n",
    "    .groupBy('userId')\\\n",
    "    .count()\\\n",
    "    .collect())\\\n",
    "    ==\\\n",
    "len(log_events.dropDuplicates()\\\n",
    "    .select('userId','level')\\\n",
    "    .groupBy('userId', 'level')\\\n",
    "    .agg(F.count(\"level\"))\\\n",
    "    .collect())"
   ]
  },
  {
   "cell_type": "code",
   "execution_count": 146,
   "metadata": {},
   "outputs": [
    {
     "data": {
      "text/plain": [
       "False"
      ]
     },
     "execution_count": 146,
     "metadata": {},
     "output_type": "execute_result"
    }
   ],
   "source": [
    "# cheking the number of unique userIds and the number of unique auth per userID\n",
    "len(log_events.dropDuplicates()\\\n",
    "    .groupBy('userId')\\\n",
    "    .count()\\\n",
    "    .collect())\\\n",
    "    ==\\\n",
    "len(log_events.dropDuplicates()\\\n",
    "    .select('userId','method')\\\n",
    "    .groupBy('userId', 'method')\\\n",
    "    .agg(count(\"method\"))\\\n",
    "    .collect())"
   ]
  },
  {
   "cell_type": "code",
   "execution_count": 144,
   "metadata": {},
   "outputs": [
    {
     "data": {
      "text/plain": [
       "False"
      ]
     },
     "execution_count": 144,
     "metadata": {},
     "output_type": "execute_result"
    }
   ],
   "source": [
    "# cheking the number of unique userIds and the number of unique auth per userID\n",
    "len(log_events.dropDuplicates()\\\n",
    "    .groupBy('userId')\\\n",
    "    .count()\\\n",
    "    .collect())\\\n",
    "    ==\\\n",
    "len(log_events.dropDuplicates()\\\n",
    "    .select('userId','auth')\\\n",
    "    .groupBy('userId', 'auth')\\\n",
    "    .agg(F.count(\"auth\"))\\\n",
    "    .collect())"
   ]
  },
  {
   "cell_type": "code",
   "execution_count": 146,
   "metadata": {},
   "outputs": [
    {
     "data": {
      "text/plain": [
       "True"
      ]
     },
     "execution_count": 146,
     "metadata": {},
     "output_type": "execute_result"
    }
   ],
   "source": [
    "# cheking the number of unique userIds and the number of unique location per userID\n",
    "len(log_events.dropDuplicates()\\\n",
    "    .groupBy('userId')\\\n",
    "    .count()\\\n",
    "    .collect())\\\n",
    "    ==\\\n",
    "len(log_events.dropDuplicates()\\\n",
    "    .select('userId','location')\\\n",
    "    .groupBy('userId', 'location')\\\n",
    "    .agg(F.count(\"location\"))\\\n",
    "    .collect())"
   ]
  },
  {
   "cell_type": "code",
   "execution_count": 148,
   "metadata": {},
   "outputs": [
    {
     "name": "stdout",
     "output_type": "stream",
     "text": [
      "3109\n",
      "False\n"
     ]
    }
   ],
   "source": [
    "# cheking the number of unique userIds and the number of unique page per userID\n",
    "print(len(log_events.dropDuplicates()\\\n",
    "    .select('userId','page')\\\n",
    "    .groupBy('userId', 'page')\\\n",
    "    .agg(F.count(\"page\"))\\\n",
    "    .collect()))\n",
    "print(len(log_events.dropDuplicates()\\\n",
    "    .groupBy('userId')\\\n",
    "    .count()\\\n",
    "    .collect())\\\n",
    "    ==\\\n",
    "    len(log_events.dropDuplicates()\\\n",
    "    .select('userId','page')\\\n",
    "    .groupBy('userId', 'page')\\\n",
    "    .agg(F.count(\"page\"))\\\n",
    "    .collect()))"
   ]
  },
  {
   "cell_type": "code",
   "execution_count": 150,
   "metadata": {},
   "outputs": [
    {
     "name": "stdout",
     "output_type": "stream",
     "text": [
      "565\n",
      "False\n"
     ]
    }
   ],
   "source": [
    "# cheking the number of unique userIds and the number of unique staus per userID\n",
    "print(len(log_events.dropDuplicates()\\\n",
    "    .select('userId','status')\\\n",
    "    .groupBy('userId', 'status')\\\n",
    "    .agg(F.count(\"status\"))\\\n",
    "    .collect()))\n",
    "print(len(log_events.dropDuplicates()\\\n",
    "    .groupBy('userId')\\\n",
    "    .count()\\\n",
    "    .collect())\\\n",
    "    ==\\\n",
    "    len(log_events.dropDuplicates()\\\n",
    "    .select('userId','status')\\\n",
    "    .groupBy('userId', 'status')\\\n",
    "    .agg(F.count(\"status\"))\\\n",
    "    .collect()))"
   ]
  },
  {
   "cell_type": "markdown",
   "metadata": {},
   "source": [
    "#### Creating dummy features"
   ]
  },
  {
   "cell_type": "code",
   "execution_count": 20,
   "metadata": {},
   "outputs": [],
   "source": [
    "# create a function to create expressions for creating dummies\n",
    "def get_dummy_expression(column):\n",
    "    unique_values = log_events.select(column).distinct().rdd.flatMap(lambda element:element).collect()\n",
    "    expression = [F.when(F.col(column) == str(el), 1).otherwise(0).alias(column + \"_\" + str(el)) for el in unique_values]\n",
    "    \n",
    "    return expression"
   ]
  },
  {
   "cell_type": "code",
   "execution_count": 21,
   "metadata": {},
   "outputs": [],
   "source": [
    "def create_cat_df(log_events):\n",
    "    device_expression = get_dummy_expression(\"device\")\n",
    "    location_expression = get_dummy_expression(\"location\")\n",
    "    page_expression = get_dummy_expression(\"page\")\n",
    "    status_expression = get_dummy_expression(\"status\")\n",
    "    auth_expression = get_dummy_expression(\"auth\")\n",
    "    gender_expression = get_dummy_expression(\"gender\")\n",
    "    level_expression = get_dummy_expression(\"level\")\n",
    "    method_expression = get_dummy_expression(\"method\")\n",
    "    cat_df = log_events.select(\"userId\", *device_expression +\\\n",
    "                           location_expression +\\\n",
    "                           page_expression +\\\n",
    "                           status_expression +\\\n",
    "                           auth_expression +\\\n",
    "                           gender_expression +\\\n",
    "                           level_expression +\\\n",
    "                           method_expression)\n",
    "    return cat_df"
   ]
  },
  {
   "cell_type": "code",
   "execution_count": 123,
   "metadata": {},
   "outputs": [],
   "source": [
    "device_expression = get_dummy_expression(\"device\")\n",
    "location_expression = get_dummy_expression(\"location\")\n",
    "page_expression = get_dummy_expression(\"page\")\n",
    "status_expression = get_dummy_expression(\"status\")\n",
    "auth_expression = get_dummy_expression(\"auth\")\n",
    "gender_expression = get_dummy_expression(\"gender\")\n",
    "level_expression = get_dummy_expression(\"level\")\n",
    "method_expression = get_dummy_expression(\"method\")"
   ]
  },
  {
   "cell_type": "code",
   "execution_count": 262,
   "metadata": {},
   "outputs": [],
   "source": [
    "cat_df = log_events.select(\"userId\", *device_expression +\\\n",
    "                           location_expression +\\\n",
    "                           page_expression +\\\n",
    "                           status_expression +\\\n",
    "                           auth_expression +\\\n",
    "                           gender_expression +\\\n",
    "                           level_expression +\\\n",
    "                           method_expression)"
   ]
  },
  {
   "cell_type": "code",
   "execution_count": 22,
   "metadata": {},
   "outputs": [],
   "source": [
    "cat_df = create_cat_df(log_events)"
   ]
  },
  {
   "cell_type": "code",
   "execution_count": 39,
   "metadata": {},
   "outputs": [
    {
     "data": {
      "text/plain": [
       "278154"
      ]
     },
     "execution_count": 39,
     "metadata": {},
     "output_type": "execute_result"
    }
   ],
   "source": [
    "cat_df.count()"
   ]
  },
  {
   "cell_type": "markdown",
   "metadata": {},
   "source": [
    "`device` and `location` features are binary for every user while there are more than one `pages` or `status` values per user so we have to count them and treat these features as numeric and not categorical."
   ]
  },
  {
   "cell_type": "code",
   "execution_count": 40,
   "metadata": {},
   "outputs": [
    {
     "data": {
      "text/plain": [
       "['userId',\n",
       " 'device_iPad',\n",
       " 'device_X11',\n",
       " 'device_iPhone',\n",
       " 'device_Macintosh',\n",
       " 'device_compatible',\n",
       " 'device_Windows',\n",
       " 'location_Gainesville, FL',\n",
       " 'location_Atlantic City-Hammonton, NJ',\n",
       " 'location_Deltona-Daytona Beach-Ormond Beach, FL',\n",
       " 'location_San Diego-Carlsbad, CA',\n",
       " 'location_Cleveland-Elyria, OH',\n",
       " 'location_Kingsport-Bristol-Bristol, TN-VA',\n",
       " 'location_New Haven-Milford, CT',\n",
       " 'location_Birmingham-Hoover, AL',\n",
       " 'location_Corpus Christi, TX',\n",
       " 'location_Dubuque, IA',\n",
       " 'location_Las Vegas-Henderson-Paradise, NV',\n",
       " 'location_Indianapolis-Carmel-Anderson, IN',\n",
       " 'location_Seattle-Tacoma-Bellevue, WA',\n",
       " 'location_Albany, OR',\n",
       " 'location_Winston-Salem, NC',\n",
       " 'location_Bakersfield, CA',\n",
       " 'location_Los Angeles-Long Beach-Anaheim, CA',\n",
       " 'location_Minneapolis-St. Paul-Bloomington, MN-WI',\n",
       " 'location_San Francisco-Oakland-Hayward, CA',\n",
       " 'location_Phoenix-Mesa-Scottsdale, AZ',\n",
       " 'location_Allentown-Bethlehem-Easton, PA-NJ',\n",
       " 'location_Miami-Fort Lauderdale-West Palm Beach, FL',\n",
       " 'location_Selma, AL',\n",
       " 'location_Dayton, OH',\n",
       " 'location_San Jose-Sunnyvale-Santa Clara, CA',\n",
       " 'location_Bridgeport-Stamford-Norwalk, CT',\n",
       " 'location_Price, UT',\n",
       " 'location_Providence-Warwick, RI-MA',\n",
       " 'location_Columbus, GA-AL',\n",
       " 'location_Greenville-Anderson-Mauldin, SC',\n",
       " 'location_Logan, UT-ID',\n",
       " 'location_Myrtle Beach-Conway-North Myrtle Beach, SC-NC',\n",
       " 'location_Buffalo-Cheektowaga-Niagara Falls, NY',\n",
       " 'location_Cookeville, TN',\n",
       " 'location_New Philadelphia-Dover, OH',\n",
       " 'location_Anchorage, AK',\n",
       " 'location_New York-Newark-Jersey City, NY-NJ-PA',\n",
       " 'location_St. Louis, MO-IL',\n",
       " 'location_Jackson, MS',\n",
       " 'location_Orlando-Kissimmee-Sanford, FL',\n",
       " 'location_McAllen-Edinburg-Mission, TX',\n",
       " 'location_Oxnard-Thousand Oaks-Ventura, CA',\n",
       " 'location_Memphis, TN-MS-AR',\n",
       " 'location_San Antonio-New Braunfels, TX',\n",
       " 'location_Troy, AL',\n",
       " 'location_Duluth, MN-WI',\n",
       " 'location_Danville, VA',\n",
       " 'location_Washington-Arlington-Alexandria, DC-VA-MD-WV',\n",
       " 'location_Manchester-Nashua, NH',\n",
       " 'location_Greensboro-High Point, NC',\n",
       " 'location_Sterling, IL',\n",
       " 'location_Napa, CA',\n",
       " 'location_Monroe, LA',\n",
       " 'location_Louisville/Jefferson County, KY-IN',\n",
       " 'location_Syracuse, NY',\n",
       " 'location_Little Rock-North Little Rock-Conway, AR',\n",
       " 'location_Austin-Round Rock, TX',\n",
       " 'location_Kansas City, MO-KS',\n",
       " 'location_Cincinnati, OH-KY-IN',\n",
       " 'location_Bozeman, MT',\n",
       " 'location_Truckee-Grass Valley, CA',\n",
       " 'location_Boston-Cambridge-Newton, MA-NH',\n",
       " 'location_Philadelphia-Camden-Wilmington, PA-NJ-DE-MD',\n",
       " 'location_Atlanta-Sandy Springs-Roswell, GA',\n",
       " 'location_Pittsburgh, PA',\n",
       " 'location_Chicago-Naperville-Elgin, IL-IN-WI',\n",
       " 'location_Dallas-Fort Worth-Arlington, TX',\n",
       " 'location_North Wilkesboro, NC',\n",
       " 'location_Oklahoma City, OK',\n",
       " 'location_Albany-Schenectady-Troy, NY',\n",
       " 'location_Quincy, IL-MO',\n",
       " 'location_Pontiac, IL',\n",
       " 'location_Jacksonville, FL',\n",
       " 'location_Fairbanks, AK',\n",
       " 'location_Houston-The Woodlands-Sugar Land, TX',\n",
       " 'location_Montgomery, AL',\n",
       " 'location_Hartford-West Hartford-East Hartford, CT',\n",
       " 'location_Port St. Lucie, FL',\n",
       " 'location_Omaha-Council Bluffs, NE-IA',\n",
       " 'location_Charlotte-Concord-Gastonia, NC-SC',\n",
       " 'location_Baltimore-Columbia-Towson, MD',\n",
       " 'location_Raleigh, NC',\n",
       " 'location_Sacramento--Roseville--Arden-Arcade, CA',\n",
       " 'location_Laurel, MS',\n",
       " 'location_Lexington-Fayette, KY',\n",
       " 'location_Tampa-St. Petersburg-Clearwater, FL',\n",
       " 'location_London, KY',\n",
       " 'location_Tallahassee, FL',\n",
       " 'location_Roanoke, VA',\n",
       " 'location_Virginia Beach-Norfolk-Newport News, VA-NC',\n",
       " 'location_Riverside-San Bernardino-Ontario, CA',\n",
       " 'location_Concord, NH',\n",
       " 'location_Stockton-Lodi, CA',\n",
       " 'location_Boulder, CO',\n",
       " 'location_Milwaukee-Waukesha-West Allis, WI',\n",
       " 'location_Detroit-Warren-Dearborn, MI',\n",
       " 'location_Billings, MT',\n",
       " 'location_Alexandria, LA',\n",
       " 'location_Salinas, CA',\n",
       " 'location_Ionia, MI',\n",
       " 'location_Morgantown, WV',\n",
       " 'location_Vineland-Bridgeton, NJ',\n",
       " 'location_Jacksonville, NC',\n",
       " 'location_Spokane-Spokane Valley, WA',\n",
       " 'location_Scranton--Wilkes-Barre--Hazleton, PA',\n",
       " 'location_Kankakee, IL',\n",
       " 'location_Portland-Vancouver-Hillsboro, OR-WA',\n",
       " 'location_Denver-Aurora-Lakewood, CO',\n",
       " 'location_Flint, MI',\n",
       " 'location_Santa Maria-Santa Barbara, CA',\n",
       " 'location_Muncie, IN',\n",
       " 'location_Colorado Springs, CO',\n",
       " 'location_Wilson, NC',\n",
       " 'location_Hagerstown-Martinsburg, MD-WV',\n",
       " 'page_Cancel',\n",
       " 'page_Submit Downgrade',\n",
       " 'page_Thumbs Down',\n",
       " 'page_Home',\n",
       " 'page_Downgrade',\n",
       " 'page_Roll Advert',\n",
       " 'page_Logout',\n",
       " 'page_Save Settings',\n",
       " 'page_Cancellation Confirmation',\n",
       " 'page_About',\n",
       " 'page_Settings',\n",
       " 'page_Add to Playlist',\n",
       " 'page_Add Friend',\n",
       " 'page_NextSong',\n",
       " 'page_Thumbs Up',\n",
       " 'page_Help',\n",
       " 'page_Upgrade',\n",
       " 'page_Error',\n",
       " 'page_Submit Upgrade',\n",
       " 'status_307',\n",
       " 'status_404',\n",
       " 'status_200',\n",
       " 'auth_Cancelled',\n",
       " 'auth_Logged In',\n",
       " 'gender_F',\n",
       " 'gender_M',\n",
       " 'level_free',\n",
       " 'level_paid',\n",
       " 'method_PUT',\n",
       " 'method_GET']"
      ]
     },
     "execution_count": 40,
     "metadata": {},
     "output_type": "execute_result"
    }
   ],
   "source": [
    "cat_df.columns"
   ]
  },
  {
   "cell_type": "code",
   "execution_count": 23,
   "metadata": {},
   "outputs": [],
   "source": [
    "def rename_cols(cat_df):\n",
    "    \n",
    "    cat_df = cat_df\\\n",
    "    .withColumnRenamed('location_Minneapolis-St. Paul-Bloomington, MN-WI','location_Minneapolis-St Paul-Bloomington, MN-WI')\\\n",
    "    .withColumnRenamed('location_St. Louis, MO-IL','location_St Louis, MO-IL')\\\n",
    "    .withColumnRenamed('location_Port St. Lucie, FL','location_Port St Lucie, FL')\\\n",
    "    .withColumnRenamed('location_Tampa-St. Petersburg-Clearwater, FL','location_Tampa-St Petersburg-Clearwater, FL')\\\n",
    "    .withColumnRenamed('page_Cancellation Confirmation', 'page_Cancellation_Confirmation')\n",
    "    \n",
    "    return cat_df"
   ]
  },
  {
   "cell_type": "code",
   "execution_count": 24,
   "metadata": {},
   "outputs": [],
   "source": [
    "cat_df = rename_cols(cat_df)"
   ]
  },
  {
   "cell_type": "code",
   "execution_count": 70,
   "metadata": {},
   "outputs": [],
   "source": [
    "def binarize_id(df, df_list):\n",
    "    df = df.select(df_list).groupBy('userID').avg()\n",
    "    get_bins = F.udf(lambda x: 0 if x == 0 else 1)\n",
    "    for col in df.columns:\n",
    "        if col != \"userID\":\n",
    "            df = df.withColumn(col, get_bins(df[col]))\n",
    "    return df"
   ]
  },
  {
   "cell_type": "code",
   "execution_count": 71,
   "metadata": {},
   "outputs": [],
   "source": [
    "def separate_cat_dfs(cat_df):\n",
    "    devices = [col for col in cat_df.columns if 'device' in col] + ['userId']\n",
    "    locations = [col for col in cat_df.columns if 'location' in col] + ['userId']\n",
    "    pages = [col for col in cat_df.columns if 'page' in col] + ['userId']\n",
    "    pages = [col for col in pages if col not in ['page_Cancellation_Confirmation', 'page_Downgrade']]\n",
    "    status = [col for col in cat_df.columns if 'status' in col] + ['userId']\n",
    "    auth = [col for col in cat_df.columns if 'auth' in col] + ['userId']\n",
    "    gender = [col for col in cat_df.columns if 'gender' in col] + ['userId']\n",
    "    level = [col for col in cat_df.columns if 'level' in col] + ['userId']\n",
    "    method = [col for col in cat_df.columns if 'method' in col] + ['userId']\n",
    "\n",
    "    device_df = binarize_id(cat_df, devices)\n",
    "    for col in device_df.columns:\n",
    "        if col != \"userID\":\n",
    "            device_df = device_df.withColumnRenamed(col,col[4:-1])\n",
    "    locations_df = binarize_id(cat_df, locations)\n",
    "    for col in locations_df.columns:\n",
    "        if col != \"userID\":\n",
    "            locations_df = locations_df.withColumnRenamed(col,col[4:-1])\n",
    "    pages_df = binarize_id(cat_df, pages)\n",
    "    for col in pages_df.columns:\n",
    "        if col != \"userID\":\n",
    "            pages_df = pages_df.withColumnRenamed(col,col[4:-1])\n",
    "    status_df = binarize_id(cat_df, status)\n",
    "    for col in status_df.columns:\n",
    "        if col != \"userID\":\n",
    "            status_df = status_df.withColumnRenamed(col,col[4:-1])\n",
    "    auth_df = binarize_id(cat_df, auth)\n",
    "    for col in auth_df.columns:\n",
    "        if col != \"userID\":\n",
    "            auth_df = auth_df.withColumnRenamed(col,col[4:-1])\n",
    "    gender_df = binarize_id(cat_df, gender)\n",
    "    for col in gender_df.columns:\n",
    "        if col != \"userID\":\n",
    "            gender_df = gender_df.withColumnRenamed(col,col[4:-1])\n",
    "    level_df = binarize_id(cat_df, level)\n",
    "    for col in level_df.columns:\n",
    "        if col != \"userID\":\n",
    "            level_df = level_df.withColumnRenamed(col,col[4:-1])\n",
    "    method_df = binarize_id(cat_df, method)\n",
    "    for col in method_df.columns:\n",
    "        if col != \"userID\":\n",
    "            method_df = method_df.withColumnRenamed(col,col[4:-1])\n",
    "    \n",
    "    return device_df, locations_df, pages_df, status_df, auth_df, gender_df, level_df, method_df"
   ]
  },
  {
   "cell_type": "code",
   "execution_count": 72,
   "metadata": {},
   "outputs": [],
   "source": [
    "device_df, locations_df, pages_df, status_df, auth_df, gender_df, level_df, method_df = separate_cat_dfs(cat_df)"
   ]
  },
  {
   "cell_type": "markdown",
   "metadata": {},
   "source": [
    "`gender` feature is binary for every user while there are more than one `auth`,`level` and `method` values per user so we have to count them and treat these features as numeric and not categorical."
   ]
  },
  {
   "cell_type": "code",
   "execution_count": 81,
   "metadata": {},
   "outputs": [],
   "source": [
    "X = num_df.join(device_df, [\"userID\"])\\\n",
    "    .join(locations_df, [\"userID\"])\\\n",
    "    .join(pages_df, [\"userID\"])\\\n",
    "    .join(status_df, [\"userID\"])\\\n",
    "    .join(auth_df, [\"userID\"])\\\n",
    "    .join(gender_df, [\"userID\"])\\\n",
    "    .join(level_df, [\"userID\"])\\\n",
    "    .join(method_df, [\"userID\"])\\\n",
    "    "
   ]
  },
  {
   "cell_type": "code",
   "execution_count": 82,
   "metadata": {},
   "outputs": [
    {
     "name": "stdout",
     "output_type": "stream",
     "text": [
      "root\n",
      " |-- userId: string (nullable = true)\n",
      " |-- count_user_logs: long (nullable = false)\n",
      " |-- max_session: long (nullable = true)\n",
      " |-- avg_phase: double (nullable = true)\n",
      " |-- avg_length: double (nullable = true)\n",
      " |-- device_iPad: string (nullable = true)\n",
      " |-- device_X11: string (nullable = true)\n",
      " |-- device_iPhone: string (nullable = true)\n",
      " |-- device_Macintosh: string (nullable = true)\n",
      " |-- device_compatible: string (nullable = true)\n",
      " |-- device_Windows: string (nullable = true)\n",
      " |-- location_Gainesville, FL: string (nullable = true)\n",
      " |-- location_Atlantic City-Hammonton, NJ: string (nullable = true)\n",
      " |-- location_Deltona-Daytona Beach-Ormond Beach, FL: string (nullable = true)\n",
      " |-- location_San Diego-Carlsbad, CA: string (nullable = true)\n",
      " |-- location_Cleveland-Elyria, OH: string (nullable = true)\n",
      " |-- location_Kingsport-Bristol-Bristol, TN-VA: string (nullable = true)\n",
      " |-- location_New Haven-Milford, CT: string (nullable = true)\n",
      " |-- location_Birmingham-Hoover, AL: string (nullable = true)\n",
      " |-- location_Corpus Christi, TX: string (nullable = true)\n",
      " |-- location_Dubuque, IA: string (nullable = true)\n",
      " |-- location_Las Vegas-Henderson-Paradise, NV: string (nullable = true)\n",
      " |-- location_Indianapolis-Carmel-Anderson, IN: string (nullable = true)\n",
      " |-- location_Seattle-Tacoma-Bellevue, WA: string (nullable = true)\n",
      " |-- location_Albany, OR: string (nullable = true)\n",
      " |-- location_Winston-Salem, NC: string (nullable = true)\n",
      " |-- location_Bakersfield, CA: string (nullable = true)\n",
      " |-- location_Los Angeles-Long Beach-Anaheim, CA: string (nullable = true)\n",
      " |-- location_Minneapolis-St Paul-Bloomington, MN-WI: string (nullable = true)\n",
      " |-- location_San Francisco-Oakland-Hayward, CA: string (nullable = true)\n",
      " |-- location_Phoenix-Mesa-Scottsdale, AZ: string (nullable = true)\n",
      " |-- location_Allentown-Bethlehem-Easton, PA-NJ: string (nullable = true)\n",
      " |-- location_Miami-Fort Lauderdale-West Palm Beach, FL: string (nullable = true)\n",
      " |-- location_Selma, AL: string (nullable = true)\n",
      " |-- location_Dayton, OH: string (nullable = true)\n",
      " |-- location_San Jose-Sunnyvale-Santa Clara, CA: string (nullable = true)\n",
      " |-- location_Bridgeport-Stamford-Norwalk, CT: string (nullable = true)\n",
      " |-- location_Price, UT: string (nullable = true)\n",
      " |-- location_Providence-Warwick, RI-MA: string (nullable = true)\n",
      " |-- location_Columbus, GA-AL: string (nullable = true)\n",
      " |-- location_Greenville-Anderson-Mauldin, SC: string (nullable = true)\n",
      " |-- location_Logan, UT-ID: string (nullable = true)\n",
      " |-- location_Myrtle Beach-Conway-North Myrtle Beach, SC-NC: string (nullable = true)\n",
      " |-- location_Buffalo-Cheektowaga-Niagara Falls, NY: string (nullable = true)\n",
      " |-- location_Cookeville, TN: string (nullable = true)\n",
      " |-- location_New Philadelphia-Dover, OH: string (nullable = true)\n",
      " |-- location_Anchorage, AK: string (nullable = true)\n",
      " |-- location_New York-Newark-Jersey City, NY-NJ-PA: string (nullable = true)\n",
      " |-- location_St Louis, MO-IL: string (nullable = true)\n",
      " |-- location_Jackson, MS: string (nullable = true)\n",
      " |-- location_Orlando-Kissimmee-Sanford, FL: string (nullable = true)\n",
      " |-- location_McAllen-Edinburg-Mission, TX: string (nullable = true)\n",
      " |-- location_Oxnard-Thousand Oaks-Ventura, CA: string (nullable = true)\n",
      " |-- location_Memphis, TN-MS-AR: string (nullable = true)\n",
      " |-- location_San Antonio-New Braunfels, TX: string (nullable = true)\n",
      " |-- location_Troy, AL: string (nullable = true)\n",
      " |-- location_Duluth, MN-WI: string (nullable = true)\n",
      " |-- location_Danville, VA: string (nullable = true)\n",
      " |-- location_Washington-Arlington-Alexandria, DC-VA-MD-WV: string (nullable = true)\n",
      " |-- location_Manchester-Nashua, NH: string (nullable = true)\n",
      " |-- location_Greensboro-High Point, NC: string (nullable = true)\n",
      " |-- location_Sterling, IL: string (nullable = true)\n",
      " |-- location_Napa, CA: string (nullable = true)\n",
      " |-- location_Monroe, LA: string (nullable = true)\n",
      " |-- location_Louisville/Jefferson County, KY-IN: string (nullable = true)\n",
      " |-- location_Syracuse, NY: string (nullable = true)\n",
      " |-- location_Little Rock-North Little Rock-Conway, AR: string (nullable = true)\n",
      " |-- location_Austin-Round Rock, TX: string (nullable = true)\n",
      " |-- location_Kansas City, MO-KS: string (nullable = true)\n",
      " |-- location_Cincinnati, OH-KY-IN: string (nullable = true)\n",
      " |-- location_Bozeman, MT: string (nullable = true)\n",
      " |-- location_Truckee-Grass Valley, CA: string (nullable = true)\n",
      " |-- location_Boston-Cambridge-Newton, MA-NH: string (nullable = true)\n",
      " |-- location_Philadelphia-Camden-Wilmington, PA-NJ-DE-MD: string (nullable = true)\n",
      " |-- location_Atlanta-Sandy Springs-Roswell, GA: string (nullable = true)\n",
      " |-- location_Pittsburgh, PA: string (nullable = true)\n",
      " |-- location_Chicago-Naperville-Elgin, IL-IN-WI: string (nullable = true)\n",
      " |-- location_Dallas-Fort Worth-Arlington, TX: string (nullable = true)\n",
      " |-- location_North Wilkesboro, NC: string (nullable = true)\n",
      " |-- location_Oklahoma City, OK: string (nullable = true)\n",
      " |-- location_Albany-Schenectady-Troy, NY: string (nullable = true)\n",
      " |-- location_Quincy, IL-MO: string (nullable = true)\n",
      " |-- location_Pontiac, IL: string (nullable = true)\n",
      " |-- location_Jacksonville, FL: string (nullable = true)\n",
      " |-- location_Fairbanks, AK: string (nullable = true)\n",
      " |-- location_Houston-The Woodlands-Sugar Land, TX: string (nullable = true)\n",
      " |-- location_Montgomery, AL: string (nullable = true)\n",
      " |-- location_Hartford-West Hartford-East Hartford, CT: string (nullable = true)\n",
      " |-- location_Port St Lucie, FL: string (nullable = true)\n",
      " |-- location_Omaha-Council Bluffs, NE-IA: string (nullable = true)\n",
      " |-- location_Charlotte-Concord-Gastonia, NC-SC: string (nullable = true)\n",
      " |-- location_Baltimore-Columbia-Towson, MD: string (nullable = true)\n",
      " |-- location_Raleigh, NC: string (nullable = true)\n",
      " |-- location_Sacramento--Roseville--Arden-Arcade, CA: string (nullable = true)\n",
      " |-- location_Laurel, MS: string (nullable = true)\n",
      " |-- location_Lexington-Fayette, KY: string (nullable = true)\n",
      " |-- location_Tampa-St Petersburg-Clearwater, FL: string (nullable = true)\n",
      " |-- location_London, KY: string (nullable = true)\n",
      " |-- location_Tallahassee, FL: string (nullable = true)\n",
      " |-- location_Roanoke, VA: string (nullable = true)\n",
      " |-- location_Virginia Beach-Norfolk-Newport News, VA-NC: string (nullable = true)\n",
      " |-- location_Riverside-San Bernardino-Ontario, CA: string (nullable = true)\n",
      " |-- location_Concord, NH: string (nullable = true)\n",
      " |-- location_Stockton-Lodi, CA: string (nullable = true)\n",
      " |-- location_Boulder, CO: string (nullable = true)\n",
      " |-- location_Milwaukee-Waukesha-West Allis, WI: string (nullable = true)\n",
      " |-- location_Detroit-Warren-Dearborn, MI: string (nullable = true)\n",
      " |-- location_Billings, MT: string (nullable = true)\n",
      " |-- location_Alexandria, LA: string (nullable = true)\n",
      " |-- location_Salinas, CA: string (nullable = true)\n",
      " |-- location_Ionia, MI: string (nullable = true)\n",
      " |-- location_Morgantown, WV: string (nullable = true)\n",
      " |-- location_Vineland-Bridgeton, NJ: string (nullable = true)\n",
      " |-- location_Jacksonville, NC: string (nullable = true)\n",
      " |-- location_Spokane-Spokane Valley, WA: string (nullable = true)\n",
      " |-- location_Scranton--Wilkes-Barre--Hazleton, PA: string (nullable = true)\n",
      " |-- location_Kankakee, IL: string (nullable = true)\n",
      " |-- location_Portland-Vancouver-Hillsboro, OR-WA: string (nullable = true)\n",
      " |-- location_Denver-Aurora-Lakewood, CO: string (nullable = true)\n",
      " |-- location_Flint, MI: string (nullable = true)\n",
      " |-- location_Santa Maria-Santa Barbara, CA: string (nullable = true)\n",
      " |-- location_Muncie, IN: string (nullable = true)\n",
      " |-- location_Colorado Springs, CO: string (nullable = true)\n",
      " |-- location_Wilson, NC: string (nullable = true)\n",
      " |-- location_Hagerstown-Martinsburg, MD-WV: string (nullable = true)\n",
      " |-- page_Cancel: string (nullable = true)\n",
      " |-- page_Submit Downgrade: string (nullable = true)\n",
      " |-- page_Thumbs Down: string (nullable = true)\n",
      " |-- page_Home: string (nullable = true)\n",
      " |-- page_Roll Advert: string (nullable = true)\n",
      " |-- page_Logout: string (nullable = true)\n",
      " |-- page_Save Settings: string (nullable = true)\n",
      " |-- page_About: string (nullable = true)\n",
      " |-- page_Settings: string (nullable = true)\n",
      " |-- page_Add to Playlist: string (nullable = true)\n",
      " |-- page_Add Friend: string (nullable = true)\n",
      " |-- page_NextSong: string (nullable = true)\n",
      " |-- page_Thumbs Up: string (nullable = true)\n",
      " |-- page_Help: string (nullable = true)\n",
      " |-- page_Upgrade: string (nullable = true)\n",
      " |-- page_Error: string (nullable = true)\n",
      " |-- page_Submit Upgrade: string (nullable = true)\n",
      " |-- status_307: string (nullable = true)\n",
      " |-- status_404: string (nullable = true)\n",
      " |-- status_200: string (nullable = true)\n",
      " |-- auth_Cancelled: string (nullable = true)\n",
      " |-- auth_Logged In: string (nullable = true)\n",
      " |-- gender_F: string (nullable = true)\n",
      " |-- gender_M: string (nullable = true)\n",
      " |-- location_Cleveland-Elyria, OH: string (nullable = true)\n",
      " |-- level_free: string (nullable = true)\n",
      " |-- level_paid: string (nullable = true)\n",
      " |-- method_PUT: string (nullable = true)\n",
      " |-- method_GET: string (nullable = true)\n",
      "\n"
     ]
    }
   ],
   "source": [
    "X.printSchema()"
   ]
  },
  {
   "cell_type": "code",
   "execution_count": 83,
   "metadata": {},
   "outputs": [
    {
     "ename": "NameError",
     "evalue": "name 'preprocessing' is not defined",
     "output_type": "error",
     "traceback": [
      "\u001b[0;31m---------------------------------------------------------------------------\u001b[0m",
      "\u001b[0;31mNameError\u001b[0m                                 Traceback (most recent call last)",
      "\u001b[0;32m<ipython-input-83-609821e3e52b>\u001b[0m in \u001b[0;36m<module>\u001b[0;34m()\u001b[0m\n\u001b[0;32m----> 1\u001b[0;31m \u001b[0mX\u001b[0m \u001b[0;34m=\u001b[0m \u001b[0mpreprocessing\u001b[0m\u001b[0;34m.\u001b[0m\u001b[0mStandardScaler\u001b[0m\u001b[0;34m(\u001b[0m\u001b[0;34m)\u001b[0m\u001b[0;34m.\u001b[0m\u001b[0mfit\u001b[0m\u001b[0;34m(\u001b[0m\u001b[0mX\u001b[0m\u001b[0;34m)\u001b[0m\u001b[0;34m.\u001b[0m\u001b[0mtransform\u001b[0m\u001b[0;34m(\u001b[0m\u001b[0mX\u001b[0m\u001b[0;34m)\u001b[0m\u001b[0;34m\u001b[0m\u001b[0m\n\u001b[0m",
      "\u001b[0;31mNameError\u001b[0m: name 'preprocessing' is not defined"
     ]
    }
   ],
   "source": [
    "pca = PCA(k=3, inputCol= X , outputCol=\"pcaFeatures\")\n",
    "model = pca.fit(df)\n",
    "result = model.transform(df).select(\"pcaFeatures\")\n",
    "result.show(truncate=False)"
   ]
  },
  {
   "cell_type": "markdown",
   "metadata": {},
   "source": [
    "# Modeling\n",
    "Split the full dataset into train, test, and validation sets. Test out several of the machine learning methods you learned. Evaluate the accuracy of the various models, tuning parameters as necessary. Determine your winning model based on test accuracy and report results on the validation set. Since the churned users are a fairly small subset, I suggest using F1 score as the metric to optimize."
   ]
  },
  {
   "cell_type": "code",
   "execution_count": null,
   "metadata": {},
   "outputs": [],
   "source": []
  },
  {
   "cell_type": "markdown",
   "metadata": {},
   "source": [
    "# Final Steps\n",
    "Clean up your code, adding comments and renaming variables to make the code easier to read and maintain. Refer to the Spark Project Overview page and Data Scientist Capstone Project Rubric to make sure you are including all components of the capstone project and meet all expectations. Remember, this includes thorough documentation in a README file in a Github repository, as well as a web app or blog post."
   ]
  },
  {
   "cell_type": "code",
   "execution_count": null,
   "metadata": {},
   "outputs": [],
   "source": []
  }
 ],
 "metadata": {
  "kernelspec": {
   "display_name": "Python 3",
   "language": "python",
   "name": "python3"
  },
  "language_info": {
   "codemirror_mode": {
    "name": "ipython",
    "version": 3
   },
   "file_extension": ".py",
   "mimetype": "text/x-python",
   "name": "python",
   "nbconvert_exporter": "python",
   "pygments_lexer": "ipython3",
   "version": "3.8.8"
  }
 },
 "nbformat": 4,
 "nbformat_minor": 2
}
