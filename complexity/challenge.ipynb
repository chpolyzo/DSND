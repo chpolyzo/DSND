{
 "cells": [
  {
   "cell_type": "code",
   "execution_count": 13,
   "id": "13fae782",
   "metadata": {},
   "outputs": [],
   "source": [
    "import array\n",
    "import time"
   ]
  },
  {
   "cell_type": "code",
   "execution_count": 19,
   "id": "4d72f183",
   "metadata": {},
   "outputs": [],
   "source": [
    "def anonymousFunction(alist):\n",
    "    for passnum in range(len(alist)-1, 0, -1):\n",
    "        for i in range(passnum):\n",
    "            if alist[i]>alist[i+1]:\n",
    "                temp = alist[i]\n",
    "                alist[i] = alist[i+1]\n",
    "                alist[i+1] = temp\n",
    "    print(alist)"
   ]
  },
  {
   "cell_type": "code",
   "execution_count": 20,
   "id": "c5b574fd",
   "metadata": {},
   "outputs": [],
   "source": [
    "first_option = array.array('i', [56, 12, 12, 32, 34])"
   ]
  },
  {
   "cell_type": "code",
   "execution_count": 21,
   "id": "99e05fb8",
   "metadata": {},
   "outputs": [],
   "source": [
    "second_option = [32, 12, 12, 34, 56]"
   ]
  },
  {
   "cell_type": "code",
   "execution_count": 22,
   "id": "64432642",
   "metadata": {},
   "outputs": [],
   "source": [
    "third_option = [56, 12, 12, 32, 34]"
   ]
  },
  {
   "cell_type": "code",
   "execution_count": 23,
   "id": "c965aa85",
   "metadata": {},
   "outputs": [
    {
     "name": "stdout",
     "output_type": "stream",
     "text": [
      "array('i', [12, 12, 32, 34, 56])\n"
     ]
    }
   ],
   "source": [
    "anonymousFunction(first_option)"
   ]
  },
  {
   "cell_type": "code",
   "execution_count": 24,
   "id": "4790ba0a",
   "metadata": {},
   "outputs": [
    {
     "name": "stdout",
     "output_type": "stream",
     "text": [
      "[12, 12, 32, 34, 56]\n"
     ]
    }
   ],
   "source": [
    "anonymousFunction(second_option)"
   ]
  },
  {
   "cell_type": "code",
   "execution_count": 25,
   "id": "6e239e67",
   "metadata": {},
   "outputs": [
    {
     "name": "stdout",
     "output_type": "stream",
     "text": [
      "[12, 12, 32, 34, 56]\n"
     ]
    }
   ],
   "source": [
    "anonymousFunction(third_option)"
   ]
  },
  {
   "cell_type": "code",
   "execution_count": 26,
   "id": "fca57612",
   "metadata": {},
   "outputs": [],
   "source": [
    "fourth_option = [56, 56, 12, 12, 32, 34]"
   ]
  },
  {
   "cell_type": "code",
   "execution_count": 27,
   "id": "9cd0d8a4",
   "metadata": {},
   "outputs": [
    {
     "name": "stdout",
     "output_type": "stream",
     "text": [
      "[12, 12, 32, 34, 56, 56]\n"
     ]
    }
   ],
   "source": [
    "anonymousFunction(fourth_option)"
   ]
  },
  {
   "cell_type": "code",
   "execution_count": null,
   "id": "f15d2ea8",
   "metadata": {},
   "outputs": [],
   "source": []
  }
 ],
 "metadata": {
  "kernelspec": {
   "display_name": "Python 3",
   "language": "python",
   "name": "python3"
  },
  "language_info": {
   "codemirror_mode": {
    "name": "ipython",
    "version": 3
   },
   "file_extension": ".py",
   "mimetype": "text/x-python",
   "name": "python",
   "nbconvert_exporter": "python",
   "pygments_lexer": "ipython3",
   "version": "3.8.8"
  }
 },
 "nbformat": 4,
 "nbformat_minor": 5
}
